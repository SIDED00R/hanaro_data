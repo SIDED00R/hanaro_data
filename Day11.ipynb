{
 "cells": [
  {
   "cell_type": "code",
   "execution_count": 1,
   "id": "16683fcb-a90a-48d3-926a-3fd5fdb9bc9a",
   "metadata": {},
   "outputs": [],
   "source": [
    "import pandas as pd\n",
    "import numpy as np\n",
    "import scipy.stats as stats\n",
    "import plotly.express as px\n"
   ]
  },
  {
   "cell_type": "code",
   "execution_count": 3,
   "id": "aa4e9294-e210-4132-ac19-ca3c2afce3d4",
   "metadata": {},
   "outputs": [
    {
     "name": "stdout",
     "output_type": "stream",
     "text": [
      "(93043, 17)\n"
     ]
    },
    {
     "data": {
      "text/html": [
       "<div>\n",
       "<style scoped>\n",
       "    .dataframe tbody tr th:only-of-type {\n",
       "        vertical-align: middle;\n",
       "    }\n",
       "\n",
       "    .dataframe tbody tr th {\n",
       "        vertical-align: top;\n",
       "    }\n",
       "\n",
       "    .dataframe thead th {\n",
       "        text-align: right;\n",
       "    }\n",
       "</style>\n",
       "<table border=\"1\" class=\"dataframe\">\n",
       "  <thead>\n",
       "    <tr style=\"text-align: right;\">\n",
       "      <th></th>\n",
       "      <th>Unnamed: 0</th>\n",
       "      <th>Code_Num</th>\n",
       "      <th>Datetime</th>\n",
       "      <th>Process_Type</th>\n",
       "      <th>ST</th>\n",
       "      <th>Tube Furnace CP</th>\n",
       "      <th>Tube Furnace1 OP</th>\n",
       "      <th>Tube Furnace1 Temp</th>\n",
       "      <th>Tube Furnace2 OP</th>\n",
       "      <th>Tube Furnace2 Temp</th>\n",
       "      <th>Tube Furnace3 OP</th>\n",
       "      <th>Tube Furnace3 Temp</th>\n",
       "      <th>Tube Furnace4 OP</th>\n",
       "      <th>Tube Furnace4 Temp</th>\n",
       "      <th>Z1-OP1</th>\n",
       "      <th>Z1-OP2</th>\n",
       "      <th>Z1-Temp</th>\n",
       "    </tr>\n",
       "  </thead>\n",
       "  <tbody>\n",
       "    <tr>\n",
       "      <th>0</th>\n",
       "      <td>0</td>\n",
       "      <td>GroupA</td>\n",
       "      <td>2022-01-03 11:22</td>\n",
       "      <td>OP-A</td>\n",
       "      <td>NaN</td>\n",
       "      <td>0.450497</td>\n",
       "      <td>73.527404</td>\n",
       "      <td>NaN</td>\n",
       "      <td>59.989422</td>\n",
       "      <td>868.759544</td>\n",
       "      <td>52.249481</td>\n",
       "      <td>NaN</td>\n",
       "      <td>72.134908</td>\n",
       "      <td>NaN</td>\n",
       "      <td>74.255730</td>\n",
       "      <td>76.879748</td>\n",
       "      <td>NaN</td>\n",
       "    </tr>\n",
       "    <tr>\n",
       "      <th>1</th>\n",
       "      <td>1</td>\n",
       "      <td>GroupA</td>\n",
       "      <td>2022-01-03 11:22</td>\n",
       "      <td>OP-A</td>\n",
       "      <td>NaN</td>\n",
       "      <td>0.457370</td>\n",
       "      <td>79.149174</td>\n",
       "      <td>878.116929</td>\n",
       "      <td>62.027232</td>\n",
       "      <td>883.821264</td>\n",
       "      <td>50.617109</td>\n",
       "      <td>890.74076</td>\n",
       "      <td>71.245235</td>\n",
       "      <td>894.430606</td>\n",
       "      <td>66.323571</td>\n",
       "      <td>71.297720</td>\n",
       "      <td>NaN</td>\n",
       "    </tr>\n",
       "  </tbody>\n",
       "</table>\n",
       "</div>"
      ],
      "text/plain": [
       "   Unnamed: 0 Code_Num          Datetime Process_Type  ST  Tube Furnace CP  \\\n",
       "0           0   GroupA  2022-01-03 11:22         OP-A NaN         0.450497   \n",
       "1           1   GroupA  2022-01-03 11:22         OP-A NaN         0.457370   \n",
       "\n",
       "   Tube Furnace1 OP  Tube Furnace1 Temp  Tube Furnace2 OP  Tube Furnace2 Temp  \\\n",
       "0         73.527404                 NaN         59.989422          868.759544   \n",
       "1         79.149174          878.116929         62.027232          883.821264   \n",
       "\n",
       "   Tube Furnace3 OP  Tube Furnace3 Temp  Tube Furnace4 OP  Tube Furnace4 Temp  \\\n",
       "0         52.249481                 NaN         72.134908                 NaN   \n",
       "1         50.617109           890.74076         71.245235          894.430606   \n",
       "\n",
       "      Z1-OP1     Z1-OP2  Z1-Temp  \n",
       "0  74.255730  76.879748      NaN  \n",
       "1  66.323571  71.297720      NaN  "
      ]
     },
     "execution_count": 3,
     "metadata": {},
     "output_type": "execute_result"
    }
   ],
   "source": [
    "df = pd.read_csv('data/08_Data.csv')\n",
    "print(df.shape)\n",
    "df.head(2)"
   ]
  },
  {
   "cell_type": "markdown",
   "id": "e6cdc051-e146-418d-b96d-6709199372ba",
   "metadata": {},
   "source": [
    "- 통계적 가설 검정\n",
    "1. X 범주형, Y 연속형 : 집단 간 대표값 비교\n",
    "   - 정규성 검정: stats.normaltest()\n",
    "   - 등분산 검정: stats.bartelett()\n",
    "   - Y 정규 분포\n",
    "     - 등분산: 2집단(stats.ttest_ind()), 3집단 (stats.f_oneway())\n",
    "     - 이분산: 2집단(stats.ttest_ind()), 3집단 (stats.kruskal())\n",
    "   - Y 비모수 분포\n",
    "     - 2집단: stats.ranksums(), 3집단 (stats.kruskal())\n",
    "    \n",
    "2. X 연속형, Y 연속형: 두 숫자 데이터의 상관성 검정\n",
    "   - Y 정규분포: stats.pearsonr()\n",
    "   - Y 비모수: stats.spearmanr()\n",
    "3. X 범주형, Y 범주형: 두 범주형 항목이 서로 연관성이 있는지 검정\n",
    "   - stats.chi2_contingency()"
   ]
  },
  {
   "cell_type": "code",
   "execution_count": 8,
   "id": "9e4a9991-4921-4a91-8c7f-ef631887bf0e",
   "metadata": {},
   "outputs": [],
   "source": [
    "# process_type에 따라서, code_num의 비율이 달라지는가?\n",
    "p1 = pd.crosstab(df['Process_Type'], df['Code_Num'])\n",
    "c1 = p1.iloc[1:][['GroupA', 'GroupB', 'GroupC']]"
   ]
  },
  {
   "cell_type": "code",
   "execution_count": 12,
   "id": "48ea7b7b-3ec2-49f5-8687-0c87710ec1be",
   "metadata": {},
   "outputs": [
    {
     "data": {
      "text/plain": [
       "Chi2ContingencyResult(statistic=np.float64(8748.092103980418), pvalue=np.float64(0.0), dof=2, expected_freq=array([[ 2826.81681172,  5504.22207599, 11166.96111229],\n",
       "       [ 4003.18318828,  7794.77792401, 15814.03888771]]))"
      ]
     },
     "execution_count": 12,
     "metadata": {},
     "output_type": "execute_result"
    }
   ],
   "source": [
    "# 귀무가설: process_type과 conde_num은 서로 독립이다.\n",
    "# 대립가설: process_type과 conde_num은 서로 독립이 아니다.\n",
    "\n",
    "stats.chi2_contingency(c1)\n",
    "# 귀무가설 기각 -> 서로 독립이 아니다."
   ]
  },
  {
   "cell_type": "code",
   "execution_count": 11,
   "id": "19b0fc1b-3464-412e-92da-61660136a110",
   "metadata": {},
   "outputs": [
    {
     "data": {
      "text/plain": [
       "Chi2ContingencyResult(statistic=np.float64(339.71650764322374), pvalue=np.float64(7.355467265232657e-76), dof=1, expected_freq=array([[ 1932.58436603,  7634.41563397],\n",
       "       [ 4897.41563397, 19346.58436603]]))"
      ]
     },
     "execution_count": 11,
     "metadata": {},
     "output_type": "execute_result"
    }
   ],
   "source": [
    "# GroupA와 GroupC 라인에 대해서 공정프로세스 OP-B와 OP-C의 비율의 유의미한 차이가 있는지?\n",
    "# 귀무가설: GroupA와 GroupC라인에 대해 공정프로세스 OP-B와 OP-C는 독립이다.\n",
    "# 대립가설: GroupA와 GroupC라인에 대해 공정프로세스 OP-B와 OP-C는 독립이 아니다.\n",
    "\n",
    "stats.chi2_contingency(c1[['GroupA', 'GroupC']])\n",
    "# 귀무가설 기각 -> 서로 독립이 아니다."
   ]
  },
  {
   "cell_type": "markdown",
   "id": "b0050c02-1886-4e61-8212-7bbc1a8531e7",
   "metadata": {},
   "source": [
    "- 상관성 검정(연속형 - 연속형)과 독립성 검정(범주형 - 범주형)는 서로 연관이 있는지, 독립인지를 알 수 있을 뿐, 인과관계를 알수는 없다."
   ]
  },
  {
   "cell_type": "markdown",
   "id": "7f0c0d2f-2abc-4682-b862-a015cc71b085",
   "metadata": {},
   "source": [
    "## 10-4. 인과 추론(Causal Inference)\n",
    "\n",
    "- 데이터 간 단순한 상관관계 (Correlation)를 넘어선 '원인과 결과'의 관계를 밝힐 때 사용\n",
    "- 어떤 원인(Cause)이 어떤 결과(effect)를 가져왔는지를 데이터를 통해 추론\n",
    "  - 상관관계: '동물의 숲 노래 청취시간과 개별미션 점수의 상관관계가 있을까?'\n",
    "  - 인과질문: '동물의 숲 노래 청취를 오래하면, 개별미션 점수는 올라갈까?'\n",
    "- 인과 추론 도출 방법론:\n",
    "  - 1. 무작위 대조 실험(RCT, Randomized Controlled Trial)\n",
    "       - 실험군과 대조군을 무작위로 나누어 인과 효과를 명확히 측정\n",
    "       - 매우 강력함, 비용과 시간, 윤리적 문제 발생\n",
    "   \n",
    "  - 2. 관측 데이터 기반 한 방법 (Observaional Data)\n",
    "       - 실험이 제한되는 상황에서, 기존에 확보된 정보 및 데이터를 기반으로 인과관계를 측정\n",
    "       - 부정확, 외부적인 개입\n",
    "   \n",
    "- 상관성 검정 이후에, 조금 더 강력한 근거를 찾기위한 정도로 사용\n",
    "- 실제 분석에서는 인과추론 모델 설계 시, 도메인지식을 반드시 필요"
   ]
  },
  {
   "cell_type": "code",
   "execution_count": 13,
   "id": "3991ad4a-6d26-4e8f-be99-8320fc1bf8af",
   "metadata": {
    "scrolled": true
   },
   "outputs": [
    {
     "name": "stdout",
     "output_type": "stream",
     "text": [
      "Collecting dowhy\n",
      "  Downloading dowhy-0.12-py3-none-any.whl.metadata (18 kB)\n",
      "Collecting causal-learn>=0.1.3.0 (from dowhy)\n",
      "  Downloading causal_learn-0.1.4.1-py3-none-any.whl.metadata (4.6 kB)\n",
      "Collecting cvxpy>=1.2.2 (from dowhy)\n",
      "  Downloading cvxpy-1.6.4-cp311-cp311-win_amd64.whl.metadata (9.5 kB)\n",
      "Collecting cython<3.0 (from dowhy)\n",
      "  Downloading Cython-0.29.37-py2.py3-none-any.whl.metadata (3.1 kB)\n",
      "Requirement already satisfied: joblib>=1.1.0 in c:\\users\\leedo\\anaconda3\\lib\\site-packages (from dowhy) (1.4.2)\n",
      "Requirement already satisfied: networkx>=2.8.5 in c:\\users\\leedo\\anaconda3\\lib\\site-packages (from dowhy) (3.4.2)\n",
      "Requirement already satisfied: numba>=0.59 in c:\\users\\leedo\\anaconda3\\lib\\site-packages (from dowhy) (0.61.0)\n",
      "Requirement already satisfied: numpy>1.0 in c:\\users\\leedo\\anaconda3\\lib\\site-packages (from dowhy) (2.1.3)\n",
      "Requirement already satisfied: pandas>1.0 in c:\\users\\leedo\\anaconda3\\lib\\site-packages (from dowhy) (2.2.3)\n",
      "Requirement already satisfied: scikit-learn>1.0 in c:\\users\\leedo\\anaconda3\\lib\\site-packages (from dowhy) (1.6.1)\n",
      "Requirement already satisfied: scipy>=1.10 in c:\\users\\leedo\\anaconda3\\lib\\site-packages (from dowhy) (1.15.1)\n",
      "Requirement already satisfied: statsmodels>=0.13.5 in c:\\users\\leedo\\anaconda3\\lib\\site-packages (from dowhy) (0.14.4)\n",
      "Requirement already satisfied: sympy>=1.10.1 in c:\\users\\leedo\\anaconda3\\lib\\site-packages (from dowhy) (1.13.3)\n",
      "Requirement already satisfied: tqdm>=4.64.0 in c:\\users\\leedo\\anaconda3\\lib\\site-packages (from dowhy) (4.67.1)\n",
      "Collecting graphviz (from causal-learn>=0.1.3.0->dowhy)\n",
      "  Downloading graphviz-0.20.3-py3-none-any.whl.metadata (12 kB)\n",
      "Requirement already satisfied: matplotlib in c:\\users\\leedo\\anaconda3\\lib\\site-packages (from causal-learn>=0.1.3.0->dowhy) (3.10.0)\n",
      "Collecting pydot (from causal-learn>=0.1.3.0->dowhy)\n",
      "  Downloading pydot-3.0.4-py3-none-any.whl.metadata (10 kB)\n",
      "Collecting momentchi2 (from causal-learn>=0.1.3.0->dowhy)\n",
      "  Downloading momentchi2-0.1.8-py3-none-any.whl.metadata (6.1 kB)\n",
      "Collecting osqp>=0.6.2 (from cvxpy>=1.2.2->dowhy)\n",
      "  Downloading osqp-1.0.3-cp311-cp311-win_amd64.whl.metadata (2.1 kB)\n",
      "Collecting clarabel>=0.5.0 (from cvxpy>=1.2.2->dowhy)\n",
      "  Downloading clarabel-0.10.0-cp39-abi3-win_amd64.whl.metadata (4.8 kB)\n",
      "Collecting scs>=3.2.4.post1 (from cvxpy>=1.2.2->dowhy)\n",
      "  Downloading scs-3.2.7.post2-cp311-cp311-win_amd64.whl.metadata (2.1 kB)\n",
      "Requirement already satisfied: llvmlite<0.45,>=0.44.0dev0 in c:\\users\\leedo\\anaconda3\\lib\\site-packages (from numba>=0.59->dowhy) (0.44.0)\n",
      "Requirement already satisfied: python-dateutil>=2.8.2 in c:\\users\\leedo\\anaconda3\\lib\\site-packages (from pandas>1.0->dowhy) (2.9.0.post0)\n",
      "Requirement already satisfied: pytz>=2020.1 in c:\\users\\leedo\\anaconda3\\lib\\site-packages (from pandas>1.0->dowhy) (2024.1)\n",
      "Requirement already satisfied: tzdata>=2022.7 in c:\\users\\leedo\\anaconda3\\lib\\site-packages (from pandas>1.0->dowhy) (2023.3)\n",
      "Requirement already satisfied: threadpoolctl>=3.1.0 in c:\\users\\leedo\\anaconda3\\lib\\site-packages (from scikit-learn>1.0->dowhy) (3.5.0)\n",
      "Requirement already satisfied: patsy>=0.5.6 in c:\\users\\leedo\\anaconda3\\lib\\site-packages (from statsmodels>=0.13.5->dowhy) (1.0.1)\n",
      "Requirement already satisfied: packaging>=21.3 in c:\\users\\leedo\\anaconda3\\lib\\site-packages (from statsmodels>=0.13.5->dowhy) (24.2)\n",
      "Requirement already satisfied: mpmath<1.4,>=1.1.0 in c:\\users\\leedo\\anaconda3\\lib\\site-packages (from sympy>=1.10.1->dowhy) (1.3.0)\n",
      "Requirement already satisfied: colorama in c:\\users\\leedo\\anaconda3\\lib\\site-packages (from tqdm>=4.64.0->dowhy) (0.4.6)\n",
      "Requirement already satisfied: jinja2 in c:\\users\\leedo\\anaconda3\\lib\\site-packages (from osqp>=0.6.2->cvxpy>=1.2.2->dowhy) (3.1.6)\n",
      "Requirement already satisfied: setuptools in c:\\users\\leedo\\anaconda3\\lib\\site-packages (from osqp>=0.6.2->cvxpy>=1.2.2->dowhy) (72.1.0)\n",
      "Requirement already satisfied: six>=1.5 in c:\\users\\leedo\\anaconda3\\lib\\site-packages (from python-dateutil>=2.8.2->pandas>1.0->dowhy) (1.16.0)\n",
      "Requirement already satisfied: contourpy>=1.0.1 in c:\\users\\leedo\\anaconda3\\lib\\site-packages (from matplotlib->causal-learn>=0.1.3.0->dowhy) (1.3.1)\n",
      "Requirement already satisfied: cycler>=0.10 in c:\\users\\leedo\\anaconda3\\lib\\site-packages (from matplotlib->causal-learn>=0.1.3.0->dowhy) (0.11.0)\n",
      "Requirement already satisfied: fonttools>=4.22.0 in c:\\users\\leedo\\anaconda3\\lib\\site-packages (from matplotlib->causal-learn>=0.1.3.0->dowhy) (4.55.3)\n",
      "Requirement already satisfied: kiwisolver>=1.3.1 in c:\\users\\leedo\\anaconda3\\lib\\site-packages (from matplotlib->causal-learn>=0.1.3.0->dowhy) (1.4.8)\n",
      "Requirement already satisfied: pillow>=8 in c:\\users\\leedo\\anaconda3\\lib\\site-packages (from matplotlib->causal-learn>=0.1.3.0->dowhy) (11.1.0)\n",
      "Requirement already satisfied: pyparsing>=2.3.1 in c:\\users\\leedo\\anaconda3\\lib\\site-packages (from matplotlib->causal-learn>=0.1.3.0->dowhy) (3.2.0)\n",
      "Requirement already satisfied: MarkupSafe>=2.0 in c:\\users\\leedo\\anaconda3\\lib\\site-packages (from jinja2->osqp>=0.6.2->cvxpy>=1.2.2->dowhy) (3.0.2)\n",
      "Downloading dowhy-0.12-py3-none-any.whl (398 kB)\n",
      "Downloading causal_learn-0.1.4.1-py3-none-any.whl (192 kB)\n",
      "Downloading cvxpy-1.6.4-cp311-cp311-win_amd64.whl (1.1 MB)\n",
      "   ---------------------------------------- 0.0/1.1 MB ? eta -:--:--\n",
      "   ---------------------------------------- 1.1/1.1 MB 13.4 MB/s eta 0:00:00\n",
      "Downloading Cython-0.29.37-py2.py3-none-any.whl (989 kB)\n",
      "   ---------------------------------------- 0.0/989.5 kB ? eta -:--:--\n",
      "   --------------------------------------- 989.5/989.5 kB 11.5 MB/s eta 0:00:00\n",
      "Downloading clarabel-0.10.0-cp39-abi3-win_amd64.whl (742 kB)\n",
      "   ---------------------------------------- 0.0/742.5 kB ? eta -:--:--\n",
      "   --------------------------------------- 742.5/742.5 kB 10.2 MB/s eta 0:00:00\n",
      "Downloading osqp-1.0.3-cp311-cp311-win_amd64.whl (301 kB)\n",
      "Downloading scs-3.2.7.post2-cp311-cp311-win_amd64.whl (7.4 MB)\n",
      "   ---------------------------------------- 0.0/7.4 MB ? eta -:--:--\n",
      "   --------------------- ------------------ 3.9/7.4 MB 19.5 MB/s eta 0:00:01\n",
      "   -------------------------------------- - 7.1/7.4 MB 17.4 MB/s eta 0:00:01\n",
      "   ---------------------------------------- 7.4/7.4 MB 15.8 MB/s eta 0:00:00\n",
      "Downloading graphviz-0.20.3-py3-none-any.whl (47 kB)\n",
      "Downloading momentchi2-0.1.8-py3-none-any.whl (11 kB)\n",
      "Downloading pydot-3.0.4-py3-none-any.whl (35 kB)\n",
      "Installing collected packages: pydot, graphviz, cython, scs, osqp, momentchi2, clarabel, cvxpy, causal-learn, dowhy\n",
      "Successfully installed causal-learn-0.1.4.1 clarabel-0.10.0 cvxpy-1.6.4 cython-0.29.37 dowhy-0.12 graphviz-0.20.3 momentchi2-0.1.8 osqp-1.0.3 pydot-3.0.4 scs-3.2.7.post2\n"
     ]
    }
   ],
   "source": [
    "# 인과 추론 라이브러리 Dowhy\n",
    "# !pip install dowhy"
   ]
  },
  {
   "cell_type": "code",
   "execution_count": 14,
   "id": "eeabbad0-0be7-4656-badb-29b8f5e3f768",
   "metadata": {},
   "outputs": [],
   "source": [
    "# 라이브러리 호출\n",
    "import dowhy\n",
    "from dowhy import CausalModel"
   ]
  },
  {
   "cell_type": "code",
   "execution_count": 15,
   "id": "28e492bd-dc18-4740-aac3-aa1471130388",
   "metadata": {},
   "outputs": [
    {
     "data": {
      "text/html": [
       "<div>\n",
       "<style scoped>\n",
       "    .dataframe tbody tr th:only-of-type {\n",
       "        vertical-align: middle;\n",
       "    }\n",
       "\n",
       "    .dataframe tbody tr th {\n",
       "        vertical-align: top;\n",
       "    }\n",
       "\n",
       "    .dataframe thead th {\n",
       "        text-align: right;\n",
       "    }\n",
       "</style>\n",
       "<table border=\"1\" class=\"dataframe\">\n",
       "  <thead>\n",
       "    <tr style=\"text-align: right;\">\n",
       "      <th></th>\n",
       "      <th>ST</th>\n",
       "      <th>Tube Furnace CP</th>\n",
       "    </tr>\n",
       "  </thead>\n",
       "  <tbody>\n",
       "    <tr>\n",
       "      <th>2</th>\n",
       "      <td>68.724636</td>\n",
       "      <td>0.454914</td>\n",
       "    </tr>\n",
       "    <tr>\n",
       "      <th>3</th>\n",
       "      <td>69.161116</td>\n",
       "      <td>0.456540</td>\n",
       "    </tr>\n",
       "    <tr>\n",
       "      <th>4</th>\n",
       "      <td>69.181098</td>\n",
       "      <td>0.460100</td>\n",
       "    </tr>\n",
       "    <tr>\n",
       "      <th>5</th>\n",
       "      <td>69.472810</td>\n",
       "      <td>0.459051</td>\n",
       "    </tr>\n",
       "    <tr>\n",
       "      <th>6</th>\n",
       "      <td>69.189685</td>\n",
       "      <td>0.459515</td>\n",
       "    </tr>\n",
       "    <tr>\n",
       "      <th>...</th>\n",
       "      <td>...</td>\n",
       "      <td>...</td>\n",
       "    </tr>\n",
       "    <tr>\n",
       "      <th>93038</th>\n",
       "      <td>71.033373</td>\n",
       "      <td>0.452082</td>\n",
       "    </tr>\n",
       "    <tr>\n",
       "      <th>93039</th>\n",
       "      <td>70.279919</td>\n",
       "      <td>0.454568</td>\n",
       "    </tr>\n",
       "    <tr>\n",
       "      <th>93040</th>\n",
       "      <td>70.743509</td>\n",
       "      <td>0.449965</td>\n",
       "    </tr>\n",
       "    <tr>\n",
       "      <th>93041</th>\n",
       "      <td>70.135205</td>\n",
       "      <td>0.454477</td>\n",
       "    </tr>\n",
       "    <tr>\n",
       "      <th>93042</th>\n",
       "      <td>70.880698</td>\n",
       "      <td>0.455225</td>\n",
       "    </tr>\n",
       "  </tbody>\n",
       "</table>\n",
       "<p>93028 rows × 2 columns</p>\n",
       "</div>"
      ],
      "text/plain": [
       "              ST  Tube Furnace CP\n",
       "2      68.724636         0.454914\n",
       "3      69.161116         0.456540\n",
       "4      69.181098         0.460100\n",
       "5      69.472810         0.459051\n",
       "6      69.189685         0.459515\n",
       "...          ...              ...\n",
       "93038  71.033373         0.452082\n",
       "93039  70.279919         0.454568\n",
       "93040  70.743509         0.449965\n",
       "93041  70.135205         0.454477\n",
       "93042  70.880698         0.455225\n",
       "\n",
       "[93028 rows x 2 columns]"
      ]
     },
     "execution_count": 15,
     "metadata": {},
     "output_type": "execute_result"
    }
   ],
   "source": [
    "# Tube Furnace CP와 ST값 간의 상관성이 있는가?\n",
    "# 정규성 검정\n",
    "df2 = df[['ST', 'Tube Furnace CP']].dropna()\n",
    "df2"
   ]
  },
  {
   "cell_type": "code",
   "execution_count": 16,
   "id": "ffe3685a-27cd-4774-aa2e-d76041bdaefd",
   "metadata": {},
   "outputs": [
    {
     "name": "stdout",
     "output_type": "stream",
     "text": [
      "NormaltestResult(statistic=np.float64(3441.4905138133176), pvalue=np.float64(0.0))\n",
      "NormaltestResult(statistic=np.float64(46066.17234762602), pvalue=np.float64(0.0))\n"
     ]
    }
   ],
   "source": [
    "# 귀무가설: 해당 데이터의 분포는 정규분포를 따른다.\n",
    "# 대립가설: 해당 데이터의 분포는 정규분포를 따르지 않는다.\n",
    "\n",
    "print(stats.normaltest(df2['ST']))\n",
    "print(stats.normaltest(df2['Tube Furnace CP']))\n",
    "# 귀무가설 기각 -> 정규분포를 따르지 않는다"
   ]
  },
  {
   "cell_type": "code",
   "execution_count": 17,
   "id": "ec3ba3db-5d1d-4634-9294-957196113a0b",
   "metadata": {},
   "outputs": [
    {
     "data": {
      "text/plain": [
       "SignificanceResult(statistic=np.float64(-0.008256910985147173), pvalue=np.float64(0.01178868290438504))"
      ]
     },
     "execution_count": 17,
     "metadata": {},
     "output_type": "execute_result"
    }
   ],
   "source": [
    "# 상관성 검정(비모수 데이터 - 정규분포를 따르지 않는 데이터)\n",
    "# 귀무가설: 두 연속형 자료는 서로 상관성이 없다.\n",
    "# 대립가설: 두 연속형 자료는 서로 상관성이 있다.\n",
    "stats.spearmanr(df2['ST'], df2['Tube Furnace CP'])\n",
    "# 귀무가설 기각 -> 서로 상관성이 있다."
   ]
  },
  {
   "cell_type": "code",
   "execution_count": 20,
   "id": "40da9681-fe97-4b34-87b1-088afe76ef94",
   "metadata": {},
   "outputs": [],
   "source": [
    "# 인과 추론 모델을 구성\n",
    "model = CausalModel(df2, treatment = 'ST', outcome = 'Tube Furnace CP', common_causes = None)\n",
    "# treatment: 원인변수 설정(원인 변수에 해당하는 데이터를 가정하여 입력)\n",
    "# outcome: 결과변수 설정\n",
    "# common_causes: 혼란변수, 두 변수(원인, 결과 변수)에 모두 영향을 줄 수 있는 변수"
   ]
  },
  {
   "cell_type": "code",
   "execution_count": 22,
   "id": "d796b625-48c3-447e-8819-6b6b6e46d35d",
   "metadata": {},
   "outputs": [
    {
     "name": "stdout",
     "output_type": "stream",
     "text": [
      "Estimand type: EstimandType.NONPARAMETRIC_ATE\n",
      "\n",
      "### Estimand : 1\n",
      "Estimand name: backdoor\n",
      "Estimand expression:\n",
      "  d                      \n",
      "─────(E[Tube Furnace CP])\n",
      "d[ST]                    \n",
      "Estimand assumption 1, Unconfoundedness: If U→{ST} and U→Tube Furnace CP then P(Tube Furnace CP|ST,,U) = P(Tube Furnace CP|ST,)\n",
      "\n",
      "### Estimand : 2\n",
      "Estimand name: iv\n",
      "No such variable(s) found!\n",
      "\n",
      "### Estimand : 3\n",
      "Estimand name: frontdoor\n",
      "No such variable(s) found!\n",
      "\n"
     ]
    }
   ],
   "source": [
    "model_result = model.identify_effect()\n",
    "print(model_result)\n",
    "# Estimand type: 추정하고자 하는 인과 효과\n",
    "# NONPARAMETRIC_ATE: 어떤 특정한 모델의 형태 (선형, 로그 등)를 가정하지 않고, 데이터를 통해 직접적으로 평균과 효과를 추정하는 방식\n",
    "# ATE(average treatment effect): 전체 모집단에서 '평균적으로' 원인변수가 결과변수에 미치는 영향\n",
    "# Estimand assumption 1, Unconfoundedness: 비혼란성(Unconfoundedness)을 가정\n",
    "# CP값과 ST값 사이에 영향을 주는 공통원인(confounder)이 없거나, 이를 통제할 수 있다는 전제를 놓고 분석(이 가정이 성립되면 ATE가 신뢰성 있게 추정 가능)"
   ]
  },
  {
   "cell_type": "code",
   "execution_count": 26,
   "id": "3a37eb83-fdfb-448b-a9c0-894bf13959c0",
   "metadata": {},
   "outputs": [
    {
     "name": "stderr",
     "output_type": "stream",
     "text": [
      "C:\\Users\\leedo\\anaconda3\\Lib\\site-packages\\dowhy\\causal_estimators\\regression_estimator.py:131: FutureWarning:\n",
      "\n",
      "Series.__getitem__ treating keys as positions is deprecated. In a future version, integer keys will always be treated as labels (consistent with DataFrame behavior). To access a value by position, use `ser.iloc[pos]`\n",
      "\n"
     ]
    },
    {
     "data": {
      "text/plain": [
       "np.float64(-0.00029733378235602403)"
      ]
     },
     "execution_count": 26,
     "metadata": {},
     "output_type": "execute_result"
    }
   ],
   "source": [
    "# Estimand name: iv No such variable(s) found!\n",
    "# 해당 라이브러리가 도구변수(Instrumental Variable)로 사용할 수 있는 값을 찾지 못했다는 의미\n",
    "# 도구 변수: 원인 변수에는 영향을 주지만, 결과변수에 직접적인 영향을 주지 않는 중간 조정 변수\n",
    "\n",
    "# Estimand name: frontdoor No such variable(s) found!\n",
    "# 중간 매개 변수(mediator)를 찾지 못했다는 의미\n",
    "# 중간 매개 변수(mediator): 원인과 결과 사이에 발생하는 중간단계 데이터\n",
    "# ST-> 중간단계 -> CP 이러한 구조를 찾지 못했다고 판단\n",
    "\n",
    "# 도출된 인과 추론 모델을 모형화하여, 원인이 얼만큼 바뀔 때, 결과가 얼만큼 변하는지 계산\n",
    "est = model.estimate_effect(model_result, method_name = 'backdoor.linear_regression')\n",
    "est.value # ST값이 1 움직일 때 cp값은 -0.000297정도 변한다"
   ]
  },
  {
   "cell_type": "code",
   "execution_count": 27,
   "id": "18e923df-aa6c-464e-ac18-8063b3c94cd5",
   "metadata": {},
   "outputs": [
    {
     "data": {
      "text/plain": [
       "array([[-0.0003524 , -0.00024227]])"
      ]
     },
     "execution_count": 27,
     "metadata": {},
     "output_type": "execute_result"
    }
   ],
   "source": [
    "est.get_confidence_intervals() # 인과분석 결과의 신뢰구간\n",
    "# 'ST값이 1씩 증가할 때, 평균적으로 CP값이 -0.0003524에서 -0.0002427로 감소할 것으로 95% 확신한다.'"
   ]
  },
  {
   "cell_type": "code",
   "execution_count": null,
   "id": "a08edb0f-13d1-4f4c-9114-e294164bcf1e",
   "metadata": {},
   "outputs": [],
   "source": []
  }
 ],
 "metadata": {
  "kernelspec": {
   "display_name": "Python 3 (ipykernel)",
   "language": "python",
   "name": "python3"
  },
  "language_info": {
   "codemirror_mode": {
    "name": "ipython",
    "version": 3
   },
   "file_extension": ".py",
   "mimetype": "text/x-python",
   "name": "python",
   "nbconvert_exporter": "python",
   "pygments_lexer": "ipython3",
   "version": "3.11.11"
  }
 },
 "nbformat": 4,
 "nbformat_minor": 5
}
