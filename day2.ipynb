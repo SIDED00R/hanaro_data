{
 "cells": [
  {
   "cell_type": "code",
   "execution_count": 16,
   "id": "a5514a51",
   "metadata": {},
   "outputs": [
    {
     "data": {
      "text/plain": [
       "[7, 13, 6, 12]"
      ]
     },
     "execution_count": 16,
     "metadata": {},
     "output_type": "execute_result"
    }
   ],
   "source": [
    "def solution(n, w, num):\n",
    "    ans_list = []\n",
    "    while not 1 <= num <= 2 * w:\n",
    "        num -= 2 * w\n",
    "    \n",
    "    if 1 <= num <= w:\n",
    "        start = num\n",
    "    else:\n",
    "        dt = 2 * w - num\n",
    "        start = dt + 1\n",
    "    second = 2 * w - start + 1\n",
    "    \n",
    "    while start <= n:\n",
    "        if start < num:\n",
    "            start += 2 * w\n",
    "            continue\n",
    "        ans_list.append(start)\n",
    "        start += 2 * w\n",
    "        \n",
    "    while second <= n:\n",
    "        if second < num:\n",
    "            second += 2 * w\n",
    "            continue\n",
    "        ans_list.append(second)\n",
    "        second += 2 * w\n",
    "        \n",
    "    return ans_list\n",
    "\n",
    "ans = 3\n",
    "n = 13\n",
    "w = 3\n",
    "num = 6\n",
    "solution(n, w, num)"
   ]
  },
  {
   "cell_type": "markdown",
   "id": "7069d447",
   "metadata": {},
   "source": [
    "**복습**\n",
    "\n",
    "\n",
    "- 데이터 분석 영역에서의 트랜드 변화\n",
    "    - 통계 (전통 통계) : \n",
    "        - 모집단(알고자하는 집단, 정도)에서 분석 가능한 일부를 추출 (Sampling)\n",
    "        - 추출된 집단, 표본의 통계량을 확인하여, 모집단을 추정\n",
    "    - 데이터 마이닝 :\n",
    "        - IT 기술의 발달로, 데이터로 부터 직접 수식을 도출하여 분석하는 형태\n",
    "        - 데이터의 규칙과 패턴을 학습하여 데이터에 맞는 새로운 수식을 도출\n",
    "        - 수식(Model)에 새로 들어올 데이터를 넣어 예측을 수행\n",
    "    - 빅데이터 :\n",
    "        - 데이터 사이즈 : 기존에 다루던 양 보다 큰 (여러대 컴퓨터에서 나누어 처리할 정도)\n",
    "            - 병렬처리, MPI\n",
    "        - 데이터 구조 : 기존에는 정형데이터(Excel, csv, db, ...) 처리 및 분석\n",
    "            - 비정형 : 이미지, 영상, 자연어\n",
    "            \n",
    "- 정형데이터 분석 절차 (통계적 절차)\n",
    "    1. 기술적 데이터 분석(DDA)\n",
    "    2. 탐색적 데이터 분석(EDA)\n",
    "    3. 확증적 데이터 분석(CDA)\n",
    "    4. 예측적 데이터 분석(PDA)\n",
    "    \n",
    "- 파이썬 프로그래밍 언어\n",
    "    - 파이썬 변수, 파이썬 연산자, 데이터 타입(연속형, 문자형, 논리형)\n",
    "    - 자료구조 ( 리스트, 튜플, 셋, 딕셔너리)\n",
    "    "
   ]
  },
  {
   "cell_type": "markdown",
   "id": "a40eac1c",
   "metadata": {},
   "source": [
    "## 2-5. 문자열 처리\n",
    "- 문자 데이터에 대한 다양한 처리 기법\n",
    "- 정형 데이터 분석 및 처리, 자연어 분석 및 처리, 크롤링 url 처리 및 수집데이터 처리"
   ]
  },
  {
   "cell_type": "code",
   "execution_count": 1,
   "id": "421966d8",
   "metadata": {},
   "outputs": [
    {
     "data": {
      "text/plain": [
       "21"
      ]
     },
     "execution_count": 1,
     "metadata": {},
     "output_type": "execute_result"
    }
   ],
   "source": [
    "# 따옴표로 표기\n",
    "data1 = \"유-유-유-유-유-유-유-유-메그네릭~\"\n",
    "len(data1) # 특정 자료의 데이터 수, 문자열 데이터의 글자수"
   ]
  },
  {
   "cell_type": "code",
   "execution_count": 2,
   "id": "ee4c10dc",
   "metadata": {},
   "outputs": [
    {
     "data": {
      "text/plain": [
       "'\\n파이썬 데이터 분석\\n통계분석에서 데이터 마이닝을 거쳐\\n빅데이터 까지\\n'"
      ]
     },
     "execution_count": 2,
     "metadata": {},
     "output_type": "execute_result"
    }
   ],
   "source": [
    "# 여러줄의 문자열 (문단 또는 글)\n",
    "\"\"\"\n",
    "파이썬 데이터 분석\n",
    "통계분석에서 데이터 마이닝을 거쳐\n",
    "빅데이터 까지\n",
    "\"\"\""
   ]
  },
  {
   "cell_type": "code",
   "execution_count": 3,
   "id": "9a0ccc99",
   "metadata": {},
   "outputs": [
    {
     "name": "stdout",
     "output_type": "stream",
     "text": [
      "\n",
      "파이썬 데이터 분석\n",
      "통계분석에서 데이터 마이닝을 거쳐\n",
      "빅데이터 까지\n",
      "\n"
     ]
    }
   ],
   "source": [
    "print(\"\"\"\n",
    "파이썬 데이터 분석\n",
    "통계분석에서 데이터 마이닝을 거쳐\n",
    "빅데이터 까지\n",
    "\"\"\") # 특정 문자나 자료를 출력하는 함수\n"
   ]
  },
  {
   "cell_type": "code",
   "execution_count": 4,
   "id": "b2e017f1",
   "metadata": {},
   "outputs": [
    {
     "data": {
      "text/plain": [
       "'abcdefghij'"
      ]
     },
     "execution_count": 4,
     "metadata": {},
     "output_type": "execute_result"
    }
   ],
   "source": [
    "# 문자열 indexing\n",
    "data2 = \"abcdefghijklmnopqrstuvwxyz\"\n",
    "data2[:10]"
   ]
  },
  {
   "cell_type": "code",
   "execution_count": 6,
   "id": "e0c5f5c2",
   "metadata": {},
   "outputs": [
    {
     "data": {
      "text/plain": [
       "'안녕하세요. 제 MBTI는 INFP입니다. 혈액형은 RH+O이에요.'"
      ]
     },
     "execution_count": 6,
     "metadata": {},
     "output_type": "execute_result"
    }
   ],
   "source": [
    "# 포멧팅 formating : 특정 문자의 형식을 유지하여 사용\n",
    "mbti = \"INFP\"\n",
    "blood_type = \"RH+O\"\n",
    "\n",
    "f\"안녕하세요. 제 MBTI는 {mbti}입니다. 혈액형은 {blood_type}이에요.\""
   ]
  },
  {
   "cell_type": "code",
   "execution_count": 7,
   "id": "7a60519b",
   "metadata": {},
   "outputs": [
    {
     "data": {
      "text/plain": [
       "' 안녕하세요. 저는 강의를 하고있는 데이터스테이션입니다. 나이는 27이구요,\\nmbti는 INFP입니다!'"
      ]
     },
     "execution_count": 7,
     "metadata": {},
     "output_type": "execute_result"
    }
   ],
   "source": [
    "# 딕셔너리를 이용한 포메팅\n",
    "data3 = {'이름':'데이터스테이션', '나이':27, 'MBTI':'INFP'}\n",
    "f''' 안녕하세요. 저는 강의를 하고있는 {data3['이름']}입니다. 나이는 {data3['나이']}이구요,\n",
    "mbti는 {data3['MBTI']}입니다!'''"
   ]
  },
  {
   "cell_type": "code",
   "execution_count": 17,
   "id": "59e8c17f",
   "metadata": {},
   "outputs": [
    {
     "data": {
      "text/plain": [
       "1"
      ]
     },
     "execution_count": 17,
     "metadata": {},
     "output_type": "execute_result"
    }
   ],
   "source": [
    "# 문자 개수 세기\n",
    "data2.count(\"e\")"
   ]
  },
  {
   "cell_type": "code",
   "execution_count": 18,
   "id": "eca0a0c4",
   "metadata": {},
   "outputs": [
    {
     "data": {
      "text/plain": [
       "1"
      ]
     },
     "execution_count": 18,
     "metadata": {},
     "output_type": "execute_result"
    }
   ],
   "source": [
    "data2.count(\"abc\")"
   ]
  },
  {
   "cell_type": "code",
   "execution_count": 19,
   "id": "1dbfe5a9",
   "metadata": {},
   "outputs": [
    {
     "data": {
      "text/plain": [
       "['abcde', 'ghijklmnopqrstuvwxyz']"
      ]
     },
     "execution_count": 19,
     "metadata": {},
     "output_type": "execute_result"
    }
   ],
   "source": [
    "# 문자열 나누기\n",
    "data2.split(\"f\")"
   ]
  },
  {
   "cell_type": "code",
   "execution_count": 20,
   "id": "d1ac9535",
   "metadata": {},
   "outputs": [
    {
     "data": {
      "text/plain": [
       "23"
      ]
     },
     "execution_count": 20,
     "metadata": {},
     "output_type": "execute_result"
    }
   ],
   "source": [
    "data5 = \"안녕하세요 오늘 삼전 주가는 100,000원 입니다.\"\n",
    "data5.find('원')"
   ]
  },
  {
   "cell_type": "code",
   "execution_count": 22,
   "id": "ccdaf6de",
   "metadata": {},
   "outputs": [
    {
     "data": {
      "text/plain": [
       "'100,000원'"
      ]
     },
     "execution_count": 22,
     "metadata": {},
     "output_type": "execute_result"
    }
   ],
   "source": [
    "data5[16:24]"
   ]
  },
  {
   "cell_type": "markdown",
   "id": "d4a0f695",
   "metadata": {},
   "source": [
    "# 3. 파이썬 구문 (Statement)\n",
    "\n",
    "- 특정 코드를 반복하거나, 특정 조건에 대해 원하는 코드가 실행 될 수 있도록 구성\n",
    "- 조건문 : 특정 조건에 대해 코드가 실행 될 수 있도록 구성\n",
    "- 반복문 : 특정 범위나 횟수에 의해 코드가 반복 될 수 있도록 구성\n",
    "- 예외구문 : 코드를 실행함에 있어, 예외상황에 대한 동작을 따로 수행하도록 구성"
   ]
  },
  {
   "cell_type": "code",
   "execution_count": 23,
   "id": "0ab1df26",
   "metadata": {},
   "outputs": [
    {
     "name": "stdout",
     "output_type": "stream",
     "text": [
      "해당 데이터는 30보다 작다\n"
     ]
    }
   ],
   "source": [
    "## 3-1. 조건문 (if)\n",
    "data1 = 10\n",
    "\n",
    "# 특정 비교구문이나 조건을 걸어, 해당 조건이 True 값이 나오는 경우, 아래의 종속문장을 수행\n",
    "if data1 >= 30:\n",
    "    print('해당 데이터는 30보다 크거나 같다')\n",
    "else:\n",
    "    print('해당 데이터는 30보다 작다')"
   ]
  },
  {
   "cell_type": "code",
   "execution_count": 24,
   "id": "5095bd5e",
   "metadata": {},
   "outputs": [
    {
     "name": "stdout",
     "output_type": "stream",
     "text": [
      "C\n"
     ]
    }
   ],
   "source": [
    "# 여러 조건을 걸어 해당 조건에 맞는 코드를 수행하고자 할 때\n",
    "data2 = 75\n",
    "\n",
    "# 여러 조건이 걸렸을 때, 순차적으로 맨 위 구문부터 확인하면서 수행\n",
    "\n",
    "if data2 >= 90:\n",
    "    print('A')\n",
    "elif data2 >= 80:\n",
    "    print('B')\n",
    "elif data2 >= 70:\n",
    "    print('C')\n",
    "else:\n",
    "    print('F')"
   ]
  },
  {
   "cell_type": "code",
   "execution_count": 25,
   "id": "8ebcac37",
   "metadata": {},
   "outputs": [
    {
     "name": "stdout",
     "output_type": "stream",
     "text": [
      "B\n"
     ]
    }
   ],
   "source": [
    "# 문자열에서 특정 단어가 포함되어 있는지 판별\n",
    "data3 = \"python 데이터 분석\"\n",
    "\n",
    "if \"java\" in data3:\n",
    "    print(\"A\")\n",
    "elif 'python' in data3:\n",
    "    print('B')"
   ]
  },
  {
   "cell_type": "code",
   "execution_count": 27,
   "id": "88a713a1",
   "metadata": {},
   "outputs": [
    {
     "name": "stdout",
     "output_type": "stream",
     "text": [
      "1\n",
      "2\n"
     ]
    }
   ],
   "source": [
    "# 리스트 내 특정 데이터가 있는지 및 없는지 판별\n",
    "l = [1, 2, 3]\n",
    "if 1 in l:\n",
    "    print(1)\n",
    "    \n",
    "if 4 not in l:\n",
    "    print(2)"
   ]
  },
  {
   "cell_type": "code",
   "execution_count": 30,
   "id": "762f1842",
   "metadata": {},
   "outputs": [
    {
     "name": "stdout",
     "output_type": "stream",
     "text": [
      "up\n"
     ]
    }
   ],
   "source": [
    "data5 = 200\n",
    "print('up') if data5 >= 50 else print('down')"
   ]
  },
  {
   "cell_type": "code",
   "execution_count": 31,
   "id": "1977760c",
   "metadata": {},
   "outputs": [
    {
     "name": "stdout",
     "output_type": "stream",
     "text": [
      "go\n",
      "go\n",
      "go\n",
      "go\n",
      "go\n",
      "go\n"
     ]
    }
   ],
   "source": [
    "## 3-2. 반복문 (while, for)\n",
    "data7 = 200\n",
    "while data7 >= 150:\n",
    "    print(\"go\")\n",
    "    break # 반복을 수행하다 만나면 반복이 중단"
   ]
  },
  {
   "cell_type": "code",
   "execution_count": 32,
   "id": "f369b0ee",
   "metadata": {},
   "outputs": [
    {
     "name": "stdout",
     "output_type": "stream",
     "text": [
      "1\n",
      "2\n",
      "A\n",
      "4\n",
      "5\n"
     ]
    }
   ],
   "source": [
    "# 조건 초기화\n",
    "data9 = 0\n",
    "while data9 < 5:\n",
    "    data9 += 1\n",
    "    if data9 == 3:\n",
    "        print(\"A\")\n",
    "        continue\n",
    "    print(data9)"
   ]
  },
  {
   "cell_type": "code",
   "execution_count": 33,
   "id": "7dc29165",
   "metadata": {},
   "outputs": [
    {
     "name": "stdout",
     "output_type": "stream",
     "text": [
      "1\n",
      "2\n",
      "3\n",
      "4\n",
      "5\n",
      "6\n",
      "7\n",
      "8\n",
      "9\n"
     ]
    }
   ],
   "source": [
    "for i in range(1, 10): # 특정 범위의 정수를 출력하는 구문\n",
    "    print(i)"
   ]
  },
  {
   "cell_type": "code",
   "execution_count": 34,
   "id": "520ad9ac",
   "metadata": {},
   "outputs": [
    {
     "name": "stdout",
     "output_type": "stream",
     "text": [
      "100\n",
      "200\n",
      "300\n",
      "400\n",
      "500\n"
     ]
    }
   ],
   "source": [
    "for num in [100, 200, 300, 400, 500]:\n",
    "    print(num)"
   ]
  },
  {
   "cell_type": "code",
   "execution_count": 35,
   "id": "31f764eb",
   "metadata": {},
   "outputs": [
    {
     "name": "stdout",
     "output_type": "stream",
     "text": [
      "0 홍\n",
      "1 성\n",
      "2 이\n",
      "3 허\n",
      "4 김\n"
     ]
    }
   ],
   "source": [
    "# 특정 리스트의 데이터를 index(순서)와 함께 출력\n",
    "data10 = [\"홍\", '성', '이', '허', '김']\n",
    "for idx, name in enumerate(data10):\n",
    "    print(idx, name)"
   ]
  },
  {
   "cell_type": "code",
   "execution_count": 36,
   "id": "3b470cfe",
   "metadata": {},
   "outputs": [
    {
     "name": "stdout",
     "output_type": "stream",
     "text": [
      "500\n",
      "700\n",
      "900\n",
      "1100\n"
     ]
    }
   ],
   "source": [
    "data11 = [200, 300, 400, 500, 600]\n",
    "for i in range(len(data11) - 1):\n",
    "    print(sum(data11[i: i + 2]))"
   ]
  },
  {
   "cell_type": "code",
   "execution_count": 38,
   "id": "a0e20350",
   "metadata": {},
   "outputs": [
    {
     "data": {
      "text/plain": [
       "[0, 1, 2, 3, 4, 5, 6, 7, 8, 9, 10, 11, 12, 13]"
      ]
     },
     "execution_count": 38,
     "metadata": {},
     "output_type": "execute_result"
    }
   ],
   "source": [
    "# list comprehension\n",
    "# for문을 이용해서 특정 리스트를 구성, 해당 리스트를 축약 하여 사용\n",
    "data13 = [i for i in range(14)]\n",
    "data13"
   ]
  },
  {
   "cell_type": "code",
   "execution_count": 43,
   "id": "15260855",
   "metadata": {},
   "outputs": [
    {
     "data": {
      "text/plain": [
       "[0, 0, 0, 0, 105, 106, 107, 108, 109, 110]"
      ]
     },
     "execution_count": 43,
     "metadata": {},
     "output_type": "execute_result"
    }
   ],
   "source": [
    "# 1 부터 10까지 정수중 5 이상인 수만 뽑아서 100씩 더하여 리스트로 구성\n",
    "[x + 100  if x >= 5 else 0 for x in range(1, 11)]"
   ]
  },
  {
   "cell_type": "markdown",
   "id": "bbdd1d64",
   "metadata": {},
   "source": [
    "## 3-3. 예외 처리 구문(try, except, finally)\n",
    "\n",
    "- 특정 구문을 수행하다가 구조적인 오류들이 발생\n",
    "- 오류를 방지하기 위해, 사용하는 예외 처리 구문\n",
    "- 프로그램 형태로 파이썬 코드를 수행시킬 때 많이 사용\n",
    "- 데이터 분석에서는 크롤링 또는 업무자동화(RPA) 같은 자동화된 반복 수행 작업에 필수로 사용"
   ]
  },
  {
   "cell_type": "code",
   "execution_count": 46,
   "id": "3ce3050c",
   "metadata": {},
   "outputs": [
    {
     "name": "stdout",
     "output_type": "stream",
     "text": [
      "error\n",
      "[0, 1, 2, 3, 4, 5, 6, 7, 8, 9]\n"
     ]
    }
   ],
   "source": [
    "try:\n",
    "    data14 = [i for i in range(10)]\n",
    "    data14.remove(20)\n",
    "except:\n",
    "    print(\"error\")\n",
    "finally:\n",
    "    print(data14)"
   ]
  },
  {
   "cell_type": "code",
   "execution_count": null,
   "id": "241ae682",
   "metadata": {},
   "outputs": [
    {
     "name": "stdout",
     "output_type": "stream",
     "text": [
      "1\n"
     ]
    }
   ],
   "source": [
    "import os\n",
    "while True:\n",
    "    try:\n",
    "        print(1, flush = True)\n",
    "        os._exit(0)\n",
    "    finally:\n",
    "        print(2)"
   ]
  },
  {
   "cell_type": "markdown",
   "id": "79064433",
   "metadata": {},
   "source": [
    "# 4. 함수\n",
    "\n",
    "## 4-1. 함수의 개념\n",
    "\n",
    "    - 함수 : 특정 기능을 수행하는 코드의 집합"
   ]
  },
  {
   "cell_type": "code",
   "execution_count": 2,
   "id": "f742c1af",
   "metadata": {},
   "outputs": [
    {
     "data": {
      "text/plain": [
       "500"
      ]
     },
     "execution_count": 2,
     "metadata": {},
     "output_type": "execute_result"
    }
   ],
   "source": [
    "def func1(x):\n",
    "    return x + 200\n",
    "\n",
    "func1(300)"
   ]
  },
  {
   "cell_type": "code",
   "execution_count": 3,
   "id": "e0df13d0",
   "metadata": {},
   "outputs": [
    {
     "data": {
      "text/plain": [
       "'F'"
      ]
     },
     "execution_count": 3,
     "metadata": {},
     "output_type": "execute_result"
    }
   ],
   "source": [
    "# 성적 처리 프로그램\n",
    "def func2(x):\n",
    "    if x >= 90:\n",
    "        return \"A\"\n",
    "    elif x >= 80:\n",
    "        return \"B\"\n",
    "    else:\n",
    "        return \"F\"\n",
    "    \n",
    "func2(100)\n",
    "func2(90)\n",
    "func2(89)\n",
    "func2(80)\n",
    "func2(79)"
   ]
  },
  {
   "cell_type": "code",
   "execution_count": 4,
   "id": "ffc1203d",
   "metadata": {},
   "outputs": [
    {
     "data": {
      "text/plain": [
       "(300, 900)"
      ]
     },
     "execution_count": 4,
     "metadata": {},
     "output_type": "execute_result"
    }
   ],
   "source": [
    "def func3(x, y, z):\n",
    "    return x + y, z ** 2\n",
    "\n",
    "func3(100, 200, 30)"
   ]
  },
  {
   "cell_type": "code",
   "execution_count": 6,
   "id": "549c1a60",
   "metadata": {},
   "outputs": [
    {
     "name": "stdout",
     "output_type": "stream",
     "text": [
      "300\n"
     ]
    }
   ],
   "source": [
    "def func4(x):\n",
    "    print(x + 200)\n",
    "    \n",
    "func4(100)"
   ]
  },
  {
   "cell_type": "code",
   "execution_count": 7,
   "id": "a8d13f90",
   "metadata": {},
   "outputs": [
    {
     "data": {
      "text/plain": [
       "2000"
      ]
     },
     "execution_count": 7,
     "metadata": {},
     "output_type": "execute_result"
    }
   ],
   "source": [
    "def func5():\n",
    "    return 2000\n",
    "\n",
    "func5()"
   ]
  },
  {
   "cell_type": "code",
   "execution_count": 8,
   "id": "0836fd0b",
   "metadata": {},
   "outputs": [
    {
     "name": "stdout",
     "output_type": "stream",
     "text": [
      "10\n"
     ]
    },
    {
     "data": {
      "text/plain": [
       "10"
      ]
     },
     "execution_count": 8,
     "metadata": {},
     "output_type": "execute_result"
    }
   ],
   "source": [
    "def func6():\n",
    "    x = int(input())\n",
    "    return x\n",
    "\n",
    "func6()"
   ]
  },
  {
   "cell_type": "code",
   "execution_count": 9,
   "id": "5cdc4544",
   "metadata": {},
   "outputs": [
    {
     "data": {
      "text/plain": [
       "860"
      ]
     },
     "execution_count": 9,
     "metadata": {},
     "output_type": "execute_result"
    }
   ],
   "source": [
    "# 입력값이 몇 개가 될지 모르는 함수를 구성해야 할 때\n",
    "def func7(*x): # * : 여러개의 자료를 한 번에 packing하여 받아들임\n",
    "    # 입력 받은 값들은 튜플 형태로 사용\n",
    "    return sum(x)\n",
    "func7(100, 200, 500, 60)"
   ]
  },
  {
   "cell_type": "code",
   "execution_count": 10,
   "id": "bfc4288f",
   "metadata": {},
   "outputs": [
    {
     "data": {
      "text/plain": [
       "6"
      ]
     },
     "execution_count": 10,
     "metadata": {},
     "output_type": "execute_result"
    }
   ],
   "source": [
    "# 특정 입력값의 초기값 세팅이 가능\n",
    "def func8(x1, x2, x3 = 30):\n",
    "    return x1 + x2 + x3\n",
    "\n",
    "func8(1, 2, 3)"
   ]
  },
  {
   "cell_type": "code",
   "execution_count": 11,
   "id": "84a6f5ed",
   "metadata": {},
   "outputs": [
    {
     "data": {
      "text/plain": [
       "33"
      ]
     },
     "execution_count": 11,
     "metadata": {},
     "output_type": "execute_result"
    }
   ],
   "source": [
    "func8(1, 2)"
   ]
  },
  {
   "cell_type": "code",
   "execution_count": 12,
   "id": "a089487f",
   "metadata": {},
   "outputs": [
    {
     "name": "stdout",
     "output_type": "stream",
     "text": [
      "-400\n"
     ]
    },
    {
     "data": {
      "text/plain": [
       "600"
      ]
     },
     "execution_count": 12,
     "metadata": {},
     "output_type": "execute_result"
    }
   ],
   "source": [
    "# 덧셈을 수행하지만, 필요할 땐 뺄셈을 수행해주는 함수를 구성\n",
    "def func9(x1, x2, x3 = False):\n",
    "    if x3:\n",
    "        return x1 - x2\n",
    "    else:\n",
    "        return x1 + x2\n",
    "    \n",
    "print(func9(100, 500, True))    \n",
    "func9(100, 500)"
   ]
  },
  {
   "cell_type": "code",
   "execution_count": 17,
   "id": "aafb64e2",
   "metadata": {},
   "outputs": [
    {
     "name": "stdout",
     "output_type": "stream",
     "text": [
      "4 5, 1\n",
      "다시 입력하시오\n"
     ]
    }
   ],
   "source": [
    "def a():\n",
    "    try:\n",
    "        line = list(map(float, input().split(\",\")))\n",
    "        return sum(line)\n",
    "    except:\n",
    "        print(\"다시 입력하시오\")\n",
    "        \n",
    "a()\n"
   ]
  },
  {
   "cell_type": "code",
   "execution_count": null,
   "id": "2991abc7",
   "metadata": {},
   "outputs": [],
   "source": []
  },
  {
   "cell_type": "code",
   "execution_count": null,
   "id": "a5db253f",
   "metadata": {},
   "outputs": [],
   "source": []
  },
  {
   "cell_type": "code",
   "execution_count": null,
   "id": "831e898d",
   "metadata": {},
   "outputs": [],
   "source": [
    "마네"
   ]
  },
  {
   "cell_type": "markdown",
   "id": "356b4c07",
   "metadata": {},
   "source": [
    "- **재귀함수** (recursion) : 함수 내에서 자기 함수 스스로가 참조되어 작동하는 함수\n",
    "    - 기저 조건 (base case) : 재귀함수 내에서 자기 자신이 호출되지 않도록 하는 조건\n",
    "    - 기저 조건이 따로 없다면 무한재귀로 함수가 지속적으로 수행"
   ]
  },
  {
   "cell_type": "code",
   "execution_count": 18,
   "id": "0cebcac7",
   "metadata": {},
   "outputs": [
    {
     "name": "stdout",
     "output_type": "stream",
     "text": [
      "1\n",
      "2\n",
      "3\n",
      "4\n",
      "5\n",
      "6\n",
      "7\n",
      "8\n",
      "9\n",
      "end\n"
     ]
    }
   ],
   "source": [
    "def func_recurs1(x):\n",
    "    if x == 10:\n",
    "        print(\"end\")\n",
    "    else:\n",
    "        print(x)\n",
    "        func_recurs1(x + 1)\n",
    "        \n",
    "func_recurs1(1)"
   ]
  },
  {
   "cell_type": "code",
   "execution_count": 19,
   "id": "db8020b7",
   "metadata": {},
   "outputs": [
    {
     "data": {
      "text/plain": [
       "70"
      ]
     },
     "execution_count": 19,
     "metadata": {},
     "output_type": "execute_result"
    }
   ],
   "source": [
    "# 람다 함수 : 함수를 한 줄로 간결하게 만들 때 사용\n",
    "# 함수의 결과를 변수로 선언하여 활용\n",
    "func21 = lambda a, b : a + b\n",
    "func21(30, 40)"
   ]
  },
  {
   "cell_type": "code",
   "execution_count": 20,
   "id": "578446ef",
   "metadata": {},
   "outputs": [],
   "source": [
    "func22 = lambda a, b : a.append(b)\n",
    "func22([20, 30, 40], 500)"
   ]
  },
  {
   "cell_type": "markdown",
   "id": "b61bc33d",
   "metadata": {},
   "source": [
    "## 4-3. 기본 내장 함수"
   ]
  },
  {
   "cell_type": "code",
   "execution_count": 34,
   "id": "76b430fb",
   "metadata": {},
   "outputs": [],
   "source": [
    "data1 = open('data.txt', 'r')\n",
    "text = data1.readline()"
   ]
  },
  {
   "cell_type": "code",
   "execution_count": 35,
   "id": "4022f85e",
   "metadata": {},
   "outputs": [
    {
     "data": {
      "text/plain": [
       "['\"python',\n",
       " 'is',\n",
       " 'an',\n",
       " 'interpreted,',\n",
       " 'high-level,',\n",
       " 'general-purpose',\n",
       " 'programming',\n",
       " 'language.',\n",
       " 'created',\n",
       " 'by',\n",
       " 'guido',\n",
       " 'van',\n",
       " 'rossum',\n",
       " 'and',\n",
       " 'first',\n",
       " 'released',\n",
       " 'in',\n",
       " '1991,',\n",
       " \"python's\",\n",
       " 'design',\n",
       " 'philosophy',\n",
       " 'emphasizes',\n",
       " 'code',\n",
       " 'readability',\n",
       " 'with',\n",
       " 'its',\n",
       " 'notable',\n",
       " 'use',\n",
       " 'of',\n",
       " 'significant',\n",
       " 'whitespace.\\\\n\"']"
      ]
     },
     "execution_count": 35,
     "metadata": {},
     "output_type": "execute_result"
    }
   ],
   "source": [
    "text.lower().split(\" \")"
   ]
  },
  {
   "cell_type": "markdown",
   "id": "6089efe0",
   "metadata": {},
   "source": [
    "## 4-4. 클래스 class\n",
    "\n",
    "- 특정 함수를 반복하여 사용할 때, 함수의 결과값을 계쏙 유지한 채로 계산할 수 없다\n",
    "- 함수를 여러개의 변수로 선언하여 손 쉽게 사용 -> 클래스\n",
    "- 프로그래밍에서는 클래스가 매우 많이 사용이 됨\n",
    "- 라이브러리 개념을 이해하기 위해 설명"
   ]
  },
  {
   "cell_type": "code",
   "execution_count": 43,
   "id": "d1dadef7",
   "metadata": {},
   "outputs": [
    {
     "data": {
      "text/plain": [
       "300"
      ]
     },
     "execution_count": 43,
     "metadata": {},
     "output_type": "execute_result"
    }
   ],
   "source": [
    "class add_class():\n",
    "    # 초기화 함수를 설정\n",
    "    # 특정 값의 합을 계산하는 변수를 0으로 초기화\n",
    "    # 앞서 함수에서 사용한 global 역할을 수행\n",
    "    def __init__(self):\n",
    "        self.result = 0\n",
    "        \n",
    "    def func40(self, x):\n",
    "        self.result += x\n",
    "        return self.result\n",
    "    \n",
    "funcA = add_class()\n",
    "funcb = add_class()\n",
    "funcA.func40(100)\n",
    "funcA.func40(200)"
   ]
  },
  {
   "cell_type": "markdown",
   "id": "4b72bbeb",
   "metadata": {},
   "source": [
    "# 5. 모듈과 패키지\n",
    "\n",
    "## 5-1. 모듈\n",
    "\n",
    "- python 파일을 따로 생성해서, 해당 파일에 특정 기능을 수행하는 함수를 정의\n",
    "- 해당 파일을 스크립트로 불러와 파일 내 있는 함수를 사용\n"
   ]
  },
  {
   "cell_type": "code",
   "execution_count": 44,
   "id": "3f18e187",
   "metadata": {},
   "outputs": [
    {
     "name": "stdout",
     "output_type": "stream",
     "text": [
      "15\n",
      "3.0\n"
     ]
    }
   ],
   "source": [
    "import modul1\n",
    "print(modul1.sum_func([1, 2, 3, 4, 5]))\n",
    "print(modul1.mean_func([1, 2, 3, 4, 5]))"
   ]
  },
  {
   "cell_type": "code",
   "execution_count": 45,
   "id": "b29d9d9a",
   "metadata": {},
   "outputs": [
    {
     "data": {
      "text/plain": [
       "30.0"
      ]
     },
     "execution_count": 45,
     "metadata": {},
     "output_type": "execute_result"
    }
   ],
   "source": [
    "from modul1 import *\n",
    "mean_func([10, 20, 30, 40, 50])"
   ]
  },
  {
   "cell_type": "code",
   "execution_count": null,
   "id": "5bd57c9a",
   "metadata": {},
   "outputs": [],
   "source": []
  }
 ],
 "metadata": {
  "kernelspec": {
   "display_name": "Python 3 (ipykernel)",
   "language": "python",
   "name": "python3"
  },
  "language_info": {
   "codemirror_mode": {
    "name": "ipython",
    "version": 3
   },
   "file_extension": ".py",
   "mimetype": "text/x-python",
   "name": "python",
   "nbconvert_exporter": "python",
   "pygments_lexer": "ipython3",
   "version": "3.11.11"
  }
 },
 "nbformat": 4,
 "nbformat_minor": 5
}
