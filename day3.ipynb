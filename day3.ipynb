{
 "cells": [
  {
   "cell_type": "markdown",
   "id": "c78ef417",
   "metadata": {},
   "source": [
    "# 6. 패키지 (package)\n",
    "\n",
    "- 특정 목적을 수행하는 모듈을 모아높은 집합체\n",
    "- 모듈을 계층적인 구조로 관리하기 위해 사용\n",
    "- 매우 복잡하고 다양한 기능이 수행되는 경우, 많은 모듈이 필요하며, 이를 패키지로 쉽게 다룰 수 있음"
   ]
  },
  {
   "cell_type": "code",
   "execution_count": 15,
   "id": "bcb8826c",
   "metadata": {},
   "outputs": [
    {
     "data": {
      "text/plain": [
       "102334155"
      ]
     },
     "execution_count": 15,
     "metadata": {},
     "output_type": "execute_result"
    }
   ],
   "source": [
    "# package1 폴더에 있는 modul1.py 파일, 모듈을 호출하여 사용\n",
    "from package1 import modul1\n",
    "\n",
    "modul1.fibo(40)"
   ]
  },
  {
   "cell_type": "code",
   "execution_count": 18,
   "id": "00a9e5ff",
   "metadata": {},
   "outputs": [
    {
     "data": {
      "text/plain": [
       "102334155"
      ]
     },
     "execution_count": 18,
     "metadata": {},
     "output_type": "execute_result"
    }
   ],
   "source": [
    "modul1.fast_fibo(40)"
   ]
  },
  {
   "cell_type": "code",
   "execution_count": 2,
   "id": "fb645772",
   "metadata": {},
   "outputs": [
    {
     "name": "stdout",
     "output_type": "stream",
     "text": [
      "package version : 1.0\n"
     ]
    }
   ],
   "source": [
    "# 초기화 폴더 __init__.py\n",
    "import package1\n",
    "package1.pack_version()"
   ]
  },
  {
   "cell_type": "markdown",
   "id": "0f22c1bd",
   "metadata": {},
   "source": [
    "## 6-1. 기타 파이썬 내장 함수 및 표준 라이브러리\n",
    "\n",
    "- 라이브러리 : 특정 프로그래밍 목적을 수행하기 위한 모듈 또는 패키지의 집합체\n",
    "- 표준 라이브러리 : 파이썬 내에 직접 사용이 가능한 함수 또는 모듈 / 패키지\n",
    "    - 간단한 과학, 통계연산, 데이터처리, 파일불러오기 등\n",
    "    - 약 50여가지의 내장 함수가 존재\n",
    "    \n",
    "- 외장 라이브러리의 경우 추가적으로 다운로드 받아서 사용"
   ]
  },
  {
   "cell_type": "code",
   "execution_count": 3,
   "id": "36721e78",
   "metadata": {},
   "outputs": [
    {
     "data": {
      "text/plain": [
       "100"
      ]
     },
     "execution_count": 3,
     "metadata": {},
     "output_type": "execute_result"
    }
   ],
   "source": [
    "# 절대값 반환\n",
    "abs(-100)"
   ]
  },
  {
   "cell_type": "code",
   "execution_count": 4,
   "id": "40b259b4",
   "metadata": {},
   "outputs": [
    {
     "data": {
      "text/plain": [
       "[1, 3, 5, 10, 20, 30, 2000]"
      ]
     },
     "execution_count": 4,
     "metadata": {},
     "output_type": "execute_result"
    }
   ],
   "source": [
    "# 특정 데이터 값을 정렬하는 함수 (리스트, 튜플, 셋 사용 가능)\n",
    "t1 = (10, 2000, 30, 20, 3, 1, 5)\n",
    "sorted(t1)"
   ]
  },
  {
   "cell_type": "code",
   "execution_count": 5,
   "id": "bce0edd0",
   "metadata": {},
   "outputs": [
    {
     "data": {
      "text/plain": [
       "[2000, 30, 20, 10, 5, 3, 1]"
      ]
     },
     "execution_count": 5,
     "metadata": {},
     "output_type": "execute_result"
    }
   ],
   "source": [
    "sorted(t1, reverse = True)"
   ]
  },
  {
   "cell_type": "code",
   "execution_count": 6,
   "id": "99a58402",
   "metadata": {},
   "outputs": [
    {
     "data": {
      "text/plain": [
       "['__add__',\n",
       " '__class__',\n",
       " '__class_getitem__',\n",
       " '__contains__',\n",
       " '__delattr__',\n",
       " '__delitem__',\n",
       " '__dir__',\n",
       " '__doc__',\n",
       " '__eq__',\n",
       " '__format__',\n",
       " '__ge__',\n",
       " '__getattribute__',\n",
       " '__getitem__',\n",
       " '__getstate__',\n",
       " '__gt__',\n",
       " '__hash__',\n",
       " '__iadd__',\n",
       " '__imul__',\n",
       " '__init__',\n",
       " '__init_subclass__',\n",
       " '__iter__',\n",
       " '__le__',\n",
       " '__len__',\n",
       " '__lt__',\n",
       " '__mul__',\n",
       " '__ne__',\n",
       " '__new__',\n",
       " '__reduce__',\n",
       " '__reduce_ex__',\n",
       " '__repr__',\n",
       " '__reversed__',\n",
       " '__rmul__',\n",
       " '__setattr__',\n",
       " '__setitem__',\n",
       " '__sizeof__',\n",
       " '__str__',\n",
       " '__subclasshook__',\n",
       " 'append',\n",
       " 'clear',\n",
       " 'copy',\n",
       " 'count',\n",
       " 'extend',\n",
       " 'index',\n",
       " 'insert',\n",
       " 'pop',\n",
       " 'remove',\n",
       " 'reverse',\n",
       " 'sort']"
      ]
     },
     "execution_count": 6,
     "metadata": {},
     "output_type": "execute_result"
    }
   ],
   "source": [
    "# 특정 개체가 가진 변수나 함수, 기능들을 확인하는 함수\n",
    "dir([10, 20]) # 리스트 자료구조 내에서 사용할 수 있는 함수들을 모두 확인 가능"
   ]
  },
  {
   "cell_type": "code",
   "execution_count": 11,
   "id": "ae9937e5",
   "metadata": {},
   "outputs": [
    {
     "data": {
      "text/plain": [
       "[0, 1, 2, 3]"
      ]
     },
     "execution_count": 11,
     "metadata": {},
     "output_type": "execute_result"
    }
   ],
   "source": [
    "# 자료구조 내 값을 순서와 값으로 나누어 연산\n",
    "index_list = []\n",
    "value_list = []\n",
    "for i, data in enumerate(['A', 'B', 'C', 'D']):\n",
    "    index_list.append(i)\n",
    "    value_list.append(data)\n",
    "    \n",
    "index_list"
   ]
  },
  {
   "cell_type": "code",
   "execution_count": 13,
   "id": "59c05348",
   "metadata": {},
   "outputs": [
    {
     "data": {
      "text/plain": [
       "['A', 'B', 'C', 'D']"
      ]
     },
     "execution_count": 13,
     "metadata": {},
     "output_type": "execute_result"
    }
   ],
   "source": [
    "value_list"
   ]
  },
  {
   "cell_type": "code",
   "execution_count": 24,
   "id": "8919de76",
   "metadata": {},
   "outputs": [],
   "source": [
    "# 시간 관련 표준 라이브러리\n",
    "# 현장에서 데이터분석에 중요한 타입 중 하나가 시간에 대한 데이터 타입\n",
    "import datetime\n",
    "start_time = datetime.datetime.today() # 현재 시스템 상 시간\n",
    "end_time = datetime.datetime(2025, 3, 24) # 특정 원하는 날짜를 지정"
   ]
  },
  {
   "cell_type": "code",
   "execution_count": 25,
   "id": "33bbe70c",
   "metadata": {},
   "outputs": [
    {
     "data": {
      "text/plain": [
       "datetime.timedelta(days=3, seconds=36787, microseconds=327374)"
      ]
     },
     "execution_count": 25,
     "metadata": {},
     "output_type": "execute_result"
    }
   ],
   "source": [
    "start_time - end_time"
   ]
  },
  {
   "cell_type": "code",
   "execution_count": 26,
   "id": "fa97817d",
   "metadata": {},
   "outputs": [
    {
     "data": {
      "text/plain": [
       "3"
      ]
     },
     "execution_count": 26,
     "metadata": {},
     "output_type": "execute_result"
    }
   ],
   "source": [
    "start_time.weekday() # 요일 : 0-월, 1-화, 2-수, ... "
   ]
  },
  {
   "cell_type": "code",
   "execution_count": 27,
   "id": "1b6ca107",
   "metadata": {},
   "outputs": [
    {
     "data": {
      "text/plain": [
       "1743038208.1325355"
      ]
     },
     "execution_count": 27,
     "metadata": {},
     "output_type": "execute_result"
    }
   ],
   "source": [
    "import time\n",
    "time.time() # UTC (universal time coordinated, 협정 세계 표준시)를 사용\n",
    "# 1970년 1월 1일 0시 0분 0초를 기준으로 현재까지 몇 초가 흘렀는지 계산"
   ]
  },
  {
   "cell_type": "code",
   "execution_count": 28,
   "id": "c231e45b",
   "metadata": {},
   "outputs": [
    {
     "data": {
      "text/plain": [
       "time.struct_time(tm_year=2025, tm_mon=3, tm_mday=27, tm_hour=10, tm_min=17, tm_sec=1, tm_wday=3, tm_yday=86, tm_isdst=0)"
      ]
     },
     "execution_count": 28,
     "metadata": {},
     "output_type": "execute_result"
    }
   ],
   "source": [
    "time.localtime(time.time()) # "
   ]
  },
  {
   "cell_type": "code",
   "execution_count": 29,
   "id": "04da78db",
   "metadata": {},
   "outputs": [
    {
     "data": {
      "text/plain": [
       "10.001246213912964"
      ]
     },
     "execution_count": 29,
     "metadata": {},
     "output_type": "execute_result"
    }
   ],
   "source": [
    "# 코드에 일정한 시간 간격을 두고 코드를 수행\n",
    "t1 = time.time()\n",
    "time.sleep(10)\n",
    "t2 = time.time()\n",
    "\n",
    "t2 - t1"
   ]
  },
  {
   "cell_type": "code",
   "execution_count": 30,
   "id": "67e95220",
   "metadata": {},
   "outputs": [
    {
     "data": {
      "text/plain": [
       "0.42851071952394915"
      ]
     },
     "execution_count": 30,
     "metadata": {},
     "output_type": "execute_result"
    }
   ],
   "source": [
    "# 난수 생성과 관련한 라이브러리\n",
    "import random\n",
    "random.random() # 0과 1 사이의 수에서 난수를 생성"
   ]
  },
  {
   "cell_type": "code",
   "execution_count": 31,
   "id": "306649f6",
   "metadata": {},
   "outputs": [
    {
     "data": {
      "text/plain": [
       "62"
      ]
     },
     "execution_count": 31,
     "metadata": {},
     "output_type": "execute_result"
    }
   ],
   "source": [
    "random.randint(1, 100) # 특정 범위의 정수 내에서 난수를 생성"
   ]
  },
  {
   "cell_type": "code",
   "execution_count": 37,
   "id": "90f5e095",
   "metadata": {},
   "outputs": [
    {
     "name": "stdout",
     "output_type": "stream",
     "text": [
      "[111, 94, 89, 98, 98, 110, 110, 93, 94, 103]\n"
     ]
    }
   ],
   "source": [
    "l = [0 for _ in range(10)]\n",
    "for _ in range(1000):\n",
    "    l[random.randint(0, 9)] += 1\n",
    "    \n",
    "print(l)"
   ]
  },
  {
   "cell_type": "code",
   "execution_count": 35,
   "id": "9e4e1cfe",
   "metadata": {},
   "outputs": [
    {
     "data": {
      "text/plain": [
       "120"
      ]
     },
     "execution_count": 35,
     "metadata": {},
     "output_type": "execute_result"
    }
   ],
   "source": [
    "# 수학 관련 함수를 쓸 수 있는 라이브러리\n",
    "import math\n",
    "math.lcm(20, 30) # 두 수의 최소공배수를 계산\n",
    "math.gcd(20, 30) # 최대 공약수\n",
    "math.factorial(5) # 팩토리얼"
   ]
  },
  {
   "cell_type": "markdown",
   "id": "3969e1f0",
   "metadata": {},
   "source": [
    "## 6-3. 정규표현식\n",
    "\n",
    "- 정규표현식(regualer expression)은 문자열을 처리할 때 특정 패턴을 정의하는데 사용 되는 문자열\n",
    "- 문자열 패턴을 사용하여, 문자열 검색, 대체, 추출 작업등을 수행\n",
    "- 정규표현식은 특정 규칙을 가지고 있어, 다양한 문자와 연산자를 조합하여 복잡한 문자 패턴을 표현\n",
    "- 크롤링 또는 자연어처리에서 데이터의 특정 패턴을 찾거나 추출할 때 사용"
   ]
  },
  {
   "cell_type": "markdown",
   "id": "ade0960b",
   "metadata": {},
   "source": [
    "**메타문자 (meta characters)**\n",
    "- 문자가 가진 원래 의미가 아닌 특별한 용도로 사용되는 문자\n",
    "- 정규표현식에서는 대괄호 [] 안에 포함된 문자들 중 하나와 매치를 뜻함"
   ]
  },
  {
   "cell_type": "code",
   "execution_count": 38,
   "id": "100ed645",
   "metadata": {},
   "outputs": [
    {
     "data": {
      "text/plain": [
       "['a']"
      ]
     },
     "execution_count": 38,
     "metadata": {},
     "output_type": "execute_result"
    }
   ],
   "source": [
    "# . ^ $ +\n",
    "import re\n",
    "# 대괄호 [] : 대괄호 내 포함된 문자들 중 하나와 매칭되는지 확인\n",
    "pattern = r'[abc]' # raw string -> r : 문자열 내에 매타 문자가 포함되어 있다\n",
    "text1 = 'apple is 사과'\n",
    "re.findall(pattern, text1)"
   ]
  },
  {
   "cell_type": "code",
   "execution_count": 39,
   "id": "ace4c1d9",
   "metadata": {},
   "outputs": [
    {
     "data": {
      "text/plain": [
       "['a', 'p', 'p', 'l', 'e', 'i', 's']"
      ]
     },
     "execution_count": 39,
     "metadata": {},
     "output_type": "execute_result"
    }
   ],
   "source": [
    "pattern = r'[a-z]' # [] 내 두 문자 사이에 - 기호를 사용하면, 두 문자 사이의 범위를 지정\n",
    "re.findall(pattern, text1) # 문자열 전체에서 패턴과 일치하는 모든 부분을 찾아 리스트로 변환"
   ]
  },
  {
   "cell_type": "code",
   "execution_count": 40,
   "id": "05cb7bc0",
   "metadata": {},
   "outputs": [
    {
     "data": {
      "text/plain": [
       "['세', '월', '지', '나', '도', '난', '변', '하', '지', '않', '아']"
      ]
     },
     "execution_count": 40,
     "metadata": {},
     "output_type": "execute_result"
    }
   ],
   "source": [
    "pattern = r'[가-힣]'\n",
    "text2 = \"so you don't cry for me 세월 지나도 난 변하지 않아 ~\"\n",
    "re.findall(pattern, text2)"
   ]
  },
  {
   "cell_type": "code",
   "execution_count": 42,
   "id": "c8fd1d47",
   "metadata": {},
   "outputs": [
    {
     "data": {
      "text/plain": [
       "['세월', '지나도', '난', '변하지', '않아']"
      ]
     },
     "execution_count": 42,
     "metadata": {},
     "output_type": "execute_result"
    }
   ],
   "source": [
    "pattern = r'[가-힣]+' # + : 공백을 기준으로 문자의 패턴을 확인\n",
    "re.findall(pattern, text2)"
   ]
  },
  {
   "cell_type": "code",
   "execution_count": 43,
   "id": "55ad5d4a",
   "metadata": {},
   "outputs": [
    {
     "data": {
      "text/plain": [
       "[\"so you don't cry for me \", ' ', ' ', ' ', ' ', ' ~']"
      ]
     },
     "execution_count": 43,
     "metadata": {},
     "output_type": "execute_result"
    }
   ],
   "source": [
    "# ^ : 해당 문자열을 제외한 나머지 패턴을 확인\n",
    "pattern = r'[^가-힣]+'\n",
    "re.findall(pattern, text2)"
   ]
  },
  {
   "cell_type": "code",
   "execution_count": 45,
   "id": "ba113b73",
   "metadata": {},
   "outputs": [
    {
     "data": {
      "text/plain": [
       "['so', 'you', 'don', 't', 'cry', 'for', 'me']"
      ]
     },
     "execution_count": 45,
     "metadata": {},
     "output_type": "execute_result"
    }
   ],
   "source": [
    "pattern = r'[a-zA-Z]+'\n",
    "re.findall(pattern, text2)"
   ]
  },
  {
   "cell_type": "code",
   "execution_count": 46,
   "id": "7179e477",
   "metadata": {},
   "outputs": [
    {
     "data": {
      "text/plain": [
       "['1', '2']"
      ]
     },
     "execution_count": 46,
     "metadata": {},
     "output_type": "execute_result"
    }
   ],
   "source": [
    "pattern = r'\\d+' # 모든 숫자\n",
    "text3 = '1초라도 안보이면, 2이렇게 초조한데'\n",
    "re.findall(pattern, text3)"
   ]
  },
  {
   "cell_type": "code",
   "execution_count": 47,
   "id": "9b2a6bf7",
   "metadata": {},
   "outputs": [
    {
     "data": {
      "text/plain": [
       "['2000', '500']"
      ]
     },
     "execution_count": 47,
     "metadata": {},
     "output_type": "execute_result"
    }
   ],
   "source": [
    "# 소괄호는 특정 패턴 앞이나 뒤의 값을 확인\n",
    "pattern = r'(\\d+)\\원'\n",
    "text4 = '2000원 짜리 아이스크림 4개 주세요. 500원 잔돈입니다.'\n",
    "re.findall(pattern, text4)"
   ]
  },
  {
   "cell_type": "code",
   "execution_count": 48,
   "id": "2879c6ee",
   "metadata": {},
   "outputs": [
    {
     "data": {
      "text/plain": [
       "'그댄 나의 챔피폰~ 너와 나의 챔피폰~ 우리 함께 외치면 승리하리라 한국'"
      ]
     },
     "execution_count": 48,
     "metadata": {},
     "output_type": "execute_result"
    }
   ],
   "source": [
    "# re.sub( ) : 패턴과 일치하는 모든 부분을 다른 문자로 대치\n",
    "text5 = \"그댄 나의 챔피언 너와 나의 챔피언 우리 함께 외치면 승리하리라 한국\"\n",
    "pattern = r'챔피언'\n",
    "replace_pattern = '챔피폰~'\n",
    "\n",
    "re.sub(pattern, replace_pattern, text5)"
   ]
  },
  {
   "cell_type": "code",
   "execution_count": 49,
   "id": "998a3fea",
   "metadata": {},
   "outputs": [
    {
     "data": {
      "text/plain": [
       "['그댄', '나의', '챔피언', '너와', '나의', '챔피언', '우리', '함께', '외치면', '승리하리라', '한국']"
      ]
     },
     "execution_count": 49,
     "metadata": {},
     "output_type": "execute_result"
    }
   ],
   "source": [
    "# re.split() : 특정 패턴을 기준으로 문자를 분할\n",
    "pattern = r'\\W+' # \\W : 비단어 문자\n",
    "re.split(pattern, text5)"
   ]
  },
  {
   "cell_type": "code",
   "execution_count": null,
   "id": "6f95c772",
   "metadata": {},
   "outputs": [],
   "source": []
  }
 ],
 "metadata": {
  "kernelspec": {
   "display_name": "Python 3 (ipykernel)",
   "language": "python",
   "name": "python3"
  },
  "language_info": {
   "codemirror_mode": {
    "name": "ipython",
    "version": 3
   },
   "file_extension": ".py",
   "mimetype": "text/x-python",
   "name": "python",
   "nbconvert_exporter": "python",
   "pygments_lexer": "ipython3",
   "version": "3.11.5"
  }
 },
 "nbformat": 4,
 "nbformat_minor": 5
}
