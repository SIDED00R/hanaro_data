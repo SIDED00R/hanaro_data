{
 "cells": [
  {
   "cell_type": "markdown",
   "id": "3869a226",
   "metadata": {},
   "source": [
    "# 6. 패키지 (package)\n",
    "\n",
    "- 특정 목적을 수행하는 모듈을 모아높은 집합체\n",
    "- 모듈을 계층적인 구조로 관리하기 위해 사용\n",
    "- 매우 복잡하고 다양한 기능이 수행되는 경우, 많은 모듈이 필요하며, 이를 패키지로 쉽게 다룰 수 있음"
   ]
  },
  {
   "cell_type": "code",
   "execution_count": 15,
   "id": "d83dde33",
   "metadata": {},
   "outputs": [
    {
     "data": {
      "text/plain": [
       "102334155"
      ]
     },
     "execution_count": 15,
     "metadata": {},
     "output_type": "execute_result"
    }
   ],
   "source": [
    "# package1 폴더에 있는 modul1.py 파일, 모듈을 호출하여 사용\n",
    "from package1 import modul1\n",
    "\n",
    "modul1.fibo(40)"
   ]
  },
  {
   "cell_type": "code",
   "execution_count": 18,
   "id": "6f39975a",
   "metadata": {},
   "outputs": [
    {
     "data": {
      "text/plain": [
       "102334155"
      ]
     },
     "execution_count": 18,
     "metadata": {},
     "output_type": "execute_result"
    }
   ],
   "source": [
    "modul1.fast_fibo(40)"
   ]
  },
  {
   "cell_type": "code",
   "execution_count": 2,
   "id": "949a81e9",
   "metadata": {},
   "outputs": [
    {
     "name": "stdout",
     "output_type": "stream",
     "text": [
      "package version : 1.0\n"
     ]
    }
   ],
   "source": [
    "# 초기화 폴더 __init__.py\n",
    "import package1\n",
    "package1.pack_version()"
   ]
  },
  {
   "cell_type": "markdown",
   "id": "9d5c632b",
   "metadata": {},
   "source": [
    "## 6-1. 기타 파이썬 내장 함수 및 표준 라이브러리\n",
    "\n",
    "- 라이브러리 : 특정 프로그래밍 목적을 수행하기 위한 모듈 또는 패키지의 집합체\n",
    "- 표준 라이브러리 : 파이썬 내에 직접 사용이 가능한 함수 또는 모듈 / 패키지\n",
    "    - 간단한 과학, 통계연산, 데이터처리, 파일불러오기 등\n",
    "    - 약 50여가지의 내장 함수가 존재\n",
    "    \n",
    "- 외장 라이브러리의 경우 추가적으로 다운로드 받아서 사용"
   ]
  },
  {
   "cell_type": "code",
   "execution_count": 3,
   "id": "22fe6712",
   "metadata": {},
   "outputs": [
    {
     "data": {
      "text/plain": [
       "100"
      ]
     },
     "execution_count": 3,
     "metadata": {},
     "output_type": "execute_result"
    }
   ],
   "source": [
    "# 절대값 반환\n",
    "abs(-100)"
   ]
  },
  {
   "cell_type": "code",
   "execution_count": 4,
   "id": "de4e317e",
   "metadata": {},
   "outputs": [
    {
     "data": {
      "text/plain": [
       "[1, 3, 5, 10, 20, 30, 2000]"
      ]
     },
     "execution_count": 4,
     "metadata": {},
     "output_type": "execute_result"
    }
   ],
   "source": [
    "# 특정 데이터 값을 정렬하는 함수 (리스트, 튜플, 셋 사용 가능)\n",
    "t1 = (10, 2000, 30, 20, 3, 1, 5)\n",
    "sorted(t1)"
   ]
  },
  {
   "cell_type": "code",
   "execution_count": 5,
   "id": "e77971ac",
   "metadata": {},
   "outputs": [
    {
     "data": {
      "text/plain": [
       "[2000, 30, 20, 10, 5, 3, 1]"
      ]
     },
     "execution_count": 5,
     "metadata": {},
     "output_type": "execute_result"
    }
   ],
   "source": [
    "sorted(t1, reverse = True)"
   ]
  },
  {
   "cell_type": "code",
   "execution_count": 6,
   "id": "3ba4607e",
   "metadata": {},
   "outputs": [
    {
     "data": {
      "text/plain": [
       "['__add__',\n",
       " '__class__',\n",
       " '__class_getitem__',\n",
       " '__contains__',\n",
       " '__delattr__',\n",
       " '__delitem__',\n",
       " '__dir__',\n",
       " '__doc__',\n",
       " '__eq__',\n",
       " '__format__',\n",
       " '__ge__',\n",
       " '__getattribute__',\n",
       " '__getitem__',\n",
       " '__getstate__',\n",
       " '__gt__',\n",
       " '__hash__',\n",
       " '__iadd__',\n",
       " '__imul__',\n",
       " '__init__',\n",
       " '__init_subclass__',\n",
       " '__iter__',\n",
       " '__le__',\n",
       " '__len__',\n",
       " '__lt__',\n",
       " '__mul__',\n",
       " '__ne__',\n",
       " '__new__',\n",
       " '__reduce__',\n",
       " '__reduce_ex__',\n",
       " '__repr__',\n",
       " '__reversed__',\n",
       " '__rmul__',\n",
       " '__setattr__',\n",
       " '__setitem__',\n",
       " '__sizeof__',\n",
       " '__str__',\n",
       " '__subclasshook__',\n",
       " 'append',\n",
       " 'clear',\n",
       " 'copy',\n",
       " 'count',\n",
       " 'extend',\n",
       " 'index',\n",
       " 'insert',\n",
       " 'pop',\n",
       " 'remove',\n",
       " 'reverse',\n",
       " 'sort']"
      ]
     },
     "execution_count": 6,
     "metadata": {},
     "output_type": "execute_result"
    }
   ],
   "source": [
    "# 특정 개체가 가진 변수나 함수, 기능들을 확인하는 함수\n",
    "dir([10, 20]) # 리스트 자료구조 내에서 사용할 수 있는 함수들을 모두 확인 가능"
   ]
  },
  {
   "cell_type": "code",
   "execution_count": 11,
   "id": "c5edd22f",
   "metadata": {},
   "outputs": [
    {
     "data": {
      "text/plain": [
       "[0, 1, 2, 3]"
      ]
     },
     "execution_count": 11,
     "metadata": {},
     "output_type": "execute_result"
    }
   ],
   "source": [
    "# 자료구조 내 값을 순서와 값으로 나누어 연산\n",
    "index_list = []\n",
    "value_list = []\n",
    "for i, data in enumerate(['A', 'B', 'C', 'D']):\n",
    "    index_list.append(i)\n",
    "    value_list.append(data)\n",
    "    \n",
    "index_list"
   ]
  },
  {
   "cell_type": "code",
   "execution_count": 13,
   "id": "f38c15d9",
   "metadata": {},
   "outputs": [
    {
     "data": {
      "text/plain": [
       "['A', 'B', 'C', 'D']"
      ]
     },
     "execution_count": 13,
     "metadata": {},
     "output_type": "execute_result"
    }
   ],
   "source": [
    "value_list"
   ]
  },
  {
   "cell_type": "code",
   "execution_count": 24,
   "id": "05cf5ecf",
   "metadata": {},
   "outputs": [],
   "source": [
    "# 시간 관련 표준 라이브러리\n",
    "# 현장에서 데이터분석에 중요한 타입 중 하나가 시간에 대한 데이터 타입\n",
    "import datetime\n",
    "start_time = datetime.datetime.today() # 현재 시스템 상 시간\n",
    "end_time = datetime.datetime(2025, 3, 24) # 특정 원하는 날짜를 지정"
   ]
  },
  {
   "cell_type": "code",
   "execution_count": 25,
   "id": "dce3becf",
   "metadata": {},
   "outputs": [
    {
     "data": {
      "text/plain": [
       "datetime.timedelta(days=3, seconds=36787, microseconds=327374)"
      ]
     },
     "execution_count": 25,
     "metadata": {},
     "output_type": "execute_result"
    }
   ],
   "source": [
    "start_time - end_time"
   ]
  },
  {
   "cell_type": "code",
   "execution_count": 26,
   "id": "642317ae",
   "metadata": {},
   "outputs": [
    {
     "data": {
      "text/plain": [
       "3"
      ]
     },
     "execution_count": 26,
     "metadata": {},
     "output_type": "execute_result"
    }
   ],
   "source": [
    "start_time.weekday() # 요일 : 0-월, 1-화, 2-수, ... "
   ]
  },
  {
   "cell_type": "code",
   "execution_count": 27,
   "id": "55acf614",
   "metadata": {},
   "outputs": [
    {
     "data": {
      "text/plain": [
       "1743038208.1325355"
      ]
     },
     "execution_count": 27,
     "metadata": {},
     "output_type": "execute_result"
    }
   ],
   "source": [
    "import time\n",
    "time.time() # UTC (universal time coordinated, 협정 세계 표준시)를 사용\n",
    "# 1970년 1월 1일 0시 0분 0초를 기준으로 현재까지 몇 초가 흘렀는지 계산"
   ]
  },
  {
   "cell_type": "code",
   "execution_count": 28,
   "id": "d66de427",
   "metadata": {},
   "outputs": [
    {
     "data": {
      "text/plain": [
       "time.struct_time(tm_year=2025, tm_mon=3, tm_mday=27, tm_hour=10, tm_min=17, tm_sec=1, tm_wday=3, tm_yday=86, tm_isdst=0)"
      ]
     },
     "execution_count": 28,
     "metadata": {},
     "output_type": "execute_result"
    }
   ],
   "source": [
    "time.localtime(time.time()) # "
   ]
  },
  {
   "cell_type": "code",
   "execution_count": 29,
   "id": "f2e9120a",
   "metadata": {},
   "outputs": [
    {
     "data": {
      "text/plain": [
       "10.001246213912964"
      ]
     },
     "execution_count": 29,
     "metadata": {},
     "output_type": "execute_result"
    }
   ],
   "source": [
    "# 코드에 일정한 시간 간격을 두고 코드를 수행\n",
    "t1 = time.time()\n",
    "time.sleep(10)\n",
    "t2 = time.time()\n",
    "\n",
    "t2 - t1"
   ]
  },
  {
   "cell_type": "code",
   "execution_count": 30,
   "id": "c043af8b",
   "metadata": {},
   "outputs": [
    {
     "data": {
      "text/plain": [
       "0.42851071952394915"
      ]
     },
     "execution_count": 30,
     "metadata": {},
     "output_type": "execute_result"
    }
   ],
   "source": [
    "# 난수 생성과 관련한 라이브러리\n",
    "import random\n",
    "random.random() # 0과 1 사이의 수에서 난수를 생성"
   ]
  },
  {
   "cell_type": "code",
   "execution_count": 31,
   "id": "784d5bdf",
   "metadata": {},
   "outputs": [
    {
     "data": {
      "text/plain": [
       "62"
      ]
     },
     "execution_count": 31,
     "metadata": {},
     "output_type": "execute_result"
    }
   ],
   "source": [
    "random.randint(1, 100) # 특정 범위의 정수 내에서 난수를 생성"
   ]
  },
  {
   "cell_type": "code",
   "execution_count": 37,
   "id": "a1d9ffe3",
   "metadata": {},
   "outputs": [
    {
     "name": "stdout",
     "output_type": "stream",
     "text": [
      "[111, 94, 89, 98, 98, 110, 110, 93, 94, 103]\n"
     ]
    }
   ],
   "source": [
    "l = [0 for _ in range(10)]\n",
    "for _ in range(1000):\n",
    "    l[random.randint(0, 9)] += 1\n",
    "    \n",
    "print(l)"
   ]
  },
  {
   "cell_type": "code",
   "execution_count": 35,
   "id": "0a4a4642",
   "metadata": {},
   "outputs": [
    {
     "data": {
      "text/plain": [
       "120"
      ]
     },
     "execution_count": 35,
     "metadata": {},
     "output_type": "execute_result"
    }
   ],
   "source": [
    "# 수학 관련 함수를 쓸 수 있는 라이브러리\n",
    "import math\n",
    "math.lcm(20, 30) # 두 수의 최소공배수를 계산\n",
    "math.gcd(20, 30) # 최대 공약수\n",
    "math.factorial(5) # 팩토리얼"
   ]
  },
  {
   "cell_type": "markdown",
   "id": "dcba81cc",
   "metadata": {},
   "source": [
    "## 6-3. 정규표현식\n",
    "\n",
    "- 정규표현식(regualer expression)은 문자열을 처리할 때 특정 패턴을 정의하는데 사용 되는 문자열\n",
    "- 문자열 패턴을 사용하여, 문자열 검색, 대체, 추출 작업등을 수행\n",
    "- 정규표현식은 특정 규칙을 가지고 있어, 다양한 문자와 연산자를 조합하여 복잡한 문자 패턴을 표현\n",
    "- 크롤링 또는 자연어처리에서 데이터의 특정 패턴을 찾거나 추출할 때 사용"
   ]
  },
  {
   "cell_type": "markdown",
   "id": "fb390fb0",
   "metadata": {},
   "source": [
    "**메타문자 (meta characters)**\n",
    "- 문자가 가진 원래 의미가 아닌 특별한 용도로 사용되는 문자\n",
    "- 정규표현식에서는 대괄호 [] 안에 포함된 문자들 중 하나와 매치를 뜻함"
   ]
  },
  {
   "cell_type": "code",
   "execution_count": 38,
   "id": "8f6c331d",
   "metadata": {},
   "outputs": [
    {
     "data": {
      "text/plain": [
       "['a']"
      ]
     },
     "execution_count": 38,
     "metadata": {},
     "output_type": "execute_result"
    }
   ],
   "source": [
    "# . ^ $ +\n",
    "import re\n",
    "# 대괄호 [] : 대괄호 내 포함된 문자들 중 하나와 매칭되는지 확인\n",
    "pattern = r'[abc]' # raw string -> r : 문자열 내에 매타 문자가 포함되어 있다\n",
    "text1 = 'apple is 사과'\n",
    "re.findall(pattern, text1)"
   ]
  },
  {
   "cell_type": "code",
   "execution_count": 39,
   "id": "d6cea5e4",
   "metadata": {},
   "outputs": [
    {
     "data": {
      "text/plain": [
       "['a', 'p', 'p', 'l', 'e', 'i', 's']"
      ]
     },
     "execution_count": 39,
     "metadata": {},
     "output_type": "execute_result"
    }
   ],
   "source": [
    "pattern = r'[a-z]' # [] 내 두 문자 사이에 - 기호를 사용하면, 두 문자 사이의 범위를 지정\n",
    "re.findall(pattern, text1) # 문자열 전체에서 패턴과 일치하는 모든 부분을 찾아 리스트로 변환"
   ]
  },
  {
   "cell_type": "code",
   "execution_count": 40,
   "id": "3c917802",
   "metadata": {},
   "outputs": [
    {
     "data": {
      "text/plain": [
       "['세', '월', '지', '나', '도', '난', '변', '하', '지', '않', '아']"
      ]
     },
     "execution_count": 40,
     "metadata": {},
     "output_type": "execute_result"
    }
   ],
   "source": [
    "pattern = r'[가-힣]'\n",
    "text2 = \"so you don't cry for me 세월 지나도 난 변하지 않아 ~\"\n",
    "re.findall(pattern, text2)"
   ]
  },
  {
   "cell_type": "code",
   "execution_count": 42,
   "id": "27c2e7bb",
   "metadata": {},
   "outputs": [
    {
     "data": {
      "text/plain": [
       "['세월', '지나도', '난', '변하지', '않아']"
      ]
     },
     "execution_count": 42,
     "metadata": {},
     "output_type": "execute_result"
    }
   ],
   "source": [
    "pattern = r'[가-힣]+' # + : 공백을 기준으로 문자의 패턴을 확인\n",
    "re.findall(pattern, text2)"
   ]
  },
  {
   "cell_type": "code",
   "execution_count": 43,
   "id": "46cd0df7",
   "metadata": {},
   "outputs": [
    {
     "data": {
      "text/plain": [
       "[\"so you don't cry for me \", ' ', ' ', ' ', ' ', ' ~']"
      ]
     },
     "execution_count": 43,
     "metadata": {},
     "output_type": "execute_result"
    }
   ],
   "source": [
    "# ^ : 해당 문자열을 제외한 나머지 패턴을 확인\n",
    "pattern = r'[^가-힣]+'\n",
    "re.findall(pattern, text2)"
   ]
  },
  {
   "cell_type": "code",
   "execution_count": 45,
   "id": "1d19ce48",
   "metadata": {},
   "outputs": [
    {
     "data": {
      "text/plain": [
       "['so', 'you', 'don', 't', 'cry', 'for', 'me']"
      ]
     },
     "execution_count": 45,
     "metadata": {},
     "output_type": "execute_result"
    }
   ],
   "source": [
    "pattern = r'[a-zA-Z]+'\n",
    "re.findall(pattern, text2)"
   ]
  },
  {
   "cell_type": "code",
   "execution_count": 46,
   "id": "088c373c",
   "metadata": {},
   "outputs": [
    {
     "data": {
      "text/plain": [
       "['1', '2']"
      ]
     },
     "execution_count": 46,
     "metadata": {},
     "output_type": "execute_result"
    }
   ],
   "source": [
    "pattern = r'\\d+' # 모든 숫자\n",
    "text3 = '1초라도 안보이면, 2이렇게 초조한데'\n",
    "re.findall(pattern, text3)"
   ]
  },
  {
   "cell_type": "code",
   "execution_count": 47,
   "id": "6ce105c0",
   "metadata": {},
   "outputs": [
    {
     "data": {
      "text/plain": [
       "['2000', '500']"
      ]
     },
     "execution_count": 47,
     "metadata": {},
     "output_type": "execute_result"
    }
   ],
   "source": [
    "# 소괄호는 특정 패턴 앞이나 뒤의 값을 확인\n",
    "pattern = r'(\\d+)\\원'\n",
    "text4 = '2000원 짜리 아이스크림 4개 주세요. 500원 잔돈입니다.'\n",
    "re.findall(pattern, text4)"
   ]
  },
  {
   "cell_type": "code",
   "execution_count": 48,
   "id": "dda7cf5b",
   "metadata": {},
   "outputs": [
    {
     "data": {
      "text/plain": [
       "'그댄 나의 챔피폰~ 너와 나의 챔피폰~ 우리 함께 외치면 승리하리라 한국'"
      ]
     },
     "execution_count": 48,
     "metadata": {},
     "output_type": "execute_result"
    }
   ],
   "source": [
    "# re.sub( ) : 패턴과 일치하는 모든 부분을 다른 문자로 대치\n",
    "text5 = \"그댄 나의 챔피언 너와 나의 챔피언 우리 함께 외치면 승리하리라 한국\"\n",
    "pattern = r'챔피언'\n",
    "replace_pattern = '챔피폰~'\n",
    "\n",
    "re.sub(pattern, replace_pattern, text5)"
   ]
  },
  {
   "cell_type": "code",
   "execution_count": 49,
   "id": "4d6b6b3b",
   "metadata": {},
   "outputs": [
    {
     "data": {
      "text/plain": [
       "['그댄', '나의', '챔피언', '너와', '나의', '챔피언', '우리', '함께', '외치면', '승리하리라', '한국']"
      ]
     },
     "execution_count": 49,
     "metadata": {},
     "output_type": "execute_result"
    }
   ],
   "source": [
    "# re.split() : 특정 패턴을 기준으로 문자를 분할\n",
    "pattern = r'\\W+' # \\W : 비단어 문자\n",
    "re.split(pattern, text5)"
   ]
  },
  {
   "cell_type": "markdown",
   "id": "89e1e3e7",
   "metadata": {},
   "source": [
    "# 미니미션\n",
    "\n",
    "1. 하나의 리스트를 입력 받았을 때, 중복을 제거하여 출력하는 함수를 만드시오.\n",
    "2. 무작위로 입력받은 튜플을 오름차순으로 정렬하는 함수를 만드시오.\n",
    "3. 1부터 45까지의 6개의 숫자를 중복없이 임의로 추천해주는 번호 생성 함수를 만드시오.\n",
    "4. 숫자를 입력받아 해당 숫자가 홀수인지, 짝수인지 판별하는 프로그램을 if문 없이 만드시오.\n",
    "5. 1부터 30까지 숫자 중 홀수만을 갖는 리스트를 리스트컴프리헨션을 이용해 생성하시오."
   ]
  },
  {
   "cell_type": "code",
   "execution_count": 63,
   "id": "14a88969",
   "metadata": {},
   "outputs": [],
   "source": [
    "import random\n",
    "\n",
    "# 1번 문제\n",
    "def first(l):\n",
    "    return list(set(l))\n",
    "\n",
    "# 2번 문제\n",
    "def second(t):\n",
    "    return tuple(sorted(t))\n",
    "\n",
    "# 3번 문제\n",
    "def third():\n",
    "    stack = set()\n",
    "    while len(stack) != 6:\n",
    "        stack.add(random.randint(1, 45))\n",
    "    return stack\n",
    "        \n",
    "# 4번 문제\n",
    "def fourth(num):\n",
    "    diff = num % 2\n",
    "    dic = {1:\"홀수\", 0:\"짝수\"}\n",
    "    return f\"입력된 숫자는 {dic[diff]}입니다.\"\n",
    "    \n",
    "# 5번 문제\n",
    "def fifth():\n",
    "    return [i for i in range(1, 31) if i % 2 == 1]\n"
   ]
  },
  {
   "cell_type": "markdown",
   "id": "44bd9500",
   "metadata": {},
   "source": [
    "# 7. 데이터 분석 라이브러리\n",
    "\n",
    "- 라이브러리 : 특정 프로그래밍의 목적을 달성하기 위한 함수들의 집합체\n",
    "- 데이터 분석을 위한 라이브러리 종류\n",
    "    - numpy (numeric python) : 연속형 자료에 대한 과학, 통계, 수학 연산 관련 함수들의 집합\n",
    "    - pandas (panel dataset) : 정형데이터(execl, csv, sql, ...)를 처리, 분석, 통계 연산 함수들의 집합\n",
    "    - matplotlib (matlab plot library) : 연속형 자료들의 그래프를 시각화 하는 함수들의 집합\n",
    "    - seaborn : 정형데이터의 통계적 연산 및 시각화\n",
    "    - plotly : 정형데이터의 시각화 (동적 시각화)\n",
    "    - scipy (science python) : 응용통계(가설 검정, 회귀 분석, 시계열 분석) 함수들의 집합\n",
    "    - scikit-learn (science python learning toolkit) : 정형데이터에서 기계학습(데이터 마이닝) 함수들의 집합\n",
    "    - tensorflow (tensor flow) : 비정형데이터 처리 및 신경망 알고리즘(딥러닝) 함수들 집합\n",
    "    - keras : 신경망 알고리즘 함수들의 집합\n",
    "    - pytorch : 비정형 데이터 처리, 딥러닝, ...\n",
    "    - request : 웹으로 부터 정보를 주고 받거나 추출할 때 사용\n",
    "    - bs4 : 웹 기반(HTML)형식의 자료를 분해하여 정보를 추출할 때 사용\n",
    "    - selenium : 프로그램이나 어플리케이션의 진단 및 자동화, 크롤링 사용"
   ]
  },
  {
   "cell_type": "markdown",
   "id": "73384165",
   "metadata": {},
   "source": [
    "# 7-1. Numpy"
   ]
  },
  {
   "cell_type": "code",
   "execution_count": 64,
   "id": "ec290ff8",
   "metadata": {},
   "outputs": [
    {
     "data": {
      "text/plain": [
       "23"
      ]
     },
     "execution_count": 64,
     "metadata": {},
     "output_type": "execute_result"
    }
   ],
   "source": [
    "# 라이브러리 호출\n",
    "import numpy as np # as : 특정 패키지나 라이브러리의 이름을 줄여 사용\n",
    "data1 = [6, 2, 3, 1, 2, 4, 5] # 일반적인 파이썬 리스트 자료구조\n",
    "sum(data1)"
   ]
  },
  {
   "cell_type": "code",
   "execution_count": 65,
   "id": "75363436",
   "metadata": {},
   "outputs": [
    {
     "data": {
      "text/plain": [
       "numpy.ndarray"
      ]
     },
     "execution_count": 65,
     "metadata": {},
     "output_type": "execute_result"
    }
   ],
   "source": [
    "# numpy 라이브러리에서 통계량을 쉽게 계산\n",
    "# numpy 라이브러리 내에 있는 자료구조로 데이터를 선언\n",
    "data2 = np.array(data1) # 배열 자료구조로 변환\n",
    "type(data2)"
   ]
  },
  {
   "cell_type": "code",
   "execution_count": 66,
   "id": "94754a8c",
   "metadata": {},
   "outputs": [
    {
     "name": "stdout",
     "output_type": "stream",
     "text": [
      "3.2857142857142856\n",
      "1\n",
      "6\n"
     ]
    }
   ],
   "source": [
    "print(data2.mean())\n",
    "print(data2.min())\n",
    "print(data2.max())"
   ]
  },
  {
   "cell_type": "code",
   "execution_count": 67,
   "id": "ffecf295",
   "metadata": {},
   "outputs": [
    {
     "data": {
      "text/plain": [
       "[1, 2, 3, 4, 5, 6, 7, 8, 9, 10]"
      ]
     },
     "execution_count": 67,
     "metadata": {},
     "output_type": "execute_result"
    }
   ],
   "source": [
    "[x for x in range(1, 11)]"
   ]
  },
  {
   "cell_type": "code",
   "execution_count": 68,
   "id": "8e72c8ca",
   "metadata": {},
   "outputs": [
    {
     "data": {
      "text/plain": [
       "array([0, 1, 2, 3, 4, 5, 6, 7, 8, 9])"
      ]
     },
     "execution_count": 68,
     "metadata": {},
     "output_type": "execute_result"
    }
   ],
   "source": [
    "np.arange(10)"
   ]
  },
  {
   "cell_type": "code",
   "execution_count": 69,
   "id": "79bc950c",
   "metadata": {},
   "outputs": [
    {
     "data": {
      "text/plain": [
       "array([0., 1., 2., 3., 4., 5., 6., 7., 8., 9.])"
      ]
     },
     "execution_count": 69,
     "metadata": {},
     "output_type": "execute_result"
    }
   ],
   "source": [
    "np.arange(10, dtype = 'float')"
   ]
  },
  {
   "cell_type": "code",
   "execution_count": 70,
   "id": "b85d7ac4",
   "metadata": {},
   "outputs": [
    {
     "data": {
      "text/plain": [
       "array([2., 3., 4., 5., 6., 7., 8., 9.])"
      ]
     },
     "execution_count": 70,
     "metadata": {},
     "output_type": "execute_result"
    }
   ],
   "source": [
    "np.arange(2, 10, dtype = 'float')"
   ]
  },
  {
   "cell_type": "code",
   "execution_count": 71,
   "id": "520a4e0b",
   "metadata": {},
   "outputs": [
    {
     "data": {
      "text/plain": [
       "array([10. , 10.1, 10.2, 10.3, 10.4, 10.5, 10.6, 10.7, 10.8, 10.9])"
      ]
     },
     "execution_count": 71,
     "metadata": {},
     "output_type": "execute_result"
    }
   ],
   "source": [
    "np.arange(10, 11, 0.1) # 특정 간격을 두고 데이터를 생성"
   ]
  },
  {
   "cell_type": "code",
   "execution_count": 73,
   "id": "ff7b9bb9",
   "metadata": {},
   "outputs": [
    {
     "data": {
      "text/plain": [
       "array([10. , 12.5, 15. , 17.5, 20. ])"
      ]
     },
     "execution_count": 73,
     "metadata": {},
     "output_type": "execute_result"
    }
   ],
   "source": [
    "# 특정 간격 내 데이터의 갯수를 지정하여 array 구성하는 함수\n",
    "np.linspace(10, 20, 5)"
   ]
  },
  {
   "cell_type": "code",
   "execution_count": 74,
   "id": "c0ed7298",
   "metadata": {},
   "outputs": [
    {
     "data": {
      "text/plain": [
       "1"
      ]
     },
     "execution_count": 74,
     "metadata": {},
     "output_type": "execute_result"
    }
   ],
   "source": [
    "data3 = np.linspace(100, 200, 10)\n",
    "data3.ndim # 데이터의 차원 수를 표현 scalar: 0, vector: 1, matrix: 2, 3-tensor 3, ..."
   ]
  },
  {
   "cell_type": "code",
   "execution_count": 75,
   "id": "0cb9ba7d",
   "metadata": {},
   "outputs": [
    {
     "data": {
      "text/plain": [
       "array([[1, 2, 3],\n",
       "       [4, 5, 6],\n",
       "       [7, 8, 9]])"
      ]
     },
     "execution_count": 75,
     "metadata": {},
     "output_type": "execute_result"
    }
   ],
   "source": [
    "# 자료구조의 matrix 행렬 표현\n",
    "v1 = [[1, 2, 3], [4, 5, 6], [7, 8, 9]]\n",
    "np.array(v1)"
   ]
  },
  {
   "cell_type": "code",
   "execution_count": 76,
   "id": "c51ba2ea",
   "metadata": {},
   "outputs": [
    {
     "data": {
      "text/plain": [
       "array([[ 11,  12],\n",
       "       [  4,   5],\n",
       "       [105, 106]])"
      ]
     },
     "execution_count": 76,
     "metadata": {},
     "output_type": "execute_result"
    }
   ],
   "source": [
    "# Matrix 간 연산\n",
    "data5 = np.array([[1, 2], [3, 4], [5, 6]])\n",
    "data6 = np.array([[10, 10], [1, 1], [100, 100]])\n",
    "data5 + data6 # 각 행렬 위치에 존재하는 성분들이 합해진다"
   ]
  },
  {
   "cell_type": "code",
   "execution_count": 77,
   "id": "18edfcf7",
   "metadata": {},
   "outputs": [
    {
     "data": {
      "text/plain": [
       "(3, 3)"
      ]
     },
     "execution_count": 77,
     "metadata": {},
     "output_type": "execute_result"
    }
   ],
   "source": [
    "# matrix 자료에 대한 indexing\n",
    "data7 = np.array([['A', 'B', 'C'], ['D', 'E', 'F'], ['G', 'H', 'I']])\n",
    "data7.shape"
   ]
  },
  {
   "cell_type": "code",
   "execution_count": 78,
   "id": "45a19a38",
   "metadata": {},
   "outputs": [
    {
     "data": {
      "text/plain": [
       "array([['A', 'B', 'C'],\n",
       "       ['D', 'E', 'F'],\n",
       "       ['G', 'H', 'I']], dtype='<U1')"
      ]
     },
     "execution_count": 78,
     "metadata": {},
     "output_type": "execute_result"
    }
   ],
   "source": [
    "data7 # U1: 한 글자로 되어 있는 문자열 (<U2: 두 글자, <U3 세글자, ...)"
   ]
  },
  {
   "cell_type": "code",
   "execution_count": 79,
   "id": "1021268c",
   "metadata": {},
   "outputs": [
    {
     "data": {
      "text/plain": [
       "array(['A', 'B', 'C'], dtype='<U1')"
      ]
     },
     "execution_count": 79,
     "metadata": {},
     "output_type": "execute_result"
    }
   ],
   "source": [
    "# 행(row)을 기준으로 데이터를 indexing\n",
    "data7[0]"
   ]
  },
  {
   "cell_type": "code",
   "execution_count": 81,
   "id": "4f0a07e5",
   "metadata": {},
   "outputs": [
    {
     "data": {
      "text/plain": [
       "array(['A', 'D'], dtype='<U1')"
      ]
     },
     "execution_count": 81,
     "metadata": {},
     "output_type": "execute_result"
    }
   ],
   "source": [
    "# 열(columns)을 기준으로 데이터를 indexing\n",
    "data7[:2, 0]"
   ]
  },
  {
   "cell_type": "code",
   "execution_count": 82,
   "id": "72a6ef95",
   "metadata": {},
   "outputs": [
    {
     "data": {
      "text/plain": [
       "array(['A', 'D', 'G'], dtype='<U1')"
      ]
     },
     "execution_count": 82,
     "metadata": {},
     "output_type": "execute_result"
    }
   ],
   "source": [
    "data7[:, 0] # 0번째에 해당하는 열 정보를 모두 indexing"
   ]
  },
  {
   "cell_type": "code",
   "execution_count": 84,
   "id": "2931ce75",
   "metadata": {},
   "outputs": [
    {
     "data": {
      "text/plain": [
       "array([['A', 'B', 'C'],\n",
       "       ['D', 'E', 'F'],\n",
       "       ['G', 'H', 'I'],\n",
       "       ['j', 'k', 'l']], dtype='<U1')"
      ]
     },
     "execution_count": 84,
     "metadata": {},
     "output_type": "execute_result"
    }
   ],
   "source": [
    "# 기존의 matrix에 새로운 행 정보를 추가\n",
    "np.vstack([data7, ['j', 'k', 'l']])"
   ]
  },
  {
   "cell_type": "code",
   "execution_count": 85,
   "id": "cb8ebfbf",
   "metadata": {},
   "outputs": [
    {
     "data": {
      "text/plain": [
       "array([['A', 'B', 'C', 'm'],\n",
       "       ['D', 'E', 'F', 'n'],\n",
       "       ['G', 'H', 'I', 'o']], dtype='<U1')"
      ]
     },
     "execution_count": 85,
     "metadata": {},
     "output_type": "execute_result"
    }
   ],
   "source": [
    "np.hstack([data7, [['m'], ['n'], ['o']]])"
   ]
  },
  {
   "cell_type": "code",
   "execution_count": 86,
   "id": "5b67a6a6",
   "metadata": {},
   "outputs": [
    {
     "data": {
      "text/plain": [
       "array([['A', 'B', 'C'],\n",
       "       ['Z', 'X', 'Y'],\n",
       "       ['G', 'H', 'I']], dtype='<U1')"
      ]
     },
     "execution_count": 86,
     "metadata": {},
     "output_type": "execute_result"
    }
   ],
   "source": [
    "# 특정 행 정보를 변경\n",
    "data7[1] = ['Z', 'X', 'Y']\n",
    "data7"
   ]
  },
  {
   "cell_type": "code",
   "execution_count": 88,
   "id": "bf649fa9",
   "metadata": {},
   "outputs": [
    {
     "data": {
      "text/plain": [
       "array([['A', 'K', 'C'],\n",
       "       ['Z', 'X', 'Y'],\n",
       "       ['G', 'H', 'I']], dtype='<U1')"
      ]
     },
     "execution_count": 88,
     "metadata": {},
     "output_type": "execute_result"
    }
   ],
   "source": [
    "data7[0, 1] = 'K'\n",
    "data7"
   ]
  },
  {
   "cell_type": "code",
   "execution_count": 89,
   "id": "becfc04d",
   "metadata": {},
   "outputs": [
    {
     "data": {
      "text/plain": [
       "array([[10],\n",
       "       [20],\n",
       "       [30],\n",
       "       [40]])"
      ]
     },
     "execution_count": 89,
     "metadata": {},
     "output_type": "execute_result"
    }
   ],
   "source": [
    "# 재구조화 (행렬의 구조를 변화)\n",
    "data8 = np.array([10, 20, 30, 40])\n",
    "data8.reshape(4, 1)"
   ]
  },
  {
   "cell_type": "code",
   "execution_count": 90,
   "id": "5c1520c4",
   "metadata": {},
   "outputs": [
    {
     "data": {
      "text/plain": [
       "array([[  1.],\n",
       "       [ 12.],\n",
       "       [ 23.],\n",
       "       [ 34.],\n",
       "       [ 45.],\n",
       "       [ 56.],\n",
       "       [ 67.],\n",
       "       [ 78.],\n",
       "       [ 89.],\n",
       "       [100.]])"
      ]
     },
     "execution_count": 90,
     "metadata": {},
     "output_type": "execute_result"
    }
   ],
   "source": [
    "data9 = np.linspace(1, 100, 10)\n",
    "data9.reshape(-1, 1) # 1 * 10 -> 10 * 1 변환"
   ]
  },
  {
   "cell_type": "code",
   "execution_count": 91,
   "id": "c511517e",
   "metadata": {},
   "outputs": [
    {
     "data": {
      "text/plain": [
       "505.0"
      ]
     },
     "execution_count": 91,
     "metadata": {},
     "output_type": "execute_result"
    }
   ],
   "source": [
    "data9.sum()"
   ]
  },
  {
   "cell_type": "code",
   "execution_count": 95,
   "id": "776da58d",
   "metadata": {},
   "outputs": [
    {
     "data": {
      "text/plain": [
       "array([ 3,  7, 11])"
      ]
     },
     "execution_count": 95,
     "metadata": {},
     "output_type": "execute_result"
    }
   ],
   "source": [
    "data5.sum(axis = 1) # 행단위로 계싼"
   ]
  },
  {
   "cell_type": "markdown",
   "id": "216634c9",
   "metadata": {},
   "source": [
    "1. 1부터 30까지 숫자 중에서 3의 배수이지만 4의 배수는 아닌 숫자를 출력하는 프로그램을 함수로 구성하시오.\n",
    "2. 1부터 15까지의 범위의 숫자 중 5개를 선택했을 때, 나올 수 있는 모든 경우의 수를 계산하시오.\n",
    "    - 단, 중복을 제외하여 계산\n",
    "    - (1,2,3,4,5)와 (1,3,2,4,5)는 같은 조합으로 계산\n",
    "3. 두 숫자를 입력받아 큰 숫자를 반환하는 람다 함수를 작성하세요.\n",
    "4. 아래 두 개의 리스트에서 중복된 값을 제거하여 출력하는 함수를 구성하시오.\n",
    "    - list1 = [100,200,300,400,500,600]\n",
    "    - list2 = [200,400,600,800,1000]\n",
    "    - 결과 : [100,200,300,400,500,600,800,1000]\n",
    "5. 사용자가 1에서 50사이의 숫자를 선택했을 때, 컴퓨터가 임의로 생성한 수를 맞추는 프로그램을 구성하고자 한다.\n",
    "아래의 조건에 맞춰 프로그램을 제작하시오.\n",
    "    - 1. 컴퓨터는 1에서 50사이의 정수를 생성\n",
    "    - 2. 사용자는 컴퓨터가 생성한 숫자를 맞추기 위해, 숫자를 입력\n",
    "    - 3. 사용자가 입력한 숫자가 맞다면, \"정답입니다\"를 출력\n",
    "    - 4. 사용자가 입력한 숫자가 틀리다면, \"오답입니다\"를 출력하고, 다시 입력받을 수 있도록 구성\n",
    "6. 프로그래머스 풀기"
   ]
  },
  {
   "cell_type": "code",
   "execution_count": 109,
   "id": "efa5b419",
   "metadata": {},
   "outputs": [],
   "source": [
    "from itertools import combinations\n",
    "import random\n",
    "\n",
    "def first():\n",
    "    ans = []\n",
    "    for num in range(1, 31):\n",
    "        if num % 3 == 0 and num % 4 != 0:\n",
    "            ans.append(num)\n",
    "    return ans\n",
    "\n",
    "def second():\n",
    "    print(len(list(combinations(range(1, 16), 5))))\n",
    "    \n",
    "third = lambda x, y: max(x, y)\n",
    "\n",
    "def fourth(list1, list2):\n",
    "    return sorted(set(list1 + list2))\n",
    "\n",
    "def fifth():\n",
    "    computer = random.randint(1, 50)\n",
    "    while True:\n",
    "        people = int(input())\n",
    "        if computer == people:\n",
    "            print(\"정답입니다\")\n",
    "            break\n",
    "        else:\n",
    "            print(\"오답입니다\")"
   ]
  },
  {
   "cell_type": "code",
   "execution_count": null,
   "id": "cd1dad8d",
   "metadata": {},
   "outputs": [],
   "source": []
  }
 ],
 "metadata": {
  "kernelspec": {
   "display_name": "Python 3 (ipykernel)",
   "language": "python",
   "name": "python3"
  },
  "language_info": {
   "codemirror_mode": {
    "name": "ipython",
    "version": 3
   },
   "file_extension": ".py",
   "mimetype": "text/x-python",
   "name": "python",
   "nbconvert_exporter": "python",
   "pygments_lexer": "ipython3",
   "version": "3.11.5"
  }
 },
 "nbformat": 4,
 "nbformat_minor": 5
}
