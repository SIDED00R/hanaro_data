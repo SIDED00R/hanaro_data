{
 "cells": [
  {
   "cell_type": "code",
   "execution_count": null,
   "id": "c5972a63-1b9e-4009-b97e-a3ee6f4e11e9",
   "metadata": {},
   "outputs": [],
   "source": []
  }
 ],
 "metadata": {
  "kernelspec": {
   "display_name": "",
   "name": ""
  },
  "language_info": {
   "name": ""
  }
 },
 "nbformat": 4,
 "nbformat_minor": 5
}
