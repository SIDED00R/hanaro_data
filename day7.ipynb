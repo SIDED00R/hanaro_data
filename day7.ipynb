{
 "cells": [
  {
   "cell_type": "code",
   "execution_count": 2,
   "id": "1ed8e7cc-1f83-444c-987a-452477c1e300",
   "metadata": {},
   "outputs": [
    {
     "name": "stdout",
     "output_type": "stream",
     "text": [
      "(51301, 20)\n"
     ]
    },
    {
     "data": {
      "text/html": [
       "<div>\n",
       "<style scoped>\n",
       "    .dataframe tbody tr th:only-of-type {\n",
       "        vertical-align: middle;\n",
       "    }\n",
       "\n",
       "    .dataframe tbody tr th {\n",
       "        vertical-align: top;\n",
       "    }\n",
       "\n",
       "    .dataframe thead th {\n",
       "        text-align: right;\n",
       "    }\n",
       "</style>\n",
       "<table border=\"1\" class=\"dataframe\">\n",
       "  <thead>\n",
       "    <tr style=\"text-align: right;\">\n",
       "      <th></th>\n",
       "      <th>Unnamed: 0</th>\n",
       "      <th>Index</th>\n",
       "      <th>Member_ID</th>\n",
       "      <th>Sales_Type</th>\n",
       "      <th>Contract_Type</th>\n",
       "      <th>Channel</th>\n",
       "      <th>Datetime</th>\n",
       "      <th>Term</th>\n",
       "      <th>Payment_Type</th>\n",
       "      <th>Product_Type</th>\n",
       "      <th>Amount_Month</th>\n",
       "      <th>Customer_Type</th>\n",
       "      <th>Age</th>\n",
       "      <th>Address1</th>\n",
       "      <th>State</th>\n",
       "      <th>Overdue_count</th>\n",
       "      <th>Overdue_Type</th>\n",
       "      <th>Gender</th>\n",
       "      <th>Bank</th>\n",
       "      <th>Credit_Score</th>\n",
       "    </tr>\n",
       "  </thead>\n",
       "  <tbody>\n",
       "    <tr>\n",
       "      <th>0</th>\n",
       "      <td>0</td>\n",
       "      <td>1</td>\n",
       "      <td>66758234</td>\n",
       "      <td>렌탈</td>\n",
       "      <td>일반계약</td>\n",
       "      <td>영업방판</td>\n",
       "      <td>2022-05-09</td>\n",
       "      <td>60</td>\n",
       "      <td>CMS</td>\n",
       "      <td>SLX-1</td>\n",
       "      <td>96900</td>\n",
       "      <td>개인</td>\n",
       "      <td>42.0</td>\n",
       "      <td>경기도</td>\n",
       "      <td>계약확정</td>\n",
       "      <td>0</td>\n",
       "      <td>없음</td>\n",
       "      <td>여자</td>\n",
       "      <td>새마을금고</td>\n",
       "      <td>496.0</td>\n",
       "    </tr>\n",
       "    <tr>\n",
       "      <th>1</th>\n",
       "      <td>1</td>\n",
       "      <td>2</td>\n",
       "      <td>66755948</td>\n",
       "      <td>렌탈</td>\n",
       "      <td>교체계약</td>\n",
       "      <td>영업방판</td>\n",
       "      <td>2023-02-23</td>\n",
       "      <td>60</td>\n",
       "      <td>카드이체</td>\n",
       "      <td>SLX-1</td>\n",
       "      <td>102900</td>\n",
       "      <td>개인</td>\n",
       "      <td>39.0</td>\n",
       "      <td>경기도</td>\n",
       "      <td>계약확정</td>\n",
       "      <td>0</td>\n",
       "      <td>없음</td>\n",
       "      <td>남자</td>\n",
       "      <td>현대카드</td>\n",
       "      <td>876.0</td>\n",
       "    </tr>\n",
       "  </tbody>\n",
       "</table>\n",
       "</div>"
      ],
      "text/plain": [
       "   Unnamed: 0  Index  Member_ID Sales_Type Contract_Type Channel    Datetime  \\\n",
       "0           0      1   66758234         렌탈          일반계약    영업방판  2022-05-09   \n",
       "1           1      2   66755948         렌탈          교체계약    영업방판  2023-02-23   \n",
       "\n",
       "   Term Payment_Type Product_Type  Amount_Month Customer_Type   Age Address1  \\\n",
       "0    60          CMS        SLX-1         96900            개인  42.0      경기도   \n",
       "1    60         카드이체        SLX-1        102900            개인  39.0      경기도   \n",
       "\n",
       "  State  Overdue_count Overdue_Type Gender   Bank  Credit_Score  \n",
       "0  계약확정              0           없음     여자  새마을금고         496.0  \n",
       "1  계약확정              0           없음     남자   현대카드         876.0  "
      ]
     },
     "execution_count": 2,
     "metadata": {},
     "output_type": "execute_result"
    }
   ],
   "source": [
    "# 1. 데이터에서 고객들이 결제하는 은행(Bank)를 확인하고자 한다. \n",
    "# 결제은행(Bank)항목에서 '신한카드'로 결제하는 고객들의 수를 확인하시오\n",
    "\n",
    "import pandas as pd\n",
    "\n",
    "df1 = pd.read_csv('data/01_Data.csv')\n",
    "print(df1.shape)\n",
    "df1.head(2)"
   ]
  },
  {
   "cell_type": "code",
   "execution_count": 3,
   "id": "f3648890-5f98-4640-8b30-151cdb2cd8fd",
   "metadata": {
    "scrolled": true
   },
   "outputs": [
    {
     "data": {
      "text/plain": [
       "Bank\n",
       "롯데카드         9516\n",
       "농협회원조합       6277\n",
       "국민은행         6002\n",
       "농협중앙회        3899\n",
       "신한은행         3522\n",
       "우리은행         3386\n",
       "기업은행         1963\n",
       "신한카드         1532\n",
       "하나은행         1446\n",
       "국민카드         1311\n",
       "BC카드         1264\n",
       "새마을금고         964\n",
       "부산은행          889\n",
       "삼성카드          884\n",
       "현대카드          876\n",
       "대구은행          746\n",
       "우체국           718\n",
       "외환은행          586\n",
       "외환카드          530\n",
       "경남은행          442\n",
       "SC제일은행        439\n",
       "광주은행          347\n",
       "신협중앙회         341\n",
       "전북은행          195\n",
       "씨티은행          162\n",
       "수협중앙회         160\n",
       "제주은행           40\n",
       "유안타증권          27\n",
       "산업은행           23\n",
       "현대증권           11\n",
       "삼성증권            7\n",
       "하나SK            6\n",
       "미래에셋증권          5\n",
       "신한금융투자          4\n",
       "NH농협카드          4\n",
       "한국투자증권          4\n",
       "우리카드            3\n",
       "대우증권            2\n",
       "상호저축은행          1\n",
       "대신증권            1\n",
       "SK증권            1\n",
       "하나대투증권          1\n",
       "산림조합중앙회         1\n",
       "수협카드            1\n",
       "메리츠종합금융증권       1\n",
       "하이투자증권          1\n",
       "씨티카드            1\n",
       "Name: count, dtype: int64"
      ]
     },
     "execution_count": 3,
     "metadata": {},
     "output_type": "execute_result"
    }
   ],
   "source": [
    "df1['Bank'].value_counts() # 범주형 항목의 빈도수를 내림차순으로 확인"
   ]
  },
  {
   "cell_type": "code",
   "execution_count": 4,
   "id": "9db464e2-7df6-4568-b845-73b1b4adfc4f",
   "metadata": {},
   "outputs": [
    {
     "data": {
      "text/plain": [
       "1297"
      ]
     },
     "execution_count": 4,
     "metadata": {},
     "output_type": "execute_result"
    }
   ],
   "source": [
    "# 신한카드로 결제하는 계약 명단을 추출\n",
    "cond1 = df1['Bank'] == \"신한카드\"\n",
    "df1_card = df1.loc[cond1] # 특정 조건의 데이터를 추출\n",
    "len(df1_card['Member_ID'].unique()) # 특정 범주형 항목의 고유값 확인"
   ]
  },
  {
   "cell_type": "code",
   "execution_count": 6,
   "id": "e759770f-38ba-4074-a2b0-a62555010256",
   "metadata": {},
   "outputs": [
    {
     "data": {
      "text/html": [
       "<div>\n",
       "<style scoped>\n",
       "    .dataframe tbody tr th:only-of-type {\n",
       "        vertical-align: middle;\n",
       "    }\n",
       "\n",
       "    .dataframe tbody tr th {\n",
       "        vertical-align: top;\n",
       "    }\n",
       "\n",
       "    .dataframe thead th {\n",
       "        text-align: right;\n",
       "    }\n",
       "</style>\n",
       "<table border=\"1\" class=\"dataframe\">\n",
       "  <thead>\n",
       "    <tr style=\"text-align: right;\">\n",
       "      <th></th>\n",
       "      <th>Unnamed: 0</th>\n",
       "      <th>Index</th>\n",
       "      <th>Member_ID</th>\n",
       "      <th>Sales_Type</th>\n",
       "      <th>Contract_Type</th>\n",
       "      <th>Channel</th>\n",
       "      <th>Datetime</th>\n",
       "      <th>Term</th>\n",
       "      <th>Payment_Type</th>\n",
       "      <th>Product_Type</th>\n",
       "      <th>Amount_Month</th>\n",
       "      <th>Customer_Type</th>\n",
       "      <th>Age</th>\n",
       "      <th>Address1</th>\n",
       "      <th>State</th>\n",
       "      <th>Overdue_count</th>\n",
       "      <th>Overdue_Type</th>\n",
       "      <th>Gender</th>\n",
       "      <th>Bank</th>\n",
       "      <th>Credit_Score</th>\n",
       "    </tr>\n",
       "  </thead>\n",
       "  <tbody>\n",
       "    <tr>\n",
       "      <th>9</th>\n",
       "      <td>9</td>\n",
       "      <td>10</td>\n",
       "      <td>66756702</td>\n",
       "      <td>렌탈</td>\n",
       "      <td>프로모션계약</td>\n",
       "      <td>영업방판</td>\n",
       "      <td>2022-07-03</td>\n",
       "      <td>60</td>\n",
       "      <td>CMS</td>\n",
       "      <td>SLX-1</td>\n",
       "      <td>105900</td>\n",
       "      <td>개인</td>\n",
       "      <td>51.0</td>\n",
       "      <td>경상도</td>\n",
       "      <td>계약확정</td>\n",
       "      <td>0</td>\n",
       "      <td>없음</td>\n",
       "      <td>여자</td>\n",
       "      <td>신한은행</td>\n",
       "      <td>978.0</td>\n",
       "    </tr>\n",
       "    <tr>\n",
       "      <th>26</th>\n",
       "      <td>26</td>\n",
       "      <td>27</td>\n",
       "      <td>66422938</td>\n",
       "      <td>멤버십</td>\n",
       "      <td>멤버십3유형</td>\n",
       "      <td>재계약</td>\n",
       "      <td>2022-02-15</td>\n",
       "      <td>12</td>\n",
       "      <td>CMS</td>\n",
       "      <td>SLX-1</td>\n",
       "      <td>66900</td>\n",
       "      <td>개인</td>\n",
       "      <td>73.0</td>\n",
       "      <td>강원도</td>\n",
       "      <td>계약확정</td>\n",
       "      <td>0</td>\n",
       "      <td>없음</td>\n",
       "      <td>여자</td>\n",
       "      <td>신한은행</td>\n",
       "      <td>878.0</td>\n",
       "    </tr>\n",
       "  </tbody>\n",
       "</table>\n",
       "</div>"
      ],
      "text/plain": [
       "    Unnamed: 0  Index  Member_ID Sales_Type Contract_Type Channel    Datetime  \\\n",
       "9            9     10   66756702         렌탈        프로모션계약    영업방판  2022-07-03   \n",
       "26          26     27   66422938        멤버십        멤버십3유형     재계약  2022-02-15   \n",
       "\n",
       "    Term Payment_Type Product_Type  Amount_Month Customer_Type   Age Address1  \\\n",
       "9     60          CMS        SLX-1        105900            개인  51.0      경상도   \n",
       "26    12          CMS        SLX-1         66900            개인  73.0      강원도   \n",
       "\n",
       "   State  Overdue_count Overdue_Type Gender  Bank  Credit_Score  \n",
       "9   계약확정              0           없음     여자  신한은행         978.0  \n",
       "26  계약확정              0           없음     여자  신한은행         878.0  "
      ]
     },
     "execution_count": 6,
     "metadata": {},
     "output_type": "execute_result"
    }
   ],
   "source": [
    "# 신한 글자가 포함되어 잇는 모든 데이터를 추출\n",
    "\n",
    "def func1(row):\n",
    "    if pd.isnull(row):\n",
    "        return False\n",
    "    if '신한' in row:\n",
    "        return True\n",
    "    return False\n",
    "\n",
    "cond1 = df1['Bank'].apply(func1)\n",
    "df1.loc[cond1].head(2)"
   ]
  },
  {
   "cell_type": "code",
   "execution_count": 7,
   "id": "92f8a3cc-97ba-48ea-8700-1779502d9304",
   "metadata": {},
   "outputs": [
    {
     "data": {
      "text/plain": [
       "141"
      ]
     },
     "execution_count": 7,
     "metadata": {},
     "output_type": "execute_result"
    }
   ],
   "source": [
    "# 2. 월랜탈비용(Amount_Month)이 15만원 이상인 고객들 중 판매유형(Sales_Type)이 '렌탈'에 해당하는 고객만 추출하여,\n",
    "# 해당 데이터의 행(index) 개수를 확인하시오.\n",
    "\n",
    "cond1 = (df1['Amount_Month'] >= 150000) & (df1['Sales_Type'] == '렌탈')\n",
    "df1.loc[cond1].shape[0]"
   ]
  },
  {
   "cell_type": "code",
   "execution_count": 10,
   "id": "933883fa-e084-4936-a828-3838e5ed4f0e",
   "metadata": {
    "scrolled": true
   },
   "outputs": [
    {
     "data": {
      "text/html": [
       "<div>\n",
       "<style scoped>\n",
       "    .dataframe tbody tr th:only-of-type {\n",
       "        vertical-align: middle;\n",
       "    }\n",
       "\n",
       "    .dataframe tbody tr th {\n",
       "        vertical-align: top;\n",
       "    }\n",
       "\n",
       "    .dataframe thead th {\n",
       "        text-align: right;\n",
       "    }\n",
       "</style>\n",
       "<table border=\"1\" class=\"dataframe\">\n",
       "  <thead>\n",
       "    <tr style=\"text-align: right;\">\n",
       "      <th></th>\n",
       "      <th>Unnamed: 0</th>\n",
       "      <th>Index</th>\n",
       "      <th>Member_ID</th>\n",
       "      <th>Sales_Type</th>\n",
       "      <th>Contract_Type</th>\n",
       "      <th>Channel</th>\n",
       "      <th>Datetime</th>\n",
       "      <th>Term</th>\n",
       "      <th>Payment_Type</th>\n",
       "      <th>Product_Type</th>\n",
       "      <th>Amount_Month</th>\n",
       "      <th>Customer_Type</th>\n",
       "      <th>Age</th>\n",
       "      <th>Address1</th>\n",
       "      <th>State</th>\n",
       "      <th>Overdue_count</th>\n",
       "      <th>Overdue_Type</th>\n",
       "      <th>Gender</th>\n",
       "      <th>Bank</th>\n",
       "      <th>Credit_Score</th>\n",
       "    </tr>\n",
       "  </thead>\n",
       "  <tbody>\n",
       "    <tr>\n",
       "      <th>328</th>\n",
       "      <td>328</td>\n",
       "      <td>329</td>\n",
       "      <td>25742694</td>\n",
       "      <td>렌탈</td>\n",
       "      <td>프로모션계약</td>\n",
       "      <td>대형마트E</td>\n",
       "      <td>2023-03-10</td>\n",
       "      <td>39</td>\n",
       "      <td>CMS</td>\n",
       "      <td>3DIR-AVD</td>\n",
       "      <td>185700</td>\n",
       "      <td>사업자</td>\n",
       "      <td>NaN</td>\n",
       "      <td>경기도</td>\n",
       "      <td>계약확정</td>\n",
       "      <td>0</td>\n",
       "      <td>없음</td>\n",
       "      <td>여자</td>\n",
       "      <td>기업은행</td>\n",
       "      <td>NaN</td>\n",
       "    </tr>\n",
       "    <tr>\n",
       "      <th>379</th>\n",
       "      <td>379</td>\n",
       "      <td>380</td>\n",
       "      <td>66758782</td>\n",
       "      <td>렌탈</td>\n",
       "      <td>프로모션계약</td>\n",
       "      <td>대형마트E</td>\n",
       "      <td>2022-01-09</td>\n",
       "      <td>39</td>\n",
       "      <td>CMS</td>\n",
       "      <td>3DIR-AVD</td>\n",
       "      <td>185700</td>\n",
       "      <td>개인</td>\n",
       "      <td>58.0</td>\n",
       "      <td>서울특별시</td>\n",
       "      <td>계약확정</td>\n",
       "      <td>0</td>\n",
       "      <td>없음</td>\n",
       "      <td>남자</td>\n",
       "      <td>기업은행</td>\n",
       "      <td>652.0</td>\n",
       "    </tr>\n",
       "    <tr>\n",
       "      <th>519</th>\n",
       "      <td>519</td>\n",
       "      <td>520</td>\n",
       "      <td>66758149</td>\n",
       "      <td>렌탈</td>\n",
       "      <td>프로모션계약</td>\n",
       "      <td>영업방판</td>\n",
       "      <td>2022-01-27</td>\n",
       "      <td>39</td>\n",
       "      <td>CMS</td>\n",
       "      <td>3DIR-AVD</td>\n",
       "      <td>185700</td>\n",
       "      <td>개인</td>\n",
       "      <td>52.0</td>\n",
       "      <td>경상도</td>\n",
       "      <td>계약확정</td>\n",
       "      <td>10</td>\n",
       "      <td>있음</td>\n",
       "      <td>남자</td>\n",
       "      <td>농협중앙회</td>\n",
       "      <td>624.0</td>\n",
       "    </tr>\n",
       "    <tr>\n",
       "      <th>727</th>\n",
       "      <td>727</td>\n",
       "      <td>728</td>\n",
       "      <td>66759077</td>\n",
       "      <td>렌탈</td>\n",
       "      <td>프로모션계약</td>\n",
       "      <td>영업방판</td>\n",
       "      <td>2022-12-24</td>\n",
       "      <td>39</td>\n",
       "      <td>CMS</td>\n",
       "      <td>3DIR-AVD</td>\n",
       "      <td>185700</td>\n",
       "      <td>개인</td>\n",
       "      <td>53.0</td>\n",
       "      <td>경기도</td>\n",
       "      <td>계약확정</td>\n",
       "      <td>1</td>\n",
       "      <td>있음</td>\n",
       "      <td>남자</td>\n",
       "      <td>농협회원조합</td>\n",
       "      <td>556.0</td>\n",
       "    </tr>\n",
       "    <tr>\n",
       "      <th>2279</th>\n",
       "      <td>2279</td>\n",
       "      <td>2280</td>\n",
       "      <td>66760726</td>\n",
       "      <td>렌탈</td>\n",
       "      <td>프로모션계약</td>\n",
       "      <td>대형마트E</td>\n",
       "      <td>2023-01-21</td>\n",
       "      <td>39</td>\n",
       "      <td>CMS</td>\n",
       "      <td>3DIR-AVD</td>\n",
       "      <td>185700</td>\n",
       "      <td>개인</td>\n",
       "      <td>69.0</td>\n",
       "      <td>서울특별시</td>\n",
       "      <td>계약확정</td>\n",
       "      <td>0</td>\n",
       "      <td>없음</td>\n",
       "      <td>남자</td>\n",
       "      <td>국민은행</td>\n",
       "      <td>883.0</td>\n",
       "    </tr>\n",
       "    <tr>\n",
       "      <th>...</th>\n",
       "      <td>...</td>\n",
       "      <td>...</td>\n",
       "      <td>...</td>\n",
       "      <td>...</td>\n",
       "      <td>...</td>\n",
       "      <td>...</td>\n",
       "      <td>...</td>\n",
       "      <td>...</td>\n",
       "      <td>...</td>\n",
       "      <td>...</td>\n",
       "      <td>...</td>\n",
       "      <td>...</td>\n",
       "      <td>...</td>\n",
       "      <td>...</td>\n",
       "      <td>...</td>\n",
       "      <td>...</td>\n",
       "      <td>...</td>\n",
       "      <td>...</td>\n",
       "      <td>...</td>\n",
       "      <td>...</td>\n",
       "    </tr>\n",
       "    <tr>\n",
       "      <th>50381</th>\n",
       "      <td>50381</td>\n",
       "      <td>50383</td>\n",
       "      <td>66798387</td>\n",
       "      <td>렌탈</td>\n",
       "      <td>프로모션계약</td>\n",
       "      <td>영업방판</td>\n",
       "      <td>2022-02-27</td>\n",
       "      <td>39</td>\n",
       "      <td>카드이체</td>\n",
       "      <td>3DIR-AVD</td>\n",
       "      <td>185700</td>\n",
       "      <td>개인</td>\n",
       "      <td>37.0</td>\n",
       "      <td>경기도</td>\n",
       "      <td>계약확정</td>\n",
       "      <td>0</td>\n",
       "      <td>없음</td>\n",
       "      <td>남자</td>\n",
       "      <td>롯데카드</td>\n",
       "      <td>839.0</td>\n",
       "    </tr>\n",
       "    <tr>\n",
       "      <th>50464</th>\n",
       "      <td>50464</td>\n",
       "      <td>50466</td>\n",
       "      <td>66758303</td>\n",
       "      <td>렌탈</td>\n",
       "      <td>프로모션계약</td>\n",
       "      <td>대형마트A</td>\n",
       "      <td>2022-04-06</td>\n",
       "      <td>39</td>\n",
       "      <td>CMS</td>\n",
       "      <td>3DIR-AVD</td>\n",
       "      <td>185700</td>\n",
       "      <td>개인</td>\n",
       "      <td>53.0</td>\n",
       "      <td>서울특별시</td>\n",
       "      <td>계약확정</td>\n",
       "      <td>0</td>\n",
       "      <td>없음</td>\n",
       "      <td>남자</td>\n",
       "      <td>국민은행</td>\n",
       "      <td>966.0</td>\n",
       "    </tr>\n",
       "    <tr>\n",
       "      <th>50752</th>\n",
       "      <td>50752</td>\n",
       "      <td>50754</td>\n",
       "      <td>66798515</td>\n",
       "      <td>렌탈</td>\n",
       "      <td>프로모션계약</td>\n",
       "      <td>영업방판</td>\n",
       "      <td>2022-03-03</td>\n",
       "      <td>39</td>\n",
       "      <td>CMS</td>\n",
       "      <td>3DIR-AVD</td>\n",
       "      <td>185700</td>\n",
       "      <td>개인</td>\n",
       "      <td>37.0</td>\n",
       "      <td>서울특별시</td>\n",
       "      <td>계약확정</td>\n",
       "      <td>8</td>\n",
       "      <td>있음</td>\n",
       "      <td>남자</td>\n",
       "      <td>농협회원조합</td>\n",
       "      <td>667.0</td>\n",
       "    </tr>\n",
       "    <tr>\n",
       "      <th>50951</th>\n",
       "      <td>50951</td>\n",
       "      <td>50953</td>\n",
       "      <td>25736066</td>\n",
       "      <td>렌탈</td>\n",
       "      <td>프로모션계약</td>\n",
       "      <td>영업방판</td>\n",
       "      <td>2023-07-28</td>\n",
       "      <td>39</td>\n",
       "      <td>CMS</td>\n",
       "      <td>3DIR-AVD</td>\n",
       "      <td>185700</td>\n",
       "      <td>사업자</td>\n",
       "      <td>NaN</td>\n",
       "      <td>서울특별시</td>\n",
       "      <td>계약확정</td>\n",
       "      <td>8</td>\n",
       "      <td>있음</td>\n",
       "      <td>여자</td>\n",
       "      <td>신한은행</td>\n",
       "      <td>NaN</td>\n",
       "    </tr>\n",
       "    <tr>\n",
       "      <th>51187</th>\n",
       "      <td>51187</td>\n",
       "      <td>51189</td>\n",
       "      <td>66799273</td>\n",
       "      <td>렌탈</td>\n",
       "      <td>프로모션계약</td>\n",
       "      <td>전단홍보</td>\n",
       "      <td>2022-06-12</td>\n",
       "      <td>39</td>\n",
       "      <td>CMS</td>\n",
       "      <td>3DIR-AVD</td>\n",
       "      <td>185700</td>\n",
       "      <td>개인</td>\n",
       "      <td>58.0</td>\n",
       "      <td>전라도</td>\n",
       "      <td>계약확정</td>\n",
       "      <td>0</td>\n",
       "      <td>없음</td>\n",
       "      <td>남자</td>\n",
       "      <td>농협중앙회</td>\n",
       "      <td>NaN</td>\n",
       "    </tr>\n",
       "  </tbody>\n",
       "</table>\n",
       "<p>123 rows × 20 columns</p>\n",
       "</div>"
      ],
      "text/plain": [
       "       Unnamed: 0  Index  Member_ID Sales_Type Contract_Type Channel  \\\n",
       "328           328    329   25742694         렌탈        프로모션계약   대형마트E   \n",
       "379           379    380   66758782         렌탈        프로모션계약   대형마트E   \n",
       "519           519    520   66758149         렌탈        프로모션계약    영업방판   \n",
       "727           727    728   66759077         렌탈        프로모션계약    영업방판   \n",
       "2279         2279   2280   66760726         렌탈        프로모션계약   대형마트E   \n",
       "...           ...    ...        ...        ...           ...     ...   \n",
       "50381       50381  50383   66798387         렌탈        프로모션계약    영업방판   \n",
       "50464       50464  50466   66758303         렌탈        프로모션계약   대형마트A   \n",
       "50752       50752  50754   66798515         렌탈        프로모션계약    영업방판   \n",
       "50951       50951  50953   25736066         렌탈        프로모션계약    영업방판   \n",
       "51187       51187  51189   66799273         렌탈        프로모션계약    전단홍보   \n",
       "\n",
       "         Datetime  Term Payment_Type Product_Type  Amount_Month Customer_Type  \\\n",
       "328    2023-03-10    39          CMS     3DIR-AVD        185700           사업자   \n",
       "379    2022-01-09    39          CMS     3DIR-AVD        185700            개인   \n",
       "519    2022-01-27    39          CMS     3DIR-AVD        185700            개인   \n",
       "727    2022-12-24    39          CMS     3DIR-AVD        185700            개인   \n",
       "2279   2023-01-21    39          CMS     3DIR-AVD        185700            개인   \n",
       "...           ...   ...          ...          ...           ...           ...   \n",
       "50381  2022-02-27    39         카드이체     3DIR-AVD        185700            개인   \n",
       "50464  2022-04-06    39          CMS     3DIR-AVD        185700            개인   \n",
       "50752  2022-03-03    39          CMS     3DIR-AVD        185700            개인   \n",
       "50951  2023-07-28    39          CMS     3DIR-AVD        185700           사업자   \n",
       "51187  2022-06-12    39          CMS     3DIR-AVD        185700            개인   \n",
       "\n",
       "        Age Address1 State  Overdue_count Overdue_Type Gender    Bank  \\\n",
       "328     NaN      경기도  계약확정              0           없음     여자    기업은행   \n",
       "379    58.0    서울특별시  계약확정              0           없음     남자    기업은행   \n",
       "519    52.0      경상도  계약확정             10           있음     남자   농협중앙회   \n",
       "727    53.0      경기도  계약확정              1           있음     남자  농협회원조합   \n",
       "2279   69.0    서울특별시  계약확정              0           없음     남자    국민은행   \n",
       "...     ...      ...   ...            ...          ...    ...     ...   \n",
       "50381  37.0      경기도  계약확정              0           없음     남자    롯데카드   \n",
       "50464  53.0    서울특별시  계약확정              0           없음     남자    국민은행   \n",
       "50752  37.0    서울특별시  계약확정              8           있음     남자  농협회원조합   \n",
       "50951   NaN    서울특별시  계약확정              8           있음     여자    신한은행   \n",
       "51187  58.0      전라도  계약확정              0           없음     남자   농협중앙회   \n",
       "\n",
       "       Credit_Score  \n",
       "328             NaN  \n",
       "379           652.0  \n",
       "519           624.0  \n",
       "727           556.0  \n",
       "2279          883.0  \n",
       "...             ...  \n",
       "50381         839.0  \n",
       "50464         966.0  \n",
       "50752         667.0  \n",
       "50951           NaN  \n",
       "51187           NaN  \n",
       "\n",
       "[123 rows x 20 columns]"
      ]
     },
     "execution_count": 10,
     "metadata": {},
     "output_type": "execute_result"
    }
   ],
   "source": [
    "# 각 고객의 평균 월 랜탈비용이 15만원 이상인 고객들을 확인\n",
    "p1 = df1.pivot_table(index = 'Member_ID', values = 'Amount_Month', aggfunc = 'mean').reset_index()\n",
    "cond1 = p1['Amount_Month'] >= 150000\n",
    "vip_list = p1.loc[cond1]['Member_ID'].tolist() # 시리즈나 배열을 리스트로 변환\n",
    "cond2 = df1['Member_ID'].isin(vip_list)\n",
    "df1.loc[cond2]"
   ]
  },
  {
   "cell_type": "code",
   "execution_count": 11,
   "id": "7250711c-454c-4b2c-8e62-06a5e73e28eb",
   "metadata": {},
   "outputs": [
    {
     "data": {
      "text/plain": [
       "Year\n",
       "2022    40839\n",
       "2023    10462\n",
       "Name: count, dtype: int64"
      ]
     },
     "execution_count": 11,
     "metadata": {},
     "output_type": "execute_result"
    }
   ],
   "source": [
    "# 3. 계약일자(Datetime)에서 계약연도(Year)파생변수를 생성하고, \n",
    "# 연도 별, 각 제품군(Product_Type)의 월랜탈비용(Amount_Month) 합을 계산하시오.\n",
    "\n",
    "df1['Date'] = pd.to_datetime(df1['Datetime'])\n",
    "df1['Year'] = df1['Date'].dt.year\n",
    "df1['Year'].value_counts()"
   ]
  },
  {
   "cell_type": "code",
   "execution_count": 12,
   "id": "5c33c1d3-c2af-43a4-8a4e-4a70dfd38397",
   "metadata": {},
   "outputs": [
    {
     "data": {
      "text/html": [
       "<div>\n",
       "<style scoped>\n",
       "    .dataframe tbody tr th:only-of-type {\n",
       "        vertical-align: middle;\n",
       "    }\n",
       "\n",
       "    .dataframe tbody tr th {\n",
       "        vertical-align: top;\n",
       "    }\n",
       "\n",
       "    .dataframe thead th {\n",
       "        text-align: right;\n",
       "    }\n",
       "</style>\n",
       "<table border=\"1\" class=\"dataframe\">\n",
       "  <thead>\n",
       "    <tr style=\"text-align: right;\">\n",
       "      <th>Year</th>\n",
       "      <th>2022</th>\n",
       "      <th>2023</th>\n",
       "    </tr>\n",
       "    <tr>\n",
       "      <th>Product_Type</th>\n",
       "      <th></th>\n",
       "      <th></th>\n",
       "    </tr>\n",
       "  </thead>\n",
       "  <tbody>\n",
       "    <tr>\n",
       "      <th>3DIR-AVD</th>\n",
       "      <td>17354400</td>\n",
       "      <td>5379600</td>\n",
       "    </tr>\n",
       "    <tr>\n",
       "      <th>ADV-5</th>\n",
       "      <td>33746400</td>\n",
       "      <td>8582100</td>\n",
       "    </tr>\n",
       "    <tr>\n",
       "      <th>ADVERA</th>\n",
       "      <td>62835600</td>\n",
       "      <td>14280000</td>\n",
       "    </tr>\n",
       "    <tr>\n",
       "      <th>SLX-1</th>\n",
       "      <td>2936751225</td>\n",
       "      <td>758364501</td>\n",
       "    </tr>\n",
       "    <tr>\n",
       "      <th>SLX-2</th>\n",
       "      <td>629260470</td>\n",
       "      <td>158396820</td>\n",
       "    </tr>\n",
       "    <tr>\n",
       "      <th>SLX-3</th>\n",
       "      <td>156786960</td>\n",
       "      <td>40298100</td>\n",
       "    </tr>\n",
       "  </tbody>\n",
       "</table>\n",
       "</div>"
      ],
      "text/plain": [
       "Year                2022       2023\n",
       "Product_Type                       \n",
       "3DIR-AVD        17354400    5379600\n",
       "ADV-5           33746400    8582100\n",
       "ADVERA          62835600   14280000\n",
       "SLX-1         2936751225  758364501\n",
       "SLX-2          629260470  158396820\n",
       "SLX-3          156786960   40298100"
      ]
     },
     "execution_count": 12,
     "metadata": {},
     "output_type": "execute_result"
    }
   ],
   "source": [
    "p2 = df1.pivot_table(index = 'Product_Type', columns = 'Year', values = 'Amount_Month', aggfunc = 'sum')\n",
    "p2"
   ]
  },
  {
   "cell_type": "code",
   "execution_count": 13,
   "id": "9557a923-c248-48dc-acd8-25c5651be4c0",
   "metadata": {},
   "outputs": [
    {
     "data": {
      "text/html": [
       "<div>\n",
       "<style scoped>\n",
       "    .dataframe tbody tr th:only-of-type {\n",
       "        vertical-align: middle;\n",
       "    }\n",
       "\n",
       "    .dataframe tbody tr th {\n",
       "        vertical-align: top;\n",
       "    }\n",
       "\n",
       "    .dataframe thead th {\n",
       "        text-align: right;\n",
       "    }\n",
       "</style>\n",
       "<table border=\"1\" class=\"dataframe\">\n",
       "  <thead>\n",
       "    <tr style=\"text-align: right;\">\n",
       "      <th>Year</th>\n",
       "      <th>2022</th>\n",
       "      <th>2023</th>\n",
       "      <th>증감율</th>\n",
       "    </tr>\n",
       "    <tr>\n",
       "      <th>Product_Type</th>\n",
       "      <th></th>\n",
       "      <th></th>\n",
       "      <th></th>\n",
       "    </tr>\n",
       "  </thead>\n",
       "  <tbody>\n",
       "    <tr>\n",
       "      <th>3DIR-AVD</th>\n",
       "      <td>17354400</td>\n",
       "      <td>5379600</td>\n",
       "      <td>-0.690015</td>\n",
       "    </tr>\n",
       "    <tr>\n",
       "      <th>ADV-5</th>\n",
       "      <td>33746400</td>\n",
       "      <td>8582100</td>\n",
       "      <td>-0.745688</td>\n",
       "    </tr>\n",
       "    <tr>\n",
       "      <th>ADVERA</th>\n",
       "      <td>62835600</td>\n",
       "      <td>14280000</td>\n",
       "      <td>-0.772740</td>\n",
       "    </tr>\n",
       "    <tr>\n",
       "      <th>SLX-1</th>\n",
       "      <td>2936751225</td>\n",
       "      <td>758364501</td>\n",
       "      <td>-0.741768</td>\n",
       "    </tr>\n",
       "    <tr>\n",
       "      <th>SLX-2</th>\n",
       "      <td>629260470</td>\n",
       "      <td>158396820</td>\n",
       "      <td>-0.748281</td>\n",
       "    </tr>\n",
       "    <tr>\n",
       "      <th>SLX-3</th>\n",
       "      <td>156786960</td>\n",
       "      <td>40298100</td>\n",
       "      <td>-0.742975</td>\n",
       "    </tr>\n",
       "  </tbody>\n",
       "</table>\n",
       "</div>"
      ],
      "text/plain": [
       "Year                2022       2023       증감율\n",
       "Product_Type                                 \n",
       "3DIR-AVD        17354400    5379600 -0.690015\n",
       "ADV-5           33746400    8582100 -0.745688\n",
       "ADVERA          62835600   14280000 -0.772740\n",
       "SLX-1         2936751225  758364501 -0.741768\n",
       "SLX-2          629260470  158396820 -0.748281\n",
       "SLX-3          156786960   40298100 -0.742975"
      ]
     },
     "execution_count": 13,
     "metadata": {},
     "output_type": "execute_result"
    }
   ],
   "source": [
    "# 4. 22년 대비 23년 제품군(Product_Type)별 월랜탈비용(Amount_Month) 합의 증감율을 계산하시오.\n",
    "# - 증감율 : ( (23년 월랜탈비용 총합) - (22년 월랜탈비용 총합) ) / (22년 월랜탈비용 총합)\n",
    "\n",
    "p2['증감율'] = (p2[2023] - p2[2022]) / p2[2022]\n",
    "p2"
   ]
  },
  {
   "cell_type": "code",
   "execution_count": 15,
   "id": "b5eb5b14-f421-465d-9877-9e4ae43b2038",
   "metadata": {},
   "outputs": [
    {
     "data": {
      "text/html": [
       "<div>\n",
       "<style scoped>\n",
       "    .dataframe tbody tr th:only-of-type {\n",
       "        vertical-align: middle;\n",
       "    }\n",
       "\n",
       "    .dataframe tbody tr th {\n",
       "        vertical-align: top;\n",
       "    }\n",
       "\n",
       "    .dataframe thead th {\n",
       "        text-align: right;\n",
       "    }\n",
       "</style>\n",
       "<table border=\"1\" class=\"dataframe\">\n",
       "  <thead>\n",
       "    <tr style=\"text-align: right;\">\n",
       "      <th>Month</th>\n",
       "      <th>1</th>\n",
       "      <th>2</th>\n",
       "      <th>3</th>\n",
       "      <th>4</th>\n",
       "      <th>5</th>\n",
       "      <th>6</th>\n",
       "      <th>7</th>\n",
       "      <th>8</th>\n",
       "      <th>9</th>\n",
       "      <th>10</th>\n",
       "      <th>11</th>\n",
       "      <th>12</th>\n",
       "    </tr>\n",
       "    <tr>\n",
       "      <th>Year</th>\n",
       "      <th></th>\n",
       "      <th></th>\n",
       "      <th></th>\n",
       "      <th></th>\n",
       "      <th></th>\n",
       "      <th></th>\n",
       "      <th></th>\n",
       "      <th></th>\n",
       "      <th></th>\n",
       "      <th></th>\n",
       "      <th></th>\n",
       "      <th></th>\n",
       "    </tr>\n",
       "  </thead>\n",
       "  <tbody>\n",
       "    <tr>\n",
       "      <th>2022</th>\n",
       "      <td>2053.0</td>\n",
       "      <td>5606.0</td>\n",
       "      <td>3835.0</td>\n",
       "      <td>2945.0</td>\n",
       "      <td>2352.0</td>\n",
       "      <td>2189.0</td>\n",
       "      <td>2175.0</td>\n",
       "      <td>2346.0</td>\n",
       "      <td>1886.0</td>\n",
       "      <td>2290.0</td>\n",
       "      <td>1286.0</td>\n",
       "      <td>2151.0</td>\n",
       "    </tr>\n",
       "    <tr>\n",
       "      <th>2023</th>\n",
       "      <td>1346.0</td>\n",
       "      <td>1497.0</td>\n",
       "      <td>1316.0</td>\n",
       "      <td>1122.0</td>\n",
       "      <td>752.0</td>\n",
       "      <td>519.0</td>\n",
       "      <td>1013.0</td>\n",
       "      <td>454.0</td>\n",
       "      <td>NaN</td>\n",
       "      <td>NaN</td>\n",
       "      <td>NaN</td>\n",
       "      <td>NaN</td>\n",
       "    </tr>\n",
       "  </tbody>\n",
       "</table>\n",
       "</div>"
      ],
      "text/plain": [
       "Month      1       2       3       4       5       6       7       8       9   \\\n",
       "Year                                                                            \n",
       "2022   2053.0  5606.0  3835.0  2945.0  2352.0  2189.0  2175.0  2346.0  1886.0   \n",
       "2023   1346.0  1497.0  1316.0  1122.0   752.0   519.0  1013.0   454.0     NaN   \n",
       "\n",
       "Month      10      11      12  \n",
       "Year                           \n",
       "2022   2290.0  1286.0  2151.0  \n",
       "2023      NaN     NaN     NaN  "
      ]
     },
     "execution_count": 15,
     "metadata": {},
     "output_type": "execute_result"
    }
   ],
   "source": [
    "# 5. 22년도에 가장 많이 계약 된 제품과 23년도에 가장 많이 계약 된 제품의 각 월 별 계약 건수를 계산하시오.\n",
    "df1['Month'] = df1['Date'].dt.month\n",
    "df1['Count'] = 1 # 각 항목별 계약 건수의 합을 계산하기 위해 생성한 파생 변수\n",
    "df1.pivot_table(index = 'Product_Type', columns = 'Year', values = 'Count', aggfunc = 'sum')\n",
    "cond1 = df1['Product_Type'] == 'SLX-1'\n",
    "df1.loc[cond1].pivot_table(index = 'Year', columns = 'Month', values = 'Count', aggfunc = 'sum')"
   ]
  },
  {
   "cell_type": "code",
   "execution_count": 21,
   "id": "f4786b61-53ed-40eb-87eb-031101df06ea",
   "metadata": {},
   "outputs": [
    {
     "data": {
      "text/plain": [
       "np.float64(34122.413318100276)"
      ]
     },
     "execution_count": 21,
     "metadata": {},
     "output_type": "execute_result"
    }
   ],
   "source": [
    "# 6. 판매 유형(Sales_Type)에서 '렌탈'계약과 '멤버십' 계약의 월랜탈비용(Amount_Month)의 평균의 차이를 계산하시오.\n",
    "\n",
    "cond1 = df1['Sales_Type'] == '렌탈'\n",
    "cond2 = df1['Sales_Type'] == '멤버십'\n",
    "df1.loc[cond1]['Amount_Month'].mean() - df1.loc[cond2]['Amount_Month'].mean()"
   ]
  },
  {
   "cell_type": "code",
   "execution_count": 24,
   "id": "5d0b67d3-9a48-4819-8734-e7096b339943",
   "metadata": {},
   "outputs": [],
   "source": [
    "import plotly.express as px\n",
    "\n",
    "p3 = df1.pivot_table(index = ['Sales_Type', 'Product_Type'], values = 'Amount_Month', aggfunc = 'mean').reset_index()\n",
    "fig1 = px.bar(p3, x = 'Sales_Type', y = 'Amount_Month', color = 'Product_Type')\n",
    "# 동적 시각화 자료를 HTML 파일로 저장\n",
    "fig1.write_html('image.html', full_html = False, include_plotlyjs = 'cdn')"
   ]
  },
  {
   "cell_type": "code",
   "execution_count": 26,
   "id": "07181017-d8fd-4bc6-bfe5-761b6f41d209",
   "metadata": {},
   "outputs": [
    {
     "data": {
      "text/plain": [
       "Target\n",
       "A    30392\n",
       "B    20909\n",
       "Name: count, dtype: int64"
      ]
     },
     "execution_count": 26,
     "metadata": {},
     "output_type": "execute_result"
    }
   ],
   "source": [
    "# 7. 월랜탈비용(Amount_Month)와 계약기간(Term)을 이용하여, \n",
    "# 한명의 고객이 계약금으로 총 지불하는 금액(Total_Amount)을 계산하고, \n",
    "# 해당 데이터에서 ‘Target’이라는 파생 변수를 생성해 상위 25% 계약을 ‘A’, 나머지를 ‘B’로 파생변수를 생성하시오. \n",
    "\n",
    "df1['Total_Amount'] = df1['Amount_Month'] * df1['Term']\n",
    "cond1 = df1['Total_Amount'] >= df1['Total_Amount'].quantile(0.75)\n",
    "df1['Target'] = 'B' # target 변수를 생성해 B값으로 모두 채워 넣음\n",
    "df1.loc[cond1, 'Target'] = 'A'\n",
    "df1['Target'].value_counts()"
   ]
  },
  {
   "cell_type": "code",
   "execution_count": 27,
   "id": "ffd53f9b-fc56-4576-8146-31470ba79504",
   "metadata": {},
   "outputs": [],
   "source": [
    "df1.loc[~cond1, 'Target'] = 'B' # 조건에 반대되는 모든 데이터를 추출"
   ]
  },
  {
   "cell_type": "code",
   "execution_count": 28,
   "id": "efc207e1-1f8a-4e99-954d-97bf921ff85c",
   "metadata": {},
   "outputs": [
    {
     "data": {
      "text/html": [
       "<div>\n",
       "<style scoped>\n",
       "    .dataframe tbody tr th:only-of-type {\n",
       "        vertical-align: middle;\n",
       "    }\n",
       "\n",
       "    .dataframe tbody tr th {\n",
       "        vertical-align: top;\n",
       "    }\n",
       "\n",
       "    .dataframe thead th {\n",
       "        text-align: right;\n",
       "    }\n",
       "</style>\n",
       "<table border=\"1\" class=\"dataframe\">\n",
       "  <thead>\n",
       "    <tr style=\"text-align: right;\">\n",
       "      <th></th>\n",
       "      <th>Credit_Score</th>\n",
       "    </tr>\n",
       "    <tr>\n",
       "      <th>Target</th>\n",
       "      <th></th>\n",
       "    </tr>\n",
       "  </thead>\n",
       "  <tbody>\n",
       "    <tr>\n",
       "      <th>A</th>\n",
       "      <td>831.670305</td>\n",
       "    </tr>\n",
       "    <tr>\n",
       "      <th>B</th>\n",
       "      <td>819.398194</td>\n",
       "    </tr>\n",
       "  </tbody>\n",
       "</table>\n",
       "</div>"
      ],
      "text/plain": [
       "        Credit_Score\n",
       "Target              \n",
       "A         831.670305\n",
       "B         819.398194"
      ]
     },
     "execution_count": 28,
     "metadata": {},
     "output_type": "execute_result"
    }
   ],
   "source": [
    "# 8. ‘Target’값에 따라 고객의 신용 점수의 평균 차이를 계산하시오.\n",
    "\n",
    "df1.pivot_table(index = 'Target', values = 'Credit_Score', aggfunc = 'mean')"
   ]
  },
  {
   "cell_type": "code",
   "execution_count": 31,
   "id": "e9a08113-58e4-4f17-bfdf-12153bbe215a",
   "metadata": {},
   "outputs": [
    {
     "data": {
      "text/plain": [
       "Product_Type\n",
       "SLX-1       0.944953\n",
       "SLX-3       0.023526\n",
       "SLX-2       0.017044\n",
       "ADV-5       0.010529\n",
       "3DIR-AVD    0.003948\n",
       "Name: count, dtype: float64"
      ]
     },
     "execution_count": 31,
     "metadata": {},
     "output_type": "execute_result"
    }
   ],
   "source": [
    "# 9. ‘Target’값 중 A 그룹에 대해, 각 제품(Product_Type)이 몇 % 차지하고 있는지 각각 비율을 계산하시오. \n",
    "\n",
    "cond1 = df1['Target'] == 'A'\n",
    "df1_A = df1.loc[cond1]\n",
    "df1_A['Product_Type'].value_counts() / len(df1_A)"
   ]
  },
  {
   "cell_type": "code",
   "execution_count": 32,
   "id": "f730eee8-359b-462f-bda6-f0f5ec4d56e4",
   "metadata": {},
   "outputs": [
    {
     "data": {
      "application/vnd.plotly.v1+json": {
       "config": {
        "plotlyServerURL": "https://plot.ly"
       },
       "data": [
        {
         "domain": {
          "x": [
           0,
           1
          ],
          "y": [
           0,
           1
          ]
         },
         "hovertemplate": "Product_Type=%{label}<br>value=%{value}<extra></extra>",
         "labels": [
          "SLX-1",
          "SLX-3",
          "SLX-2",
          "ADV-5",
          "3DIR-AVD"
         ],
         "legendgroup": "",
         "name": "",
         "showlegend": true,
         "type": "pie",
         "values": [
          28719,
          715,
          518,
          320,
          120
         ]
        }
       ],
       "layout": {
        "legend": {
         "tracegroupgap": 0
        },
        "margin": {
         "t": 60
        },
        "template": {
         "data": {
          "bar": [
           {
            "error_x": {
             "color": "#2a3f5f"
            },
            "error_y": {
             "color": "#2a3f5f"
            },
            "marker": {
             "line": {
              "color": "#E5ECF6",
              "width": 0.5
             },
             "pattern": {
              "fillmode": "overlay",
              "size": 10,
              "solidity": 0.2
             }
            },
            "type": "bar"
           }
          ],
          "barpolar": [
           {
            "marker": {
             "line": {
              "color": "#E5ECF6",
              "width": 0.5
             },
             "pattern": {
              "fillmode": "overlay",
              "size": 10,
              "solidity": 0.2
             }
            },
            "type": "barpolar"
           }
          ],
          "carpet": [
           {
            "aaxis": {
             "endlinecolor": "#2a3f5f",
             "gridcolor": "white",
             "linecolor": "white",
             "minorgridcolor": "white",
             "startlinecolor": "#2a3f5f"
            },
            "baxis": {
             "endlinecolor": "#2a3f5f",
             "gridcolor": "white",
             "linecolor": "white",
             "minorgridcolor": "white",
             "startlinecolor": "#2a3f5f"
            },
            "type": "carpet"
           }
          ],
          "choropleth": [
           {
            "colorbar": {
             "outlinewidth": 0,
             "ticks": ""
            },
            "type": "choropleth"
           }
          ],
          "contour": [
           {
            "colorbar": {
             "outlinewidth": 0,
             "ticks": ""
            },
            "colorscale": [
             [
              0,
              "#0d0887"
             ],
             [
              0.1111111111111111,
              "#46039f"
             ],
             [
              0.2222222222222222,
              "#7201a8"
             ],
             [
              0.3333333333333333,
              "#9c179e"
             ],
             [
              0.4444444444444444,
              "#bd3786"
             ],
             [
              0.5555555555555556,
              "#d8576b"
             ],
             [
              0.6666666666666666,
              "#ed7953"
             ],
             [
              0.7777777777777778,
              "#fb9f3a"
             ],
             [
              0.8888888888888888,
              "#fdca26"
             ],
             [
              1,
              "#f0f921"
             ]
            ],
            "type": "contour"
           }
          ],
          "contourcarpet": [
           {
            "colorbar": {
             "outlinewidth": 0,
             "ticks": ""
            },
            "type": "contourcarpet"
           }
          ],
          "heatmap": [
           {
            "colorbar": {
             "outlinewidth": 0,
             "ticks": ""
            },
            "colorscale": [
             [
              0,
              "#0d0887"
             ],
             [
              0.1111111111111111,
              "#46039f"
             ],
             [
              0.2222222222222222,
              "#7201a8"
             ],
             [
              0.3333333333333333,
              "#9c179e"
             ],
             [
              0.4444444444444444,
              "#bd3786"
             ],
             [
              0.5555555555555556,
              "#d8576b"
             ],
             [
              0.6666666666666666,
              "#ed7953"
             ],
             [
              0.7777777777777778,
              "#fb9f3a"
             ],
             [
              0.8888888888888888,
              "#fdca26"
             ],
             [
              1,
              "#f0f921"
             ]
            ],
            "type": "heatmap"
           }
          ],
          "heatmapgl": [
           {
            "colorbar": {
             "outlinewidth": 0,
             "ticks": ""
            },
            "colorscale": [
             [
              0,
              "#0d0887"
             ],
             [
              0.1111111111111111,
              "#46039f"
             ],
             [
              0.2222222222222222,
              "#7201a8"
             ],
             [
              0.3333333333333333,
              "#9c179e"
             ],
             [
              0.4444444444444444,
              "#bd3786"
             ],
             [
              0.5555555555555556,
              "#d8576b"
             ],
             [
              0.6666666666666666,
              "#ed7953"
             ],
             [
              0.7777777777777778,
              "#fb9f3a"
             ],
             [
              0.8888888888888888,
              "#fdca26"
             ],
             [
              1,
              "#f0f921"
             ]
            ],
            "type": "heatmapgl"
           }
          ],
          "histogram": [
           {
            "marker": {
             "pattern": {
              "fillmode": "overlay",
              "size": 10,
              "solidity": 0.2
             }
            },
            "type": "histogram"
           }
          ],
          "histogram2d": [
           {
            "colorbar": {
             "outlinewidth": 0,
             "ticks": ""
            },
            "colorscale": [
             [
              0,
              "#0d0887"
             ],
             [
              0.1111111111111111,
              "#46039f"
             ],
             [
              0.2222222222222222,
              "#7201a8"
             ],
             [
              0.3333333333333333,
              "#9c179e"
             ],
             [
              0.4444444444444444,
              "#bd3786"
             ],
             [
              0.5555555555555556,
              "#d8576b"
             ],
             [
              0.6666666666666666,
              "#ed7953"
             ],
             [
              0.7777777777777778,
              "#fb9f3a"
             ],
             [
              0.8888888888888888,
              "#fdca26"
             ],
             [
              1,
              "#f0f921"
             ]
            ],
            "type": "histogram2d"
           }
          ],
          "histogram2dcontour": [
           {
            "colorbar": {
             "outlinewidth": 0,
             "ticks": ""
            },
            "colorscale": [
             [
              0,
              "#0d0887"
             ],
             [
              0.1111111111111111,
              "#46039f"
             ],
             [
              0.2222222222222222,
              "#7201a8"
             ],
             [
              0.3333333333333333,
              "#9c179e"
             ],
             [
              0.4444444444444444,
              "#bd3786"
             ],
             [
              0.5555555555555556,
              "#d8576b"
             ],
             [
              0.6666666666666666,
              "#ed7953"
             ],
             [
              0.7777777777777778,
              "#fb9f3a"
             ],
             [
              0.8888888888888888,
              "#fdca26"
             ],
             [
              1,
              "#f0f921"
             ]
            ],
            "type": "histogram2dcontour"
           }
          ],
          "mesh3d": [
           {
            "colorbar": {
             "outlinewidth": 0,
             "ticks": ""
            },
            "type": "mesh3d"
           }
          ],
          "parcoords": [
           {
            "line": {
             "colorbar": {
              "outlinewidth": 0,
              "ticks": ""
             }
            },
            "type": "parcoords"
           }
          ],
          "pie": [
           {
            "automargin": true,
            "type": "pie"
           }
          ],
          "scatter": [
           {
            "fillpattern": {
             "fillmode": "overlay",
             "size": 10,
             "solidity": 0.2
            },
            "type": "scatter"
           }
          ],
          "scatter3d": [
           {
            "line": {
             "colorbar": {
              "outlinewidth": 0,
              "ticks": ""
             }
            },
            "marker": {
             "colorbar": {
              "outlinewidth": 0,
              "ticks": ""
             }
            },
            "type": "scatter3d"
           }
          ],
          "scattercarpet": [
           {
            "marker": {
             "colorbar": {
              "outlinewidth": 0,
              "ticks": ""
             }
            },
            "type": "scattercarpet"
           }
          ],
          "scattergeo": [
           {
            "marker": {
             "colorbar": {
              "outlinewidth": 0,
              "ticks": ""
             }
            },
            "type": "scattergeo"
           }
          ],
          "scattergl": [
           {
            "marker": {
             "colorbar": {
              "outlinewidth": 0,
              "ticks": ""
             }
            },
            "type": "scattergl"
           }
          ],
          "scattermapbox": [
           {
            "marker": {
             "colorbar": {
              "outlinewidth": 0,
              "ticks": ""
             }
            },
            "type": "scattermapbox"
           }
          ],
          "scatterpolar": [
           {
            "marker": {
             "colorbar": {
              "outlinewidth": 0,
              "ticks": ""
             }
            },
            "type": "scatterpolar"
           }
          ],
          "scatterpolargl": [
           {
            "marker": {
             "colorbar": {
              "outlinewidth": 0,
              "ticks": ""
             }
            },
            "type": "scatterpolargl"
           }
          ],
          "scatterternary": [
           {
            "marker": {
             "colorbar": {
              "outlinewidth": 0,
              "ticks": ""
             }
            },
            "type": "scatterternary"
           }
          ],
          "surface": [
           {
            "colorbar": {
             "outlinewidth": 0,
             "ticks": ""
            },
            "colorscale": [
             [
              0,
              "#0d0887"
             ],
             [
              0.1111111111111111,
              "#46039f"
             ],
             [
              0.2222222222222222,
              "#7201a8"
             ],
             [
              0.3333333333333333,
              "#9c179e"
             ],
             [
              0.4444444444444444,
              "#bd3786"
             ],
             [
              0.5555555555555556,
              "#d8576b"
             ],
             [
              0.6666666666666666,
              "#ed7953"
             ],
             [
              0.7777777777777778,
              "#fb9f3a"
             ],
             [
              0.8888888888888888,
              "#fdca26"
             ],
             [
              1,
              "#f0f921"
             ]
            ],
            "type": "surface"
           }
          ],
          "table": [
           {
            "cells": {
             "fill": {
              "color": "#EBF0F8"
             },
             "line": {
              "color": "white"
             }
            },
            "header": {
             "fill": {
              "color": "#C8D4E3"
             },
             "line": {
              "color": "white"
             }
            },
            "type": "table"
           }
          ]
         },
         "layout": {
          "annotationdefaults": {
           "arrowcolor": "#2a3f5f",
           "arrowhead": 0,
           "arrowwidth": 1
          },
          "autotypenumbers": "strict",
          "coloraxis": {
           "colorbar": {
            "outlinewidth": 0,
            "ticks": ""
           }
          },
          "colorscale": {
           "diverging": [
            [
             0,
             "#8e0152"
            ],
            [
             0.1,
             "#c51b7d"
            ],
            [
             0.2,
             "#de77ae"
            ],
            [
             0.3,
             "#f1b6da"
            ],
            [
             0.4,
             "#fde0ef"
            ],
            [
             0.5,
             "#f7f7f7"
            ],
            [
             0.6,
             "#e6f5d0"
            ],
            [
             0.7,
             "#b8e186"
            ],
            [
             0.8,
             "#7fbc41"
            ],
            [
             0.9,
             "#4d9221"
            ],
            [
             1,
             "#276419"
            ]
           ],
           "sequential": [
            [
             0,
             "#0d0887"
            ],
            [
             0.1111111111111111,
             "#46039f"
            ],
            [
             0.2222222222222222,
             "#7201a8"
            ],
            [
             0.3333333333333333,
             "#9c179e"
            ],
            [
             0.4444444444444444,
             "#bd3786"
            ],
            [
             0.5555555555555556,
             "#d8576b"
            ],
            [
             0.6666666666666666,
             "#ed7953"
            ],
            [
             0.7777777777777778,
             "#fb9f3a"
            ],
            [
             0.8888888888888888,
             "#fdca26"
            ],
            [
             1,
             "#f0f921"
            ]
           ],
           "sequentialminus": [
            [
             0,
             "#0d0887"
            ],
            [
             0.1111111111111111,
             "#46039f"
            ],
            [
             0.2222222222222222,
             "#7201a8"
            ],
            [
             0.3333333333333333,
             "#9c179e"
            ],
            [
             0.4444444444444444,
             "#bd3786"
            ],
            [
             0.5555555555555556,
             "#d8576b"
            ],
            [
             0.6666666666666666,
             "#ed7953"
            ],
            [
             0.7777777777777778,
             "#fb9f3a"
            ],
            [
             0.8888888888888888,
             "#fdca26"
            ],
            [
             1,
             "#f0f921"
            ]
           ]
          },
          "colorway": [
           "#636efa",
           "#EF553B",
           "#00cc96",
           "#ab63fa",
           "#FFA15A",
           "#19d3f3",
           "#FF6692",
           "#B6E880",
           "#FF97FF",
           "#FECB52"
          ],
          "font": {
           "color": "#2a3f5f"
          },
          "geo": {
           "bgcolor": "white",
           "lakecolor": "white",
           "landcolor": "#E5ECF6",
           "showlakes": true,
           "showland": true,
           "subunitcolor": "white"
          },
          "hoverlabel": {
           "align": "left"
          },
          "hovermode": "closest",
          "mapbox": {
           "style": "light"
          },
          "paper_bgcolor": "white",
          "plot_bgcolor": "#E5ECF6",
          "polar": {
           "angularaxis": {
            "gridcolor": "white",
            "linecolor": "white",
            "ticks": ""
           },
           "bgcolor": "#E5ECF6",
           "radialaxis": {
            "gridcolor": "white",
            "linecolor": "white",
            "ticks": ""
           }
          },
          "scene": {
           "xaxis": {
            "backgroundcolor": "#E5ECF6",
            "gridcolor": "white",
            "gridwidth": 2,
            "linecolor": "white",
            "showbackground": true,
            "ticks": "",
            "zerolinecolor": "white"
           },
           "yaxis": {
            "backgroundcolor": "#E5ECF6",
            "gridcolor": "white",
            "gridwidth": 2,
            "linecolor": "white",
            "showbackground": true,
            "ticks": "",
            "zerolinecolor": "white"
           },
           "zaxis": {
            "backgroundcolor": "#E5ECF6",
            "gridcolor": "white",
            "gridwidth": 2,
            "linecolor": "white",
            "showbackground": true,
            "ticks": "",
            "zerolinecolor": "white"
           }
          },
          "shapedefaults": {
           "line": {
            "color": "#2a3f5f"
           }
          },
          "ternary": {
           "aaxis": {
            "gridcolor": "white",
            "linecolor": "white",
            "ticks": ""
           },
           "baxis": {
            "gridcolor": "white",
            "linecolor": "white",
            "ticks": ""
           },
           "bgcolor": "#E5ECF6",
           "caxis": {
            "gridcolor": "white",
            "linecolor": "white",
            "ticks": ""
           }
          },
          "title": {
           "x": 0.05
          },
          "xaxis": {
           "automargin": true,
           "gridcolor": "white",
           "linecolor": "white",
           "ticks": "",
           "title": {
            "standoff": 15
           },
           "zerolinecolor": "white",
           "zerolinewidth": 2
          },
          "yaxis": {
           "automargin": true,
           "gridcolor": "white",
           "linecolor": "white",
           "ticks": "",
           "title": {
            "standoff": 15
           },
           "zerolinecolor": "white",
           "zerolinewidth": 2
          }
         }
        }
       }
      },
      "image/png": "[encoded data removed]",
      "text/html": [
       "<div>                            <div id=\"9143e07c-10d1-47bd-bf44-126f078f456c\" class=\"plotly-graph-div\" style=\"height:525px; width:100%;\"></div>            <script type=\"text/javascript\">                require([\"plotly\"], function(Plotly) {                    window.PLOTLYENV=window.PLOTLYENV || {};                                    if (document.getElementById(\"9143e07c-10d1-47bd-bf44-126f078f456c\")) {                    Plotly.newPlot(                        \"9143e07c-10d1-47bd-bf44-126f078f456c\",                        [{\"domain\":{\"x\":[0.0,1.0],\"y\":[0.0,1.0]},\"hovertemplate\":\"Product_Type=%{label}\\u003cbr\\u003evalue=%{value}\\u003cextra\\u003e\\u003c\\u002fextra\\u003e\",\"labels\":[\"SLX-1\",\"SLX-3\",\"SLX-2\",\"ADV-5\",\"3DIR-AVD\"],\"legendgroup\":\"\",\"name\":\"\",\"showlegend\":true,\"values\":[28719,715,518,320,120],\"type\":\"pie\"}],                        {\"template\":{\"data\":{\"histogram2dcontour\":[{\"type\":\"histogram2dcontour\",\"colorbar\":{\"outlinewidth\":0,\"ticks\":\"\"},\"colorscale\":[[0.0,\"#0d0887\"],[0.1111111111111111,\"#46039f\"],[0.2222222222222222,\"#7201a8\"],[0.3333333333333333,\"#9c179e\"],[0.4444444444444444,\"#bd3786\"],[0.5555555555555556,\"#d8576b\"],[0.6666666666666666,\"#ed7953\"],[0.7777777777777778,\"#fb9f3a\"],[0.8888888888888888,\"#fdca26\"],[1.0,\"#f0f921\"]]}],\"choropleth\":[{\"type\":\"choropleth\",\"colorbar\":{\"outlinewidth\":0,\"ticks\":\"\"}}],\"histogram2d\":[{\"type\":\"histogram2d\",\"colorbar\":{\"outlinewidth\":0,\"ticks\":\"\"},\"colorscale\":[[0.0,\"#0d0887\"],[0.1111111111111111,\"#46039f\"],[0.2222222222222222,\"#7201a8\"],[0.3333333333333333,\"#9c179e\"],[0.4444444444444444,\"#bd3786\"],[0.5555555555555556,\"#d8576b\"],[0.6666666666666666,\"#ed7953\"],[0.7777777777777778,\"#fb9f3a\"],[0.8888888888888888,\"#fdca26\"],[1.0,\"#f0f921\"]]}],\"heatmap\":[{\"type\":\"heatmap\",\"colorbar\":{\"outlinewidth\":0,\"ticks\":\"\"},\"colorscale\":[[0.0,\"#0d0887\"],[0.1111111111111111,\"#46039f\"],[0.2222222222222222,\"#7201a8\"],[0.3333333333333333,\"#9c179e\"],[0.4444444444444444,\"#bd3786\"],[0.5555555555555556,\"#d8576b\"],[0.6666666666666666,\"#ed7953\"],[0.7777777777777778,\"#fb9f3a\"],[0.8888888888888888,\"#fdca26\"],[1.0,\"#f0f921\"]]}],\"heatmapgl\":[{\"type\":\"heatmapgl\",\"colorbar\":{\"outlinewidth\":0,\"ticks\":\"\"},\"colorscale\":[[0.0,\"#0d0887\"],[0.1111111111111111,\"#46039f\"],[0.2222222222222222,\"#7201a8\"],[0.3333333333333333,\"#9c179e\"],[0.4444444444444444,\"#bd3786\"],[0.5555555555555556,\"#d8576b\"],[0.6666666666666666,\"#ed7953\"],[0.7777777777777778,\"#fb9f3a\"],[0.8888888888888888,\"#fdca26\"],[1.0,\"#f0f921\"]]}],\"contourcarpet\":[{\"type\":\"contourcarpet\",\"colorbar\":{\"outlinewidth\":0,\"ticks\":\"\"}}],\"contour\":[{\"type\":\"contour\",\"colorbar\":{\"outlinewidth\":0,\"ticks\":\"\"},\"colorscale\":[[0.0,\"#0d0887\"],[0.1111111111111111,\"#46039f\"],[0.2222222222222222,\"#7201a8\"],[0.3333333333333333,\"#9c179e\"],[0.4444444444444444,\"#bd3786\"],[0.5555555555555556,\"#d8576b\"],[0.6666666666666666,\"#ed7953\"],[0.7777777777777778,\"#fb9f3a\"],[0.8888888888888888,\"#fdca26\"],[1.0,\"#f0f921\"]]}],\"surface\":[{\"type\":\"surface\",\"colorbar\":{\"outlinewidth\":0,\"ticks\":\"\"},\"colorscale\":[[0.0,\"#0d0887\"],[0.1111111111111111,\"#46039f\"],[0.2222222222222222,\"#7201a8\"],[0.3333333333333333,\"#9c179e\"],[0.4444444444444444,\"#bd3786\"],[0.5555555555555556,\"#d8576b\"],[0.6666666666666666,\"#ed7953\"],[0.7777777777777778,\"#fb9f3a\"],[0.8888888888888888,\"#fdca26\"],[1.0,\"#f0f921\"]]}],\"mesh3d\":[{\"type\":\"mesh3d\",\"colorbar\":{\"outlinewidth\":0,\"ticks\":\"\"}}],\"scatter\":[{\"fillpattern\":{\"fillmode\":\"overlay\",\"size\":10,\"solidity\":0.2},\"type\":\"scatter\"}],\"parcoords\":[{\"type\":\"parcoords\",\"line\":{\"colorbar\":{\"outlinewidth\":0,\"ticks\":\"\"}}}],\"scatterpolargl\":[{\"type\":\"scatterpolargl\",\"marker\":{\"colorbar\":{\"outlinewidth\":0,\"ticks\":\"\"}}}],\"bar\":[{\"error_x\":{\"color\":\"#2a3f5f\"},\"error_y\":{\"color\":\"#2a3f5f\"},\"marker\":{\"line\":{\"color\":\"#E5ECF6\",\"width\":0.5},\"pattern\":{\"fillmode\":\"overlay\",\"size\":10,\"solidity\":0.2}},\"type\":\"bar\"}],\"scattergeo\":[{\"type\":\"scattergeo\",\"marker\":{\"colorbar\":{\"outlinewidth\":0,\"ticks\":\"\"}}}],\"scatterpolar\":[{\"type\":\"scatterpolar\",\"marker\":{\"colorbar\":{\"outlinewidth\":0,\"ticks\":\"\"}}}],\"histogram\":[{\"marker\":{\"pattern\":{\"fillmode\":\"overlay\",\"size\":10,\"solidity\":0.2}},\"type\":\"histogram\"}],\"scattergl\":[{\"type\":\"scattergl\",\"marker\":{\"colorbar\":{\"outlinewidth\":0,\"ticks\":\"\"}}}],\"scatter3d\":[{\"type\":\"scatter3d\",\"line\":{\"colorbar\":{\"outlinewidth\":0,\"ticks\":\"\"}},\"marker\":{\"colorbar\":{\"outlinewidth\":0,\"ticks\":\"\"}}}],\"scattermapbox\":[{\"type\":\"scattermapbox\",\"marker\":{\"colorbar\":{\"outlinewidth\":0,\"ticks\":\"\"}}}],\"scatterternary\":[{\"type\":\"scatterternary\",\"marker\":{\"colorbar\":{\"outlinewidth\":0,\"ticks\":\"\"}}}],\"scattercarpet\":[{\"type\":\"scattercarpet\",\"marker\":{\"colorbar\":{\"outlinewidth\":0,\"ticks\":\"\"}}}],\"carpet\":[{\"aaxis\":{\"endlinecolor\":\"#2a3f5f\",\"gridcolor\":\"white\",\"linecolor\":\"white\",\"minorgridcolor\":\"white\",\"startlinecolor\":\"#2a3f5f\"},\"baxis\":{\"endlinecolor\":\"#2a3f5f\",\"gridcolor\":\"white\",\"linecolor\":\"white\",\"minorgridcolor\":\"white\",\"startlinecolor\":\"#2a3f5f\"},\"type\":\"carpet\"}],\"table\":[{\"cells\":{\"fill\":{\"color\":\"#EBF0F8\"},\"line\":{\"color\":\"white\"}},\"header\":{\"fill\":{\"color\":\"#C8D4E3\"},\"line\":{\"color\":\"white\"}},\"type\":\"table\"}],\"barpolar\":[{\"marker\":{\"line\":{\"color\":\"#E5ECF6\",\"width\":0.5},\"pattern\":{\"fillmode\":\"overlay\",\"size\":10,\"solidity\":0.2}},\"type\":\"barpolar\"}],\"pie\":[{\"automargin\":true,\"type\":\"pie\"}]},\"layout\":{\"autotypenumbers\":\"strict\",\"colorway\":[\"#636efa\",\"#EF553B\",\"#00cc96\",\"#ab63fa\",\"#FFA15A\",\"#19d3f3\",\"#FF6692\",\"#B6E880\",\"#FF97FF\",\"#FECB52\"],\"font\":{\"color\":\"#2a3f5f\"},\"hovermode\":\"closest\",\"hoverlabel\":{\"align\":\"left\"},\"paper_bgcolor\":\"white\",\"plot_bgcolor\":\"#E5ECF6\",\"polar\":{\"bgcolor\":\"#E5ECF6\",\"angularaxis\":{\"gridcolor\":\"white\",\"linecolor\":\"white\",\"ticks\":\"\"},\"radialaxis\":{\"gridcolor\":\"white\",\"linecolor\":\"white\",\"ticks\":\"\"}},\"ternary\":{\"bgcolor\":\"#E5ECF6\",\"aaxis\":{\"gridcolor\":\"white\",\"linecolor\":\"white\",\"ticks\":\"\"},\"baxis\":{\"gridcolor\":\"white\",\"linecolor\":\"white\",\"ticks\":\"\"},\"caxis\":{\"gridcolor\":\"white\",\"linecolor\":\"white\",\"ticks\":\"\"}},\"coloraxis\":{\"colorbar\":{\"outlinewidth\":0,\"ticks\":\"\"}},\"colorscale\":{\"sequential\":[[0.0,\"#0d0887\"],[0.1111111111111111,\"#46039f\"],[0.2222222222222222,\"#7201a8\"],[0.3333333333333333,\"#9c179e\"],[0.4444444444444444,\"#bd3786\"],[0.5555555555555556,\"#d8576b\"],[0.6666666666666666,\"#ed7953\"],[0.7777777777777778,\"#fb9f3a\"],[0.8888888888888888,\"#fdca26\"],[1.0,\"#f0f921\"]],\"sequentialminus\":[[0.0,\"#0d0887\"],[0.1111111111111111,\"#46039f\"],[0.2222222222222222,\"#7201a8\"],[0.3333333333333333,\"#9c179e\"],[0.4444444444444444,\"#bd3786\"],[0.5555555555555556,\"#d8576b\"],[0.6666666666666666,\"#ed7953\"],[0.7777777777777778,\"#fb9f3a\"],[0.8888888888888888,\"#fdca26\"],[1.0,\"#f0f921\"]],\"diverging\":[[0,\"#8e0152\"],[0.1,\"#c51b7d\"],[0.2,\"#de77ae\"],[0.3,\"#f1b6da\"],[0.4,\"#fde0ef\"],[0.5,\"#f7f7f7\"],[0.6,\"#e6f5d0\"],[0.7,\"#b8e186\"],[0.8,\"#7fbc41\"],[0.9,\"#4d9221\"],[1,\"#276419\"]]},\"xaxis\":{\"gridcolor\":\"white\",\"linecolor\":\"white\",\"ticks\":\"\",\"title\":{\"standoff\":15},\"zerolinecolor\":\"white\",\"automargin\":true,\"zerolinewidth\":2},\"yaxis\":{\"gridcolor\":\"white\",\"linecolor\":\"white\",\"ticks\":\"\",\"title\":{\"standoff\":15},\"zerolinecolor\":\"white\",\"automargin\":true,\"zerolinewidth\":2},\"scene\":{\"xaxis\":{\"backgroundcolor\":\"#E5ECF6\",\"gridcolor\":\"white\",\"linecolor\":\"white\",\"showbackground\":true,\"ticks\":\"\",\"zerolinecolor\":\"white\",\"gridwidth\":2},\"yaxis\":{\"backgroundcolor\":\"#E5ECF6\",\"gridcolor\":\"white\",\"linecolor\":\"white\",\"showbackground\":true,\"ticks\":\"\",\"zerolinecolor\":\"white\",\"gridwidth\":2},\"zaxis\":{\"backgroundcolor\":\"#E5ECF6\",\"gridcolor\":\"white\",\"linecolor\":\"white\",\"showbackground\":true,\"ticks\":\"\",\"zerolinecolor\":\"white\",\"gridwidth\":2}},\"shapedefaults\":{\"line\":{\"color\":\"#2a3f5f\"}},\"annotationdefaults\":{\"arrowcolor\":\"#2a3f5f\",\"arrowhead\":0,\"arrowwidth\":1},\"geo\":{\"bgcolor\":\"white\",\"landcolor\":\"#E5ECF6\",\"subunitcolor\":\"white\",\"showland\":true,\"showlakes\":true,\"lakecolor\":\"white\"},\"title\":{\"x\":0.05},\"mapbox\":{\"style\":\"light\"}}},\"legend\":{\"tracegroupgap\":0},\"margin\":{\"t\":60}},                        {\"responsive\": true}                    ).then(function(){\n",
       "                            \n",
       "var gd = document.getElementById('9143e07c-10d1-47bd-bf44-126f078f456c');\n",
       "var x = new MutationObserver(function (mutations, observer) {{\n",
       "        var display = window.getComputedStyle(gd).display;\n",
       "        if (!display || display === 'none') {{\n",
       "            console.log([gd, 'removed!']);\n",
       "            Plotly.purge(gd);\n",
       "            observer.disconnect();\n",
       "        }}\n",
       "}});\n",
       "\n",
       "// Listen for the removal of the full notebook cells\n",
       "var notebookContainer = gd.closest('#notebook-container');\n",
       "if (notebookContainer) {{\n",
       "    x.observe(notebookContainer, {childList: true});\n",
       "}}\n",
       "\n",
       "// Listen for the clearing of the current output cell\n",
       "var outputEl = gd.closest('.output');\n",
       "if (outputEl) {{\n",
       "    x.observe(outputEl, {childList: true});\n",
       "}}\n",
       "\n",
       "                        })                };                });            </script>        </div>"
      ]
     },
     "metadata": {},
     "output_type": "display_data"
    }
   ],
   "source": [
    "# 해당 제품군의 비율을 Pie Chart로 시각화\n",
    "s1 = df1_A['Product_Type'].value_counts()\n",
    "px.pie(s1, names = s1.index, values = s1.values)"
   ]
  },
  {
   "cell_type": "code",
   "execution_count": 34,
   "id": "9db47919-2fa0-4337-b906-a8bb89db5e4a",
   "metadata": {},
   "outputs": [
    {
     "data": {
      "text/html": [
       "<div>\n",
       "<style scoped>\n",
       "    .dataframe tbody tr th:only-of-type {\n",
       "        vertical-align: middle;\n",
       "    }\n",
       "\n",
       "    .dataframe tbody tr th {\n",
       "        vertical-align: top;\n",
       "    }\n",
       "\n",
       "    .dataframe thead th {\n",
       "        text-align: right;\n",
       "    }\n",
       "</style>\n",
       "<table border=\"1\" class=\"dataframe\">\n",
       "  <thead>\n",
       "    <tr style=\"text-align: right;\">\n",
       "      <th></th>\n",
       "      <th>Total_Amount</th>\n",
       "    </tr>\n",
       "    <tr>\n",
       "      <th>Date</th>\n",
       "      <th></th>\n",
       "    </tr>\n",
       "  </thead>\n",
       "  <tbody>\n",
       "    <tr>\n",
       "      <th>2022-02-03</th>\n",
       "      <td>910800</td>\n",
       "    </tr>\n",
       "    <tr>\n",
       "      <th>2022-02-11</th>\n",
       "      <td>910800</td>\n",
       "    </tr>\n",
       "    <tr>\n",
       "      <th>2022-03-20</th>\n",
       "      <td>910800</td>\n",
       "    </tr>\n",
       "    <tr>\n",
       "      <th>2022-06-24</th>\n",
       "      <td>910800</td>\n",
       "    </tr>\n",
       "    <tr>\n",
       "      <th>2022-08-02</th>\n",
       "      <td>910800</td>\n",
       "    </tr>\n",
       "    <tr>\n",
       "      <th>2022-12-01</th>\n",
       "      <td>910800</td>\n",
       "    </tr>\n",
       "    <tr>\n",
       "      <th>2022-12-18</th>\n",
       "      <td>910800</td>\n",
       "    </tr>\n",
       "  </tbody>\n",
       "</table>\n",
       "</div>"
      ],
      "text/plain": [
       "            Total_Amount\n",
       "Date                    \n",
       "2022-02-03        910800\n",
       "2022-02-11        910800\n",
       "2022-03-20        910800\n",
       "2022-06-24        910800\n",
       "2022-08-02        910800\n",
       "2022-12-01        910800\n",
       "2022-12-18        910800"
      ]
     },
     "execution_count": 34,
     "metadata": {},
     "output_type": "execute_result"
    }
   ],
   "source": [
    "# 10. ‘Target’값 중 B 그룹에 대해, 가장 비율이 적은 제품군(Product_Type)을 확인하고,\n",
    "# 해당 제품의 일 별 총 계약금액(Total_Amount)의 합을 계산하시오. \n",
    "\n",
    "cond1 = df1['Target'] == 'B'\n",
    "p1 = df1.loc[cond1]['Product_Type'].value_counts() / len(df1.loc[cond1])\n",
    "cond2 = df1['Product_Type'] == 'ADV-5'\n",
    "df1.loc[cond1 & cond2].pivot_table(index = 'Date', values = 'Total_Amount', aggfunc = 'sum')"
   ]
  },
  {
   "cell_type": "code",
   "execution_count": 35,
   "id": "2e8eecac-862d-448d-8b94-b9e9722678de",
   "metadata": {},
   "outputs": [
    {
     "name": "stdin",
     "output_type": "stream",
     "text": [
      " 20\n"
     ]
    },
    {
     "name": "stdout",
     "output_type": "stream",
     "text": [
      "20week_Product_Contract.xlsx\n"
     ]
    }
   ],
   "source": [
    "# 11. 계약 데이터를 주기적으로 정리하는 업무자동화 프로그램을 만들고자 한다. \n",
    "# 데이터에서 주차(Work Week)를 입력 해, 해당 주차의 제품 군(Product_Type)별 월랜탈비용(Amount_Month)의 합과 평균을 \n",
    "# 엑셀로 출력하는 함수를 생성하시오.\n",
    "# - 파일이 저장 될 때, 아래와 같은 이름으로 저장 되어야 합니다.\n",
    "# - 1주차 입력시 -> '1week_Product_Contract.xlsx'\n",
    "# - 3주차 입력시 -> '3week_Product_Contract.xlsx'\n",
    "\n",
    "def func1():\n",
    "    work_week = input()\n",
    "    cond1 = df1['Week'] == int(work_week)\n",
    "    df2 = df1.loc[cond1]\n",
    "    df3 = df2.pivot_table(index = 'Product_Type', values = 'Amount_Month', aggfunc = ['mean', 'sum'])\n",
    "    print(work_week + 'week_Product_Contract.xlsx')\n",
    "    \n",
    "df1['Week'] = df1['Date'].dt.isocalendar().week\n",
    "func1()"
   ]
  },
  {
   "cell_type": "code",
   "execution_count": 37,
   "id": "30f8e1af-73a4-4332-8aa6-977a165f1411",
   "metadata": {},
   "outputs": [
    {
     "data": {
      "text/html": [
       "<div>\n",
       "<style scoped>\n",
       "    .dataframe tbody tr th:only-of-type {\n",
       "        vertical-align: middle;\n",
       "    }\n",
       "\n",
       "    .dataframe tbody tr th {\n",
       "        vertical-align: top;\n",
       "    }\n",
       "\n",
       "    .dataframe thead th {\n",
       "        text-align: right;\n",
       "    }\n",
       "</style>\n",
       "<table border=\"1\" class=\"dataframe\">\n",
       "  <thead>\n",
       "    <tr style=\"text-align: right;\">\n",
       "      <th></th>\n",
       "      <th>Unnamed: 0</th>\n",
       "      <th>회원번호</th>\n",
       "      <th>회원상태</th>\n",
       "      <th>성별</th>\n",
       "      <th>결혼유무</th>\n",
       "      <th>주소</th>\n",
       "      <th>연령</th>\n",
       "      <th>총구매금액</th>\n",
       "      <th>총구매수량</th>\n",
       "      <th>총방문횟수</th>\n",
       "    </tr>\n",
       "  </thead>\n",
       "  <tbody>\n",
       "    <tr>\n",
       "      <th>133</th>\n",
       "      <td>133</td>\n",
       "      <td>2249</td>\n",
       "      <td>정상회원</td>\n",
       "      <td>여</td>\n",
       "      <td>NaN</td>\n",
       "      <td>경기 용인시 수지구 풍덕천2</td>\n",
       "      <td>47</td>\n",
       "      <td>22346350</td>\n",
       "      <td>4373.60</td>\n",
       "      <td>174</td>\n",
       "    </tr>\n",
       "    <tr>\n",
       "      <th>156</th>\n",
       "      <td>156</td>\n",
       "      <td>2277</td>\n",
       "      <td>정상회원</td>\n",
       "      <td>여</td>\n",
       "      <td>기혼</td>\n",
       "      <td>경기 용인시 수지구 풍덕천2</td>\n",
       "      <td>47</td>\n",
       "      <td>21950630</td>\n",
       "      <td>4425.70</td>\n",
       "      <td>170</td>\n",
       "    </tr>\n",
       "    <tr>\n",
       "      <th>2857</th>\n",
       "      <td>2857</td>\n",
       "      <td>5068</td>\n",
       "      <td>탈퇴</td>\n",
       "      <td>여</td>\n",
       "      <td>기혼</td>\n",
       "      <td>경기 용인시 수지구 동천동</td>\n",
       "      <td>47</td>\n",
       "      <td>21285710</td>\n",
       "      <td>4180.50</td>\n",
       "      <td>170</td>\n",
       "    </tr>\n",
       "    <tr>\n",
       "      <th>3645</th>\n",
       "      <td>3645</td>\n",
       "      <td>5856</td>\n",
       "      <td>탈퇴</td>\n",
       "      <td>여</td>\n",
       "      <td>기혼</td>\n",
       "      <td>경기 용인시 수지구 신봉동</td>\n",
       "      <td>46</td>\n",
       "      <td>21217470</td>\n",
       "      <td>4006.96</td>\n",
       "      <td>172</td>\n",
       "    </tr>\n",
       "    <tr>\n",
       "      <th>327</th>\n",
       "      <td>327</td>\n",
       "      <td>2472</td>\n",
       "      <td>정상회원</td>\n",
       "      <td>여</td>\n",
       "      <td>미혼</td>\n",
       "      <td>경기 용인시 수지구 풍덕천2</td>\n",
       "      <td>44</td>\n",
       "      <td>20191005</td>\n",
       "      <td>4044.20</td>\n",
       "      <td>167</td>\n",
       "    </tr>\n",
       "    <tr>\n",
       "      <th>...</th>\n",
       "      <td>...</td>\n",
       "      <td>...</td>\n",
       "      <td>...</td>\n",
       "      <td>...</td>\n",
       "      <td>...</td>\n",
       "      <td>...</td>\n",
       "      <td>...</td>\n",
       "      <td>...</td>\n",
       "      <td>...</td>\n",
       "      <td>...</td>\n",
       "    </tr>\n",
       "    <tr>\n",
       "      <th>38</th>\n",
       "      <td>38</td>\n",
       "      <td>2140</td>\n",
       "      <td>정상회원</td>\n",
       "      <td>여</td>\n",
       "      <td>기혼</td>\n",
       "      <td>경기 용인시 수지구 풍덕천1</td>\n",
       "      <td>53</td>\n",
       "      <td>7708970</td>\n",
       "      <td>1157.20</td>\n",
       "      <td>113</td>\n",
       "    </tr>\n",
       "    <tr>\n",
       "      <th>375</th>\n",
       "      <td>375</td>\n",
       "      <td>2524</td>\n",
       "      <td>정상회원</td>\n",
       "      <td>여</td>\n",
       "      <td>미혼</td>\n",
       "      <td>경기 용인시 수지구 풍덕천1</td>\n",
       "      <td>46</td>\n",
       "      <td>7703060</td>\n",
       "      <td>1745.50</td>\n",
       "      <td>147</td>\n",
       "    </tr>\n",
       "    <tr>\n",
       "      <th>311</th>\n",
       "      <td>311</td>\n",
       "      <td>2453</td>\n",
       "      <td>정상회원</td>\n",
       "      <td>여</td>\n",
       "      <td>미혼</td>\n",
       "      <td>경기 용인시 수지구 상현2동</td>\n",
       "      <td>41</td>\n",
       "      <td>7663730</td>\n",
       "      <td>1566.50</td>\n",
       "      <td>146</td>\n",
       "    </tr>\n",
       "    <tr>\n",
       "      <th>3866</th>\n",
       "      <td>3866</td>\n",
       "      <td>6078</td>\n",
       "      <td>탈퇴</td>\n",
       "      <td>여</td>\n",
       "      <td>기혼</td>\n",
       "      <td>경기 용인시 수지구 신봉동</td>\n",
       "      <td>39</td>\n",
       "      <td>7644660</td>\n",
       "      <td>1651.84</td>\n",
       "      <td>132</td>\n",
       "    </tr>\n",
       "    <tr>\n",
       "      <th>217</th>\n",
       "      <td>217</td>\n",
       "      <td>2344</td>\n",
       "      <td>정상회원</td>\n",
       "      <td>여</td>\n",
       "      <td>기혼</td>\n",
       "      <td>경기 용인시 수지구 신봉동</td>\n",
       "      <td>42</td>\n",
       "      <td>7601560</td>\n",
       "      <td>1717.50</td>\n",
       "      <td>123</td>\n",
       "    </tr>\n",
       "  </tbody>\n",
       "</table>\n",
       "<p>100 rows × 10 columns</p>\n",
       "</div>"
      ],
      "text/plain": [
       "      Unnamed: 0  회원번호  회원상태 성별 결혼유무               주소  연령     총구매금액    총구매수량  \\\n",
       "133          133  2249  정상회원  여  NaN  경기 용인시 수지구 풍덕천2  47  22346350  4373.60   \n",
       "156          156  2277  정상회원  여   기혼  경기 용인시 수지구 풍덕천2  47  21950630  4425.70   \n",
       "2857        2857  5068    탈퇴  여   기혼   경기 용인시 수지구 동천동  47  21285710  4180.50   \n",
       "3645        3645  5856    탈퇴  여   기혼   경기 용인시 수지구 신봉동  46  21217470  4006.96   \n",
       "327          327  2472  정상회원  여   미혼  경기 용인시 수지구 풍덕천2  44  20191005  4044.20   \n",
       "...          ...   ...   ... ..  ...              ...  ..       ...      ...   \n",
       "38            38  2140  정상회원  여   기혼  경기 용인시 수지구 풍덕천1  53   7708970  1157.20   \n",
       "375          375  2524  정상회원  여   미혼  경기 용인시 수지구 풍덕천1  46   7703060  1745.50   \n",
       "311          311  2453  정상회원  여   미혼  경기 용인시 수지구 상현2동  41   7663730  1566.50   \n",
       "3866        3866  6078    탈퇴  여   기혼   경기 용인시 수지구 신봉동  39   7644660  1651.84   \n",
       "217          217  2344  정상회원  여   기혼   경기 용인시 수지구 신봉동  42   7601560  1717.50   \n",
       "\n",
       "      총방문횟수  \n",
       "133     174  \n",
       "156     170  \n",
       "2857    170  \n",
       "3645    172  \n",
       "327     167  \n",
       "...     ...  \n",
       "38      113  \n",
       "375     147  \n",
       "311     146  \n",
       "3866    132  \n",
       "217     123  \n",
       "\n",
       "[100 rows x 10 columns]"
      ]
     },
     "execution_count": 37,
     "metadata": {},
     "output_type": "execute_result"
    }
   ],
   "source": [
    "# 12. 03_Data.csv 데이터를 df3로 선언해, '총구매금액'이 높은 상위 100명의 고객 명단을 추출하여,\n",
    "# result_member_vip.xlsx로 저장 하시오.\n",
    "\n",
    "df3 = pd.read_csv(\"../hanro_test/0404/03_Data.csv\")\n",
    "df3.sort_values(by = '총구매금액', ascending = False).head(100)"
   ]
  },
  {
   "cell_type": "code",
   "execution_count": 39,
   "id": "b9c7175e-685b-442d-aa07-528f9c2a8f52",
   "metadata": {},
   "outputs": [
    {
     "data": {
      "text/html": [
       "<div>\n",
       "<style scoped>\n",
       "    .dataframe tbody tr th:only-of-type {\n",
       "        vertical-align: middle;\n",
       "    }\n",
       "\n",
       "    .dataframe tbody tr th {\n",
       "        vertical-align: top;\n",
       "    }\n",
       "\n",
       "    .dataframe thead th {\n",
       "        text-align: right;\n",
       "    }\n",
       "</style>\n",
       "<table border=\"1\" class=\"dataframe\">\n",
       "  <thead>\n",
       "    <tr style=\"text-align: right;\">\n",
       "      <th></th>\n",
       "      <th>성별</th>\n",
       "      <th>총구매금액합</th>\n",
       "      <th>총구매금액평균</th>\n",
       "    </tr>\n",
       "  </thead>\n",
       "  <tbody>\n",
       "    <tr>\n",
       "      <th>0</th>\n",
       "      <td>남</td>\n",
       "      <td>4.834805e+05</td>\n",
       "      <td>250926387</td>\n",
       "    </tr>\n",
       "    <tr>\n",
       "      <th>1</th>\n",
       "      <td>여</td>\n",
       "      <td>1.042474e+06</td>\n",
       "      <td>3925957601</td>\n",
       "    </tr>\n",
       "  </tbody>\n",
       "</table>\n",
       "</div>"
      ],
      "text/plain": [
       "  성별        총구매금액합     총구매금액평균\n",
       "0  남  4.834805e+05   250926387\n",
       "1  여  1.042474e+06  3925957601"
      ]
     },
     "execution_count": 39,
     "metadata": {},
     "output_type": "execute_result"
    }
   ],
   "source": [
    "# 13. 회원 '성별'에 따른 '총구매금액'의 합을 비교하고자 한다. \n",
    "# '성별' 별 '총구매금액'의 합/평균을 Table로 계산하고, 두 집단의 평균과 합을 막대그래프로 시각화 하여 비교하시오.\n",
    "\n",
    "p1 = df3.pivot_table(index = '성별', values = '총구매금액', aggfunc = ['mean', 'sum']).reset_index()\n",
    "p1.columns = ['성별', '총구매금액합', '총구매금액평균']\n",
    "p1"
   ]
  },
  {
   "cell_type": "code",
   "execution_count": 43,
   "id": "bd6ccd77-0d7c-4690-bf2e-9f32e5dc2840",
   "metadata": {},
   "outputs": [
    {
     "data": {
      "application/vnd.plotly.v1+json": {
       "config": {
        "plotlyServerURL": "https://plot.ly"
       },
       "data": [
        {
         "alignmentgroup": "True",
         "hovertemplate": "variable=총구매금액합<br>성별=%{x}<br>value=%{y}<extra></extra>",
         "legendgroup": "총구매금액합",
         "marker": {
          "color": "#636efa",
          "pattern": {
           "shape": ""
          }
         },
         "name": "총구매금액합",
         "offsetgroup": "총구매금액합",
         "orientation": "v",
         "showlegend": true,
         "textposition": "auto",
         "type": "bar",
         "x": [
          "남",
          "여"
         ],
         "xaxis": "x",
         "y": [
          483480.5144508671,
          1042474.1372809347
         ],
         "yaxis": "y"
        },
        {
         "alignmentgroup": "True",
         "hovertemplate": "variable=총구매금액평균<br>성별=%{x}<br>value=%{y}<extra></extra>",
         "legendgroup": "총구매금액평균",
         "marker": {
          "color": "#EF553B",
          "pattern": {
           "shape": ""
          }
         },
         "name": "총구매금액평균",
         "offsetgroup": "총구매금액평균",
         "orientation": "v",
         "showlegend": true,
         "textposition": "auto",
         "type": "bar",
         "x": [
          "남",
          "여"
         ],
         "xaxis": "x",
         "y": [
          250926387,
          3925957601
         ],
         "yaxis": "y"
        }
       ],
       "layout": {
        "barmode": "relative",
        "legend": {
         "title": {
          "text": "variable"
         },
         "tracegroupgap": 0
        },
        "margin": {
         "t": 60
        },
        "template": {
         "data": {
          "bar": [
           {
            "error_x": {
             "color": "#2a3f5f"
            },
            "error_y": {
             "color": "#2a3f5f"
            },
            "marker": {
             "line": {
              "color": "#E5ECF6",
              "width": 0.5
             },
             "pattern": {
              "fillmode": "overlay",
              "size": 10,
              "solidity": 0.2
             }
            },
            "type": "bar"
           }
          ],
          "barpolar": [
           {
            "marker": {
             "line": {
              "color": "#E5ECF6",
              "width": 0.5
             },
             "pattern": {
              "fillmode": "overlay",
              "size": 10,
              "solidity": 0.2
             }
            },
            "type": "barpolar"
           }
          ],
          "carpet": [
           {
            "aaxis": {
             "endlinecolor": "#2a3f5f",
             "gridcolor": "white",
             "linecolor": "white",
             "minorgridcolor": "white",
             "startlinecolor": "#2a3f5f"
            },
            "baxis": {
             "endlinecolor": "#2a3f5f",
             "gridcolor": "white",
             "linecolor": "white",
             "minorgridcolor": "white",
             "startlinecolor": "#2a3f5f"
            },
            "type": "carpet"
           }
          ],
          "choropleth": [
           {
            "colorbar": {
             "outlinewidth": 0,
             "ticks": ""
            },
            "type": "choropleth"
           }
          ],
          "contour": [
           {
            "colorbar": {
             "outlinewidth": 0,
             "ticks": ""
            },
            "colorscale": [
             [
              0,
              "#0d0887"
             ],
             [
              0.1111111111111111,
              "#46039f"
             ],
             [
              0.2222222222222222,
              "#7201a8"
             ],
             [
              0.3333333333333333,
              "#9c179e"
             ],
             [
              0.4444444444444444,
              "#bd3786"
             ],
             [
              0.5555555555555556,
              "#d8576b"
             ],
             [
              0.6666666666666666,
              "#ed7953"
             ],
             [
              0.7777777777777778,
              "#fb9f3a"
             ],
             [
              0.8888888888888888,
              "#fdca26"
             ],
             [
              1,
              "#f0f921"
             ]
            ],
            "type": "contour"
           }
          ],
          "contourcarpet": [
           {
            "colorbar": {
             "outlinewidth": 0,
             "ticks": ""
            },
            "type": "contourcarpet"
           }
          ],
          "heatmap": [
           {
            "colorbar": {
             "outlinewidth": 0,
             "ticks": ""
            },
            "colorscale": [
             [
              0,
              "#0d0887"
             ],
             [
              0.1111111111111111,
              "#46039f"
             ],
             [
              0.2222222222222222,
              "#7201a8"
             ],
             [
              0.3333333333333333,
              "#9c179e"
             ],
             [
              0.4444444444444444,
              "#bd3786"
             ],
             [
              0.5555555555555556,
              "#d8576b"
             ],
             [
              0.6666666666666666,
              "#ed7953"
             ],
             [
              0.7777777777777778,
              "#fb9f3a"
             ],
             [
              0.8888888888888888,
              "#fdca26"
             ],
             [
              1,
              "#f0f921"
             ]
            ],
            "type": "heatmap"
           }
          ],
          "heatmapgl": [
           {
            "colorbar": {
             "outlinewidth": 0,
             "ticks": ""
            },
            "colorscale": [
             [
              0,
              "#0d0887"
             ],
             [
              0.1111111111111111,
              "#46039f"
             ],
             [
              0.2222222222222222,
              "#7201a8"
             ],
             [
              0.3333333333333333,
              "#9c179e"
             ],
             [
              0.4444444444444444,
              "#bd3786"
             ],
             [
              0.5555555555555556,
              "#d8576b"
             ],
             [
              0.6666666666666666,
              "#ed7953"
             ],
             [
              0.7777777777777778,
              "#fb9f3a"
             ],
             [
              0.8888888888888888,
              "#fdca26"
             ],
             [
              1,
              "#f0f921"
             ]
            ],
            "type": "heatmapgl"
           }
          ],
          "histogram": [
           {
            "marker": {
             "pattern": {
              "fillmode": "overlay",
              "size": 10,
              "solidity": 0.2
             }
            },
            "type": "histogram"
           }
          ],
          "histogram2d": [
           {
            "colorbar": {
             "outlinewidth": 0,
             "ticks": ""
            },
            "colorscale": [
             [
              0,
              "#0d0887"
             ],
             [
              0.1111111111111111,
              "#46039f"
             ],
             [
              0.2222222222222222,
              "#7201a8"
             ],
             [
              0.3333333333333333,
              "#9c179e"
             ],
             [
              0.4444444444444444,
              "#bd3786"
             ],
             [
              0.5555555555555556,
              "#d8576b"
             ],
             [
              0.6666666666666666,
              "#ed7953"
             ],
             [
              0.7777777777777778,
              "#fb9f3a"
             ],
             [
              0.8888888888888888,
              "#fdca26"
             ],
             [
              1,
              "#f0f921"
             ]
            ],
            "type": "histogram2d"
           }
          ],
          "histogram2dcontour": [
           {
            "colorbar": {
             "outlinewidth": 0,
             "ticks": ""
            },
            "colorscale": [
             [
              0,
              "#0d0887"
             ],
             [
              0.1111111111111111,
              "#46039f"
             ],
             [
              0.2222222222222222,
              "#7201a8"
             ],
             [
              0.3333333333333333,
              "#9c179e"
             ],
             [
              0.4444444444444444,
              "#bd3786"
             ],
             [
              0.5555555555555556,
              "#d8576b"
             ],
             [
              0.6666666666666666,
              "#ed7953"
             ],
             [
              0.7777777777777778,
              "#fb9f3a"
             ],
             [
              0.8888888888888888,
              "#fdca26"
             ],
             [
              1,
              "#f0f921"
             ]
            ],
            "type": "histogram2dcontour"
           }
          ],
          "mesh3d": [
           {
            "colorbar": {
             "outlinewidth": 0,
             "ticks": ""
            },
            "type": "mesh3d"
           }
          ],
          "parcoords": [
           {
            "line": {
             "colorbar": {
              "outlinewidth": 0,
              "ticks": ""
             }
            },
            "type": "parcoords"
           }
          ],
          "pie": [
           {
            "automargin": true,
            "type": "pie"
           }
          ],
          "scatter": [
           {
            "fillpattern": {
             "fillmode": "overlay",
             "size": 10,
             "solidity": 0.2
            },
            "type": "scatter"
           }
          ],
          "scatter3d": [
           {
            "line": {
             "colorbar": {
              "outlinewidth": 0,
              "ticks": ""
             }
            },
            "marker": {
             "colorbar": {
              "outlinewidth": 0,
              "ticks": ""
             }
            },
            "type": "scatter3d"
           }
          ],
          "scattercarpet": [
           {
            "marker": {
             "colorbar": {
              "outlinewidth": 0,
              "ticks": ""
             }
            },
            "type": "scattercarpet"
           }
          ],
          "scattergeo": [
           {
            "marker": {
             "colorbar": {
              "outlinewidth": 0,
              "ticks": ""
             }
            },
            "type": "scattergeo"
           }
          ],
          "scattergl": [
           {
            "marker": {
             "colorbar": {
              "outlinewidth": 0,
              "ticks": ""
             }
            },
            "type": "scattergl"
           }
          ],
          "scattermapbox": [
           {
            "marker": {
             "colorbar": {
              "outlinewidth": 0,
              "ticks": ""
             }
            },
            "type": "scattermapbox"
           }
          ],
          "scatterpolar": [
           {
            "marker": {
             "colorbar": {
              "outlinewidth": 0,
              "ticks": ""
             }
            },
            "type": "scatterpolar"
           }
          ],
          "scatterpolargl": [
           {
            "marker": {
             "colorbar": {
              "outlinewidth": 0,
              "ticks": ""
             }
            },
            "type": "scatterpolargl"
           }
          ],
          "scatterternary": [
           {
            "marker": {
             "colorbar": {
              "outlinewidth": 0,
              "ticks": ""
             }
            },
            "type": "scatterternary"
           }
          ],
          "surface": [
           {
            "colorbar": {
             "outlinewidth": 0,
             "ticks": ""
            },
            "colorscale": [
             [
              0,
              "#0d0887"
             ],
             [
              0.1111111111111111,
              "#46039f"
             ],
             [
              0.2222222222222222,
              "#7201a8"
             ],
             [
              0.3333333333333333,
              "#9c179e"
             ],
             [
              0.4444444444444444,
              "#bd3786"
             ],
             [
              0.5555555555555556,
              "#d8576b"
             ],
             [
              0.6666666666666666,
              "#ed7953"
             ],
             [
              0.7777777777777778,
              "#fb9f3a"
             ],
             [
              0.8888888888888888,
              "#fdca26"
             ],
             [
              1,
              "#f0f921"
             ]
            ],
            "type": "surface"
           }
          ],
          "table": [
           {
            "cells": {
             "fill": {
              "color": "#EBF0F8"
             },
             "line": {
              "color": "white"
             }
            },
            "header": {
             "fill": {
              "color": "#C8D4E3"
             },
             "line": {
              "color": "white"
             }
            },
            "type": "table"
           }
          ]
         },
         "layout": {
          "annotationdefaults": {
           "arrowcolor": "#2a3f5f",
           "arrowhead": 0,
           "arrowwidth": 1
          },
          "autotypenumbers": "strict",
          "coloraxis": {
           "colorbar": {
            "outlinewidth": 0,
            "ticks": ""
           }
          },
          "colorscale": {
           "diverging": [
            [
             0,
             "#8e0152"
            ],
            [
             0.1,
             "#c51b7d"
            ],
            [
             0.2,
             "#de77ae"
            ],
            [
             0.3,
             "#f1b6da"
            ],
            [
             0.4,
             "#fde0ef"
            ],
            [
             0.5,
             "#f7f7f7"
            ],
            [
             0.6,
             "#e6f5d0"
            ],
            [
             0.7,
             "#b8e186"
            ],
            [
             0.8,
             "#7fbc41"
            ],
            [
             0.9,
             "#4d9221"
            ],
            [
             1,
             "#276419"
            ]
           ],
           "sequential": [
            [
             0,
             "#0d0887"
            ],
            [
             0.1111111111111111,
             "#46039f"
            ],
            [
             0.2222222222222222,
             "#7201a8"
            ],
            [
             0.3333333333333333,
             "#9c179e"
            ],
            [
             0.4444444444444444,
             "#bd3786"
            ],
            [
             0.5555555555555556,
             "#d8576b"
            ],
            [
             0.6666666666666666,
             "#ed7953"
            ],
            [
             0.7777777777777778,
             "#fb9f3a"
            ],
            [
             0.8888888888888888,
             "#fdca26"
            ],
            [
             1,
             "#f0f921"
            ]
           ],
           "sequentialminus": [
            [
             0,
             "#0d0887"
            ],
            [
             0.1111111111111111,
             "#46039f"
            ],
            [
             0.2222222222222222,
             "#7201a8"
            ],
            [
             0.3333333333333333,
             "#9c179e"
            ],
            [
             0.4444444444444444,
             "#bd3786"
            ],
            [
             0.5555555555555556,
             "#d8576b"
            ],
            [
             0.6666666666666666,
             "#ed7953"
            ],
            [
             0.7777777777777778,
             "#fb9f3a"
            ],
            [
             0.8888888888888888,
             "#fdca26"
            ],
            [
             1,
             "#f0f921"
            ]
           ]
          },
          "colorway": [
           "#636efa",
           "#EF553B",
           "#00cc96",
           "#ab63fa",
           "#FFA15A",
           "#19d3f3",
           "#FF6692",
           "#B6E880",
           "#FF97FF",
           "#FECB52"
          ],
          "font": {
           "color": "#2a3f5f"
          },
          "geo": {
           "bgcolor": "white",
           "lakecolor": "white",
           "landcolor": "#E5ECF6",
           "showlakes": true,
           "showland": true,
           "subunitcolor": "white"
          },
          "hoverlabel": {
           "align": "left"
          },
          "hovermode": "closest",
          "mapbox": {
           "style": "light"
          },
          "paper_bgcolor": "white",
          "plot_bgcolor": "#E5ECF6",
          "polar": {
           "angularaxis": {
            "gridcolor": "white",
            "linecolor": "white",
            "ticks": ""
           },
           "bgcolor": "#E5ECF6",
           "radialaxis": {
            "gridcolor": "white",
            "linecolor": "white",
            "ticks": ""
           }
          },
          "scene": {
           "xaxis": {
            "backgroundcolor": "#E5ECF6",
            "gridcolor": "white",
            "gridwidth": 2,
            "linecolor": "white",
            "showbackground": true,
            "ticks": "",
            "zerolinecolor": "white"
           },
           "yaxis": {
            "backgroundcolor": "#E5ECF6",
            "gridcolor": "white",
            "gridwidth": 2,
            "linecolor": "white",
            "showbackground": true,
            "ticks": "",
            "zerolinecolor": "white"
           },
           "zaxis": {
            "backgroundcolor": "#E5ECF6",
            "gridcolor": "white",
            "gridwidth": 2,
            "linecolor": "white",
            "showbackground": true,
            "ticks": "",
            "zerolinecolor": "white"
           }
          },
          "shapedefaults": {
           "line": {
            "color": "#2a3f5f"
           }
          },
          "ternary": {
           "aaxis": {
            "gridcolor": "white",
            "linecolor": "white",
            "ticks": ""
           },
           "baxis": {
            "gridcolor": "white",
            "linecolor": "white",
            "ticks": ""
           },
           "bgcolor": "#E5ECF6",
           "caxis": {
            "gridcolor": "white",
            "linecolor": "white",
            "ticks": ""
           }
          },
          "title": {
           "x": 0.05
          },
          "xaxis": {
           "automargin": true,
           "gridcolor": "white",
           "linecolor": "white",
           "ticks": "",
           "title": {
            "standoff": 15
           },
           "zerolinecolor": "white",
           "zerolinewidth": 2
          },
          "yaxis": {
           "automargin": true,
           "gridcolor": "white",
           "linecolor": "white",
           "ticks": "",
           "title": {
            "standoff": 15
           },
           "zerolinecolor": "white",
           "zerolinewidth": 2
          }
         }
        },
        "xaxis": {
         "anchor": "y",
         "domain": [
          0,
          1
         ],
         "title": {
          "text": "성별"
         }
        },
        "yaxis": {
         "anchor": "x",
         "domain": [
          0,
          1
         ],
         "title": {
          "text": "value"
         }
        }
       }
      },
      "image/png": "[encoded data removed]",
      "text/html": [
       "<div>                            <div id=\"5ab1dcec-9c9a-4356-aa3c-98de07838f35\" class=\"plotly-graph-div\" style=\"height:525px; width:100%;\"></div>            <script type=\"text/javascript\">                require([\"plotly\"], function(Plotly) {                    window.PLOTLYENV=window.PLOTLYENV || {};                                    if (document.getElementById(\"5ab1dcec-9c9a-4356-aa3c-98de07838f35\")) {                    Plotly.newPlot(                        \"5ab1dcec-9c9a-4356-aa3c-98de07838f35\",                        [{\"alignmentgroup\":\"True\",\"hovertemplate\":\"variable=\\ucd1d\\uad6c\\ub9e4\\uae08\\uc561\\ud569\\u003cbr\\u003e\\uc131\\ubcc4=%{x}\\u003cbr\\u003evalue=%{y}\\u003cextra\\u003e\\u003c\\u002fextra\\u003e\",\"legendgroup\":\"\\ucd1d\\uad6c\\ub9e4\\uae08\\uc561\\ud569\",\"marker\":{\"color\":\"#636efa\",\"pattern\":{\"shape\":\"\"}},\"name\":\"\\ucd1d\\uad6c\\ub9e4\\uae08\\uc561\\ud569\",\"offsetgroup\":\"\\ucd1d\\uad6c\\ub9e4\\uae08\\uc561\\ud569\",\"orientation\":\"v\",\"showlegend\":true,\"textposition\":\"auto\",\"x\":[\"\\ub0a8\",\"\\uc5ec\"],\"xaxis\":\"x\",\"y\":[483480.5144508671,1042474.1372809347],\"yaxis\":\"y\",\"type\":\"bar\"},{\"alignmentgroup\":\"True\",\"hovertemplate\":\"variable=\\ucd1d\\uad6c\\ub9e4\\uae08\\uc561\\ud3c9\\uade0\\u003cbr\\u003e\\uc131\\ubcc4=%{x}\\u003cbr\\u003evalue=%{y}\\u003cextra\\u003e\\u003c\\u002fextra\\u003e\",\"legendgroup\":\"\\ucd1d\\uad6c\\ub9e4\\uae08\\uc561\\ud3c9\\uade0\",\"marker\":{\"color\":\"#EF553B\",\"pattern\":{\"shape\":\"\"}},\"name\":\"\\ucd1d\\uad6c\\ub9e4\\uae08\\uc561\\ud3c9\\uade0\",\"offsetgroup\":\"\\ucd1d\\uad6c\\ub9e4\\uae08\\uc561\\ud3c9\\uade0\",\"orientation\":\"v\",\"showlegend\":true,\"textposition\":\"auto\",\"x\":[\"\\ub0a8\",\"\\uc5ec\"],\"xaxis\":\"x\",\"y\":[250926387.0,3925957601.0],\"yaxis\":\"y\",\"type\":\"bar\"}],                        {\"template\":{\"data\":{\"histogram2dcontour\":[{\"type\":\"histogram2dcontour\",\"colorbar\":{\"outlinewidth\":0,\"ticks\":\"\"},\"colorscale\":[[0.0,\"#0d0887\"],[0.1111111111111111,\"#46039f\"],[0.2222222222222222,\"#7201a8\"],[0.3333333333333333,\"#9c179e\"],[0.4444444444444444,\"#bd3786\"],[0.5555555555555556,\"#d8576b\"],[0.6666666666666666,\"#ed7953\"],[0.7777777777777778,\"#fb9f3a\"],[0.8888888888888888,\"#fdca26\"],[1.0,\"#f0f921\"]]}],\"choropleth\":[{\"type\":\"choropleth\",\"colorbar\":{\"outlinewidth\":0,\"ticks\":\"\"}}],\"histogram2d\":[{\"type\":\"histogram2d\",\"colorbar\":{\"outlinewidth\":0,\"ticks\":\"\"},\"colorscale\":[[0.0,\"#0d0887\"],[0.1111111111111111,\"#46039f\"],[0.2222222222222222,\"#7201a8\"],[0.3333333333333333,\"#9c179e\"],[0.4444444444444444,\"#bd3786\"],[0.5555555555555556,\"#d8576b\"],[0.6666666666666666,\"#ed7953\"],[0.7777777777777778,\"#fb9f3a\"],[0.8888888888888888,\"#fdca26\"],[1.0,\"#f0f921\"]]}],\"heatmap\":[{\"type\":\"heatmap\",\"colorbar\":{\"outlinewidth\":0,\"ticks\":\"\"},\"colorscale\":[[0.0,\"#0d0887\"],[0.1111111111111111,\"#46039f\"],[0.2222222222222222,\"#7201a8\"],[0.3333333333333333,\"#9c179e\"],[0.4444444444444444,\"#bd3786\"],[0.5555555555555556,\"#d8576b\"],[0.6666666666666666,\"#ed7953\"],[0.7777777777777778,\"#fb9f3a\"],[0.8888888888888888,\"#fdca26\"],[1.0,\"#f0f921\"]]}],\"heatmapgl\":[{\"type\":\"heatmapgl\",\"colorbar\":{\"outlinewidth\":0,\"ticks\":\"\"},\"colorscale\":[[0.0,\"#0d0887\"],[0.1111111111111111,\"#46039f\"],[0.2222222222222222,\"#7201a8\"],[0.3333333333333333,\"#9c179e\"],[0.4444444444444444,\"#bd3786\"],[0.5555555555555556,\"#d8576b\"],[0.6666666666666666,\"#ed7953\"],[0.7777777777777778,\"#fb9f3a\"],[0.8888888888888888,\"#fdca26\"],[1.0,\"#f0f921\"]]}],\"contourcarpet\":[{\"type\":\"contourcarpet\",\"colorbar\":{\"outlinewidth\":0,\"ticks\":\"\"}}],\"contour\":[{\"type\":\"contour\",\"colorbar\":{\"outlinewidth\":0,\"ticks\":\"\"},\"colorscale\":[[0.0,\"#0d0887\"],[0.1111111111111111,\"#46039f\"],[0.2222222222222222,\"#7201a8\"],[0.3333333333333333,\"#9c179e\"],[0.4444444444444444,\"#bd3786\"],[0.5555555555555556,\"#d8576b\"],[0.6666666666666666,\"#ed7953\"],[0.7777777777777778,\"#fb9f3a\"],[0.8888888888888888,\"#fdca26\"],[1.0,\"#f0f921\"]]}],\"surface\":[{\"type\":\"surface\",\"colorbar\":{\"outlinewidth\":0,\"ticks\":\"\"},\"colorscale\":[[0.0,\"#0d0887\"],[0.1111111111111111,\"#46039f\"],[0.2222222222222222,\"#7201a8\"],[0.3333333333333333,\"#9c179e\"],[0.4444444444444444,\"#bd3786\"],[0.5555555555555556,\"#d8576b\"],[0.6666666666666666,\"#ed7953\"],[0.7777777777777778,\"#fb9f3a\"],[0.8888888888888888,\"#fdca26\"],[1.0,\"#f0f921\"]]}],\"mesh3d\":[{\"type\":\"mesh3d\",\"colorbar\":{\"outlinewidth\":0,\"ticks\":\"\"}}],\"scatter\":[{\"fillpattern\":{\"fillmode\":\"overlay\",\"size\":10,\"solidity\":0.2},\"type\":\"scatter\"}],\"parcoords\":[{\"type\":\"parcoords\",\"line\":{\"colorbar\":{\"outlinewidth\":0,\"ticks\":\"\"}}}],\"scatterpolargl\":[{\"type\":\"scatterpolargl\",\"marker\":{\"colorbar\":{\"outlinewidth\":0,\"ticks\":\"\"}}}],\"bar\":[{\"error_x\":{\"color\":\"#2a3f5f\"},\"error_y\":{\"color\":\"#2a3f5f\"},\"marker\":{\"line\":{\"color\":\"#E5ECF6\",\"width\":0.5},\"pattern\":{\"fillmode\":\"overlay\",\"size\":10,\"solidity\":0.2}},\"type\":\"bar\"}],\"scattergeo\":[{\"type\":\"scattergeo\",\"marker\":{\"colorbar\":{\"outlinewidth\":0,\"ticks\":\"\"}}}],\"scatterpolar\":[{\"type\":\"scatterpolar\",\"marker\":{\"colorbar\":{\"outlinewidth\":0,\"ticks\":\"\"}}}],\"histogram\":[{\"marker\":{\"pattern\":{\"fillmode\":\"overlay\",\"size\":10,\"solidity\":0.2}},\"type\":\"histogram\"}],\"scattergl\":[{\"type\":\"scattergl\",\"marker\":{\"colorbar\":{\"outlinewidth\":0,\"ticks\":\"\"}}}],\"scatter3d\":[{\"type\":\"scatter3d\",\"line\":{\"colorbar\":{\"outlinewidth\":0,\"ticks\":\"\"}},\"marker\":{\"colorbar\":{\"outlinewidth\":0,\"ticks\":\"\"}}}],\"scattermapbox\":[{\"type\":\"scattermapbox\",\"marker\":{\"colorbar\":{\"outlinewidth\":0,\"ticks\":\"\"}}}],\"scatterternary\":[{\"type\":\"scatterternary\",\"marker\":{\"colorbar\":{\"outlinewidth\":0,\"ticks\":\"\"}}}],\"scattercarpet\":[{\"type\":\"scattercarpet\",\"marker\":{\"colorbar\":{\"outlinewidth\":0,\"ticks\":\"\"}}}],\"carpet\":[{\"aaxis\":{\"endlinecolor\":\"#2a3f5f\",\"gridcolor\":\"white\",\"linecolor\":\"white\",\"minorgridcolor\":\"white\",\"startlinecolor\":\"#2a3f5f\"},\"baxis\":{\"endlinecolor\":\"#2a3f5f\",\"gridcolor\":\"white\",\"linecolor\":\"white\",\"minorgridcolor\":\"white\",\"startlinecolor\":\"#2a3f5f\"},\"type\":\"carpet\"}],\"table\":[{\"cells\":{\"fill\":{\"color\":\"#EBF0F8\"},\"line\":{\"color\":\"white\"}},\"header\":{\"fill\":{\"color\":\"#C8D4E3\"},\"line\":{\"color\":\"white\"}},\"type\":\"table\"}],\"barpolar\":[{\"marker\":{\"line\":{\"color\":\"#E5ECF6\",\"width\":0.5},\"pattern\":{\"fillmode\":\"overlay\",\"size\":10,\"solidity\":0.2}},\"type\":\"barpolar\"}],\"pie\":[{\"automargin\":true,\"type\":\"pie\"}]},\"layout\":{\"autotypenumbers\":\"strict\",\"colorway\":[\"#636efa\",\"#EF553B\",\"#00cc96\",\"#ab63fa\",\"#FFA15A\",\"#19d3f3\",\"#FF6692\",\"#B6E880\",\"#FF97FF\",\"#FECB52\"],\"font\":{\"color\":\"#2a3f5f\"},\"hovermode\":\"closest\",\"hoverlabel\":{\"align\":\"left\"},\"paper_bgcolor\":\"white\",\"plot_bgcolor\":\"#E5ECF6\",\"polar\":{\"bgcolor\":\"#E5ECF6\",\"angularaxis\":{\"gridcolor\":\"white\",\"linecolor\":\"white\",\"ticks\":\"\"},\"radialaxis\":{\"gridcolor\":\"white\",\"linecolor\":\"white\",\"ticks\":\"\"}},\"ternary\":{\"bgcolor\":\"#E5ECF6\",\"aaxis\":{\"gridcolor\":\"white\",\"linecolor\":\"white\",\"ticks\":\"\"},\"baxis\":{\"gridcolor\":\"white\",\"linecolor\":\"white\",\"ticks\":\"\"},\"caxis\":{\"gridcolor\":\"white\",\"linecolor\":\"white\",\"ticks\":\"\"}},\"coloraxis\":{\"colorbar\":{\"outlinewidth\":0,\"ticks\":\"\"}},\"colorscale\":{\"sequential\":[[0.0,\"#0d0887\"],[0.1111111111111111,\"#46039f\"],[0.2222222222222222,\"#7201a8\"],[0.3333333333333333,\"#9c179e\"],[0.4444444444444444,\"#bd3786\"],[0.5555555555555556,\"#d8576b\"],[0.6666666666666666,\"#ed7953\"],[0.7777777777777778,\"#fb9f3a\"],[0.8888888888888888,\"#fdca26\"],[1.0,\"#f0f921\"]],\"sequentialminus\":[[0.0,\"#0d0887\"],[0.1111111111111111,\"#46039f\"],[0.2222222222222222,\"#7201a8\"],[0.3333333333333333,\"#9c179e\"],[0.4444444444444444,\"#bd3786\"],[0.5555555555555556,\"#d8576b\"],[0.6666666666666666,\"#ed7953\"],[0.7777777777777778,\"#fb9f3a\"],[0.8888888888888888,\"#fdca26\"],[1.0,\"#f0f921\"]],\"diverging\":[[0,\"#8e0152\"],[0.1,\"#c51b7d\"],[0.2,\"#de77ae\"],[0.3,\"#f1b6da\"],[0.4,\"#fde0ef\"],[0.5,\"#f7f7f7\"],[0.6,\"#e6f5d0\"],[0.7,\"#b8e186\"],[0.8,\"#7fbc41\"],[0.9,\"#4d9221\"],[1,\"#276419\"]]},\"xaxis\":{\"gridcolor\":\"white\",\"linecolor\":\"white\",\"ticks\":\"\",\"title\":{\"standoff\":15},\"zerolinecolor\":\"white\",\"automargin\":true,\"zerolinewidth\":2},\"yaxis\":{\"gridcolor\":\"white\",\"linecolor\":\"white\",\"ticks\":\"\",\"title\":{\"standoff\":15},\"zerolinecolor\":\"white\",\"automargin\":true,\"zerolinewidth\":2},\"scene\":{\"xaxis\":{\"backgroundcolor\":\"#E5ECF6\",\"gridcolor\":\"white\",\"linecolor\":\"white\",\"showbackground\":true,\"ticks\":\"\",\"zerolinecolor\":\"white\",\"gridwidth\":2},\"yaxis\":{\"backgroundcolor\":\"#E5ECF6\",\"gridcolor\":\"white\",\"linecolor\":\"white\",\"showbackground\":true,\"ticks\":\"\",\"zerolinecolor\":\"white\",\"gridwidth\":2},\"zaxis\":{\"backgroundcolor\":\"#E5ECF6\",\"gridcolor\":\"white\",\"linecolor\":\"white\",\"showbackground\":true,\"ticks\":\"\",\"zerolinecolor\":\"white\",\"gridwidth\":2}},\"shapedefaults\":{\"line\":{\"color\":\"#2a3f5f\"}},\"annotationdefaults\":{\"arrowcolor\":\"#2a3f5f\",\"arrowhead\":0,\"arrowwidth\":1},\"geo\":{\"bgcolor\":\"white\",\"landcolor\":\"#E5ECF6\",\"subunitcolor\":\"white\",\"showland\":true,\"showlakes\":true,\"lakecolor\":\"white\"},\"title\":{\"x\":0.05},\"mapbox\":{\"style\":\"light\"}}},\"xaxis\":{\"anchor\":\"y\",\"domain\":[0.0,1.0],\"title\":{\"text\":\"\\uc131\\ubcc4\"}},\"yaxis\":{\"anchor\":\"x\",\"domain\":[0.0,1.0],\"title\":{\"text\":\"value\"}},\"legend\":{\"title\":{\"text\":\"variable\"},\"tracegroupgap\":0},\"margin\":{\"t\":60},\"barmode\":\"relative\"},                        {\"responsive\": true}                    ).then(function(){\n",
       "                            \n",
       "var gd = document.getElementById('5ab1dcec-9c9a-4356-aa3c-98de07838f35');\n",
       "var x = new MutationObserver(function (mutations, observer) {{\n",
       "        var display = window.getComputedStyle(gd).display;\n",
       "        if (!display || display === 'none') {{\n",
       "            console.log([gd, 'removed!']);\n",
       "            Plotly.purge(gd);\n",
       "            observer.disconnect();\n",
       "        }}\n",
       "}});\n",
       "\n",
       "// Listen for the removal of the full notebook cells\n",
       "var notebookContainer = gd.closest('#notebook-container');\n",
       "if (notebookContainer) {{\n",
       "    x.observe(notebookContainer, {childList: true});\n",
       "}}\n",
       "\n",
       "// Listen for the clearing of the current output cell\n",
       "var outputEl = gd.closest('.output');\n",
       "if (outputEl) {{\n",
       "    x.observe(outputEl, {childList: true});\n",
       "}}\n",
       "\n",
       "                        })                };                });            </script>        </div>"
      ]
     },
     "metadata": {},
     "output_type": "display_data"
    }
   ],
   "source": [
    "p2 = p1.melt(id_vars = '성별')\n",
    "px.bar(p2, x = '성별', y = 'value', color = 'variable')"
   ]
  },
  {
   "cell_type": "code",
   "execution_count": 45,
   "id": "97204299-15ec-4103-86c0-58f52b439130",
   "metadata": {
    "scrolled": true
   },
   "outputs": [
    {
     "data": {
      "text/html": [
       "<div>\n",
       "<style scoped>\n",
       "    .dataframe tbody tr th:only-of-type {\n",
       "        vertical-align: middle;\n",
       "    }\n",
       "\n",
       "    .dataframe tbody tr th {\n",
       "        vertical-align: top;\n",
       "    }\n",
       "\n",
       "    .dataframe thead th {\n",
       "        text-align: right;\n",
       "    }\n",
       "</style>\n",
       "<table border=\"1\" class=\"dataframe\">\n",
       "  <thead>\n",
       "    <tr style=\"text-align: right;\">\n",
       "      <th></th>\n",
       "      <th>Unnamed: 0</th>\n",
       "      <th>회원번호</th>\n",
       "      <th>회원상태</th>\n",
       "      <th>성별</th>\n",
       "      <th>결혼유무</th>\n",
       "      <th>주소</th>\n",
       "      <th>연령</th>\n",
       "      <th>총구매금액</th>\n",
       "      <th>총구매수량</th>\n",
       "      <th>총방문횟수</th>\n",
       "    </tr>\n",
       "  </thead>\n",
       "  <tbody>\n",
       "    <tr>\n",
       "      <th>39</th>\n",
       "      <td>39</td>\n",
       "      <td>2141</td>\n",
       "      <td>정상회원</td>\n",
       "      <td>여</td>\n",
       "      <td>기혼</td>\n",
       "      <td>경기 용인시 수지구 풍덕천2</td>\n",
       "      <td>50</td>\n",
       "      <td>15302800</td>\n",
       "      <td>2896.70</td>\n",
       "      <td>173</td>\n",
       "    </tr>\n",
       "    <tr>\n",
       "      <th>3645</th>\n",
       "      <td>3645</td>\n",
       "      <td>5856</td>\n",
       "      <td>탈퇴</td>\n",
       "      <td>여</td>\n",
       "      <td>기혼</td>\n",
       "      <td>경기 용인시 수지구 신봉동</td>\n",
       "      <td>46</td>\n",
       "      <td>21217470</td>\n",
       "      <td>4006.96</td>\n",
       "      <td>172</td>\n",
       "    </tr>\n",
       "    <tr>\n",
       "      <th>2441</th>\n",
       "      <td>2441</td>\n",
       "      <td>4649</td>\n",
       "      <td>탈퇴</td>\n",
       "      <td>여</td>\n",
       "      <td>기혼</td>\n",
       "      <td>경기 용인시 수지구 풍덕천2</td>\n",
       "      <td>46</td>\n",
       "      <td>16471290</td>\n",
       "      <td>3447.20</td>\n",
       "      <td>171</td>\n",
       "    </tr>\n",
       "    <tr>\n",
       "      <th>1928</th>\n",
       "      <td>1928</td>\n",
       "      <td>4135</td>\n",
       "      <td>탈퇴</td>\n",
       "      <td>여</td>\n",
       "      <td>기혼</td>\n",
       "      <td>경기 용인시 수지구 신봉동</td>\n",
       "      <td>49</td>\n",
       "      <td>18381620</td>\n",
       "      <td>3219.43</td>\n",
       "      <td>170</td>\n",
       "    </tr>\n",
       "    <tr>\n",
       "      <th>156</th>\n",
       "      <td>156</td>\n",
       "      <td>2277</td>\n",
       "      <td>정상회원</td>\n",
       "      <td>여</td>\n",
       "      <td>기혼</td>\n",
       "      <td>경기 용인시 수지구 풍덕천2</td>\n",
       "      <td>47</td>\n",
       "      <td>21950630</td>\n",
       "      <td>4425.70</td>\n",
       "      <td>170</td>\n",
       "    </tr>\n",
       "    <tr>\n",
       "      <th>2857</th>\n",
       "      <td>2857</td>\n",
       "      <td>5068</td>\n",
       "      <td>탈퇴</td>\n",
       "      <td>여</td>\n",
       "      <td>기혼</td>\n",
       "      <td>경기 용인시 수지구 동천동</td>\n",
       "      <td>47</td>\n",
       "      <td>21285710</td>\n",
       "      <td>4180.50</td>\n",
       "      <td>170</td>\n",
       "    </tr>\n",
       "    <tr>\n",
       "      <th>142</th>\n",
       "      <td>142</td>\n",
       "      <td>2260</td>\n",
       "      <td>정상회원</td>\n",
       "      <td>여</td>\n",
       "      <td>기혼</td>\n",
       "      <td>경기 용인시 수지구 풍덕천동</td>\n",
       "      <td>41</td>\n",
       "      <td>18681595</td>\n",
       "      <td>3870.15</td>\n",
       "      <td>169</td>\n",
       "    </tr>\n",
       "    <tr>\n",
       "      <th>166</th>\n",
       "      <td>166</td>\n",
       "      <td>2288</td>\n",
       "      <td>정상회원</td>\n",
       "      <td>여</td>\n",
       "      <td>기혼</td>\n",
       "      <td>경기 용인시 수지구 풍덕천동</td>\n",
       "      <td>50</td>\n",
       "      <td>17170370</td>\n",
       "      <td>2921.50</td>\n",
       "      <td>166</td>\n",
       "    </tr>\n",
       "    <tr>\n",
       "      <th>103</th>\n",
       "      <td>103</td>\n",
       "      <td>2214</td>\n",
       "      <td>정상회원</td>\n",
       "      <td>여</td>\n",
       "      <td>기혼</td>\n",
       "      <td>경기 용인시 수지구 풍덕천2</td>\n",
       "      <td>42</td>\n",
       "      <td>14895300</td>\n",
       "      <td>2986.40</td>\n",
       "      <td>162</td>\n",
       "    </tr>\n",
       "    <tr>\n",
       "      <th>372</th>\n",
       "      <td>372</td>\n",
       "      <td>2521</td>\n",
       "      <td>정상회원</td>\n",
       "      <td>여</td>\n",
       "      <td>기혼</td>\n",
       "      <td>경기 용인시 수지구 신봉동</td>\n",
       "      <td>44</td>\n",
       "      <td>13609730</td>\n",
       "      <td>2985.55</td>\n",
       "      <td>161</td>\n",
       "    </tr>\n",
       "    <tr>\n",
       "      <th>202</th>\n",
       "      <td>202</td>\n",
       "      <td>2329</td>\n",
       "      <td>정상회원</td>\n",
       "      <td>여</td>\n",
       "      <td>기혼</td>\n",
       "      <td>경기 용인시 수지구 풍덕천2</td>\n",
       "      <td>56</td>\n",
       "      <td>5575655</td>\n",
       "      <td>1280.60</td>\n",
       "      <td>160</td>\n",
       "    </tr>\n",
       "    <tr>\n",
       "      <th>113</th>\n",
       "      <td>113</td>\n",
       "      <td>2229</td>\n",
       "      <td>정상회원</td>\n",
       "      <td>여</td>\n",
       "      <td>기혼</td>\n",
       "      <td>경기 용인시 수지구 풍덕천동</td>\n",
       "      <td>42</td>\n",
       "      <td>13395720</td>\n",
       "      <td>2647.50</td>\n",
       "      <td>159</td>\n",
       "    </tr>\n",
       "    <tr>\n",
       "      <th>233</th>\n",
       "      <td>233</td>\n",
       "      <td>2363</td>\n",
       "      <td>정상회원</td>\n",
       "      <td>여</td>\n",
       "      <td>기혼</td>\n",
       "      <td>경기 용인시 수지구 풍덕천동</td>\n",
       "      <td>47</td>\n",
       "      <td>10033855</td>\n",
       "      <td>2088.85</td>\n",
       "      <td>158</td>\n",
       "    </tr>\n",
       "    <tr>\n",
       "      <th>479</th>\n",
       "      <td>479</td>\n",
       "      <td>2637</td>\n",
       "      <td>탈퇴</td>\n",
       "      <td>남</td>\n",
       "      <td>기혼</td>\n",
       "      <td>서울 중구 장충동1가 31-</td>\n",
       "      <td>35</td>\n",
       "      <td>19646542</td>\n",
       "      <td>3566.35</td>\n",
       "      <td>156</td>\n",
       "    </tr>\n",
       "    <tr>\n",
       "      <th>1012</th>\n",
       "      <td>1012</td>\n",
       "      <td>3203</td>\n",
       "      <td>탈퇴</td>\n",
       "      <td>여</td>\n",
       "      <td>기혼</td>\n",
       "      <td>경기 용인시 수지구 동천동</td>\n",
       "      <td>48</td>\n",
       "      <td>13786410</td>\n",
       "      <td>2785.40</td>\n",
       "      <td>155</td>\n",
       "    </tr>\n",
       "    <tr>\n",
       "      <th>307</th>\n",
       "      <td>307</td>\n",
       "      <td>2449</td>\n",
       "      <td>정상회원</td>\n",
       "      <td>여</td>\n",
       "      <td>기혼</td>\n",
       "      <td>경기 용인시 수지구 풍덕천2</td>\n",
       "      <td>45</td>\n",
       "      <td>8853580</td>\n",
       "      <td>2048.35</td>\n",
       "      <td>153</td>\n",
       "    </tr>\n",
       "    <tr>\n",
       "      <th>144</th>\n",
       "      <td>144</td>\n",
       "      <td>2263</td>\n",
       "      <td>정상회원</td>\n",
       "      <td>여</td>\n",
       "      <td>기혼</td>\n",
       "      <td>경기 용인시 수지구 풍덕천2</td>\n",
       "      <td>51</td>\n",
       "      <td>11917750</td>\n",
       "      <td>2279.30</td>\n",
       "      <td>152</td>\n",
       "    </tr>\n",
       "    <tr>\n",
       "      <th>692</th>\n",
       "      <td>692</td>\n",
       "      <td>2871</td>\n",
       "      <td>정상회원</td>\n",
       "      <td>여</td>\n",
       "      <td>기혼</td>\n",
       "      <td>경기 용인시 수지구 성복동</td>\n",
       "      <td>48</td>\n",
       "      <td>15670140</td>\n",
       "      <td>2834.65</td>\n",
       "      <td>152</td>\n",
       "    </tr>\n",
       "    <tr>\n",
       "      <th>262</th>\n",
       "      <td>262</td>\n",
       "      <td>2397</td>\n",
       "      <td>정상회원</td>\n",
       "      <td>여</td>\n",
       "      <td>기혼</td>\n",
       "      <td>경기 용인시 수지구 풍덕천2</td>\n",
       "      <td>49</td>\n",
       "      <td>9319260</td>\n",
       "      <td>1687.80</td>\n",
       "      <td>152</td>\n",
       "    </tr>\n",
       "    <tr>\n",
       "      <th>186</th>\n",
       "      <td>186</td>\n",
       "      <td>2310</td>\n",
       "      <td>정상회원</td>\n",
       "      <td>여</td>\n",
       "      <td>기혼</td>\n",
       "      <td>경기 용인시 수지구 풍덕천2</td>\n",
       "      <td>43</td>\n",
       "      <td>8750730</td>\n",
       "      <td>1686.00</td>\n",
       "      <td>151</td>\n",
       "    </tr>\n",
       "    <tr>\n",
       "      <th>806</th>\n",
       "      <td>806</td>\n",
       "      <td>2992</td>\n",
       "      <td>정상회원</td>\n",
       "      <td>여</td>\n",
       "      <td>기혼</td>\n",
       "      <td>경기 용인시 수지구 풍덕천동</td>\n",
       "      <td>49</td>\n",
       "      <td>9183600</td>\n",
       "      <td>1900.20</td>\n",
       "      <td>149</td>\n",
       "    </tr>\n",
       "    <tr>\n",
       "      <th>2698</th>\n",
       "      <td>2698</td>\n",
       "      <td>4909</td>\n",
       "      <td>탈퇴</td>\n",
       "      <td>여</td>\n",
       "      <td>기혼</td>\n",
       "      <td>경기 용인시 수지구 풍덕천2</td>\n",
       "      <td>39</td>\n",
       "      <td>5655670</td>\n",
       "      <td>1426.30</td>\n",
       "      <td>147</td>\n",
       "    </tr>\n",
       "    <tr>\n",
       "      <th>3487</th>\n",
       "      <td>3487</td>\n",
       "      <td>5698</td>\n",
       "      <td>탈퇴</td>\n",
       "      <td>여</td>\n",
       "      <td>기혼</td>\n",
       "      <td>경기 용인시 수지구 신봉동</td>\n",
       "      <td>45</td>\n",
       "      <td>9511415</td>\n",
       "      <td>2024.37</td>\n",
       "      <td>146</td>\n",
       "    </tr>\n",
       "    <tr>\n",
       "      <th>9</th>\n",
       "      <td>9</td>\n",
       "      <td>2110</td>\n",
       "      <td>정상회원</td>\n",
       "      <td>여</td>\n",
       "      <td>기혼</td>\n",
       "      <td>경기 용인시 수지구 신봉동</td>\n",
       "      <td>53</td>\n",
       "      <td>5549725</td>\n",
       "      <td>1204.10</td>\n",
       "      <td>145</td>\n",
       "    </tr>\n",
       "    <tr>\n",
       "      <th>6</th>\n",
       "      <td>6</td>\n",
       "      <td>2107</td>\n",
       "      <td>정상회원</td>\n",
       "      <td>여</td>\n",
       "      <td>기혼</td>\n",
       "      <td>경기 용인시 수지구 신봉동</td>\n",
       "      <td>77</td>\n",
       "      <td>7161860</td>\n",
       "      <td>1419.75</td>\n",
       "      <td>143</td>\n",
       "    </tr>\n",
       "    <tr>\n",
       "      <th>297</th>\n",
       "      <td>297</td>\n",
       "      <td>2437</td>\n",
       "      <td>정상회원</td>\n",
       "      <td>여</td>\n",
       "      <td>기혼</td>\n",
       "      <td>경기 용인시 수지구 풍덕천1</td>\n",
       "      <td>45</td>\n",
       "      <td>5653580</td>\n",
       "      <td>1135.10</td>\n",
       "      <td>139</td>\n",
       "    </tr>\n",
       "    <tr>\n",
       "      <th>2199</th>\n",
       "      <td>2199</td>\n",
       "      <td>4406</td>\n",
       "      <td>탈퇴</td>\n",
       "      <td>여</td>\n",
       "      <td>기혼</td>\n",
       "      <td>경기 용인시 수지구 신봉동</td>\n",
       "      <td>41</td>\n",
       "      <td>12824280</td>\n",
       "      <td>2831.30</td>\n",
       "      <td>139</td>\n",
       "    </tr>\n",
       "    <tr>\n",
       "      <th>1421</th>\n",
       "      <td>1421</td>\n",
       "      <td>3626</td>\n",
       "      <td>탈퇴</td>\n",
       "      <td>여</td>\n",
       "      <td>기혼</td>\n",
       "      <td>경기 용인시 수지구 신봉동</td>\n",
       "      <td>47</td>\n",
       "      <td>9143295</td>\n",
       "      <td>1775.23</td>\n",
       "      <td>138</td>\n",
       "    </tr>\n",
       "    <tr>\n",
       "      <th>707</th>\n",
       "      <td>707</td>\n",
       "      <td>2887</td>\n",
       "      <td>정상회원</td>\n",
       "      <td>여</td>\n",
       "      <td>기혼</td>\n",
       "      <td>경기 용인시 수지구 풍덕천동</td>\n",
       "      <td>38</td>\n",
       "      <td>4713990</td>\n",
       "      <td>1144.10</td>\n",
       "      <td>137</td>\n",
       "    </tr>\n",
       "    <tr>\n",
       "      <th>130</th>\n",
       "      <td>130</td>\n",
       "      <td>2246</td>\n",
       "      <td>정상회원</td>\n",
       "      <td>여</td>\n",
       "      <td>기혼</td>\n",
       "      <td>경기 용인시 수지구 풍덕천동</td>\n",
       "      <td>40</td>\n",
       "      <td>7963710</td>\n",
       "      <td>1684.00</td>\n",
       "      <td>136</td>\n",
       "    </tr>\n",
       "  </tbody>\n",
       "</table>\n",
       "</div>"
      ],
      "text/plain": [
       "      Unnamed: 0  회원번호  회원상태 성별 결혼유무               주소  연령     총구매금액    총구매수량  \\\n",
       "39            39  2141  정상회원  여   기혼  경기 용인시 수지구 풍덕천2  50  15302800  2896.70   \n",
       "3645        3645  5856    탈퇴  여   기혼   경기 용인시 수지구 신봉동  46  21217470  4006.96   \n",
       "2441        2441  4649    탈퇴  여   기혼  경기 용인시 수지구 풍덕천2  46  16471290  3447.20   \n",
       "1928        1928  4135    탈퇴  여   기혼   경기 용인시 수지구 신봉동  49  18381620  3219.43   \n",
       "156          156  2277  정상회원  여   기혼  경기 용인시 수지구 풍덕천2  47  21950630  4425.70   \n",
       "2857        2857  5068    탈퇴  여   기혼   경기 용인시 수지구 동천동  47  21285710  4180.50   \n",
       "142          142  2260  정상회원  여   기혼  경기 용인시 수지구 풍덕천동  41  18681595  3870.15   \n",
       "166          166  2288  정상회원  여   기혼  경기 용인시 수지구 풍덕천동  50  17170370  2921.50   \n",
       "103          103  2214  정상회원  여   기혼  경기 용인시 수지구 풍덕천2  42  14895300  2986.40   \n",
       "372          372  2521  정상회원  여   기혼   경기 용인시 수지구 신봉동  44  13609730  2985.55   \n",
       "202          202  2329  정상회원  여   기혼  경기 용인시 수지구 풍덕천2  56   5575655  1280.60   \n",
       "113          113  2229  정상회원  여   기혼  경기 용인시 수지구 풍덕천동  42  13395720  2647.50   \n",
       "233          233  2363  정상회원  여   기혼  경기 용인시 수지구 풍덕천동  47  10033855  2088.85   \n",
       "479          479  2637    탈퇴  남   기혼  서울 중구 장충동1가 31-  35  19646542  3566.35   \n",
       "1012        1012  3203    탈퇴  여   기혼   경기 용인시 수지구 동천동  48  13786410  2785.40   \n",
       "307          307  2449  정상회원  여   기혼  경기 용인시 수지구 풍덕천2  45   8853580  2048.35   \n",
       "144          144  2263  정상회원  여   기혼  경기 용인시 수지구 풍덕천2  51  11917750  2279.30   \n",
       "692          692  2871  정상회원  여   기혼   경기 용인시 수지구 성복동  48  15670140  2834.65   \n",
       "262          262  2397  정상회원  여   기혼  경기 용인시 수지구 풍덕천2  49   9319260  1687.80   \n",
       "186          186  2310  정상회원  여   기혼  경기 용인시 수지구 풍덕천2  43   8750730  1686.00   \n",
       "806          806  2992  정상회원  여   기혼  경기 용인시 수지구 풍덕천동  49   9183600  1900.20   \n",
       "2698        2698  4909    탈퇴  여   기혼  경기 용인시 수지구 풍덕천2  39   5655670  1426.30   \n",
       "3487        3487  5698    탈퇴  여   기혼   경기 용인시 수지구 신봉동  45   9511415  2024.37   \n",
       "9              9  2110  정상회원  여   기혼   경기 용인시 수지구 신봉동  53   5549725  1204.10   \n",
       "6              6  2107  정상회원  여   기혼   경기 용인시 수지구 신봉동  77   7161860  1419.75   \n",
       "297          297  2437  정상회원  여   기혼  경기 용인시 수지구 풍덕천1  45   5653580  1135.10   \n",
       "2199        2199  4406    탈퇴  여   기혼   경기 용인시 수지구 신봉동  41  12824280  2831.30   \n",
       "1421        1421  3626    탈퇴  여   기혼   경기 용인시 수지구 신봉동  47   9143295  1775.23   \n",
       "707          707  2887  정상회원  여   기혼  경기 용인시 수지구 풍덕천동  38   4713990  1144.10   \n",
       "130          130  2246  정상회원  여   기혼  경기 용인시 수지구 풍덕천동  40   7963710  1684.00   \n",
       "\n",
       "      총방문횟수  \n",
       "39      173  \n",
       "3645    172  \n",
       "2441    171  \n",
       "1928    170  \n",
       "156     170  \n",
       "2857    170  \n",
       "142     169  \n",
       "166     166  \n",
       "103     162  \n",
       "372     161  \n",
       "202     160  \n",
       "113     159  \n",
       "233     158  \n",
       "479     156  \n",
       "1012    155  \n",
       "307     153  \n",
       "144     152  \n",
       "692     152  \n",
       "262     152  \n",
       "186     151  \n",
       "806     149  \n",
       "2698    147  \n",
       "3487    146  \n",
       "9       145  \n",
       "6       143  \n",
       "297     139  \n",
       "2199    139  \n",
       "1421    138  \n",
       "707     137  \n",
       "130     136  "
      ]
     },
     "execution_count": 45,
     "metadata": {},
     "output_type": "execute_result"
    }
   ],
   "source": [
    "# 14. '결혼유무'에서 '기혼'에 해당하는 고객들 중 '총방문횟수'가 높은 상위 30명의 고객명단을 확인 하시오.\n",
    "\n",
    "cond1 = df3['결혼유무'] == '기혼'\n",
    "df3.loc[cond1].sort_values(by = '총방문횟수', ascending = False).head(30)"
   ]
  },
  {
   "cell_type": "code",
   "execution_count": 49,
   "id": "e0ea6b2c-4d78-4a23-9851-46a1ef3c3a58",
   "metadata": {},
   "outputs": [
    {
     "data": {
      "text/plain": [
       "np.float64(195511.71931750863)"
      ]
     },
     "execution_count": 49,
     "metadata": {},
     "output_type": "execute_result"
    }
   ],
   "source": [
    "# 15. '연령'을 이용해, 고객 '연령대'를 계산하고, '총구매금액'의 합이 가장 높은 2개의 '연령대'를 확인하여, \n",
    "# 두 연령대 간의 '총구매금액'의 평균의 차이를 계산 하시오.\n",
    "\n",
    "def func1(row):\n",
    "    if pd.isnull(row):\n",
    "        return row\n",
    "    if row >= 90:\n",
    "        return '90대 이상'\n",
    "    else:\n",
    "        return str(row)[0] + '0대'\n",
    "    \n",
    "df3['연령대'] = df3['연령'].apply(func1)\n",
    "p2 = df3.pivot_table(index = '연령대', values = '총구매금액', aggfunc = 'sum').sort_values(by = '총구매금액', ascending = False)\n",
    "cond1 = df3['연령대'] == p2.index[0]\n",
    "cond2 = df3['연령대'] == p2.index[1]\n",
    "df3.loc[cond1]['총구매금액'].mean() - df3.loc[cond2]['총구매금액'].mean()"
   ]
  },
  {
   "cell_type": "code",
   "execution_count": 54,
   "id": "85aac387-5d72-47dc-82f7-62ddc7884a39",
   "metadata": {
    "scrolled": true
   },
   "outputs": [
    {
     "data": {
      "application/vnd.plotly.v1+json": {
       "config": {
        "plotlyServerURL": "https://plot.ly"
       },
       "data": [
        {
         "alignmentgroup": "True",
         "hovertemplate": "회원상태=%{x}<br>총구매금액=%{y}<extra></extra>",
         "legendgroup": "",
         "marker": {
          "color": "#636efa",
          "pattern": {
           "shape": ""
          }
         },
         "name": "",
         "offsetgroup": "",
         "orientation": "v",
         "showlegend": false,
         "textposition": "auto",
         "type": "bar",
         "x": [
          "이관처리중",
          "정상회원",
          "탈퇴",
          "탈퇴처리중"
         ],
         "xaxis": "x",
         "y": [
          43050,
          872618.8758454106,
          3869320.865248227,
          6208183.333333333
         ],
         "yaxis": "y"
        }
       ],
       "layout": {
        "barmode": "relative",
        "legend": {
         "tracegroupgap": 0
        },
        "margin": {
         "t": 60
        },
        "template": {
         "data": {
          "bar": [
           {
            "error_x": {
             "color": "#2a3f5f"
            },
            "error_y": {
             "color": "#2a3f5f"
            },
            "marker": {
             "line": {
              "color": "#E5ECF6",
              "width": 0.5
             },
             "pattern": {
              "fillmode": "overlay",
              "size": 10,
              "solidity": 0.2
             }
            },
            "type": "bar"
           }
          ],
          "barpolar": [
           {
            "marker": {
             "line": {
              "color": "#E5ECF6",
              "width": 0.5
             },
             "pattern": {
              "fillmode": "overlay",
              "size": 10,
              "solidity": 0.2
             }
            },
            "type": "barpolar"
           }
          ],
          "carpet": [
           {
            "aaxis": {
             "endlinecolor": "#2a3f5f",
             "gridcolor": "white",
             "linecolor": "white",
             "minorgridcolor": "white",
             "startlinecolor": "#2a3f5f"
            },
            "baxis": {
             "endlinecolor": "#2a3f5f",
             "gridcolor": "white",
             "linecolor": "white",
             "minorgridcolor": "white",
             "startlinecolor": "#2a3f5f"
            },
            "type": "carpet"
           }
          ],
          "choropleth": [
           {
            "colorbar": {
             "outlinewidth": 0,
             "ticks": ""
            },
            "type": "choropleth"
           }
          ],
          "contour": [
           {
            "colorbar": {
             "outlinewidth": 0,
             "ticks": ""
            },
            "colorscale": [
             [
              0,
              "#0d0887"
             ],
             [
              0.1111111111111111,
              "#46039f"
             ],
             [
              0.2222222222222222,
              "#7201a8"
             ],
             [
              0.3333333333333333,
              "#9c179e"
             ],
             [
              0.4444444444444444,
              "#bd3786"
             ],
             [
              0.5555555555555556,
              "#d8576b"
             ],
             [
              0.6666666666666666,
              "#ed7953"
             ],
             [
              0.7777777777777778,
              "#fb9f3a"
             ],
             [
              0.8888888888888888,
              "#fdca26"
             ],
             [
              1,
              "#f0f921"
             ]
            ],
            "type": "contour"
           }
          ],
          "contourcarpet": [
           {
            "colorbar": {
             "outlinewidth": 0,
             "ticks": ""
            },
            "type": "contourcarpet"
           }
          ],
          "heatmap": [
           {
            "colorbar": {
             "outlinewidth": 0,
             "ticks": ""
            },
            "colorscale": [
             [
              0,
              "#0d0887"
             ],
             [
              0.1111111111111111,
              "#46039f"
             ],
             [
              0.2222222222222222,
              "#7201a8"
             ],
             [
              0.3333333333333333,
              "#9c179e"
             ],
             [
              0.4444444444444444,
              "#bd3786"
             ],
             [
              0.5555555555555556,
              "#d8576b"
             ],
             [
              0.6666666666666666,
              "#ed7953"
             ],
             [
              0.7777777777777778,
              "#fb9f3a"
             ],
             [
              0.8888888888888888,
              "#fdca26"
             ],
             [
              1,
              "#f0f921"
             ]
            ],
            "type": "heatmap"
           }
          ],
          "heatmapgl": [
           {
            "colorbar": {
             "outlinewidth": 0,
             "ticks": ""
            },
            "colorscale": [
             [
              0,
              "#0d0887"
             ],
             [
              0.1111111111111111,
              "#46039f"
             ],
             [
              0.2222222222222222,
              "#7201a8"
             ],
             [
              0.3333333333333333,
              "#9c179e"
             ],
             [
              0.4444444444444444,
              "#bd3786"
             ],
             [
              0.5555555555555556,
              "#d8576b"
             ],
             [
              0.6666666666666666,
              "#ed7953"
             ],
             [
              0.7777777777777778,
              "#fb9f3a"
             ],
             [
              0.8888888888888888,
              "#fdca26"
             ],
             [
              1,
              "#f0f921"
             ]
            ],
            "type": "heatmapgl"
           }
          ],
          "histogram": [
           {
            "marker": {
             "pattern": {
              "fillmode": "overlay",
              "size": 10,
              "solidity": 0.2
             }
            },
            "type": "histogram"
           }
          ],
          "histogram2d": [
           {
            "colorbar": {
             "outlinewidth": 0,
             "ticks": ""
            },
            "colorscale": [
             [
              0,
              "#0d0887"
             ],
             [
              0.1111111111111111,
              "#46039f"
             ],
             [
              0.2222222222222222,
              "#7201a8"
             ],
             [
              0.3333333333333333,
              "#9c179e"
             ],
             [
              0.4444444444444444,
              "#bd3786"
             ],
             [
              0.5555555555555556,
              "#d8576b"
             ],
             [
              0.6666666666666666,
              "#ed7953"
             ],
             [
              0.7777777777777778,
              "#fb9f3a"
             ],
             [
              0.8888888888888888,
              "#fdca26"
             ],
             [
              1,
              "#f0f921"
             ]
            ],
            "type": "histogram2d"
           }
          ],
          "histogram2dcontour": [
           {
            "colorbar": {
             "outlinewidth": 0,
             "ticks": ""
            },
            "colorscale": [
             [
              0,
              "#0d0887"
             ],
             [
              0.1111111111111111,
              "#46039f"
             ],
             [
              0.2222222222222222,
              "#7201a8"
             ],
             [
              0.3333333333333333,
              "#9c179e"
             ],
             [
              0.4444444444444444,
              "#bd3786"
             ],
             [
              0.5555555555555556,
              "#d8576b"
             ],
             [
              0.6666666666666666,
              "#ed7953"
             ],
             [
              0.7777777777777778,
              "#fb9f3a"
             ],
             [
              0.8888888888888888,
              "#fdca26"
             ],
             [
              1,
              "#f0f921"
             ]
            ],
            "type": "histogram2dcontour"
           }
          ],
          "mesh3d": [
           {
            "colorbar": {
             "outlinewidth": 0,
             "ticks": ""
            },
            "type": "mesh3d"
           }
          ],
          "parcoords": [
           {
            "line": {
             "colorbar": {
              "outlinewidth": 0,
              "ticks": ""
             }
            },
            "type": "parcoords"
           }
          ],
          "pie": [
           {
            "automargin": true,
            "type": "pie"
           }
          ],
          "scatter": [
           {
            "fillpattern": {
             "fillmode": "overlay",
             "size": 10,
             "solidity": 0.2
            },
            "type": "scatter"
           }
          ],
          "scatter3d": [
           {
            "line": {
             "colorbar": {
              "outlinewidth": 0,
              "ticks": ""
             }
            },
            "marker": {
             "colorbar": {
              "outlinewidth": 0,
              "ticks": ""
             }
            },
            "type": "scatter3d"
           }
          ],
          "scattercarpet": [
           {
            "marker": {
             "colorbar": {
              "outlinewidth": 0,
              "ticks": ""
             }
            },
            "type": "scattercarpet"
           }
          ],
          "scattergeo": [
           {
            "marker": {
             "colorbar": {
              "outlinewidth": 0,
              "ticks": ""
             }
            },
            "type": "scattergeo"
           }
          ],
          "scattergl": [
           {
            "marker": {
             "colorbar": {
              "outlinewidth": 0,
              "ticks": ""
             }
            },
            "type": "scattergl"
           }
          ],
          "scattermapbox": [
           {
            "marker": {
             "colorbar": {
              "outlinewidth": 0,
              "ticks": ""
             }
            },
            "type": "scattermapbox"
           }
          ],
          "scatterpolar": [
           {
            "marker": {
             "colorbar": {
              "outlinewidth": 0,
              "ticks": ""
             }
            },
            "type": "scatterpolar"
           }
          ],
          "scatterpolargl": [
           {
            "marker": {
             "colorbar": {
              "outlinewidth": 0,
              "ticks": ""
             }
            },
            "type": "scatterpolargl"
           }
          ],
          "scatterternary": [
           {
            "marker": {
             "colorbar": {
              "outlinewidth": 0,
              "ticks": ""
             }
            },
            "type": "scatterternary"
           }
          ],
          "surface": [
           {
            "colorbar": {
             "outlinewidth": 0,
             "ticks": ""
            },
            "colorscale": [
             [
              0,
              "#0d0887"
             ],
             [
              0.1111111111111111,
              "#46039f"
             ],
             [
              0.2222222222222222,
              "#7201a8"
             ],
             [
              0.3333333333333333,
              "#9c179e"
             ],
             [
              0.4444444444444444,
              "#bd3786"
             ],
             [
              0.5555555555555556,
              "#d8576b"
             ],
             [
              0.6666666666666666,
              "#ed7953"
             ],
             [
              0.7777777777777778,
              "#fb9f3a"
             ],
             [
              0.8888888888888888,
              "#fdca26"
             ],
             [
              1,
              "#f0f921"
             ]
            ],
            "type": "surface"
           }
          ],
          "table": [
           {
            "cells": {
             "fill": {
              "color": "#EBF0F8"
             },
             "line": {
              "color": "white"
             }
            },
            "header": {
             "fill": {
              "color": "#C8D4E3"
             },
             "line": {
              "color": "white"
             }
            },
            "type": "table"
           }
          ]
         },
         "layout": {
          "annotationdefaults": {
           "arrowcolor": "#2a3f5f",
           "arrowhead": 0,
           "arrowwidth": 1
          },
          "autotypenumbers": "strict",
          "coloraxis": {
           "colorbar": {
            "outlinewidth": 0,
            "ticks": ""
           }
          },
          "colorscale": {
           "diverging": [
            [
             0,
             "#8e0152"
            ],
            [
             0.1,
             "#c51b7d"
            ],
            [
             0.2,
             "#de77ae"
            ],
            [
             0.3,
             "#f1b6da"
            ],
            [
             0.4,
             "#fde0ef"
            ],
            [
             0.5,
             "#f7f7f7"
            ],
            [
             0.6,
             "#e6f5d0"
            ],
            [
             0.7,
             "#b8e186"
            ],
            [
             0.8,
             "#7fbc41"
            ],
            [
             0.9,
             "#4d9221"
            ],
            [
             1,
             "#276419"
            ]
           ],
           "sequential": [
            [
             0,
             "#0d0887"
            ],
            [
             0.1111111111111111,
             "#46039f"
            ],
            [
             0.2222222222222222,
             "#7201a8"
            ],
            [
             0.3333333333333333,
             "#9c179e"
            ],
            [
             0.4444444444444444,
             "#bd3786"
            ],
            [
             0.5555555555555556,
             "#d8576b"
            ],
            [
             0.6666666666666666,
             "#ed7953"
            ],
            [
             0.7777777777777778,
             "#fb9f3a"
            ],
            [
             0.8888888888888888,
             "#fdca26"
            ],
            [
             1,
             "#f0f921"
            ]
           ],
           "sequentialminus": [
            [
             0,
             "#0d0887"
            ],
            [
             0.1111111111111111,
             "#46039f"
            ],
            [
             0.2222222222222222,
             "#7201a8"
            ],
            [
             0.3333333333333333,
             "#9c179e"
            ],
            [
             0.4444444444444444,
             "#bd3786"
            ],
            [
             0.5555555555555556,
             "#d8576b"
            ],
            [
             0.6666666666666666,
             "#ed7953"
            ],
            [
             0.7777777777777778,
             "#fb9f3a"
            ],
            [
             0.8888888888888888,
             "#fdca26"
            ],
            [
             1,
             "#f0f921"
            ]
           ]
          },
          "colorway": [
           "#636efa",
           "#EF553B",
           "#00cc96",
           "#ab63fa",
           "#FFA15A",
           "#19d3f3",
           "#FF6692",
           "#B6E880",
           "#FF97FF",
           "#FECB52"
          ],
          "font": {
           "color": "#2a3f5f"
          },
          "geo": {
           "bgcolor": "white",
           "lakecolor": "white",
           "landcolor": "#E5ECF6",
           "showlakes": true,
           "showland": true,
           "subunitcolor": "white"
          },
          "hoverlabel": {
           "align": "left"
          },
          "hovermode": "closest",
          "mapbox": {
           "style": "light"
          },
          "paper_bgcolor": "white",
          "plot_bgcolor": "#E5ECF6",
          "polar": {
           "angularaxis": {
            "gridcolor": "white",
            "linecolor": "white",
            "ticks": ""
           },
           "bgcolor": "#E5ECF6",
           "radialaxis": {
            "gridcolor": "white",
            "linecolor": "white",
            "ticks": ""
           }
          },
          "scene": {
           "xaxis": {
            "backgroundcolor": "#E5ECF6",
            "gridcolor": "white",
            "gridwidth": 2,
            "linecolor": "white",
            "showbackground": true,
            "ticks": "",
            "zerolinecolor": "white"
           },
           "yaxis": {
            "backgroundcolor": "#E5ECF6",
            "gridcolor": "white",
            "gridwidth": 2,
            "linecolor": "white",
            "showbackground": true,
            "ticks": "",
            "zerolinecolor": "white"
           },
           "zaxis": {
            "backgroundcolor": "#E5ECF6",
            "gridcolor": "white",
            "gridwidth": 2,
            "linecolor": "white",
            "showbackground": true,
            "ticks": "",
            "zerolinecolor": "white"
           }
          },
          "shapedefaults": {
           "line": {
            "color": "#2a3f5f"
           }
          },
          "ternary": {
           "aaxis": {
            "gridcolor": "white",
            "linecolor": "white",
            "ticks": ""
           },
           "baxis": {
            "gridcolor": "white",
            "linecolor": "white",
            "ticks": ""
           },
           "bgcolor": "#E5ECF6",
           "caxis": {
            "gridcolor": "white",
            "linecolor": "white",
            "ticks": ""
           }
          },
          "title": {
           "x": 0.05
          },
          "xaxis": {
           "automargin": true,
           "gridcolor": "white",
           "linecolor": "white",
           "ticks": "",
           "title": {
            "standoff": 15
           },
           "zerolinecolor": "white",
           "zerolinewidth": 2
          },
          "yaxis": {
           "automargin": true,
           "gridcolor": "white",
           "linecolor": "white",
           "ticks": "",
           "title": {
            "standoff": 15
           },
           "zerolinecolor": "white",
           "zerolinewidth": 2
          }
         }
        },
        "xaxis": {
         "anchor": "y",
         "domain": [
          0,
          1
         ],
         "title": {
          "text": "회원상태"
         }
        },
        "yaxis": {
         "anchor": "x",
         "domain": [
          0,
          1
         ],
         "title": {
          "text": "총구매금액"
         }
        }
       }
      },
      "image/png": "[encoded data removed]",
      "text/html": [
       "<div>                            <div id=\"c2863b1e-437b-400c-8406-8c1b40ac3283\" class=\"plotly-graph-div\" style=\"height:525px; width:100%;\"></div>            <script type=\"text/javascript\">                require([\"plotly\"], function(Plotly) {                    window.PLOTLYENV=window.PLOTLYENV || {};                                    if (document.getElementById(\"c2863b1e-437b-400c-8406-8c1b40ac3283\")) {                    Plotly.newPlot(                        \"c2863b1e-437b-400c-8406-8c1b40ac3283\",                        [{\"alignmentgroup\":\"True\",\"hovertemplate\":\"\\ud68c\\uc6d0\\uc0c1\\ud0dc=%{x}\\u003cbr\\u003e\\ucd1d\\uad6c\\ub9e4\\uae08\\uc561=%{y}\\u003cextra\\u003e\\u003c\\u002fextra\\u003e\",\"legendgroup\":\"\",\"marker\":{\"color\":\"#636efa\",\"pattern\":{\"shape\":\"\"}},\"name\":\"\",\"offsetgroup\":\"\",\"orientation\":\"v\",\"showlegend\":false,\"textposition\":\"auto\",\"x\":[\"\\uc774\\uad00\\ucc98\\ub9ac\\uc911\",\"\\uc815\\uc0c1\\ud68c\\uc6d0\",\"\\ud0c8\\ud1f4\",\"\\ud0c8\\ud1f4\\ucc98\\ub9ac\\uc911\"],\"xaxis\":\"x\",\"y\":[43050.0,872618.8758454106,3869320.865248227,6208183.333333333],\"yaxis\":\"y\",\"type\":\"bar\"}],                        {\"template\":{\"data\":{\"histogram2dcontour\":[{\"type\":\"histogram2dcontour\",\"colorbar\":{\"outlinewidth\":0,\"ticks\":\"\"},\"colorscale\":[[0.0,\"#0d0887\"],[0.1111111111111111,\"#46039f\"],[0.2222222222222222,\"#7201a8\"],[0.3333333333333333,\"#9c179e\"],[0.4444444444444444,\"#bd3786\"],[0.5555555555555556,\"#d8576b\"],[0.6666666666666666,\"#ed7953\"],[0.7777777777777778,\"#fb9f3a\"],[0.8888888888888888,\"#fdca26\"],[1.0,\"#f0f921\"]]}],\"choropleth\":[{\"type\":\"choropleth\",\"colorbar\":{\"outlinewidth\":0,\"ticks\":\"\"}}],\"histogram2d\":[{\"type\":\"histogram2d\",\"colorbar\":{\"outlinewidth\":0,\"ticks\":\"\"},\"colorscale\":[[0.0,\"#0d0887\"],[0.1111111111111111,\"#46039f\"],[0.2222222222222222,\"#7201a8\"],[0.3333333333333333,\"#9c179e\"],[0.4444444444444444,\"#bd3786\"],[0.5555555555555556,\"#d8576b\"],[0.6666666666666666,\"#ed7953\"],[0.7777777777777778,\"#fb9f3a\"],[0.8888888888888888,\"#fdca26\"],[1.0,\"#f0f921\"]]}],\"heatmap\":[{\"type\":\"heatmap\",\"colorbar\":{\"outlinewidth\":0,\"ticks\":\"\"},\"colorscale\":[[0.0,\"#0d0887\"],[0.1111111111111111,\"#46039f\"],[0.2222222222222222,\"#7201a8\"],[0.3333333333333333,\"#9c179e\"],[0.4444444444444444,\"#bd3786\"],[0.5555555555555556,\"#d8576b\"],[0.6666666666666666,\"#ed7953\"],[0.7777777777777778,\"#fb9f3a\"],[0.8888888888888888,\"#fdca26\"],[1.0,\"#f0f921\"]]}],\"heatmapgl\":[{\"type\":\"heatmapgl\",\"colorbar\":{\"outlinewidth\":0,\"ticks\":\"\"},\"colorscale\":[[0.0,\"#0d0887\"],[0.1111111111111111,\"#46039f\"],[0.2222222222222222,\"#7201a8\"],[0.3333333333333333,\"#9c179e\"],[0.4444444444444444,\"#bd3786\"],[0.5555555555555556,\"#d8576b\"],[0.6666666666666666,\"#ed7953\"],[0.7777777777777778,\"#fb9f3a\"],[0.8888888888888888,\"#fdca26\"],[1.0,\"#f0f921\"]]}],\"contourcarpet\":[{\"type\":\"contourcarpet\",\"colorbar\":{\"outlinewidth\":0,\"ticks\":\"\"}}],\"contour\":[{\"type\":\"contour\",\"colorbar\":{\"outlinewidth\":0,\"ticks\":\"\"},\"colorscale\":[[0.0,\"#0d0887\"],[0.1111111111111111,\"#46039f\"],[0.2222222222222222,\"#7201a8\"],[0.3333333333333333,\"#9c179e\"],[0.4444444444444444,\"#bd3786\"],[0.5555555555555556,\"#d8576b\"],[0.6666666666666666,\"#ed7953\"],[0.7777777777777778,\"#fb9f3a\"],[0.8888888888888888,\"#fdca26\"],[1.0,\"#f0f921\"]]}],\"surface\":[{\"type\":\"surface\",\"colorbar\":{\"outlinewidth\":0,\"ticks\":\"\"},\"colorscale\":[[0.0,\"#0d0887\"],[0.1111111111111111,\"#46039f\"],[0.2222222222222222,\"#7201a8\"],[0.3333333333333333,\"#9c179e\"],[0.4444444444444444,\"#bd3786\"],[0.5555555555555556,\"#d8576b\"],[0.6666666666666666,\"#ed7953\"],[0.7777777777777778,\"#fb9f3a\"],[0.8888888888888888,\"#fdca26\"],[1.0,\"#f0f921\"]]}],\"mesh3d\":[{\"type\":\"mesh3d\",\"colorbar\":{\"outlinewidth\":0,\"ticks\":\"\"}}],\"scatter\":[{\"fillpattern\":{\"fillmode\":\"overlay\",\"size\":10,\"solidity\":0.2},\"type\":\"scatter\"}],\"parcoords\":[{\"type\":\"parcoords\",\"line\":{\"colorbar\":{\"outlinewidth\":0,\"ticks\":\"\"}}}],\"scatterpolargl\":[{\"type\":\"scatterpolargl\",\"marker\":{\"colorbar\":{\"outlinewidth\":0,\"ticks\":\"\"}}}],\"bar\":[{\"error_x\":{\"color\":\"#2a3f5f\"},\"error_y\":{\"color\":\"#2a3f5f\"},\"marker\":{\"line\":{\"color\":\"#E5ECF6\",\"width\":0.5},\"pattern\":{\"fillmode\":\"overlay\",\"size\":10,\"solidity\":0.2}},\"type\":\"bar\"}],\"scattergeo\":[{\"type\":\"scattergeo\",\"marker\":{\"colorbar\":{\"outlinewidth\":0,\"ticks\":\"\"}}}],\"scatterpolar\":[{\"type\":\"scatterpolar\",\"marker\":{\"colorbar\":{\"outlinewidth\":0,\"ticks\":\"\"}}}],\"histogram\":[{\"marker\":{\"pattern\":{\"fillmode\":\"overlay\",\"size\":10,\"solidity\":0.2}},\"type\":\"histogram\"}],\"scattergl\":[{\"type\":\"scattergl\",\"marker\":{\"colorbar\":{\"outlinewidth\":0,\"ticks\":\"\"}}}],\"scatter3d\":[{\"type\":\"scatter3d\",\"line\":{\"colorbar\":{\"outlinewidth\":0,\"ticks\":\"\"}},\"marker\":{\"colorbar\":{\"outlinewidth\":0,\"ticks\":\"\"}}}],\"scattermapbox\":[{\"type\":\"scattermapbox\",\"marker\":{\"colorbar\":{\"outlinewidth\":0,\"ticks\":\"\"}}}],\"scatterternary\":[{\"type\":\"scatterternary\",\"marker\":{\"colorbar\":{\"outlinewidth\":0,\"ticks\":\"\"}}}],\"scattercarpet\":[{\"type\":\"scattercarpet\",\"marker\":{\"colorbar\":{\"outlinewidth\":0,\"ticks\":\"\"}}}],\"carpet\":[{\"aaxis\":{\"endlinecolor\":\"#2a3f5f\",\"gridcolor\":\"white\",\"linecolor\":\"white\",\"minorgridcolor\":\"white\",\"startlinecolor\":\"#2a3f5f\"},\"baxis\":{\"endlinecolor\":\"#2a3f5f\",\"gridcolor\":\"white\",\"linecolor\":\"white\",\"minorgridcolor\":\"white\",\"startlinecolor\":\"#2a3f5f\"},\"type\":\"carpet\"}],\"table\":[{\"cells\":{\"fill\":{\"color\":\"#EBF0F8\"},\"line\":{\"color\":\"white\"}},\"header\":{\"fill\":{\"color\":\"#C8D4E3\"},\"line\":{\"color\":\"white\"}},\"type\":\"table\"}],\"barpolar\":[{\"marker\":{\"line\":{\"color\":\"#E5ECF6\",\"width\":0.5},\"pattern\":{\"fillmode\":\"overlay\",\"size\":10,\"solidity\":0.2}},\"type\":\"barpolar\"}],\"pie\":[{\"automargin\":true,\"type\":\"pie\"}]},\"layout\":{\"autotypenumbers\":\"strict\",\"colorway\":[\"#636efa\",\"#EF553B\",\"#00cc96\",\"#ab63fa\",\"#FFA15A\",\"#19d3f3\",\"#FF6692\",\"#B6E880\",\"#FF97FF\",\"#FECB52\"],\"font\":{\"color\":\"#2a3f5f\"},\"hovermode\":\"closest\",\"hoverlabel\":{\"align\":\"left\"},\"paper_bgcolor\":\"white\",\"plot_bgcolor\":\"#E5ECF6\",\"polar\":{\"bgcolor\":\"#E5ECF6\",\"angularaxis\":{\"gridcolor\":\"white\",\"linecolor\":\"white\",\"ticks\":\"\"},\"radialaxis\":{\"gridcolor\":\"white\",\"linecolor\":\"white\",\"ticks\":\"\"}},\"ternary\":{\"bgcolor\":\"#E5ECF6\",\"aaxis\":{\"gridcolor\":\"white\",\"linecolor\":\"white\",\"ticks\":\"\"},\"baxis\":{\"gridcolor\":\"white\",\"linecolor\":\"white\",\"ticks\":\"\"},\"caxis\":{\"gridcolor\":\"white\",\"linecolor\":\"white\",\"ticks\":\"\"}},\"coloraxis\":{\"colorbar\":{\"outlinewidth\":0,\"ticks\":\"\"}},\"colorscale\":{\"sequential\":[[0.0,\"#0d0887\"],[0.1111111111111111,\"#46039f\"],[0.2222222222222222,\"#7201a8\"],[0.3333333333333333,\"#9c179e\"],[0.4444444444444444,\"#bd3786\"],[0.5555555555555556,\"#d8576b\"],[0.6666666666666666,\"#ed7953\"],[0.7777777777777778,\"#fb9f3a\"],[0.8888888888888888,\"#fdca26\"],[1.0,\"#f0f921\"]],\"sequentialminus\":[[0.0,\"#0d0887\"],[0.1111111111111111,\"#46039f\"],[0.2222222222222222,\"#7201a8\"],[0.3333333333333333,\"#9c179e\"],[0.4444444444444444,\"#bd3786\"],[0.5555555555555556,\"#d8576b\"],[0.6666666666666666,\"#ed7953\"],[0.7777777777777778,\"#fb9f3a\"],[0.8888888888888888,\"#fdca26\"],[1.0,\"#f0f921\"]],\"diverging\":[[0,\"#8e0152\"],[0.1,\"#c51b7d\"],[0.2,\"#de77ae\"],[0.3,\"#f1b6da\"],[0.4,\"#fde0ef\"],[0.5,\"#f7f7f7\"],[0.6,\"#e6f5d0\"],[0.7,\"#b8e186\"],[0.8,\"#7fbc41\"],[0.9,\"#4d9221\"],[1,\"#276419\"]]},\"xaxis\":{\"gridcolor\":\"white\",\"linecolor\":\"white\",\"ticks\":\"\",\"title\":{\"standoff\":15},\"zerolinecolor\":\"white\",\"automargin\":true,\"zerolinewidth\":2},\"yaxis\":{\"gridcolor\":\"white\",\"linecolor\":\"white\",\"ticks\":\"\",\"title\":{\"standoff\":15},\"zerolinecolor\":\"white\",\"automargin\":true,\"zerolinewidth\":2},\"scene\":{\"xaxis\":{\"backgroundcolor\":\"#E5ECF6\",\"gridcolor\":\"white\",\"linecolor\":\"white\",\"showbackground\":true,\"ticks\":\"\",\"zerolinecolor\":\"white\",\"gridwidth\":2},\"yaxis\":{\"backgroundcolor\":\"#E5ECF6\",\"gridcolor\":\"white\",\"linecolor\":\"white\",\"showbackground\":true,\"ticks\":\"\",\"zerolinecolor\":\"white\",\"gridwidth\":2},\"zaxis\":{\"backgroundcolor\":\"#E5ECF6\",\"gridcolor\":\"white\",\"linecolor\":\"white\",\"showbackground\":true,\"ticks\":\"\",\"zerolinecolor\":\"white\",\"gridwidth\":2}},\"shapedefaults\":{\"line\":{\"color\":\"#2a3f5f\"}},\"annotationdefaults\":{\"arrowcolor\":\"#2a3f5f\",\"arrowhead\":0,\"arrowwidth\":1},\"geo\":{\"bgcolor\":\"white\",\"landcolor\":\"#E5ECF6\",\"subunitcolor\":\"white\",\"showland\":true,\"showlakes\":true,\"lakecolor\":\"white\"},\"title\":{\"x\":0.05},\"mapbox\":{\"style\":\"light\"}}},\"xaxis\":{\"anchor\":\"y\",\"domain\":[0.0,1.0],\"title\":{\"text\":\"\\ud68c\\uc6d0\\uc0c1\\ud0dc\"}},\"yaxis\":{\"anchor\":\"x\",\"domain\":[0.0,1.0],\"title\":{\"text\":\"\\ucd1d\\uad6c\\ub9e4\\uae08\\uc561\"}},\"legend\":{\"tracegroupgap\":0},\"margin\":{\"t\":60},\"barmode\":\"relative\"},                        {\"responsive\": true}                    ).then(function(){\n",
       "                            \n",
       "var gd = document.getElementById('c2863b1e-437b-400c-8406-8c1b40ac3283');\n",
       "var x = new MutationObserver(function (mutations, observer) {{\n",
       "        var display = window.getComputedStyle(gd).display;\n",
       "        if (!display || display === 'none') {{\n",
       "            console.log([gd, 'removed!']);\n",
       "            Plotly.purge(gd);\n",
       "            observer.disconnect();\n",
       "        }}\n",
       "}});\n",
       "\n",
       "// Listen for the removal of the full notebook cells\n",
       "var notebookContainer = gd.closest('#notebook-container');\n",
       "if (notebookContainer) {{\n",
       "    x.observe(notebookContainer, {childList: true});\n",
       "}}\n",
       "\n",
       "// Listen for the clearing of the current output cell\n",
       "var outputEl = gd.closest('.output');\n",
       "if (outputEl) {{\n",
       "    x.observe(outputEl, {childList: true});\n",
       "}}\n",
       "\n",
       "                        })                };                });            </script>        </div>"
      ]
     },
     "metadata": {},
     "output_type": "display_data"
    }
   ],
   "source": [
    "# 16. 전체 고객의 '회원상태'의 각 비율을 계산하고, 회원 상태에 따른 '총구매금액'의 평균을 시각화 하시오.\n",
    "\n",
    "df3['회원상태'].value_counts() / len(df3)\n",
    "p1 = df3.pivot_table(index = '회원상태', values = '총구매금액', aggfunc = 'mean').reset_index()\n",
    "px.bar(p1, x = '회원상태', y = '총구매금액')"
   ]
  },
  {
   "cell_type": "code",
   "execution_count": null,
   "id": "f199ccaf-735b-4dd1-a195-06891daf5188",
   "metadata": {},
   "outputs": [],
   "source": []
  },
  {
   "cell_type": "markdown",
   "id": "431da732-bec0-418f-a65a-329a82d07ff4",
   "metadata": {},
   "source": [
    " - **시간 데이터 전처리 (보간법)**\n",
    " - 날짜 시간 데이터 기준으로 병합 시, 시점이 서로 다른 데이터를 병합해야 할 때\n",
    " - 제조 공정 데이터에서 발생한 품질 데이터(Detetion)와 공정 데이터(Process)를 합쳐, 어떤 인자가 품질 불량에 영향이 있는지 분석\n",
    " - 해당 데이터는 플라스틱을 제조하는 공장에서 발생한 제조공정 데이터\n",
    " - 품질 데이터 (Detection)는 4시간 마다 측정된 데이터\n",
    " - 공정 데이터 (Process)는 10분마다 설비에서 나오는 데이터\n",
    " - 품질 데이터를 기준으로 병합할 것인지, 공정데이터를 기준으로 병합할 것인지"
   ]
  },
  {
   "cell_type": "code",
   "execution_count": 55,
   "id": "14d91c45-7f32-431f-a5a4-6748c45252d3",
   "metadata": {},
   "outputs": [],
   "source": [
    "df_detect = pd.read_csv('data/05_Detection.csv')\n",
    "df_process = pd.read_csv('data/05_Process_A.csv')"
   ]
  },
  {
   "cell_type": "code",
   "execution_count": 61,
   "id": "5939fc73-6562-40ff-8265-b29e3a18ec8d",
   "metadata": {},
   "outputs": [
    {
     "name": "stdout",
     "output_type": "stream",
     "text": [
      "(474, 10)\n"
     ]
    },
    {
     "data": {
      "text/html": [
       "<div>\n",
       "<style scoped>\n",
       "    .dataframe tbody tr th:only-of-type {\n",
       "        vertical-align: middle;\n",
       "    }\n",
       "\n",
       "    .dataframe tbody tr th {\n",
       "        vertical-align: top;\n",
       "    }\n",
       "\n",
       "    .dataframe thead th {\n",
       "        text-align: right;\n",
       "    }\n",
       "</style>\n",
       "<table border=\"1\" class=\"dataframe\">\n",
       "  <thead>\n",
       "    <tr style=\"text-align: right;\">\n",
       "      <th></th>\n",
       "      <th>Unnamed: 0</th>\n",
       "      <th>date_clean</th>\n",
       "      <th>tag</th>\n",
       "      <th>tag_num</th>\n",
       "      <th>unit</th>\n",
       "      <th>Y1A</th>\n",
       "      <th>Y2A</th>\n",
       "      <th>Y3A</th>\n",
       "      <th>datetime</th>\n",
       "      <th>datetime_1h</th>\n",
       "    </tr>\n",
       "  </thead>\n",
       "  <tbody>\n",
       "    <tr>\n",
       "      <th>472</th>\n",
       "      <td>472</td>\n",
       "      <td>2019-09-03 23:30:00.000</td>\n",
       "      <td>NE282PV</td>\n",
       "      <td>1701</td>\n",
       "      <td>Total [1/m²]</td>\n",
       "      <td>15553.431</td>\n",
       "      <td>1237.614</td>\n",
       "      <td>980.762</td>\n",
       "      <td>2019-09-03 23:30:00</td>\n",
       "      <td>2019-09-04 00:00:00</td>\n",
       "    </tr>\n",
       "    <tr>\n",
       "      <th>473</th>\n",
       "      <td>473</td>\n",
       "      <td>2019-09-04 03:30:00.000</td>\n",
       "      <td>NE282PV</td>\n",
       "      <td>1701</td>\n",
       "      <td>Total [1/m²]</td>\n",
       "      <td>17484.660</td>\n",
       "      <td>1599.893</td>\n",
       "      <td>1170.407</td>\n",
       "      <td>2019-09-04 03:30:00</td>\n",
       "      <td>2019-09-04 04:00:00</td>\n",
       "    </tr>\n",
       "  </tbody>\n",
       "</table>\n",
       "</div>"
      ],
      "text/plain": [
       "     Unnamed: 0               date_clean      tag tag_num          unit  \\\n",
       "472         472  2019-09-03 23:30:00.000  NE282PV    1701  Total [1/m²]   \n",
       "473         473  2019-09-04 03:30:00.000  NE282PV    1701  Total [1/m²]   \n",
       "\n",
       "           Y1A       Y2A       Y3A            datetime         datetime_1h  \n",
       "472  15553.431  1237.614   980.762 2019-09-03 23:30:00 2019-09-04 00:00:00  \n",
       "473  17484.660  1599.893  1170.407 2019-09-04 03:30:00 2019-09-04 04:00:00  "
      ]
     },
     "execution_count": 61,
     "metadata": {},
     "output_type": "execute_result"
    }
   ],
   "source": [
    "print(df_detect.shape)\n",
    "df_detect.tail(2)"
   ]
  },
  {
   "cell_type": "code",
   "execution_count": 63,
   "id": "03c1ac8e-65e9-4ade-b956-1502ae4a46b0",
   "metadata": {},
   "outputs": [
    {
     "name": "stdout",
     "output_type": "stream",
     "text": [
      "(10656, 10)\n"
     ]
    },
    {
     "data": {
      "text/html": [
       "<div>\n",
       "<style scoped>\n",
       "    .dataframe tbody tr th:only-of-type {\n",
       "        vertical-align: middle;\n",
       "    }\n",
       "\n",
       "    .dataframe tbody tr th {\n",
       "        vertical-align: top;\n",
       "    }\n",
       "\n",
       "    .dataframe thead th {\n",
       "        text-align: right;\n",
       "    }\n",
       "</style>\n",
       "<table border=\"1\" class=\"dataframe\">\n",
       "  <thead>\n",
       "    <tr style=\"text-align: right;\">\n",
       "      <th></th>\n",
       "      <th>DATE</th>\n",
       "      <th>PERIOD</th>\n",
       "      <th>Label</th>\n",
       "      <th>A1</th>\n",
       "      <th>A2</th>\n",
       "      <th>A3</th>\n",
       "      <th>A4</th>\n",
       "      <th>A5</th>\n",
       "      <th>A6</th>\n",
       "      <th>datetime</th>\n",
       "    </tr>\n",
       "  </thead>\n",
       "  <tbody>\n",
       "    <tr>\n",
       "      <th>10654</th>\n",
       "      <td>2019-09-03T23:50:00</td>\n",
       "      <td>P3</td>\n",
       "      <td>AVG</td>\n",
       "      <td>229.162736</td>\n",
       "      <td>230.555417</td>\n",
       "      <td>231.024972</td>\n",
       "      <td>230.583142</td>\n",
       "      <td>229.613431</td>\n",
       "      <td>227.703735</td>\n",
       "      <td>2019-09-03 23:50:00</td>\n",
       "    </tr>\n",
       "    <tr>\n",
       "      <th>10655</th>\n",
       "      <td>2019-09-04T00:00:00</td>\n",
       "      <td>P3</td>\n",
       "      <td>AVG</td>\n",
       "      <td>229.358859</td>\n",
       "      <td>230.736761</td>\n",
       "      <td>231.046182</td>\n",
       "      <td>230.749156</td>\n",
       "      <td>229.625037</td>\n",
       "      <td>227.722858</td>\n",
       "      <td>2019-09-04 00:00:00</td>\n",
       "    </tr>\n",
       "  </tbody>\n",
       "</table>\n",
       "</div>"
      ],
      "text/plain": [
       "                      DATE PERIOD Label          A1          A2          A3  \\\n",
       "10654  2019-09-03T23:50:00     P3   AVG  229.162736  230.555417  231.024972   \n",
       "10655  2019-09-04T00:00:00     P3   AVG  229.358859  230.736761  231.046182   \n",
       "\n",
       "               A4          A5          A6            datetime  \n",
       "10654  230.583142  229.613431  227.703735 2019-09-03 23:50:00  \n",
       "10655  230.749156  229.625037  227.722858 2019-09-04 00:00:00  "
      ]
     },
     "execution_count": 63,
     "metadata": {},
     "output_type": "execute_result"
    }
   ],
   "source": [
    "print(df_process.shape)\n",
    "df_process.tail(2)"
   ]
  },
  {
   "cell_type": "code",
   "execution_count": 58,
   "id": "b99adb37-fe5f-4ac0-b9d4-d85281e3ee0c",
   "metadata": {},
   "outputs": [],
   "source": [
    "# 날짜 데이터를 기준으로 병합 (key columns) -> merge\n",
    "# 날짜 형식의 자료로 변환\n",
    "\n",
    "df_detect['datetime'] = pd.to_datetime(df_detect['date_clean'])\n",
    "df_process['datetime'] = pd.to_datetime(df_process['DATE'])"
   ]
  },
  {
   "cell_type": "code",
   "execution_count": 72,
   "id": "f79e2dc9-32cd-48ff-98fc-7197810e3152",
   "metadata": {},
   "outputs": [
    {
     "data": {
      "text/html": [
       "<div>\n",
       "<style scoped>\n",
       "    .dataframe tbody tr th:only-of-type {\n",
       "        vertical-align: middle;\n",
       "    }\n",
       "\n",
       "    .dataframe tbody tr th {\n",
       "        vertical-align: top;\n",
       "    }\n",
       "\n",
       "    .dataframe thead th {\n",
       "        text-align: right;\n",
       "    }\n",
       "</style>\n",
       "<table border=\"1\" class=\"dataframe\">\n",
       "  <thead>\n",
       "    <tr style=\"text-align: right;\">\n",
       "      <th></th>\n",
       "      <th>Unnamed: 0</th>\n",
       "      <th>date_clean</th>\n",
       "      <th>tag</th>\n",
       "      <th>tag_num</th>\n",
       "      <th>unit</th>\n",
       "      <th>Y1A</th>\n",
       "      <th>Y2A</th>\n",
       "      <th>Y3A</th>\n",
       "      <th>datetime_x</th>\n",
       "      <th>datetime_1h</th>\n",
       "      <th>DATE</th>\n",
       "      <th>PERIOD</th>\n",
       "      <th>Label</th>\n",
       "      <th>A1</th>\n",
       "      <th>A2</th>\n",
       "      <th>A3</th>\n",
       "      <th>A4</th>\n",
       "      <th>A5</th>\n",
       "      <th>A6</th>\n",
       "      <th>datetime_y</th>\n",
       "    </tr>\n",
       "  </thead>\n",
       "  <tbody>\n",
       "    <tr>\n",
       "      <th>0</th>\n",
       "      <td>0</td>\n",
       "      <td>2018-12-01 03:30:00.000</td>\n",
       "      <td>NE280V</td>\n",
       "      <td>GO1701</td>\n",
       "      <td>Total [1/m²]</td>\n",
       "      <td>4954.774</td>\n",
       "      <td>327.416</td>\n",
       "      <td>256.882</td>\n",
       "      <td>2018-12-01 03:30:00.000</td>\n",
       "      <td>2018-12-01 04:00:00</td>\n",
       "      <td>2018-12-01T04:00:00</td>\n",
       "      <td>P1</td>\n",
       "      <td>AVG</td>\n",
       "      <td>224.648534</td>\n",
       "      <td>227.539941</td>\n",
       "      <td>229.864964</td>\n",
       "      <td>229.906252</td>\n",
       "      <td>230.974404</td>\n",
       "      <td>229.545407</td>\n",
       "      <td>2018-12-01 04:00:00</td>\n",
       "    </tr>\n",
       "    <tr>\n",
       "      <th>1</th>\n",
       "      <td>1</td>\n",
       "      <td>2018-12-01 07:30:00.005</td>\n",
       "      <td>NE280PV</td>\n",
       "      <td>GO1701</td>\n",
       "      <td>Total [1/m²]</td>\n",
       "      <td>2281.460</td>\n",
       "      <td>44.410</td>\n",
       "      <td>17.416</td>\n",
       "      <td>2018-12-01 07:30:00.005</td>\n",
       "      <td>2018-12-01 08:00:00</td>\n",
       "      <td>2018-12-01T08:00:00</td>\n",
       "      <td>P1</td>\n",
       "      <td>AVG</td>\n",
       "      <td>226.571822</td>\n",
       "      <td>229.058791</td>\n",
       "      <td>230.989369</td>\n",
       "      <td>231.486422</td>\n",
       "      <td>232.178278</td>\n",
       "      <td>230.352623</td>\n",
       "      <td>2018-12-01 08:00:00</td>\n",
       "    </tr>\n",
       "  </tbody>\n",
       "</table>\n",
       "</div>"
      ],
      "text/plain": [
       "   Unnamed: 0               date_clean      tag tag_num          unit  \\\n",
       "0           0  2018-12-01 03:30:00.000   NE280V  GO1701  Total [1/m²]   \n",
       "1           1  2018-12-01 07:30:00.005  NE280PV  GO1701  Total [1/m²]   \n",
       "\n",
       "        Y1A      Y2A      Y3A              datetime_x         datetime_1h  \\\n",
       "0  4954.774  327.416  256.882 2018-12-01 03:30:00.000 2018-12-01 04:00:00   \n",
       "1  2281.460   44.410   17.416 2018-12-01 07:30:00.005 2018-12-01 08:00:00   \n",
       "\n",
       "                  DATE PERIOD Label          A1          A2          A3  \\\n",
       "0  2018-12-01T04:00:00     P1   AVG  224.648534  227.539941  229.864964   \n",
       "1  2018-12-01T08:00:00     P1   AVG  226.571822  229.058791  230.989369   \n",
       "\n",
       "           A4          A5          A6          datetime_y  \n",
       "0  229.906252  230.974404  229.545407 2018-12-01 04:00:00  \n",
       "1  231.486422  232.178278  230.352623 2018-12-01 08:00:00  "
      ]
     },
     "execution_count": 72,
     "metadata": {},
     "output_type": "execute_result"
    }
   ],
   "source": [
    "# 품질검사 데이터를 기준으로 병합 -> 4시간 단위로 병합\n",
    "# 실제로 4시간 단위로 데이터가 붙지 않음 -> 품질검사 데이터 시간이 마이크로 초 단위로 붙어있음\n",
    "# 품질 데이터의 초 값을 시간 단위로 반올림하여 병합\n",
    "# 시간, 날짜에 대한 반올림\n",
    "df_detect['datetime_1h'] = df_detect['datetime'].dt.round('1h')\n",
    "pd.merge(df_detect, df_process, left_on = 'datetime_1h', right_on = 'datetime', how = 'inner').head(2)\n",
    "# 병합한 시점에 정확한 데이터가 오지 않는 경우가 발생할 수 있다."
   ]
  },
  {
   "cell_type": "code",
   "execution_count": 76,
   "id": "905c2df8-eecb-41de-a543-35a14835f711",
   "metadata": {},
   "outputs": [
    {
     "data": {
      "text/html": [
       "<div>\n",
       "<style scoped>\n",
       "    .dataframe tbody tr th:only-of-type {\n",
       "        vertical-align: middle;\n",
       "    }\n",
       "\n",
       "    .dataframe tbody tr th {\n",
       "        vertical-align: top;\n",
       "    }\n",
       "\n",
       "    .dataframe thead th {\n",
       "        text-align: right;\n",
       "    }\n",
       "</style>\n",
       "<table border=\"1\" class=\"dataframe\">\n",
       "  <thead>\n",
       "    <tr style=\"text-align: right;\">\n",
       "      <th></th>\n",
       "      <th>A1</th>\n",
       "      <th>A2</th>\n",
       "      <th>A3</th>\n",
       "      <th>A4</th>\n",
       "      <th>A5</th>\n",
       "      <th>A6</th>\n",
       "    </tr>\n",
       "    <tr>\n",
       "      <th>datetime</th>\n",
       "      <th></th>\n",
       "      <th></th>\n",
       "      <th></th>\n",
       "      <th></th>\n",
       "      <th></th>\n",
       "      <th></th>\n",
       "    </tr>\n",
       "  </thead>\n",
       "  <tbody>\n",
       "    <tr>\n",
       "      <th>2018-12-01 00:00:00</th>\n",
       "      <td>225.637279</td>\n",
       "      <td>228.040479</td>\n",
       "      <td>230.276102</td>\n",
       "      <td>230.359142</td>\n",
       "      <td>231.650512</td>\n",
       "      <td>230.317974</td>\n",
       "    </tr>\n",
       "    <tr>\n",
       "      <th>2018-12-01 01:00:00</th>\n",
       "      <td>223.936385</td>\n",
       "      <td>226.488633</td>\n",
       "      <td>228.767494</td>\n",
       "      <td>228.807238</td>\n",
       "      <td>230.050080</td>\n",
       "      <td>228.719206</td>\n",
       "    </tr>\n",
       "    <tr>\n",
       "      <th>2018-12-01 02:00:00</th>\n",
       "      <td>223.842846</td>\n",
       "      <td>226.518009</td>\n",
       "      <td>228.757325</td>\n",
       "      <td>228.788199</td>\n",
       "      <td>230.039800</td>\n",
       "      <td>228.696355</td>\n",
       "    </tr>\n",
       "    <tr>\n",
       "      <th>2018-12-01 03:00:00</th>\n",
       "      <td>224.662476</td>\n",
       "      <td>227.427117</td>\n",
       "      <td>229.737463</td>\n",
       "      <td>229.688381</td>\n",
       "      <td>230.932909</td>\n",
       "      <td>229.467420</td>\n",
       "    </tr>\n",
       "    <tr>\n",
       "      <th>2018-12-01 04:00:00</th>\n",
       "      <td>224.705124</td>\n",
       "      <td>227.272213</td>\n",
       "      <td>229.867947</td>\n",
       "      <td>229.658412</td>\n",
       "      <td>231.027643</td>\n",
       "      <td>229.522117</td>\n",
       "    </tr>\n",
       "    <tr>\n",
       "      <th>...</th>\n",
       "      <td>...</td>\n",
       "      <td>...</td>\n",
       "      <td>...</td>\n",
       "      <td>...</td>\n",
       "      <td>...</td>\n",
       "      <td>...</td>\n",
       "    </tr>\n",
       "    <tr>\n",
       "      <th>2019-09-03 20:00:00</th>\n",
       "      <td>228.749773</td>\n",
       "      <td>230.135942</td>\n",
       "      <td>230.494286</td>\n",
       "      <td>230.311337</td>\n",
       "      <td>229.160959</td>\n",
       "      <td>227.255669</td>\n",
       "    </tr>\n",
       "    <tr>\n",
       "      <th>2019-09-03 21:00:00</th>\n",
       "      <td>229.325066</td>\n",
       "      <td>230.633823</td>\n",
       "      <td>230.984505</td>\n",
       "      <td>230.667460</td>\n",
       "      <td>229.493424</td>\n",
       "      <td>227.578229</td>\n",
       "    </tr>\n",
       "    <tr>\n",
       "      <th>2019-09-03 22:00:00</th>\n",
       "      <td>229.340633</td>\n",
       "      <td>230.663575</td>\n",
       "      <td>231.011006</td>\n",
       "      <td>230.718747</td>\n",
       "      <td>229.569927</td>\n",
       "      <td>227.631564</td>\n",
       "    </tr>\n",
       "    <tr>\n",
       "      <th>2019-09-03 23:00:00</th>\n",
       "      <td>229.252905</td>\n",
       "      <td>230.626632</td>\n",
       "      <td>231.022029</td>\n",
       "      <td>230.686412</td>\n",
       "      <td>229.603913</td>\n",
       "      <td>227.675490</td>\n",
       "    </tr>\n",
       "    <tr>\n",
       "      <th>2019-09-04 00:00:00</th>\n",
       "      <td>229.358859</td>\n",
       "      <td>230.736761</td>\n",
       "      <td>231.046182</td>\n",
       "      <td>230.749156</td>\n",
       "      <td>229.625037</td>\n",
       "      <td>227.722858</td>\n",
       "    </tr>\n",
       "  </tbody>\n",
       "</table>\n",
       "<p>6649 rows × 6 columns</p>\n",
       "</div>"
      ],
      "text/plain": [
       "                             A1          A2          A3          A4  \\\n",
       "datetime                                                              \n",
       "2018-12-01 00:00:00  225.637279  228.040479  230.276102  230.359142   \n",
       "2018-12-01 01:00:00  223.936385  226.488633  228.767494  228.807238   \n",
       "2018-12-01 02:00:00  223.842846  226.518009  228.757325  228.788199   \n",
       "2018-12-01 03:00:00  224.662476  227.427117  229.737463  229.688381   \n",
       "2018-12-01 04:00:00  224.705124  227.272213  229.867947  229.658412   \n",
       "...                         ...         ...         ...         ...   \n",
       "2019-09-03 20:00:00  228.749773  230.135942  230.494286  230.311337   \n",
       "2019-09-03 21:00:00  229.325066  230.633823  230.984505  230.667460   \n",
       "2019-09-03 22:00:00  229.340633  230.663575  231.011006  230.718747   \n",
       "2019-09-03 23:00:00  229.252905  230.626632  231.022029  230.686412   \n",
       "2019-09-04 00:00:00  229.358859  230.736761  231.046182  230.749156   \n",
       "\n",
       "                             A5          A6  \n",
       "datetime                                     \n",
       "2018-12-01 00:00:00  231.650512  230.317974  \n",
       "2018-12-01 01:00:00  230.050080  228.719206  \n",
       "2018-12-01 02:00:00  230.039800  228.696355  \n",
       "2018-12-01 03:00:00  230.932909  229.467420  \n",
       "2018-12-01 04:00:00  231.027643  229.522117  \n",
       "...                         ...         ...  \n",
       "2019-09-03 20:00:00  229.160959  227.255669  \n",
       "2019-09-03 21:00:00  229.493424  227.578229  \n",
       "2019-09-03 22:00:00  229.569927  227.631564  \n",
       "2019-09-03 23:00:00  229.603913  227.675490  \n",
       "2019-09-04 00:00:00  229.625037  227.722858  \n",
       "\n",
       "[6649 rows x 6 columns]"
      ]
     },
     "execution_count": 76,
     "metadata": {},
     "output_type": "execute_result"
    }
   ],
   "source": [
    "# 10분 단위로 수집된 공정 데이터를 1시간 단위로 계산하여 병합\n",
    "\n",
    "p1 = df_process[['A1', 'A2', 'A3', 'A4', 'A5', 'A6', 'datetime']].set_index('datetime')\n",
    "p1.resample('1h').median()"
   ]
  },
  {
   "cell_type": "code",
   "execution_count": 78,
   "id": "5af516ea-212b-4f22-9831-98e27a7861ec",
   "metadata": {},
   "outputs": [
    {
     "data": {
      "text/plain": [
       "(473, 17)"
      ]
     },
     "execution_count": 78,
     "metadata": {},
     "output_type": "execute_result"
    }
   ],
   "source": [
    "p2 = p1.resample('1h').median().reset_index()\n",
    "df2 = pd.merge(df_detect, p2, left_on = 'datetime_1h',right_on = 'datetime', how = 'inner')\n",
    "df2.shape"
   ]
  },
  {
   "cell_type": "code",
   "execution_count": 81,
   "id": "4c047744-3533-4e90-b16d-ac4ae333c7d8",
   "metadata": {},
   "outputs": [],
   "source": [
    "# 공정 데이터 (10분 단위)를 기준으로 병합\n",
    "\n",
    "df3 = pd.merge(df_detect, df_process, left_on = 'datetime_1h', right_on = 'datetime', how = 'outer')"
   ]
  },
  {
   "cell_type": "code",
   "execution_count": 83,
   "id": "e293b4d9-db61-4e2f-99fd-5384f0d514b6",
   "metadata": {},
   "outputs": [],
   "source": [
    "s1 = df3.tail(20)['Y1A']"
   ]
  },
  {
   "cell_type": "code",
   "execution_count": 87,
   "id": "1568ebcd-42a9-46f8-a9dd-a2011bf2f172",
   "metadata": {},
   "outputs": [
    {
     "name": "stderr",
     "output_type": "stream",
     "text": [
      "C:\\Users\\leedo\\AppData\\Local\\Temp\\ipykernel_20460\\3813386054.py:3: FutureWarning:\n",
      "\n",
      "Series.fillna with 'method' is deprecated and will raise in a future version. Use obj.ffill() or obj.bfill() instead.\n",
      "\n"
     ]
    },
    {
     "data": {
      "text/plain": [
       "10668    15553.431\n",
       "10669    15553.431\n",
       "10670    15553.431\n",
       "10671    15553.431\n",
       "10672    15553.431\n",
       "10673    15553.431\n",
       "10674    15553.431\n",
       "10675    15553.431\n",
       "10676    15553.431\n",
       "10677    15553.431\n",
       "10678    15553.431\n",
       "10679    15553.431\n",
       "10680    15553.431\n",
       "10681    15553.431\n",
       "10682    15553.431\n",
       "10683    15553.431\n",
       "10684    15553.431\n",
       "10685    15553.431\n",
       "10686    15553.431\n",
       "10687    17484.660\n",
       "Name: Y1A, dtype: float64"
      ]
     },
     "execution_count": 87,
     "metadata": {},
     "output_type": "execute_result"
    }
   ],
   "source": [
    "# 결측값 윗쪽에 있는 실측값을 아래로 채워 결측값을 처리\n",
    "\n",
    "s1.fillna(method = 'bfill') # ffill : forward fill 위에있는 값으로 채움, bfill : backward fill 아래 있는 값으로 채움"
   ]
  },
  {
   "cell_type": "code",
   "execution_count": 88,
   "id": "b2120f26-1e8e-43fc-9020-1c9cd6933a78",
   "metadata": {},
   "outputs": [
    {
     "data": {
      "text/plain": [
       "10668          NaN\n",
       "10669          NaN\n",
       "10670          NaN\n",
       "10671          NaN\n",
       "10672          NaN\n",
       "10673          NaN\n",
       "10674          NaN\n",
       "10675          NaN\n",
       "10676          NaN\n",
       "10677          NaN\n",
       "10678          NaN\n",
       "10679          NaN\n",
       "10680          NaN\n",
       "10681          NaN\n",
       "10682          NaN\n",
       "10683          NaN\n",
       "10684          NaN\n",
       "10685          NaN\n",
       "10686    15553.431\n",
       "10687    17484.660\n",
       "Name: Y1A, dtype: float64"
      ]
     },
     "execution_count": 88,
     "metadata": {},
     "output_type": "execute_result"
    }
   ],
   "source": [
    "# 선형보간법 : 데이터 사이의 비어있는 간격 만큼 데이터를 순차적으로 비례하게 증감시켜 결측값을 처리\n",
    "\n",
    "s1.interpolate(method = 'linear')"
   ]
  },
  {
   "cell_type": "code",
   "execution_count": null,
   "id": "3812ff89-5571-487e-a6c9-47b99dd213be",
   "metadata": {},
   "outputs": [],
   "source": []
  }
 ],
 "metadata": {
  "kernelspec": {
   "display_name": "Python 3 (ipykernel)",
   "language": "python",
   "name": "python3"
  },
  "language_info": {
   "codemirror_mode": {
    "name": "ipython",
    "version": 3
   },
   "file_extension": ".py",
   "mimetype": "text/x-python",
   "name": "python",
   "nbconvert_exporter": "python",
   "pygments_lexer": "ipython3",
   "version": "3.11.11"
  }
 },
 "nbformat": 4,
 "nbformat_minor": 5
}
