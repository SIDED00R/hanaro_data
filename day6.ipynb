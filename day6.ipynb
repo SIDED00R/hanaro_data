{
 "cells": [
  {
   "cell_type": "markdown",
   "id": "727fb01a-cabe-4dd0-a5d9-21a738cc7542",
   "metadata": {},
   "source": [
    "13. \n",
    "14. 가장 많이 유입된 경로(Channel)에 계약된 월랜탈비용(Amount_Month)의 평균을 계산하시오.\n",
    "15. 유입경로(Channel)에서 '대형마트A'로 유입된 고객들 중, 연체건수(Overdue_count)가 높은 상위 30명의 계약 명단을 추출하여 result4.xlsx 저장하시오.\n",
    "    - **렌탈 계약 제품 군에 대한 분석을 하고자 한다.**\n",
    "16. 데이터에서 고객들이 가장 많이 계약한 제품군(Product_Type)을 분석하고자 한다. 제품군(Product_Type)에는 어떤 데이터가 있는지 확인하시오.\n",
    "17. 제품군(Product_Type)중 계약을 가장 많이한, 빈도수가 가장 높은 상위 3개의 항목을 추출하여, df2로 선언한 뒤, 계약일자(Datetime)에 따른 월렌탈비용(Amount_Month)의 합을 계산해 result5.xlsx파일로 저장하시오.\n",
    "18. 제품군(Product_Type)중 계약을 가장 많이한, 빈도수가 가장 높은 상위 2개의 항목의 월랜탈비용('Amount_Month')의 평균의 차이를 계산하시오.\n",
    "19. 해당 데이터를 분석해, 유의미한 인사이트를 도출하여, 고객 계약 건수를 증대하는 프로젝트를 수행하고자 한다.어떤 분석 기법을 활용하여, 어떤 분석을 수행하면, 유의미한 결과를 얻을 수 있는지 2가지 이상 서술하시오."
   ]
  },
  {
   "cell_type": "code",
   "execution_count": 1,
   "id": "a01f1007-e413-4b3b-9356-284465ddbfbe",
   "metadata": {},
   "outputs": [
    {
     "data": {
      "text/plain": [
       "array([[ 5, 10, 15],\n",
       "       [20, 25, 30],\n",
       "       [35, 40, 45]])"
      ]
     },
     "execution_count": 1,
     "metadata": {},
     "output_type": "execute_result"
    }
   ],
   "source": [
    "# 5의 배수로 구성된 수 9개를 생성해, Numpy Matrix 3x3 행렬로 만든 뒤, 첫 번째 행(Row)의 합과 평균을 구하는 함수를 생성하시오.\n",
    "import numpy as np\n",
    "\n",
    "list1 = [x for x in range(1, 100) if x % 5 == 0]\n",
    "arr1 = np.array(list1[:9]) # 배열 형태로 데이터를 구성\n",
    "m1 = arr1.reshape(3, 3) # 3*3행렬로 재구조화\n",
    "m1"
   ]
  },
  {
   "cell_type": "code",
   "execution_count": 3,
   "id": "0ad7af5d-0076-4a57-bcac-148a0cff5b9a",
   "metadata": {},
   "outputs": [
    {
     "name": "stdout",
     "output_type": "stream",
     "text": [
      "75\n",
      "25.0\n"
     ]
    }
   ],
   "source": [
    "print(m1[1].sum())\n",
    "print(m1[1].mean())"
   ]
  },
  {
   "cell_type": "code",
   "execution_count": 5,
   "id": "358969d3-08ba-4770-a119-37539d9ce2cb",
   "metadata": {},
   "outputs": [
    {
     "data": {
      "text/plain": [
       "array([100.        , 105.55555556, 111.11111111, 116.66666667,\n",
       "       122.22222222, 127.77777778, 133.33333333, 138.88888889,\n",
       "       144.44444444, 150.        ])"
      ]
     },
     "execution_count": 5,
     "metadata": {},
     "output_type": "execute_result"
    }
   ],
   "source": [
    "# 두개의 값을 입력받아 두 값 사이의 10개의 데이터를 일정 간격으로 생성해 Vector(array)형태로 출력하는 함수를 생성하시오.\n",
    "def func2(start, end):\n",
    "    return np.linspace(start, end, 10)\n",
    "func2(100, 150)"
   ]
  },
  {
   "cell_type": "code",
   "execution_count": 9,
   "id": "a4d5ea42-9295-480b-a2c0-e3818416e0c4",
   "metadata": {},
   "outputs": [
    {
     "data": {
      "text/html": [
       "<div>\n",
       "<style scoped>\n",
       "    .dataframe tbody tr th:only-of-type {\n",
       "        vertical-align: middle;\n",
       "    }\n",
       "\n",
       "    .dataframe tbody tr th {\n",
       "        vertical-align: top;\n",
       "    }\n",
       "\n",
       "    .dataframe thead th {\n",
       "        text-align: right;\n",
       "    }\n",
       "</style>\n",
       "<table border=\"1\" class=\"dataframe\">\n",
       "  <thead>\n",
       "    <tr style=\"text-align: right;\">\n",
       "      <th></th>\n",
       "      <th>name</th>\n",
       "      <th>math</th>\n",
       "      <th>korean</th>\n",
       "      <th>english</th>\n",
       "    </tr>\n",
       "  </thead>\n",
       "  <tbody>\n",
       "    <tr>\n",
       "      <th>0</th>\n",
       "      <td>A</td>\n",
       "      <td>100</td>\n",
       "      <td>30</td>\n",
       "      <td>60</td>\n",
       "    </tr>\n",
       "    <tr>\n",
       "      <th>1</th>\n",
       "      <td>B</td>\n",
       "      <td>60</td>\n",
       "      <td>70</td>\n",
       "      <td>65</td>\n",
       "    </tr>\n",
       "    <tr>\n",
       "      <th>2</th>\n",
       "      <td>C</td>\n",
       "      <td>45</td>\n",
       "      <td>85</td>\n",
       "      <td>50</td>\n",
       "    </tr>\n",
       "  </tbody>\n",
       "</table>\n",
       "</div>"
      ],
      "text/plain": [
       "  name  math  korean  english\n",
       "0    A   100      30       60\n",
       "1    B    60      70       65\n",
       "2    C    45      85       50"
      ]
     },
     "execution_count": 9,
     "metadata": {},
     "output_type": "execute_result"
    }
   ],
   "source": [
    "# 학생의 이름과 국어점수, 수학점수, 영어점수를 입력받아 Pandas DataFrame형태로 구성하는 함수를 생성하시오.\n",
    "# 딕셔너리를 활용해 데이터프레임을 구성\n",
    "# 딕셔너리의 key값이 column으로 선언, value값을 리스트구조로 넣어 해당 column의 series구성\n",
    "import pandas as pd\n",
    "pd.DataFrame(data = {'name': ['A', 'B', 'C'],\n",
    "                    'math': [100, 60, 45],\n",
    "                    'korean': [30, 70, 85],\n",
    "                    'english' : [60, 65, 50]})"
   ]
  },
  {
   "cell_type": "code",
   "execution_count": 11,
   "id": "a46b83ef-a996-43ef-8649-d4e987728cc1",
   "metadata": {},
   "outputs": [
    {
     "name": "stdin",
     "output_type": "stream",
     "text": [
      " 2\n",
      " a 1 2 3\n",
      " b 1 2 3\n"
     ]
    },
    {
     "data": {
      "text/html": [
       "<div>\n",
       "<style scoped>\n",
       "    .dataframe tbody tr th:only-of-type {\n",
       "        vertical-align: middle;\n",
       "    }\n",
       "\n",
       "    .dataframe tbody tr th {\n",
       "        vertical-align: top;\n",
       "    }\n",
       "\n",
       "    .dataframe thead th {\n",
       "        text-align: right;\n",
       "    }\n",
       "</style>\n",
       "<table border=\"1\" class=\"dataframe\">\n",
       "  <thead>\n",
       "    <tr style=\"text-align: right;\">\n",
       "      <th></th>\n",
       "      <th>name</th>\n",
       "      <th>math</th>\n",
       "      <th>korean</th>\n",
       "      <th>english</th>\n",
       "    </tr>\n",
       "  </thead>\n",
       "  <tbody>\n",
       "    <tr>\n",
       "      <th>0</th>\n",
       "      <td>a</td>\n",
       "      <td>1</td>\n",
       "      <td>2</td>\n",
       "      <td>3</td>\n",
       "    </tr>\n",
       "    <tr>\n",
       "      <th>1</th>\n",
       "      <td>b</td>\n",
       "      <td>1</td>\n",
       "      <td>2</td>\n",
       "      <td>3</td>\n",
       "    </tr>\n",
       "  </tbody>\n",
       "</table>\n",
       "</div>"
      ],
      "text/plain": [
       "  name math korean english\n",
       "0    a    1      2       3\n",
       "1    b    1      2       3"
      ]
     },
     "execution_count": 11,
     "metadata": {},
     "output_type": "execute_result"
    }
   ],
   "source": [
    "# 여러명의 학생의 정보를 계속 입력받아 데이터 프렝임 구조로 선언\n",
    "def func3():\n",
    "    name = []\n",
    "    s1 = []\n",
    "    s2 = []\n",
    "    s3 = []\n",
    "\n",
    "    num_student = int(input())\n",
    "    for _ in range(num_student):\n",
    "        data1 = list(input().split())\n",
    "        name.append(data1[0])\n",
    "        s1.append(data1[1])\n",
    "        s2.append(data1[2])\n",
    "        s3.append(data1[3])\n",
    "    dfn = pd.DataFrame(data = {'name': name,\n",
    "                               'math':s1,\n",
    "                                'korean': s2,\n",
    "                                'english' :s3})\n",
    "\n",
    "    return dfn\n",
    "\n",
    "func3()"
   ]
  },
  {
   "cell_type": "code",
   "execution_count": 13,
   "id": "33ecdd39-f4ca-4ac4-bf4c-7eee3a9db739",
   "metadata": {},
   "outputs": [
    {
     "name": "stdout",
     "output_type": "stream",
     "text": [
      "(51301, 20)\n",
      "<class 'pandas.core.frame.DataFrame'>\n",
      "RangeIndex: 51301 entries, 0 to 51300\n",
      "Data columns (total 20 columns):\n",
      " #   Column         Non-Null Count  Dtype  \n",
      "---  ------         --------------  -----  \n",
      " 0   Unnamed: 0     51301 non-null  int64  \n",
      " 1   Index          51301 non-null  int64  \n",
      " 2   Member_ID      51301 non-null  int64  \n",
      " 3   Sales_Type     51301 non-null  object \n",
      " 4   Contract_Type  51301 non-null  object \n",
      " 5   Channel        51301 non-null  object \n",
      " 6   Datetime       51301 non-null  object \n",
      " 7   Term           51301 non-null  int64  \n",
      " 8   Payment_Type   51301 non-null  object \n",
      " 9   Product_Type   51301 non-null  object \n",
      " 10  Amount_Month   51301 non-null  int64  \n",
      " 11  Customer_Type  51299 non-null  object \n",
      " 12  Age            44329 non-null  float64\n",
      " 13  Address1       51299 non-null  object \n",
      " 14  State          51301 non-null  object \n",
      " 15  Overdue_count  51301 non-null  int64  \n",
      " 16  Overdue_Type   51301 non-null  object \n",
      " 17  Gender         51301 non-null  object \n",
      " 18  Bank           48542 non-null  object \n",
      " 19  Credit_Score   42460 non-null  float64\n",
      "dtypes: float64(2), int64(6), object(12)\n",
      "memory usage: 7.8+ MB\n"
     ]
    }
   ],
   "source": [
    "# 01_Data.csv를 불러와 df1으로 선언하고, 데이터의 구조와 타입을 확인하시오.\n",
    "df1 = pd.read_csv('data/01_Data.csv')\n",
    "print(df1.shape)\n",
    "df1.info()"
   ]
  },
  {
   "cell_type": "code",
   "execution_count": null,
   "id": "0e572b77-adfd-4752-86e7-6ed43ecf3ee4",
   "metadata": {},
   "outputs": [],
   "source": [
    "# 해당 데이터 고객 계약명단에서 우수고객들을 찾고자 한다. df1 데이터에서 월랜탈비용('Amount_Month)이 높고, 연체건수('Overdue_count')는 낮은 상위 50명의 고객 계약 명단을 추출해서, result2.xlsx 로 저장하시오.\n",
    "df1.sort_values(by = ['Amount_Month', 'Overdue_count'], ascending = [False, True]).head(50).to_excel('result2.xlsx')"
   ]
  },
  {
   "cell_type": "code",
   "execution_count": 17,
   "id": "81e3f9d4-f6b8-453d-8b58-ae122c4c5efe",
   "metadata": {},
   "outputs": [
    {
     "name": "stdout",
     "output_type": "stream",
     "text": [
      "(100, 20)\n",
      "<class 'pandas.core.frame.DataFrame'>\n",
      "Index: 100 entries, 46706 to 15374\n",
      "Data columns (total 20 columns):\n",
      " #   Column         Non-Null Count  Dtype  \n",
      "---  ------         --------------  -----  \n",
      " 0   Unnamed: 0     100 non-null    int64  \n",
      " 1   Index          100 non-null    int64  \n",
      " 2   Member_ID      100 non-null    int64  \n",
      " 3   Sales_Type     100 non-null    object \n",
      " 4   Contract_Type  100 non-null    object \n",
      " 5   Channel        100 non-null    object \n",
      " 6   Datetime       100 non-null    object \n",
      " 7   Term           100 non-null    int64  \n",
      " 8   Payment_Type   100 non-null    object \n",
      " 9   Product_Type   100 non-null    object \n",
      " 10  Amount_Month   100 non-null    int64  \n",
      " 11  Customer_Type  100 non-null    object \n",
      " 12  Age            100 non-null    float64\n",
      " 13  Address1       100 non-null    object \n",
      " 14  State          100 non-null    object \n",
      " 15  Overdue_count  100 non-null    int64  \n",
      " 16  Overdue_Type   100 non-null    object \n",
      " 17  Gender         100 non-null    object \n",
      " 18  Bank           100 non-null    object \n",
      " 19  Credit_Score   85 non-null     float64\n",
      "dtypes: float64(2), int64(6), object(12)\n",
      "memory usage: 16.4+ KB\n"
     ]
    }
   ],
   "source": [
    "# 젊은 고객들을 대상으로 마케팅 전략을 수립하기위해, 데이터를 추출하고자 한다.연령이(Age)이 낮은 100명의 계약명단을 추출하여, df1_young 변수로 선언하고, 데이터의 구조와 타입을 확인하시오.\n",
    "df1_young = df1.sort_values(by = 'Age').head(100)\n",
    "print(df1_young.shape)\n",
    "df1_young.info()"
   ]
  },
  {
   "cell_type": "code",
   "execution_count": 18,
   "id": "d78d098b-15df-44f7-9291-2675cdc01db5",
   "metadata": {},
   "outputs": [
    {
     "name": "stdout",
     "output_type": "stream",
     "text": [
      "93994.97428900021\n",
      "95016.0\n",
      "1021.025710999791\n"
     ]
    }
   ],
   "source": [
    "# df1_young데이터와 df1데이터에서 월랜탈비용('Amount_Month')의 평균을 계산하고, 두 값의 차이를 계산하시오.\n",
    "print(df1['Amount_Month'].mean())\n",
    "print(df1_young['Amount_Month'].mean())\n",
    "print(abs(df1_young['Amount_Month'].mean() - df1['Amount_Month'].mean()))"
   ]
  },
  {
   "cell_type": "code",
   "execution_count": null,
   "id": "ad2cd337-1993-4358-9c3d-96d7760f06b9",
   "metadata": {},
   "outputs": [],
   "source": [
    "# df1_young데이터에서 월랜탈비용('Amount_Month')이 높고 연체건수('Overdue_count')가 낮은 순서대로 정렬하여 result_young.xlsx로 저장하시오.\n",
    "df1_young.sort_values(by = ['Amount_Month', 'Overdue_count'], ascending = [False, True]).to_excel('result_young.xlsx')"
   ]
  },
  {
   "cell_type": "code",
   "execution_count": null,
   "id": "d0a886c5-f95c-475c-8b2a-47badb4c4a1b",
   "metadata": {},
   "outputs": [],
   "source": []
  },
  {
   "cell_type": "code",
   "execution_count": 37,
   "id": "1e9d5a99-f687-4ea2-a3be-305df7616ab4",
   "metadata": {},
   "outputs": [
    {
     "name": "stdout",
     "output_type": "stream",
     "text": [
      "count    182.000000\n",
      "mean      46.912088\n",
      "std       10.772021\n",
      "min       26.000000\n",
      "25%       40.000000\n",
      "50%       48.000000\n",
      "75%       54.000000\n",
      "max       75.000000\n",
      "Name: Age, dtype: float64\n"
     ]
    },
    {
     "data": {
      "text/plain": [
       "np.float64(830.3369723235593)"
      ]
     },
     "execution_count": 37,
     "metadata": {},
     "output_type": "execute_result"
    }
   ],
   "source": [
    "p1 = df1.pivot_table(index = 'Member_ID', values = ['Overdue_count'], aggfunc = 'sum').sort_values(by = 'Overdue_count', ascending = False).head(100)\n",
    "# 추출된 100명의 고객 ID를 기존의 member_id 데이터로부터 추출하여 연령 및 신용 점수 확인\n",
    "cond1 = df1['Member_ID'].isin(p1.index)\n",
    "print(df1.loc[cond1]['Age'].describe())\n",
    "df1.pivot_table(index = \"Member_ID\", values = 'Credit_Score', aggfunc = 'max')['Credit_Score'].mean()"
   ]
  },
  {
   "cell_type": "code",
   "execution_count": null,
   "id": "847383ca-6cfe-432b-85c0-84acafea275e",
   "metadata": {},
   "outputs": [],
   "source": []
  },
  {
   "cell_type": "code",
   "execution_count": 20,
   "id": "bfa725a0-2df6-479a-bb85-2c39b61c7f28",
   "metadata": {},
   "outputs": [
    {
     "name": "stdout",
     "output_type": "stream",
     "text": [
      "628.054794520548\n"
     ]
    },
    {
     "data": {
      "text/plain": [
       "count    87.000000\n",
       "mean     46.390805\n",
       "std      12.595086\n",
       "min      26.000000\n",
       "25%      37.500000\n",
       "50%      49.000000\n",
       "75%      54.000000\n",
       "max      85.000000\n",
       "Name: Age, dtype: float64"
      ]
     },
     "execution_count": 20,
     "metadata": {},
     "output_type": "execute_result"
    }
   ],
   "source": [
    "# 본사에서 매출관리를 위해 연체가 높은 고객들을 따로 확인하여 관리하고자 한다. 연체건수('Overdue_count')가 높은 순서대로 정렬하고, 상위 100명의 고객의 연령('Age')의 최대값과 최솟값을 확인하고, 신용점수('Credit_Score')의 평균을 확인하시오.\n",
    "\n",
    "df2 = df1.sort_values(by = 'Overdue_count', ascending = False).iloc[:100]\n",
    "print(df2['Credit_Score'].mean())\n",
    "df2['Age'].describe()"
   ]
  },
  {
   "cell_type": "code",
   "execution_count": 26,
   "id": "d3ed6531-240d-4fe1-befe-93bdc7834f31",
   "metadata": {},
   "outputs": [
    {
     "data": {
      "text/plain": [
       "Credit_Rank\n",
       "1.0     11177\n",
       "2.0      7512\n",
       "4.0      5276\n",
       "3.0      5226\n",
       "5.0      4406\n",
       "6.0      3544\n",
       "7.0      3014\n",
       "8.0      1603\n",
       "9.0       635\n",
       "10.0       67\n",
       "Name: count, dtype: int64"
      ]
     },
     "execution_count": 26,
     "metadata": {},
     "output_type": "execute_result"
    }
   ],
   "source": [
    "# apply(): 사용자가 만든 함수에 시리즈나 데이터프레임을 넣어 처리\n",
    "# 신용점수('Credit_Score')를 이용하여, Nice 신용 등급 구간에 따라 고객을 10가지의 신용등급으로 나누어 새로운 파생변수로 선언하고('Credit_Rank'), 가장 연체건수('Overdue_count')가 높은 신용 등급 군을 확인하시오.\n",
    "\n",
    "def func1(row):\n",
    "    # 결측값은 먼저 치리\n",
    "    if pd.isnull(row):\n",
    "        return row\n",
    "    # nice 신용등급 표에 따라 분류\n",
    "    if row>=900:\n",
    "        return 1\n",
    "    elif row >=870:\n",
    "        return 2\n",
    "    elif row >=840:\n",
    "        return 3\n",
    "    elif row >=805:\n",
    "        return 4\n",
    "    elif row >=750:\n",
    "        return 5\n",
    "    elif row >=665:\n",
    "        return 6\n",
    "    elif row >=600:\n",
    "        return 7\n",
    "    elif row >=515:\n",
    "        return 8\n",
    "    elif row >=445:\n",
    "        return 9\n",
    "    else:\n",
    "        return 10\n",
    "\n",
    "df1['Credit_Rank'] = df1['Credit_Score'].apply(func1)\n",
    "df1['Credit_Rank'].value_counts()"
   ]
  },
  {
   "cell_type": "code",
   "execution_count": 27,
   "id": "478caa4b-1618-4d58-9d47-16a5a86bcac8",
   "metadata": {},
   "outputs": [
    {
     "data": {
      "text/html": [
       "<div>\n",
       "<style scoped>\n",
       "    .dataframe tbody tr th:only-of-type {\n",
       "        vertical-align: middle;\n",
       "    }\n",
       "\n",
       "    .dataframe tbody tr th {\n",
       "        vertical-align: top;\n",
       "    }\n",
       "\n",
       "    .dataframe thead tr th {\n",
       "        text-align: left;\n",
       "    }\n",
       "\n",
       "    .dataframe thead tr:last-of-type th {\n",
       "        text-align: right;\n",
       "    }\n",
       "</style>\n",
       "<table border=\"1\" class=\"dataframe\">\n",
       "  <thead>\n",
       "    <tr>\n",
       "      <th></th>\n",
       "      <th>mean</th>\n",
       "      <th>max</th>\n",
       "      <th>min</th>\n",
       "      <th>median</th>\n",
       "    </tr>\n",
       "    <tr>\n",
       "      <th></th>\n",
       "      <th>Overdue_count</th>\n",
       "      <th>Overdue_count</th>\n",
       "      <th>Overdue_count</th>\n",
       "      <th>Overdue_count</th>\n",
       "    </tr>\n",
       "    <tr>\n",
       "      <th>Credit_Rank</th>\n",
       "      <th></th>\n",
       "      <th></th>\n",
       "      <th></th>\n",
       "      <th></th>\n",
       "    </tr>\n",
       "  </thead>\n",
       "  <tbody>\n",
       "    <tr>\n",
       "      <th>1.0</th>\n",
       "      <td>0.009215</td>\n",
       "      <td>12</td>\n",
       "      <td>0</td>\n",
       "      <td>0.0</td>\n",
       "    </tr>\n",
       "    <tr>\n",
       "      <th>2.0</th>\n",
       "      <td>0.013578</td>\n",
       "      <td>8</td>\n",
       "      <td>0</td>\n",
       "      <td>0.0</td>\n",
       "    </tr>\n",
       "    <tr>\n",
       "      <th>3.0</th>\n",
       "      <td>0.027746</td>\n",
       "      <td>14</td>\n",
       "      <td>0</td>\n",
       "      <td>0.0</td>\n",
       "    </tr>\n",
       "    <tr>\n",
       "      <th>4.0</th>\n",
       "      <td>0.076573</td>\n",
       "      <td>15</td>\n",
       "      <td>0</td>\n",
       "      <td>0.0</td>\n",
       "    </tr>\n",
       "    <tr>\n",
       "      <th>5.0</th>\n",
       "      <td>0.112801</td>\n",
       "      <td>15</td>\n",
       "      <td>0</td>\n",
       "      <td>0.0</td>\n",
       "    </tr>\n",
       "    <tr>\n",
       "      <th>6.0</th>\n",
       "      <td>0.232788</td>\n",
       "      <td>14</td>\n",
       "      <td>0</td>\n",
       "      <td>0.0</td>\n",
       "    </tr>\n",
       "    <tr>\n",
       "      <th>7.0</th>\n",
       "      <td>0.527870</td>\n",
       "      <td>15</td>\n",
       "      <td>0</td>\n",
       "      <td>0.0</td>\n",
       "    </tr>\n",
       "    <tr>\n",
       "      <th>8.0</th>\n",
       "      <td>0.999376</td>\n",
       "      <td>15</td>\n",
       "      <td>0</td>\n",
       "      <td>0.0</td>\n",
       "    </tr>\n",
       "    <tr>\n",
       "      <th>9.0</th>\n",
       "      <td>1.228346</td>\n",
       "      <td>15</td>\n",
       "      <td>0</td>\n",
       "      <td>0.0</td>\n",
       "    </tr>\n",
       "    <tr>\n",
       "      <th>10.0</th>\n",
       "      <td>1.492537</td>\n",
       "      <td>14</td>\n",
       "      <td>0</td>\n",
       "      <td>0.0</td>\n",
       "    </tr>\n",
       "  </tbody>\n",
       "</table>\n",
       "</div>"
      ],
      "text/plain": [
       "                     mean           max           min        median\n",
       "            Overdue_count Overdue_count Overdue_count Overdue_count\n",
       "Credit_Rank                                                        \n",
       "1.0              0.009215            12             0           0.0\n",
       "2.0              0.013578             8             0           0.0\n",
       "3.0              0.027746            14             0           0.0\n",
       "4.0              0.076573            15             0           0.0\n",
       "5.0              0.112801            15             0           0.0\n",
       "6.0              0.232788            14             0           0.0\n",
       "7.0              0.527870            15             0           0.0\n",
       "8.0              0.999376            15             0           0.0\n",
       "9.0              1.228346            15             0           0.0\n",
       "10.0             1.492537            14             0           0.0"
      ]
     },
     "execution_count": 27,
     "metadata": {},
     "output_type": "execute_result"
    }
   ],
   "source": [
    "df1.pivot_table(index = 'Credit_Rank', values = 'Overdue_count', aggfunc = ['mean', 'max', 'min', 'median'])"
   ]
  },
  {
   "cell_type": "code",
   "execution_count": 38,
   "id": "0197d5e8-16e5-46a4-b582-6f7cb11ea389",
   "metadata": {},
   "outputs": [
    {
     "data": {
      "text/html": [
       "<div>\n",
       "<style scoped>\n",
       "    .dataframe tbody tr th:only-of-type {\n",
       "        vertical-align: middle;\n",
       "    }\n",
       "\n",
       "    .dataframe tbody tr th {\n",
       "        vertical-align: top;\n",
       "    }\n",
       "\n",
       "    .dataframe thead tr th {\n",
       "        text-align: left;\n",
       "    }\n",
       "\n",
       "    .dataframe thead tr:last-of-type th {\n",
       "        text-align: right;\n",
       "    }\n",
       "</style>\n",
       "<table border=\"1\" class=\"dataframe\">\n",
       "  <thead>\n",
       "    <tr>\n",
       "      <th></th>\n",
       "      <th colspan=\"2\" halign=\"left\">mean</th>\n",
       "      <th colspan=\"2\" halign=\"left\">sum</th>\n",
       "      <th colspan=\"2\" halign=\"left\">median</th>\n",
       "    </tr>\n",
       "    <tr>\n",
       "      <th></th>\n",
       "      <th>Amount_Month</th>\n",
       "      <th>Term</th>\n",
       "      <th>Amount_Month</th>\n",
       "      <th>Term</th>\n",
       "      <th>Amount_Month</th>\n",
       "      <th>Term</th>\n",
       "    </tr>\n",
       "    <tr>\n",
       "      <th>Credit_Rank</th>\n",
       "      <th></th>\n",
       "      <th></th>\n",
       "      <th></th>\n",
       "      <th></th>\n",
       "      <th></th>\n",
       "      <th></th>\n",
       "    </tr>\n",
       "  </thead>\n",
       "  <tbody>\n",
       "    <tr>\n",
       "      <th>1.0</th>\n",
       "      <td>95786.883779</td>\n",
       "      <td>58.241657</td>\n",
       "      <td>1070610000</td>\n",
       "      <td>650967</td>\n",
       "      <td>96900.0</td>\n",
       "      <td>60.0</td>\n",
       "    </tr>\n",
       "    <tr>\n",
       "      <th>2.0</th>\n",
       "      <td>94739.536741</td>\n",
       "      <td>56.687300</td>\n",
       "      <td>711683400</td>\n",
       "      <td>425835</td>\n",
       "      <td>96900.0</td>\n",
       "      <td>60.0</td>\n",
       "    </tr>\n",
       "    <tr>\n",
       "      <th>3.0</th>\n",
       "      <td>93800.570034</td>\n",
       "      <td>55.084386</td>\n",
       "      <td>490201779</td>\n",
       "      <td>287871</td>\n",
       "      <td>96900.0</td>\n",
       "      <td>60.0</td>\n",
       "    </tr>\n",
       "    <tr>\n",
       "      <th>4.0</th>\n",
       "      <td>94527.691433</td>\n",
       "      <td>55.989007</td>\n",
       "      <td>498728100</td>\n",
       "      <td>295398</td>\n",
       "      <td>96900.0</td>\n",
       "      <td>60.0</td>\n",
       "    </tr>\n",
       "    <tr>\n",
       "      <th>5.0</th>\n",
       "      <td>94820.018157</td>\n",
       "      <td>56.677258</td>\n",
       "      <td>417777000</td>\n",
       "      <td>249720</td>\n",
       "      <td>96900.0</td>\n",
       "      <td>60.0</td>\n",
       "    </tr>\n",
       "    <tr>\n",
       "      <th>6.0</th>\n",
       "      <td>94657.618510</td>\n",
       "      <td>56.481941</td>\n",
       "      <td>335466600</td>\n",
       "      <td>200172</td>\n",
       "      <td>96900.0</td>\n",
       "      <td>60.0</td>\n",
       "    </tr>\n",
       "    <tr>\n",
       "      <th>7.0</th>\n",
       "      <td>94519.210352</td>\n",
       "      <td>56.193762</td>\n",
       "      <td>284880900</td>\n",
       "      <td>169368</td>\n",
       "      <td>96900.0</td>\n",
       "      <td>60.0</td>\n",
       "    </tr>\n",
       "    <tr>\n",
       "      <th>8.0</th>\n",
       "      <td>95231.191516</td>\n",
       "      <td>56.172801</td>\n",
       "      <td>152655600</td>\n",
       "      <td>90045</td>\n",
       "      <td>96900.0</td>\n",
       "      <td>60.0</td>\n",
       "    </tr>\n",
       "    <tr>\n",
       "      <th>9.0</th>\n",
       "      <td>96034.015748</td>\n",
       "      <td>58.422047</td>\n",
       "      <td>60981600</td>\n",
       "      <td>37098</td>\n",
       "      <td>96900.0</td>\n",
       "      <td>60.0</td>\n",
       "    </tr>\n",
       "    <tr>\n",
       "      <th>10.0</th>\n",
       "      <td>98753.731343</td>\n",
       "      <td>57.268657</td>\n",
       "      <td>6616500</td>\n",
       "      <td>3837</td>\n",
       "      <td>96900.0</td>\n",
       "      <td>60.0</td>\n",
       "    </tr>\n",
       "  </tbody>\n",
       "</table>\n",
       "</div>"
      ],
      "text/plain": [
       "                     mean                     sum               median      \n",
       "             Amount_Month       Term Amount_Month    Term Amount_Month  Term\n",
       "Credit_Rank                                                                 \n",
       "1.0          95786.883779  58.241657   1070610000  650967      96900.0  60.0\n",
       "2.0          94739.536741  56.687300    711683400  425835      96900.0  60.0\n",
       "3.0          93800.570034  55.084386    490201779  287871      96900.0  60.0\n",
       "4.0          94527.691433  55.989007    498728100  295398      96900.0  60.0\n",
       "5.0          94820.018157  56.677258    417777000  249720      96900.0  60.0\n",
       "6.0          94657.618510  56.481941    335466600  200172      96900.0  60.0\n",
       "7.0          94519.210352  56.193762    284880900  169368      96900.0  60.0\n",
       "8.0          95231.191516  56.172801    152655600   90045      96900.0  60.0\n",
       "9.0          96034.015748  58.422047     60981600   37098      96900.0  60.0\n",
       "10.0         98753.731343  57.268657      6616500    3837      96900.0  60.0"
      ]
     },
     "execution_count": 38,
     "metadata": {},
     "output_type": "execute_result"
    }
   ],
   "source": [
    "# 신용등급('Credit_Rank') 별 고객의 월랜탈비용('Amount_Month'), 계약기간('Term')의 평균/합/중앙값을 계산하시오.\n",
    "\n",
    "df1.pivot_table(index = 'Credit_Rank', values = ['Amount_Month', 'Term'], aggfunc = ['mean', 'sum', 'median'])"
   ]
  },
  {
   "cell_type": "code",
   "execution_count": 41,
   "id": "101dcc5f-fb17-4004-a824-3445a2021a8b",
   "metadata": {},
   "outputs": [
    {
     "data": {
      "text/plain": [
       "np.float64(144188.25)"
      ]
     },
     "execution_count": 41,
     "metadata": {},
     "output_type": "execute_result"
    }
   ],
   "source": [
    "#  매출 관리 부서의 A씨는 매주 해당 데이터를 받아 계약 금액이 높은 1000개의 계약 명단의 평균 값을 계산한다고 한다. 이 업무를 자동화 하기 위해, 데이터를 입력했을 때, 월랜탈비용('Amount_Month')가 높은 1000개의 데이터를 추출하여, 해당 데이터의 월랜탈비용('Amount_Month')평균을 계산하는 함수를 만드시오.\n",
    "def func3(data):\n",
    "    data2 = data.sort_values(by = 'Amount_Month', ascending = False).head(1000)\n",
    "    return data2['Amount_Month'].mean()\n",
    "\n",
    "func3(df1)"
   ]
  },
  {
   "cell_type": "code",
   "execution_count": 43,
   "id": "9769abd6-428f-48d8-8392-5e3762d91d32",
   "metadata": {},
   "outputs": [
    {
     "data": {
      "text/html": [
       "<div>\n",
       "<style scoped>\n",
       "    .dataframe tbody tr th:only-of-type {\n",
       "        vertical-align: middle;\n",
       "    }\n",
       "\n",
       "    .dataframe tbody tr th {\n",
       "        vertical-align: top;\n",
       "    }\n",
       "\n",
       "    .dataframe thead th {\n",
       "        text-align: right;\n",
       "    }\n",
       "</style>\n",
       "<table border=\"1\" class=\"dataframe\">\n",
       "  <thead>\n",
       "    <tr style=\"text-align: right;\">\n",
       "      <th></th>\n",
       "      <th>Count</th>\n",
       "    </tr>\n",
       "    <tr>\n",
       "      <th>Channel</th>\n",
       "      <th></th>\n",
       "    </tr>\n",
       "  </thead>\n",
       "  <tbody>\n",
       "    <tr>\n",
       "      <th>영업방판</th>\n",
       "      <td>21118</td>\n",
       "    </tr>\n",
       "    <tr>\n",
       "      <th>홈쇼핑/방송</th>\n",
       "      <td>9345</td>\n",
       "    </tr>\n",
       "    <tr>\n",
       "      <th>대형마트A</th>\n",
       "      <td>4288</td>\n",
       "    </tr>\n",
       "    <tr>\n",
       "      <th>전문매장H</th>\n",
       "      <td>3202</td>\n",
       "    </tr>\n",
       "    <tr>\n",
       "      <th>재계약</th>\n",
       "      <td>2133</td>\n",
       "    </tr>\n",
       "    <tr>\n",
       "      <th>대형마트E</th>\n",
       "      <td>1367</td>\n",
       "    </tr>\n",
       "    <tr>\n",
       "      <th>전문매장Z</th>\n",
       "      <td>1150</td>\n",
       "    </tr>\n",
       "    <tr>\n",
       "      <th>전단홍보</th>\n",
       "      <td>501</td>\n",
       "    </tr>\n",
       "    <tr>\n",
       "      <th>홈쇼핑/인터넷</th>\n",
       "      <td>319</td>\n",
       "    </tr>\n",
       "    <tr>\n",
       "      <th>대형마트H</th>\n",
       "      <td>220</td>\n",
       "    </tr>\n",
       "    <tr>\n",
       "      <th>자체홈페이지</th>\n",
       "      <td>111</td>\n",
       "    </tr>\n",
       "    <tr>\n",
       "      <th>대형마트N</th>\n",
       "      <td>78</td>\n",
       "    </tr>\n",
       "    <tr>\n",
       "      <th>대형마트C</th>\n",
       "      <td>12</td>\n",
       "    </tr>\n",
       "    <tr>\n",
       "      <th>직영계열사B</th>\n",
       "      <td>3</td>\n",
       "    </tr>\n",
       "    <tr>\n",
       "      <th>직영계열사A</th>\n",
       "      <td>2</td>\n",
       "    </tr>\n",
       "    <tr>\n",
       "      <th>직영유통사</th>\n",
       "      <td>2</td>\n",
       "    </tr>\n",
       "  </tbody>\n",
       "</table>\n",
       "</div>"
      ],
      "text/plain": [
       "         Count\n",
       "Channel       \n",
       "영업방판     21118\n",
       "홈쇼핑/방송    9345\n",
       "대형마트A     4288\n",
       "전문매장H     3202\n",
       "재계약       2133\n",
       "대형마트E     1367\n",
       "전문매장Z     1150\n",
       "전단홍보       501\n",
       "홈쇼핑/인터넷    319\n",
       "대형마트H      220\n",
       "자체홈페이지     111\n",
       "대형마트N       78\n",
       "대형마트C       12\n",
       "직영계열사B       3\n",
       "직영계열사A       2\n",
       "직영유통사        2"
      ]
     },
     "execution_count": 43,
     "metadata": {},
     "output_type": "execute_result"
    }
   ],
   "source": [
    "# 데이터에서 고객들의 유입경로(Channel)을 분석하고자 한다. 유입경로(Channel)중 가장 많은 고객이 유입된 경로를 확인하시오.\n",
    "\n",
    "df1['Channel'].value_counts()\n",
    "df1['Count'] = 1\n",
    "p2 = df1.pivot_table(index = ['Member_ID', 'Channel'], values = 'Count', aggfunc = 'min').reset_index()\n",
    "p2.pivot_table(index = 'Channel', values = 'Count', aggfunc = 'sum').sort_values(by = 'Count', ascending = False)"
   ]
  },
  {
   "cell_type": "code",
   "execution_count": 44,
   "id": "19277a98-9402-4151-a19c-442d7be72452",
   "metadata": {
    "scrolled": true
   },
   "outputs": [
    {
     "data": {
      "text/plain": [
       "Channel\n",
       "영업방판       23767\n",
       "홈쇼핑/방송     12977\n",
       "대형마트A       4725\n",
       "전문매장H       3227\n",
       "재계약         2193\n",
       "대형마트E       1497\n",
       "전문매장Z       1206\n",
       "전단홍보         560\n",
       "홈쇼핑/인터넷      375\n",
       "대형마트H        225\n",
       "직영유통사        188\n",
       "자체홈페이지       120\n",
       "대형마트C        119\n",
       "대형마트N         83\n",
       "직영계열사A        20\n",
       "직영계열사B        19\n",
       "Name: count, dtype: int64"
      ]
     },
     "execution_count": 44,
     "metadata": {},
     "output_type": "execute_result"
    }
   ],
   "source": [
    "df1['Channel'].value_counts()"
   ]
  },
  {
   "cell_type": "markdown",
   "id": "eb2f959d-9026-4043-9543-ad42d7851ab4",
   "metadata": {},
   "source": [
    "EDA를 하는 이유\n",
    "1. 설득을 위한 그래프 -> ppt나 다른것 사용\n",
    "2. 데이터의 경향 Trend 빠르게 파악\n",
    "\n",
    "# EDA(탐색적 데이터 분석)\n",
    "\n",
    "## 9-1. 데이터 시각화\n",
    "\n",
    "- 시각화 목적\n",
    "    1. 설득 자료를 만들기 위한 시각화 (보고서) -> 누구나 이해할 수 있게 제작\n",
    "    2. 데이터의 특성과 트랜드를 빠르게 확인하기 위한 목적\n",
    "- 단일 변수 \n",
    "    - 연속형 (숫자) : 분포의 모양 확인\n",
    "        - Histogram : 연속형 자료들의 빈도수를 막대그래프로 표현 (x - 연속형, y - 빈도수)\n",
    "        - Kernel Density Estimator (KDE, 확률밀도함수) : 연속형 자료들의 분포를 추정하여 표현 (X - 연속형, y - 확률값)\n",
    "        - Box Plot (상자 그림) : 연속형 자료를 백분위수로 환산, 사분범위로 나누어 그래프로 표현\n",
    "    - 범주형 (문자) : 비율\n",
    "        - Bar Chart(빈도수), Pie Chart(비율)\n",
    "- 다변수\n",
    "    - X(범주형), Y(연속형) : 집단 간 통계량을 비교하는 경우(Bar Chart)\n",
    "    - X(연속형), Y(연속형) : 두 지표간 상관관계가 존재하는지 (비례, 반비례, Scatter Chart)\n",
    "    - X(순서형), Y(연속형) : 순서(서열, 시간)에 따른 추이 확인(Line Chart)"
   ]
  },
  {
   "cell_type": "code",
   "execution_count": 45,
   "id": "605e8e73-e721-442a-9f49-23293785492c",
   "metadata": {},
   "outputs": [],
   "source": [
    "# 기존의 시각화 라이브러리\n",
    "\n",
    "import matplotlib as mpl # 시각화의 외부적인 옵션 (글꼴, 서체, 언어, ...)\n",
    "import matplotlib.pyplot as plt # 시각화의 그래프 출력, 옵션(축, 크기, 분할, ...)\n",
    "import seaborn as sns"
   ]
  },
  {
   "cell_type": "code",
   "execution_count": 46,
   "id": "5a3b3bfc-b085-4e6a-b082-0fef13b2c261",
   "metadata": {},
   "outputs": [],
   "source": [
    "mpl.rc('font', family = 'Malgun Gothic') # 윈도우 OS 한글 글꼴 설정"
   ]
  },
  {
   "cell_type": "code",
   "execution_count": 49,
   "id": "4708e93e-efc2-4596-95ae-969fb6da43b4",
   "metadata": {},
   "outputs": [
    {
     "data": {
      "text/html": [
       "<div>\n",
       "<style scoped>\n",
       "    .dataframe tbody tr th:only-of-type {\n",
       "        vertical-align: middle;\n",
       "    }\n",
       "\n",
       "    .dataframe tbody tr th {\n",
       "        vertical-align: top;\n",
       "    }\n",
       "\n",
       "    .dataframe thead th {\n",
       "        text-align: right;\n",
       "    }\n",
       "</style>\n",
       "<table border=\"1\" class=\"dataframe\">\n",
       "  <thead>\n",
       "    <tr style=\"text-align: right;\">\n",
       "      <th></th>\n",
       "      <th>Channel</th>\n",
       "      <th>Count</th>\n",
       "    </tr>\n",
       "  </thead>\n",
       "  <tbody>\n",
       "    <tr>\n",
       "      <th>0</th>\n",
       "      <td>영업방판</td>\n",
       "      <td>21118</td>\n",
       "    </tr>\n",
       "    <tr>\n",
       "      <th>1</th>\n",
       "      <td>홈쇼핑/방송</td>\n",
       "      <td>9345</td>\n",
       "    </tr>\n",
       "    <tr>\n",
       "      <th>2</th>\n",
       "      <td>대형마트A</td>\n",
       "      <td>4288</td>\n",
       "    </tr>\n",
       "    <tr>\n",
       "      <th>3</th>\n",
       "      <td>전문매장H</td>\n",
       "      <td>3202</td>\n",
       "    </tr>\n",
       "    <tr>\n",
       "      <th>4</th>\n",
       "      <td>재계약</td>\n",
       "      <td>2133</td>\n",
       "    </tr>\n",
       "    <tr>\n",
       "      <th>5</th>\n",
       "      <td>대형마트E</td>\n",
       "      <td>1367</td>\n",
       "    </tr>\n",
       "    <tr>\n",
       "      <th>6</th>\n",
       "      <td>전문매장Z</td>\n",
       "      <td>1150</td>\n",
       "    </tr>\n",
       "    <tr>\n",
       "      <th>7</th>\n",
       "      <td>전단홍보</td>\n",
       "      <td>501</td>\n",
       "    </tr>\n",
       "    <tr>\n",
       "      <th>8</th>\n",
       "      <td>홈쇼핑/인터넷</td>\n",
       "      <td>319</td>\n",
       "    </tr>\n",
       "    <tr>\n",
       "      <th>9</th>\n",
       "      <td>대형마트H</td>\n",
       "      <td>220</td>\n",
       "    </tr>\n",
       "    <tr>\n",
       "      <th>10</th>\n",
       "      <td>자체홈페이지</td>\n",
       "      <td>111</td>\n",
       "    </tr>\n",
       "    <tr>\n",
       "      <th>11</th>\n",
       "      <td>대형마트N</td>\n",
       "      <td>78</td>\n",
       "    </tr>\n",
       "    <tr>\n",
       "      <th>12</th>\n",
       "      <td>대형마트C</td>\n",
       "      <td>12</td>\n",
       "    </tr>\n",
       "    <tr>\n",
       "      <th>13</th>\n",
       "      <td>직영계열사B</td>\n",
       "      <td>3</td>\n",
       "    </tr>\n",
       "    <tr>\n",
       "      <th>14</th>\n",
       "      <td>직영계열사A</td>\n",
       "      <td>2</td>\n",
       "    </tr>\n",
       "    <tr>\n",
       "      <th>15</th>\n",
       "      <td>직영유통사</td>\n",
       "      <td>2</td>\n",
       "    </tr>\n",
       "  </tbody>\n",
       "</table>\n",
       "</div>"
      ],
      "text/plain": [
       "    Channel  Count\n",
       "0      영업방판  21118\n",
       "1    홈쇼핑/방송   9345\n",
       "2     대형마트A   4288\n",
       "3     전문매장H   3202\n",
       "4       재계약   2133\n",
       "5     대형마트E   1367\n",
       "6     전문매장Z   1150\n",
       "7      전단홍보    501\n",
       "8   홈쇼핑/인터넷    319\n",
       "9     대형마트H    220\n",
       "10   자체홈페이지    111\n",
       "11    대형마트N     78\n",
       "12    대형마트C     12\n",
       "13   직영계열사B      3\n",
       "14   직영계열사A      2\n",
       "15    직영유통사      2"
      ]
     },
     "execution_count": 49,
     "metadata": {},
     "output_type": "execute_result"
    }
   ],
   "source": [
    "p3 = p2.pivot_table(index = 'Channel', values = 'Count', aggfunc = 'sum').sort_values(by = 'Count', ascending = False).reset_index()\n",
    "p3"
   ]
  },
  {
   "cell_type": "code",
   "execution_count": 50,
   "id": "52292128-a8ef-4184-ac00-2cf1c5a71836",
   "metadata": {},
   "outputs": [
    {
     "data": {
      "text/plain": [
       "<Axes: xlabel='Count', ylabel='Channel'>"
      ]
     },
     "execution_count": 50,
     "metadata": {},
     "output_type": "execute_result"
    },
    {
     "data": {
      "image/png": "[encoded data removed]",
      "text/plain": [
       "<Figure size 640x480 with 1 Axes>"
      ]
     },
     "metadata": {},
     "output_type": "display_data"
    }
   ],
   "source": [
    "# 집단간 통계량을 비교 (Bar Chart)\n",
    "sns.barplot(data = p3, y = 'Channel', x = 'Count')"
   ]
  },
  {
   "cell_type": "code",
   "execution_count": 52,
   "id": "0e1b33d7-86e4-4f6b-b21f-18e98e1e872b",
   "metadata": {},
   "outputs": [
    {
     "data": {
      "image/png": "[encoded data removed]",
      "text/plain": [
       "<Figure size 640x480 with 1 Axes>"
      ]
     },
     "metadata": {},
     "output_type": "display_data"
    }
   ],
   "source": [
    "# 단일 변수의 빈도수 계산 \n",
    "sns.countplot(data = df1, y = 'Channel')\n",
    "plt.savefig('img.png')"
   ]
  },
  {
   "cell_type": "code",
   "execution_count": 54,
   "id": "014db72a-3f84-465e-9754-204473b6712a",
   "metadata": {},
   "outputs": [],
   "source": [
    "# order_list : Channel 데이터의 항목의 빈도수가 높은 순서대로 정렬된 값들의 리스트\n",
    "order_list = df1['Channel'].value_counts().index"
   ]
  },
  {
   "cell_type": "code",
   "execution_count": 56,
   "id": "f149134a-9ae1-4adf-b13d-81eaa2cc58a7",
   "metadata": {},
   "outputs": [
    {
     "data": {
      "text/plain": [
       "np.float64(100322.79463121135)"
      ]
     },
     "execution_count": 56,
     "metadata": {},
     "output_type": "execute_result"
    }
   ],
   "source": [
    "# order_list의 첫번째 해당하는 데이터를 추출하여 월 랜탈비용의 평균을 계산\n",
    "cond1 = df1['Channel'] == order_list[0]\n",
    "df1.loc[cond1]['Amount_Month'].mean()"
   ]
  },
  {
   "cell_type": "code",
   "execution_count": 58,
   "id": "e12a9d58-c213-4e2c-9f70-32d15058d947",
   "metadata": {},
   "outputs": [
    {
     "data": {
      "text/plain": [
       "<seaborn.axisgrid.FacetGrid at 0x2c63f0a93d0>"
      ]
     },
     "execution_count": 58,
     "metadata": {},
     "output_type": "execute_result"
    },
    {
     "data": {
      "image/png": "[encoded data removed]",
      "text/plain": [
       "<Figure size 500x500 with 1 Axes>"
      ]
     },
     "metadata": {},
     "output_type": "display_data"
    }
   ],
   "source": [
    "# 가장 많이 유입된 경로에 계약 월 랜탈 비용의 분포를 확인\n",
    "df3 = df1.loc[cond1]\n",
    "\n",
    "# 히스토그램\n",
    "sns.displot(data = df3, x = 'Amount_Month')\n"
   ]
  },
  {
   "cell_type": "code",
   "execution_count": 59,
   "id": "a64d00d7-73e3-4c94-aa43-f9b90c81e04d",
   "metadata": {},
   "outputs": [
    {
     "name": "stderr",
     "output_type": "stream",
     "text": [
      "C:\\Users\\leedo\\anaconda3\\Lib\\site-packages\\seaborn\\axisgrid.py:123: UserWarning: Glyph 8722 (\\N{MINUS SIGN}) missing from font(s) Malgun Gothic.\n",
      "  self._figure.tight_layout(*args, **kwargs)\n"
     ]
    },
    {
     "data": {
      "text/plain": [
       "<seaborn.axisgrid.FacetGrid at 0x2c63e01bbd0>"
      ]
     },
     "execution_count": 59,
     "metadata": {},
     "output_type": "execute_result"
    },
    {
     "name": "stderr",
     "output_type": "stream",
     "text": [
      "C:\\Users\\leedo\\anaconda3\\Lib\\site-packages\\IPython\\core\\events.py:82: UserWarning: Glyph 8722 (\\N{MINUS SIGN}) missing from font(s) Malgun Gothic.\n",
      "  func(*args, **kwargs)\n",
      "C:\\Users\\leedo\\anaconda3\\Lib\\site-packages\\IPython\\core\\pylabtools.py:170: UserWarning: Glyph 8722 (\\N{MINUS SIGN}) missing from font(s) Malgun Gothic.\n",
      "  fig.canvas.print_figure(bytes_io, **kw)\n"
     ]
    },
    {
     "data": {
      "image/png": "[encoded data removed]",
      "text/plain": [
       "<Figure size 500x500 with 1 Axes>"
      ]
     },
     "metadata": {},
     "output_type": "display_data"
    }
   ],
   "source": [
    "#확률 밀도 함수 (KDE)\n",
    "\n",
    "sns.displot(data = df3, x = 'Amount_Month', kind = 'kde')"
   ]
  },
  {
   "cell_type": "code",
   "execution_count": 60,
   "id": "869193c8-1880-47c0-b43a-bde107e78e5e",
   "metadata": {},
   "outputs": [
    {
     "data": {
      "text/plain": [
       "<seaborn.axisgrid.FacetGrid at 0x2c63f30e390>"
      ]
     },
     "execution_count": 60,
     "metadata": {},
     "output_type": "execute_result"
    },
    {
     "data": {
      "image/png": "[encoded data removed]",
      "text/plain": [
       "<Figure size 612.625x500 with 1 Axes>"
      ]
     },
     "metadata": {},
     "output_type": "display_data"
    }
   ],
   "source": [
    "sns.displot(data = df3, x = 'Amount_Month', kind = 'kde', hue = 'Product_Type')\n",
    "# kind : 그래프를 어던 종률로 시각화 할지\n",
    "# hue : 그래프 중첩 옵션"
   ]
  },
  {
   "cell_type": "code",
   "execution_count": 61,
   "id": "ac7ae634-c39a-429b-a5b8-0c56d5157660",
   "metadata": {},
   "outputs": [
    {
     "data": {
      "text/plain": [
       "<Axes: xlabel='Amount_Month'>"
      ]
     },
     "execution_count": 61,
     "metadata": {},
     "output_type": "execute_result"
    },
    {
     "data": {
      "image/png": "[encoded data removed]",
      "text/plain": [
       "<Figure size 640x480 with 1 Axes>"
      ]
     },
     "metadata": {},
     "output_type": "display_data"
    }
   ],
   "source": [
    "sns.boxplot(data = df3, x = 'Amount_Month')"
   ]
  },
  {
   "cell_type": "markdown",
   "id": "cbb54f20-ec3d-464c-8cdb-1e1b0fb7d9f1",
   "metadata": {},
   "source": [
    "**이상치**\n",
    "\n",
    "- 데이터의 특성에 벗어난 값\n",
    "\n",
    "1. 사분위수 범위를 활용하여 판별\n",
    "   - 사분위수의 상자 수염에 벗어나는 값을 이상치로 지정\n",
    "   - 상자 수염: 1사분 범위 또는 3사분 범위로 부터 1.5배에 해당하는 범위\n",
    "   - 가장 많이 사용되는 방식 (연속형 자료가 정규분포를 따를 때)\n",
    "2. 평균과 표준편차를 활용하여 이상치를 판별\n",
    "   - 평균에서 표준편차의 특정 배수만큼 떨어진 데이터를 이상치로 지정\n",
    "   - 주로 연속형 자료가 정규분포(제조, 식스시그마 활용한 공정관리)\n",
    "   - 응용) ESD(Extreme Studentized Deviate)기법\n",
    "         - 평균으로부터, 표준편차의 배수를 계산하여, 이상치를 탐핵한 다음, 특정 범위의 이상치가 들어올 때 까지 표준편차의 배수를 조정하는 방법\n",
    "3. 데이터 마이닝 기법(모델링)\n",
    "   - 데이터를 학습을 통해, 데이터의 거리, 밀도, 경로를 기반으로 이상치를 판별\n",
    "   - DBSCAN, LOF, isolation Forest, SVM, ...\n",
    "   - 비모수 데이터에 대해 주로 사용(정규분포를 따르지 않는 데이터)"
   ]
  }
 ],
 "metadata": {
  "kernelspec": {
   "display_name": "Python 3 (ipykernel)",
   "language": "python",
   "name": "python3"
  },
  "language_info": {
   "codemirror_mode": {
    "name": "ipython",
    "version": 3
   },
   "file_extension": ".py",
   "mimetype": "text/x-python",
   "name": "python",
   "nbconvert_exporter": "python",
   "pygments_lexer": "ipython3",
   "version": "3.11.11"
  }
 },
 "nbformat": 4,
 "nbformat_minor": 5
}
