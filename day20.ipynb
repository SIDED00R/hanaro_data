{
 "cells": [
  {
   "cell_type": "code",
   "execution_count": 40,
   "id": "af11a57a-5b20-46a6-af5a-c08617b6fb87",
   "metadata": {},
   "outputs": [
    {
     "name": "stdout",
     "output_type": "stream",
     "text": [
      "18 19 20 21 22 23 "
     ]
    }
   ],
   "source": [
    "a, b, c = 11, 5, 23\n",
    "\n",
    "s = set()\n",
    "stack = [(0, 0, 23)]\n",
    "answer = set()\n",
    "while stack:\n",
    "    out = stack.pop()\n",
    "    if out[0] == 0:\n",
    "        answer.add(out[2])\n",
    "    before = len(s)\n",
    "    s.add(out)\n",
    "    after = len(s)\n",
    "    if before == after:\n",
    "        continue\n",
    "    else:\n",
    "        if a != 0:\n",
    "            ab = (out[1] + out[0] - min(b, out[1] + out[0]), min(b, out[1] + out[0]), out[2])\n",
    "            ac = (out[2] + out[0] - min(c, out[2] + out[0]), out[1], min(c, out[2] + out[0]))\n",
    "            stack.append(ab)\n",
    "            stack.append(ac)\n",
    "        if b != 0:\n",
    "            ba = (min(a, out[1] + out[0]), out[0] + out[1] - min(a, out[1] + out[0]), out[2])\n",
    "            bc = (out[0], out[1] + out[2] - min(c, out[2] + out[1]), min(c, out[2] + out[1]))\n",
    "            stack.append(ba)\n",
    "            stack.append(bc)\n",
    "        if c != 0:\n",
    "            ca = (min(a, out[2] + out[0]), out[1], out[2] + out[0] - min(a, out[2] + out[0]))\n",
    "            cb = (out[0], min(b, out[2] + out[1]), out[1] + out[2] - min(b, out[2] + out[1]))\n",
    "            stack.append(cb)\n",
    "            stack.append(ca)\n",
    "\n",
    "for num in sorted(answer):\n",
    "    print(num, end = ' ')"
   ]
  },
  {
   "cell_type": "code",
   "execution_count": 2,
   "id": "b5983b43-a11d-478f-a442-5107fbe1e940",
   "metadata": {},
   "outputs": [],
   "source": [
    "# !pip install opencv-python"
   ]
  },
  {
   "cell_type": "code",
   "execution_count": 27,
   "id": "0605af52-ead1-46e9-a3c4-e4535b83ad42",
   "metadata": {},
   "outputs": [],
   "source": [
    "# 2. 네이버에 '하나은행'과 관련된 뉴스 기사를 검색하여, 상위 40개의 뉴스 기사의 제목과 내용을 수집하시오. \n",
    "\n",
    "import pyautogui\n",
    "import pyperclip\n",
    "import time\n",
    "from bs4 import BeautifulSoup\n",
    "from selenium import webdriver\n",
    "from selenium.webdriver.common.by import By"
   ]
  },
  {
   "cell_type": "code",
   "execution_count": 4,
   "id": "7a3823cf-2cf1-4d3b-902e-f27ab9532b1c",
   "metadata": {},
   "outputs": [],
   "source": [
    "driver = webdriver.Chrome()\n",
    "driver.get('https://www.naver.com')\n",
    "time.sleep(2)"
   ]
  },
  {
   "cell_type": "code",
   "execution_count": 11,
   "id": "8ebad026-4258-486b-995c-6609da414982",
   "metadata": {},
   "outputs": [],
   "source": [
    "# 특정 이미지를 찾아 해당 이미지의 좌표를 찾아온 뒤 클릭\n",
    "point_img = pyautogui.locateOnScreen('search1.PNG', confidence = 0.8)\n",
    "site = pyautogui.center(point_img)\n",
    "pyautogui.moveTo(site)\n",
    "time.sleep(1)\n",
    "\n",
    "# 마우스 커서가 이동한 위치를 클릭 하여 지정된 글을 입력\n",
    "pyautogui.click()\n",
    "\n",
    "# pyperclip라이브러리 활요하여 하나은행 검색어 입력\n",
    "pyperclip.copy('하나은행')\n",
    "pyautogui.hotkey('ctrl', 'v')\n",
    "pyautogui.write(['enter'])"
   ]
  },
  {
   "cell_type": "code",
   "execution_count": 25,
   "id": "0551d86e-8b4d-4fb5-808a-02c6e3a899b3",
   "metadata": {},
   "outputs": [],
   "source": [
    "# 뉴스 탭 클릭\n",
    "driver.find_element(By.XPATH, '//*[@id=\"lnb\"]/div[1]/div/div[1]/div/div[1]/div[8]/a').click()"
   ]
  },
  {
   "cell_type": "code",
   "execution_count": 37,
   "id": "87a424e1-0b54-4639-a7b6-99d481415b9f",
   "metadata": {},
   "outputs": [],
   "source": [
    "# 현재 웹 크롤러에 의해 동작되고 있는 페이지의 html 정보 추출\n",
    "html = BeautifulSoup(driver.page_source)\n",
    "\n",
    "# 뉴스 기사 제목 수집\n",
    "news_title = html.find_all('a', class_='lu8Lfh20c9DvvP05mqBf tym_MoKIfC84Aqvg9SKg')\n",
    "title_list = [x.get_text() for x in news_title]\n",
    "context = html.find_all('a', class_='lu8Lfh20c9DvvP05mqBf OmR0jkNgHXA6BZNhMfn2')\n",
    "context_list = [x.get_text() for x in context]"
   ]
  },
  {
   "cell_type": "code",
   "execution_count": 38,
   "id": "69173c41-19fb-40c0-81cc-7ae272393d8d",
   "metadata": {},
   "outputs": [
    {
     "data": {
      "text/html": [
       "<div>\n",
       "<style scoped>\n",
       "    .dataframe tbody tr th:only-of-type {\n",
       "        vertical-align: middle;\n",
       "    }\n",
       "\n",
       "    .dataframe tbody tr th {\n",
       "        vertical-align: top;\n",
       "    }\n",
       "\n",
       "    .dataframe thead th {\n",
       "        text-align: right;\n",
       "    }\n",
       "</style>\n",
       "<table border=\"1\" class=\"dataframe\">\n",
       "  <thead>\n",
       "    <tr style=\"text-align: right;\">\n",
       "      <th></th>\n",
       "      <th>제목</th>\n",
       "      <th>내용</th>\n",
       "    </tr>\n",
       "  </thead>\n",
       "  <tbody>\n",
       "    <tr>\n",
       "      <th>0</th>\n",
       "      <td>하나은행 74억원 부당대출 발생…금감원 수시검사 착수</td>\n",
       "      <td>최홍 이정필 기자 = 하나은행에서 74억원 규모의 부당대출이 발생해 금융감독원이 수...</td>\n",
       "    </tr>\n",
       "    <tr>\n",
       "      <th>1</th>\n",
       "      <td>기보·하나은행, 호남 기술중소기업 금융지원 맞손</td>\n",
       "      <td>기술보증기금은 하나은행과 '호남지역 기술중소기업 상생 금융지원 업무협약'을 체결했다...</td>\n",
       "    </tr>\n",
       "    <tr>\n",
       "      <th>2</th>\n",
       "      <td>하나은행 74억 규모 부당대출 금융사고 발생</td>\n",
       "      <td>하나은행에서 70억대의 부당대출 금융사고가 발생했다. 하나은행은 해당 직원을 대기발...</td>\n",
       "    </tr>\n",
       "    <tr>\n",
       "      <th>3</th>\n",
       "      <td>[종합] 하나금융, 1분기 실적 시장 전망치 상회…수수료 이익 견인</td>\n",
       "      <td>하나은행, 순이익 전년 대비 17.8% 증가…\"비이자이익 확대 영향\" 주요 자회사인...</td>\n",
       "    </tr>\n",
       "    <tr>\n",
       "      <th>4</th>\n",
       "      <td>하나은행, 74억원 규모 부당대출 발생…금감원, 수시검사 착수</td>\n",
       "      <td>하나은행에서 74억원대 부당대출 금융사고가 발생했다. 23일 금융권에 따르면 하나은...</td>\n",
       "    </tr>\n",
       "    <tr>\n",
       "      <th>...</th>\n",
       "      <td>...</td>\n",
       "      <td>...</td>\n",
       "    </tr>\n",
       "    <tr>\n",
       "      <th>505</th>\n",
       "      <td>하나저축은행, 에버스핀 ‘페이크파인더’로 핀테크 보안 업그레이드</td>\n",
       "      <td>하나저축은행이 디지털뱅킹 앱 ‘하나원큐 저축은행’에 적용하는 피싱방지 솔루션을 에버...</td>\n",
       "    </tr>\n",
       "    <tr>\n",
       "      <th>506</th>\n",
       "      <td>대전3·8민주의거기념사업회, 하나은행 발전기금 1000만원 전달받아</td>\n",
       "      <td>하나은행 충청영업그룹 대전영업본부는 4월 24일 대전 중구 선화동에 있는 3·8민주...</td>\n",
       "    </tr>\n",
       "    <tr>\n",
       "      <th>507</th>\n",
       "      <td>하나은행, 대만서 ‘해외로 찾아가는 패밀리오피스 세미나’ 첫 시행</td>\n",
       "      <td>하나은행은 해외에 거주 중인 글로벌 손님들의 맞춤형 자산관리를 위한 '해외로 찾아가...</td>\n",
       "    </tr>\n",
       "    <tr>\n",
       "      <th>508</th>\n",
       "      <td>기술보증기금, 하나은행과 해외진출기업 금융지원 맞손</td>\n",
       "      <td>기술보증기금(이하 기보)은 지난 18일 부산 본점에서 하나은행과 '국내기업의 해외 ...</td>\n",
       "    </tr>\n",
       "    <tr>\n",
       "      <th>509</th>\n",
       "      <td>하나은행, 소상공인 정책자금 대출 여부 온라인 사전진단 서비스 시행</td>\n",
       "      <td>사진/하나은행 하나은행이 소상공인 손님의 저금리 정책자금대출 대상 여부와 가능 한도...</td>\n",
       "    </tr>\n",
       "  </tbody>\n",
       "</table>\n",
       "<p>510 rows × 2 columns</p>\n",
       "</div>"
      ],
      "text/plain": [
       "                                        제목                                                 내용\n",
       "0            하나은행 74억원 부당대출 발생…금감원 수시검사 착수  최홍 이정필 기자 = 하나은행에서 74억원 규모의 부당대출이 발생해 금융감독원이 수...\n",
       "1               기보·하나은행, 호남 기술중소기업 금융지원 맞손  기술보증기금은 하나은행과 '호남지역 기술중소기업 상생 금융지원 업무협약'을 체결했다...\n",
       "2                 하나은행 74억 규모 부당대출 금융사고 발생  하나은행에서 70억대의 부당대출 금융사고가 발생했다. 하나은행은 해당 직원을 대기발...\n",
       "3    [종합] 하나금융, 1분기 실적 시장 전망치 상회…수수료 이익 견인  하나은행, 순이익 전년 대비 17.8% 증가…\"비이자이익 확대 영향\" 주요 자회사인...\n",
       "4       하나은행, 74억원 규모 부당대출 발생…금감원, 수시검사 착수  하나은행에서 74억원대 부당대출 금융사고가 발생했다. 23일 금융권에 따르면 하나은...\n",
       "..                                     ...                                                ...\n",
       "505    하나저축은행, 에버스핀 ‘페이크파인더’로 핀테크 보안 업그레이드  하나저축은행이 디지털뱅킹 앱 ‘하나원큐 저축은행’에 적용하는 피싱방지 솔루션을 에버...\n",
       "506  대전3·8민주의거기념사업회, 하나은행 발전기금 1000만원 전달받아  하나은행 충청영업그룹 대전영업본부는 4월 24일 대전 중구 선화동에 있는 3·8민주...\n",
       "507   하나은행, 대만서 ‘해외로 찾아가는 패밀리오피스 세미나’ 첫 시행  하나은행은 해외에 거주 중인 글로벌 손님들의 맞춤형 자산관리를 위한 '해외로 찾아가...\n",
       "508           기술보증기금, 하나은행과 해외진출기업 금융지원 맞손  기술보증기금(이하 기보)은 지난 18일 부산 본점에서 하나은행과 '국내기업의 해외 ...\n",
       "509  하나은행, 소상공인 정책자금 대출 여부 온라인 사전진단 서비스 시행  사진/하나은행 하나은행이 소상공인 손님의 저금리 정책자금대출 대상 여부와 가능 한도...\n",
       "\n",
       "[510 rows x 2 columns]"
      ]
     },
     "execution_count": 38,
     "metadata": {},
     "output_type": "execute_result"
    }
   ],
   "source": [
    "import pandas as pd\n",
    "\n",
    "\n",
    "pd.DataFrame(data={'제목': title_list, '내용': context_list})"
   ]
  },
  {
   "cell_type": "code",
   "execution_count": 36,
   "id": "802d4f7c-381c-4940-bae6-967200e116d8",
   "metadata": {},
   "outputs": [],
   "source": [
    "# 해당 페이지에 스크롤을 계속 내려 띄워진 정보들을 모두 수집\n",
    "# 스크롤을 약 50회 반복하여 내림\n",
    "for _ in range(50):\n",
    "    driver.execute_script('window.scrollTo(0, document.body.scrollHeight);')\n",
    "    time.sleep(0.5)"
   ]
  },
  {
   "cell_type": "code",
   "execution_count": null,
   "id": "164497c7-aa5c-456b-bf7e-c0fdb5671fba",
   "metadata": {},
   "outputs": [],
   "source": []
  }
 ],
 "metadata": {
  "kernelspec": {
   "display_name": "Python 3 (ipykernel)",
   "language": "python",
   "name": "python3"
  },
  "language_info": {
   "codemirror_mode": {
    "name": "ipython",
    "version": 3
   },
   "file_extension": ".py",
   "mimetype": "text/x-python",
   "name": "python",
   "nbconvert_exporter": "python",
   "pygments_lexer": "ipython3",
   "version": "3.11.11"
  }
 },
 "nbformat": 4,
 "nbformat_minor": 5
}
