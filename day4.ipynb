{
 "cells": [
  {
   "cell_type": "code",
   "execution_count": 3,
   "metadata": {},
   "outputs": [
    {
     "name": "stdout",
     "output_type": "stream",
     "text": [
      "15808\n"
     ]
    }
   ],
   "source": [
    "n, k = map(int, input().split())\n",
    "stack = [0 for _ in range(n * 2 + 1)]\n",
    "for idx in range(1, 2 * n + 1):\n",
    "    if stack[idx] == 0:\n",
    "        stack[idx] = stack[idx - 1] + 1\n",
    "        next_idx = idx * 2\n",
    "        while next_idx < 2 * n + 1:\n",
    "            stack[next_idx] = stack[idx - 1] + 1\n",
    "            next_idx *= 2\n",
    "\n",
    "for idx in range(n, 2 * n + 1):\n",
    "    if stack[idx] <= k:\n",
    "        print(idx - n)\n",
    "        break"
   ]
  },
  {
   "cell_type": "code",
   "execution_count": null,
   "metadata": {},
   "outputs": [
    {
     "data": {
      "text/plain": [
       "31"
      ]
     },
     "execution_count": 1,
     "metadata": {},
     "output_type": "execute_result"
    }
   ],
   "source": []
  },
  {
   "cell_type": "code",
   "execution_count": null,
   "metadata": {},
   "outputs": [],
   "source": [
    "from itertools import combinations\n",
    "import random\n",
    "\n",
    "def first():\n",
    "    ans = []\n",
    "    for num in range(1, 31):\n",
    "        if num % 3 == 0 and num % 4 != 0:\n",
    "            ans.append(num)\n",
    "    return ans\n",
    "\n",
    "def second():\n",
    "    print(len(list(combinations(range(1, 16), 5))))\n",
    "    \n",
    "third = lambda x, y: max(x, y)\n",
    "\n",
    "def fourth(list1, list2):\n",
    "    return sorted(set(list1 + list2))\n",
    "\n",
    "def fifth():\n",
    "    computer = random.randint(1, 50)\n",
    "    while True:\n",
    "        people = int(input())\n",
    "        if computer == people:\n",
    "            print(\"정답입니다\")\n",
    "            break\n",
    "        else:\n",
    "            print(\"오답입니다\")\n",
    "\n",
    "\n"
   ]
  },
  {
   "cell_type": "code",
   "execution_count": 2,
   "metadata": {},
   "outputs": [
    {
     "data": {
      "text/plain": [
       "3003"
      ]
     },
     "execution_count": 2,
     "metadata": {},
     "output_type": "execute_result"
    }
   ],
   "source": [
    "import math\n",
    "math.factorial(15) // (math.factorial(5) * math.factorial(10))"
   ]
  },
  {
   "cell_type": "markdown",
   "metadata": {},
   "source": [
    "# 7-2. pandas 라이브러리\n",
    "\n",
    "- pandas 자료구조\n",
    "\n",
    "      - series (순열) : numpy array를 기반으로, 정형데이터를 분석하기 위한 index-value 형식\n",
    "      - dataframe (데이터프레임) : 순열을 모아 하나의 chart 구성된 index-value-column 형식의 구조\n"
   ]
  },
  {
   "cell_type": "code",
   "execution_count": 2,
   "metadata": {},
   "outputs": [
    {
     "data": {
      "text/plain": [
       "0    100\n",
       "1    200\n",
       "2    300\n",
       "3    500\n",
       "dtype: int64"
      ]
     },
     "execution_count": 2,
     "metadata": {},
     "output_type": "execute_result"
    }
   ],
   "source": [
    "# 라이브러리 호출\n",
    "import pandas as pd\n",
    "\n",
    "s1 = pd.Series([100, 200, 300, 500])\n",
    "s1\n",
    "# 시리즈는 하나의 데이터 타입만 갖는 구조\n",
    "# 하나의 시리즈에 하나의 타입을 가질 때, 통계연산 및 정형데이터 관리에 있어 매우 유리함"
   ]
  },
  {
   "cell_type": "code",
   "execution_count": 4,
   "metadata": {},
   "outputs": [
    {
     "data": {
      "text/plain": [
       "RangeIndex(start=0, stop=4, step=1)"
      ]
     },
     "execution_count": 4,
     "metadata": {},
     "output_type": "execute_result"
    }
   ],
   "source": [
    "s1.index # 해당 시리즈의 index, 특정 데이터를 series선언하면 자동으로 index가 부여됨"
   ]
  },
  {
   "cell_type": "code",
   "execution_count": 5,
   "metadata": {},
   "outputs": [
    {
     "data": {
      "text/plain": [
       "array([100, 200, 300, 500])"
      ]
     },
     "execution_count": 5,
     "metadata": {},
     "output_type": "execute_result"
    }
   ],
   "source": [
    "s1.values # 해당 시리즈의 value, numpy array"
   ]
  },
  {
   "cell_type": "code",
   "execution_count": 6,
   "metadata": {},
   "outputs": [
    {
     "data": {
      "text/plain": [
       "0    100\n",
       "1    200\n",
       "dtype: int64"
      ]
     },
     "execution_count": 6,
     "metadata": {},
     "output_type": "execute_result"
    }
   ],
   "source": [
    "s1[0:2]"
   ]
  },
  {
   "cell_type": "code",
   "execution_count": 7,
   "metadata": {},
   "outputs": [],
   "source": [
    "s1[0] = 500 # 0번째 index값을 500으로 변경"
   ]
  },
  {
   "cell_type": "code",
   "execution_count": 8,
   "metadata": {},
   "outputs": [],
   "source": [
    "s1[4] = 600 # 기존에 없던 index에 새로 데이터를 추가"
   ]
  },
  {
   "cell_type": "code",
   "execution_count": 9,
   "metadata": {},
   "outputs": [
    {
     "data": {
      "text/plain": [
       "0    500\n",
       "1    200\n",
       "2    300\n",
       "3    500\n",
       "4    600\n",
       "dtype: int64"
      ]
     },
     "execution_count": 9,
     "metadata": {},
     "output_type": "execute_result"
    }
   ],
   "source": [
    "s1"
   ]
  },
  {
   "cell_type": "code",
   "execution_count": 12,
   "metadata": {},
   "outputs": [
    {
     "data": {
      "text/plain": [
       "0    500\n",
       "2    300\n",
       "3    500\n",
       "4    600\n",
       "dtype: int64"
      ]
     },
     "execution_count": 12,
     "metadata": {},
     "output_type": "execute_result"
    }
   ],
   "source": [
    "s1.drop(1) # 특정 위치의 index를 제거"
   ]
  },
  {
   "cell_type": "code",
   "execution_count": 13,
   "metadata": {},
   "outputs": [
    {
     "data": {
      "text/plain": [
       "0    500\n",
       "1    200\n",
       "2    300\n",
       "3    500\n",
       "4    600\n",
       "dtype: int64"
      ]
     },
     "execution_count": 13,
     "metadata": {},
     "output_type": "execute_result"
    }
   ],
   "source": [
    "s1"
   ]
  },
  {
   "cell_type": "code",
   "execution_count": 14,
   "metadata": {},
   "outputs": [
    {
     "data": {
      "text/plain": [
       "np.int64(2100)"
      ]
     },
     "execution_count": 14,
     "metadata": {},
     "output_type": "execute_result"
    }
   ],
   "source": [
    "s1.sum() # 합 계산"
   ]
  },
  {
   "cell_type": "code",
   "execution_count": 15,
   "metadata": {},
   "outputs": [
    {
     "data": {
      "text/plain": [
       "1st    100\n",
       "2nd    200\n",
       "3rd    300\n",
       "4th    400\n",
       "dtype: int64"
      ]
     },
     "execution_count": 15,
     "metadata": {},
     "output_type": "execute_result"
    }
   ],
   "source": [
    "# index의 정보를 숫자가 아닌 다른 정볼르 입력\n",
    "pd.Series([100, 200, 300, 400], index=['1st', '2nd', '3rd', '4th'])\n"
   ]
  },
  {
   "cell_type": "code",
   "execution_count": 17,
   "metadata": {},
   "outputs": [
    {
     "data": {
      "text/plain": [
       "name    홍길동\n",
       "age      30\n",
       "지역       서울\n",
       "dtype: object"
      ]
     },
     "execution_count": 17,
     "metadata": {},
     "output_type": "execute_result"
    }
   ],
   "source": [
    "# 특정 시리즈 내 값중 문자가 포함되어 있다면, object(범주형, 문자) 형태로 선언\n",
    "pd.Series({'name':'홍길동', 'age':30, '지역':'서울'}) "
   ]
  },
  {
   "cell_type": "code",
   "execution_count": null,
   "metadata": {},
   "outputs": [],
   "source": []
  }
 ],
 "metadata": {
  "kernelspec": {
   "display_name": "Python 3 (ipykernel)",
   "language": "python",
   "name": "python3"
  },
  "language_info": {
   "codemirror_mode": {
    "name": "ipython",
    "version": 3
   },
   "file_extension": ".py",
   "mimetype": "text/x-python",
   "name": "python",
   "nbconvert_exporter": "python",
   "pygments_lexer": "ipython3",
   "version": "3.11.11"
  }
 },
 "nbformat": 4,
 "nbformat_minor": 4
}
