{
 "cells": [
  {
   "cell_type": "code",
   "execution_count": 3,
   "id": "8bd370f4-9b7e-4552-80ed-ab7b57675354",
   "metadata": {},
   "outputs": [
    {
     "name": "stdout",
     "output_type": "stream",
     "text": [
      "(100233, 29)\n"
     ]
    },
    {
     "data": {
      "text/html": [
       "<div>\n",
       "<style scoped>\n",
       "    .dataframe tbody tr th:only-of-type {\n",
       "        vertical-align: middle;\n",
       "    }\n",
       "\n",
       "    .dataframe tbody tr th {\n",
       "        vertical-align: top;\n",
       "    }\n",
       "\n",
       "    .dataframe thead th {\n",
       "        text-align: right;\n",
       "    }\n",
       "</style>\n",
       "<table border=\"1\" class=\"dataframe\">\n",
       "  <thead>\n",
       "    <tr style=\"text-align: right;\">\n",
       "      <th></th>\n",
       "      <th>고객ID</th>\n",
       "      <th>대출건수_1금융</th>\n",
       "      <th>대출건수_2금융</th>\n",
       "      <th>대출건수_3금융권</th>\n",
       "      <th>대출건수_기타</th>\n",
       "      <th>대출액_1금융</th>\n",
       "      <th>대출액_2금융</th>\n",
       "      <th>대출액_3금융</th>\n",
       "      <th>대출액_기타</th>\n",
       "      <th>유지기간_1금융</th>\n",
       "      <th>...</th>\n",
       "      <th>Cluster</th>\n",
       "      <th>Group</th>\n",
       "      <th>연령</th>\n",
       "      <th>성별</th>\n",
       "      <th>직업</th>\n",
       "      <th>추정소득</th>\n",
       "      <th>가구추정소득</th>\n",
       "      <th>가족원수</th>\n",
       "      <th>자녀평균연령</th>\n",
       "      <th>배우자직업</th>\n",
       "    </tr>\n",
       "  </thead>\n",
       "  <tbody>\n",
       "    <tr>\n",
       "      <th>0</th>\n",
       "      <td>1</td>\n",
       "      <td>1</td>\n",
       "      <td>0</td>\n",
       "      <td>0</td>\n",
       "      <td>0</td>\n",
       "      <td>9001</td>\n",
       "      <td>9001</td>\n",
       "      <td>9001</td>\n",
       "      <td>0</td>\n",
       "      <td>1</td>\n",
       "      <td>...</td>\n",
       "      <td>0</td>\n",
       "      <td>A</td>\n",
       "      <td>50</td>\n",
       "      <td>1</td>\n",
       "      <td>공무원</td>\n",
       "      <td>5400</td>\n",
       "      <td>7700</td>\n",
       "      <td>4</td>\n",
       "      <td>24.0</td>\n",
       "      <td>주부</td>\n",
       "    </tr>\n",
       "    <tr>\n",
       "      <th>1</th>\n",
       "      <td>2</td>\n",
       "      <td>1</td>\n",
       "      <td>0</td>\n",
       "      <td>0</td>\n",
       "      <td>0</td>\n",
       "      <td>24001</td>\n",
       "      <td>0</td>\n",
       "      <td>24001</td>\n",
       "      <td>0</td>\n",
       "      <td>0</td>\n",
       "      <td>...</td>\n",
       "      <td>0</td>\n",
       "      <td>A</td>\n",
       "      <td>50</td>\n",
       "      <td>1</td>\n",
       "      <td>자영업</td>\n",
       "      <td>5500</td>\n",
       "      <td>8100</td>\n",
       "      <td>4</td>\n",
       "      <td>29.0</td>\n",
       "      <td>주부</td>\n",
       "    </tr>\n",
       "  </tbody>\n",
       "</table>\n",
       "<p>2 rows × 29 columns</p>\n",
       "</div>"
      ],
      "text/plain": [
       "   고객ID  대출건수_1금융  대출건수_2금융  대출건수_3금융권  대출건수_기타  대출액_1금융  대출액_2금융  대출액_3금융  \\\n",
       "0     1         1         0          0        0     9001     9001     9001   \n",
       "1     2         1         0          0        0    24001        0    24001   \n",
       "\n",
       "   대출액_기타  유지기간_1금융  ...  Cluster  Group  연령  성별   직업  추정소득  가구추정소득  가족원수  \\\n",
       "0       0         1  ...        0      A  50   1  공무원  5400    7700     4   \n",
       "1       0         0  ...        0      A  50   1  자영업  5500    8100     4   \n",
       "\n",
       "   자녀평균연령  배우자직업  \n",
       "0    24.0     주부  \n",
       "1    29.0     주부  \n",
       "\n",
       "[2 rows x 29 columns]"
      ]
     },
     "execution_count": 3,
     "metadata": {},
     "output_type": "execute_result"
    }
   ],
   "source": [
    "import pandas as pd\n",
    "import numpy as np\n",
    "import scipy.stats as stats\n",
    "import plotly.express as px\n",
    "\n",
    "df1 = pd.read_csv('data/23_merge_Data.csv').drop(['Unnamed: 0', 'Unnamed: 0_x', 'Unnamed: 0_y'], axis=1)\n",
    "print(df1.shape)\n",
    "df1.head(2)"
   ]
  },
  {
   "cell_type": "code",
   "execution_count": 66,
   "id": "cb23f2ff-0048-4508-8618-f14694c26541",
   "metadata": {},
   "outputs": [],
   "source": [
    "import warnings\n",
    "\n",
    "warnings.filterwarnings('ignore')"
   ]
  },
  {
   "cell_type": "markdown",
   "id": "7601c67a-8408-4c0b-abc4-8c1a4f0c6499",
   "metadata": {},
   "source": [
    "### 17-3. 차원 축소\n",
    "\n",
    "- 알고리즘을 이용해 x 변수들의 수를 데이터 간 관계나 거리등을 이용하여 축소하는 기법\n",
    "- 지도 학습에서 차원의 저주 문제가 발생하거나, 자원을 효과적으로 활용하며 학습을 수행해야 할 때\n",
    "- 변수들의 특성을 분해하거나 축소하여 변수를 줄이는 기법(비지도학습, 특성공학)\n",
    "\n",
    "### 특이값 분해(singular value decomposition, svd)\n",
    "\n",
    "- 주어진 데이터를 행렬 곱으로 분해하여 축소하는 기법\n",
    "- 주어딘 데이터를 행렬 A로 가정하여 분해\n",
    "$$A = U \\Sigma V^{\\mathrm{T}}$$\n",
    "- U: A의 왼쪽 특이 벡터로 구성된 직교 행렬\n",
    "- sigma: A의 특징값을 대각선으로 가지는 대각행렬\n",
    "- V: A의 오른쪽 특이 벡터로 구성된 직교 행렬"
   ]
  },
  {
   "cell_type": "markdown",
   "id": "f06cb158-27d0-4f45-9fa6-3b49a9c92f57",
   "metadata": {},
   "source": [
    "- SVD 알고리즘 특징:\n",
    "  - 데이터의 분산이 큰 방향(중요한 정보가 많이 담긴 방향)으로 데이터를 축소\n",
    "  - 데이터의 특정 특징을 유지하면서 더욱 작은 차원으로 축소\n",
    "  - 데이터 상에 존재하는 특이값만 선택되므로, 모델링을 수행하는 등의 작업을 수행할 때, 각 모델의 성능 향상에 도움을 줌\n",
    "- 대출 가능 금액을 예측하는 회귀모델을 구성"
   ]
  },
  {
   "cell_type": "code",
   "execution_count": 4,
   "id": "4c1f0a21-62f3-4662-a3e7-fb82038f4444",
   "metadata": {},
   "outputs": [
    {
     "data": {
      "text/plain": [
       "Index(['고객ID', '대출건수_1금융', '대출건수_2금융', '대출건수_3금융권', '대출건수_기타', '대출액_1금융',\n",
       "       '대출액_2금융', '대출액_3금융', '대출액_기타', '유지기간_1금융', '유지기간_2금융', '신용카드발급수',\n",
       "       '신용카드유지기간', '보증건수', '보증금액', '대출연체여부', '대출건수총합', '대출액총합', '유지기간평균',\n",
       "       'Cluster', 'Group', '연령', '성별', '직업', '추정소득', '가구추정소득', '가족원수',\n",
       "       '자녀평균연령', '배우자직업'],\n",
       "      dtype='object')"
      ]
     },
     "execution_count": 4,
     "metadata": {},
     "output_type": "execute_result"
    }
   ],
   "source": [
    "df1.columns"
   ]
  },
  {
   "cell_type": "code",
   "execution_count": 5,
   "id": "d563f6dc-c418-42e8-8f59-0dc1e24df9b2",
   "metadata": {},
   "outputs": [],
   "source": [
    "x = df1[['신용카드발급수', '신용카드유지기간', '보증건수', '보증금액',  '추정소득', '가구추정소득', '가족원수', '자녀평균연령', '유지기간평균',]]\n",
    "y = df1['대출액총합']"
   ]
  },
  {
   "cell_type": "code",
   "execution_count": 28,
   "id": "05ce31bf-5bbc-49f7-bda0-d4f50100256e",
   "metadata": {},
   "outputs": [],
   "source": [
    "from sklearn.model_selection import train_test_split, GridSearchCV\n",
    "from imblearn.pipeline import make_pipeline\n",
    "from sklearn.impute import SimpleImputer\n",
    "from sklearn.preprocessing import StandardScaler, OneHotEncoder\n",
    "from sklearn.ensemble import RandomForestRegressor, RandomForestClassifier\n",
    "from sklearn.metrics import r2_score, mean_squared_error, classification_report\n",
    "\n",
    "from sklearn.compose import make_column_transformer\n"
   ]
  },
  {
   "cell_type": "code",
   "execution_count": 7,
   "id": "f165fbc5-4c8a-419f-8ef6-70dd8f0319d7",
   "metadata": {},
   "outputs": [],
   "source": [
    "x_train, x_test, y_train, y_test = train_test_split(x, y, random_state=1234)"
   ]
  },
  {
   "cell_type": "markdown",
   "id": "62e9727a-04a9-4550-b49b-a99ae476b1bc",
   "metadata": {},
   "source": [
    "**차원축소 기법이 없는 모델 구성**"
   ]
  },
  {
   "cell_type": "code",
   "execution_count": 8,
   "id": "cf9387aa-cdb6-4c6f-bcc0-72483c7d0a06",
   "metadata": {},
   "outputs": [],
   "source": [
    "pipe1 = make_pipeline(SimpleImputer(strategy='median'),\n",
    "                     StandardScaler(), RandomForestRegressor())"
   ]
  },
  {
   "cell_type": "code",
   "execution_count": 10,
   "id": "869e002e-001f-4a01-9449-36afa83f73f4",
   "metadata": {},
   "outputs": [],
   "source": [
    "hyper = {'randomforestregressor__max_depth': range(3, 10)}\n",
    "grid_model1 = GridSearchCV(pipe1, param_grid=hyper, cv = 3, n_jobs=-1)\n",
    "grid_model1.fit(x_train, y_train)\n",
    "best_model1 = grid_model1.best_estimator_"
   ]
  },
  {
   "cell_type": "code",
   "execution_count": 11,
   "id": "0d713734-0e44-4872-b4b9-9b04814ae173",
   "metadata": {},
   "outputs": [
    {
     "name": "stdout",
     "output_type": "stream",
     "text": [
      "학습성능 R2 0.11470091796882542\n",
      "학습성능 mse 62827051473.87589\n",
      "일반화성능 R2 0.11470091796882542\n",
      "일반화성능 mse 62827051473.87589\n"
     ]
    }
   ],
   "source": [
    "def eval_regression(model):\n",
    "    y_train_pred = model.predict(x_train)\n",
    "    y_test_pred = model.predict(x_test)\n",
    "    print('학습성능 R2', r2_score(y_train, y_train_pred))\n",
    "    print('학습성능 mse', mean_squared_error(y_test, y_test_pred))\n",
    "    print('일반화성능 R2', r2_score(y_train, y_train_pred))\n",
    "    print('일반화성능 mse', mean_squared_error(y_test, y_test_pred))\n",
    "\n",
    "eval_regression(best_model1)"
   ]
  },
  {
   "cell_type": "markdown",
   "id": "7e6edb03-4b88-49fe-954d-4be20ceb44f3",
   "metadata": {},
   "source": [
    "**SVD 기법 적용 모델**"
   ]
  },
  {
   "cell_type": "code",
   "execution_count": 12,
   "id": "30d80cc3-006c-4b69-8df6-d086018aad66",
   "metadata": {},
   "outputs": [],
   "source": [
    "from sklearn.decomposition import TruncatedSVD"
   ]
  },
  {
   "cell_type": "code",
   "execution_count": 13,
   "id": "1853a77b-fbf0-4d63-b613-9ac2462eb8c0",
   "metadata": {},
   "outputs": [],
   "source": [
    "pipe2 = make_pipeline(SimpleImputer(strategy='median'), StandardScaler(),\n",
    "                     TruncatedSVD(n_components=4, random_state=1234),\n",
    "                     RandomForestRegressor())\n",
    "# 현재 9개의 변수로 학습되던 x를 4개의 column으로 차원을 축소하여 학습을 수행"
   ]
  },
  {
   "cell_type": "code",
   "execution_count": 15,
   "id": "568ed878-40fb-449c-9274-7561d427194a",
   "metadata": {},
   "outputs": [],
   "source": [
    "grid_model2 = GridSearchCV(pipe2, param_grid=hyper, cv=3, n_jobs=-1)\n",
    "grid_model2.fit(x_train, y_train)\n",
    "best_model2 = grid_model2.best_estimator_"
   ]
  },
  {
   "cell_type": "code",
   "execution_count": 16,
   "id": "119c02c2-fa90-4807-aac8-b95cf0e71308",
   "metadata": {},
   "outputs": [
    {
     "name": "stdout",
     "output_type": "stream",
     "text": [
      "학습성능 R2 0.09024528065580562\n",
      "학습성능 mse 63811322229.15774\n",
      "일반화성능 R2 0.09024528065580562\n",
      "일반화성능 mse 63811322229.15774\n"
     ]
    }
   ],
   "source": [
    "eval_regression(best_model2)"
   ]
  },
  {
   "cell_type": "code",
   "execution_count": 17,
   "id": "12d096d1-236d-4db5-b022-6d65db1aa652",
   "metadata": {},
   "outputs": [
    {
     "data": {
      "text/plain": [
       "array([0.23215103, 0.13609403, 0.03164234, 0.27971623, 0.04489252,\n",
       "       0.05373915, 0.02183451, 0.02937307, 0.17055711])"
      ]
     },
     "execution_count": 17,
     "metadata": {},
     "output_type": "execute_result"
    }
   ],
   "source": [
    "# 변수중요도를 통해 실제 학습된 변수의 특성 중요도 값을 비교\n",
    "best_model1['randomforestregressor'].feature_importances_"
   ]
  },
  {
   "cell_type": "code",
   "execution_count": 18,
   "id": "ad6ea60b-fd11-44d1-bdd0-10b02c88327d",
   "metadata": {},
   "outputs": [
    {
     "data": {
      "text/plain": [
       "array([0.4815572 , 0.09508266, 0.32359546, 0.09976468])"
      ]
     },
     "execution_count": 18,
     "metadata": {},
     "output_type": "execute_result"
    }
   ],
   "source": [
    "best_model2['randomforestregressor'].feature_importances_\n",
    "# 차원 축소를 수행하고, 지도학습 모형을 적용하면, 회귀계수나 변수중요도와 같은 인자들의 직관적 해석이 불가능"
   ]
  },
  {
   "cell_type": "markdown",
   "id": "c8d1e4c9-6807-4934-af54-6c8c50291a12",
   "metadata": {},
   "source": [
    "### 주성분 분석(principal component analysis, pca)\n",
    "\n",
    "- 특성 간의 상관관계를 기반으로 공분산을 활용해 정보 손시을 최소화 하면서 차원을 축소하는 기법\n",
    "- 데이터를 축약하여 정보를 쉽게 표현하는 방법(고차원 특성-> 저차원 주성분)\n",
    "- 데이터의 각 공분산 행렬에 대해 svd를 수행한 기법이 pca\n",
    "- 분석 전 처리:\n",
    "  - x 변수 간 특성의 단위(scale)이 유사, 사전에 표준화 작업을 필히 수행\n",
    "  - 특성의 단위가 유사하면 공분산행렬을 이용해 계산\n",
    "  - 특성의 단위가 차이가 발생하는 경우엔 상관계수를 행렬로 처리하여 계산\n",
    "- 단계:\n",
    "  1. 데이터 정규화\n",
    "     - pca를 수행하기 전 데이터의 스케일링을 수행하여, 각 변수의 스케일을 동등하게 변환\n",
    "     - 모든 데이터 값의 평균을 0으로 보정, 각 변수에서 평균값의 차이를 계산\n",
    "  2. 공분산 행렬 계산\n",
    "     - 데이터의 공분산 행격 계산\n",
    "     - 이 행렬은 데이터 간의 상관관계를 나타내는 행렬, pca에서 주성분을 찾는데 사용\n",
    "$$\\mathbf{C} = \\frac{1}{n-1} \\mathbf{X}_{\\text{centered}}^{T} \\mathbf{X}_{\\text{centered}}$$"
   ]
  },
  {
   "cell_type": "markdown",
   "id": "4df3e314-b3f6-4f95-a9e8-31c2f020d98f",
   "metadata": {},
   "source": [
    "3. 고유값 분해(eigenvalue decomposition)\n",
    "   - 공분산 행렬(c)의 고유값과 고유 벡터를 계싼\n",
    "   - 공분산 행렬을 고유값 분해하여, 주성분과 고유값을 계산\n",
    "   - 고유벡터: 차원을 줄임에 있어 새로운 좌표계의 축\n",
    "   - 교유값: 각 축(주성분)이 설명하는 분산의 크기\n",
    "4. 주성분을 선택\n",
    "   - 주어진 분산의 비율을 보존하면서 주성분을 선택\n",
    "   - 보통 누적된 설명분산이 일정비율 이상(90%)되도록 축소\n",
    "5. 데이터 변환\n",
    "   - 선택된 주성분을 이용해 데이터를 새로운 축으로 변환"
   ]
  },
  {
   "cell_type": "markdown",
   "id": "97e2520a-7745-4d9c-944c-7ea8cea7b617",
   "metadata": {},
   "source": [
    "- 활용\n",
    "  - 변수가 많을 때, 주요 특성을 나타내는 성분 추출을 통한 변수 축소\n",
    "  - pca는 주성분이라고 불리는 새로운 변수들이 생성되고, 주성분은 데이터의 분산을 최대화 하는 방향으로 정의됨(이는 데이터의 주요한 패턴을 찾는데 사용) -> 주요 지표들 이용해 이상발생 모니터링"
   ]
  },
  {
   "cell_type": "code",
   "execution_count": 19,
   "id": "457fd067-e523-4e73-b7ae-3613ac2a88f3",
   "metadata": {},
   "outputs": [],
   "source": [
    "from sklearn.decomposition import PCA"
   ]
  },
  {
   "cell_type": "code",
   "execution_count": 20,
   "id": "3efb347b-73d9-4c7a-99cc-8eb5f152ce8f",
   "metadata": {},
   "outputs": [],
   "source": [
    "pipe3 = make_pipeline(SimpleImputer(strategy='median'),\n",
    "                     StandardScaler(), PCA(n_components=4, random_state=1234),\n",
    "                     RandomForestRegressor())"
   ]
  },
  {
   "cell_type": "code",
   "execution_count": 21,
   "id": "a418e6b5-f48f-4ca3-8da3-49cd4bd7aab7",
   "metadata": {},
   "outputs": [],
   "source": [
    "grid_model3 = GridSearchCV(pipe3, param_grid=hyper, cv=3, n_jobs=-1)\n",
    "grid_model3.fit(x_train, y_train)\n",
    "best_model3 = grid_model3.best_estimator_"
   ]
  },
  {
   "cell_type": "code",
   "execution_count": 22,
   "id": "80002611-a33d-4aa9-801c-45b52ecd7f05",
   "metadata": {},
   "outputs": [
    {
     "name": "stdout",
     "output_type": "stream",
     "text": [
      "학습성능 R2 0.08985470382011307\n",
      "학습성능 mse 63805520681.36373\n",
      "일반화성능 R2 0.08985470382011307\n",
      "일반화성능 mse 63805520681.36373\n"
     ]
    }
   ],
   "source": [
    "eval_regression(best_model3)"
   ]
  },
  {
   "cell_type": "markdown",
   "id": "8b36e7d0-49f0-41c9-95d6-bd9f840498ef",
   "metadata": {},
   "source": [
    "### 션형 판별 분석(linear discriminant analysis, LDA)\n",
    "\n",
    "- LDA기법은 분류에 있어, 클래스 간 분리를 최대화하는 바향으로 데이터를 저차원공간으로 변환\n",
    "- Y값에 대한 개입(Y의 각 클래스의 분리가 최대가 되도록 차원을 축소)\n",
    "- 분류 문제에서 결정 경계를 더욱 명확히 하며, 차원을 축소시키는 기법\n",
    "- pca와 달리 y를 사용하여 두 클래스 또는 여러 클래스를 구분하는 경계를 찾는것이 특징\n",
    "- 클래스 분류 항목에 맞게 x를 축소하여 사용하는 형태로 알고리즘이 작동(다중분류)\n",
    "  - LDA 차원수 = 클래스 항목수 - 1\n",
    "  - 이진분류에서는 데이터가 최대 하나의 축으로 차원이 축소되어 성능이 되려 저하될 가능성이 높음\n",
    "- LDA 원리: 클래스 간 분산(또는 평균거리)를 최대화 하고, 클래스 내의 분산을 최소화하는 투영(분류선)을 찾는 것"
   ]
  },
  {
   "cell_type": "markdown",
   "id": "26d3040d-c55c-454a-aa89-8a4f95e22f98",
   "metadata": {},
   "source": [
    "- 특징:\n",
    "  - PCA는 분산을 최대화 하는 방향으로 축을 찾음(분산을 최대로 넓혀야, x변수들의 특성을 반영)\n",
    "  - lda는 클래스간의 분리를 최대화 하는 방향으로 축을 찾음"
   ]
  },
  {
   "cell_type": "code",
   "execution_count": 24,
   "id": "e2baa30c-8f98-4a50-ac7d-dc3da8bfac9d",
   "metadata": {},
   "outputs": [
    {
     "data": {
      "text/plain": [
       "Group\n",
       "A    70846\n",
       "D    22545\n",
       "B     5801\n",
       "C     1041\n",
       "Name: count, dtype: int64"
      ]
     },
     "execution_count": 24,
     "metadata": {},
     "output_type": "execute_result"
    }
   ],
   "source": [
    "# 고객의 정보를 입력했을 때, 해당 곡객이 어떤 군집으로 분류될지 결정하는 모델을 구성\n",
    "df1['Group'].value_counts()"
   ]
  },
  {
   "cell_type": "code",
   "execution_count": 25,
   "id": "66713496-213e-4d6b-9db5-ea4cf7589290",
   "metadata": {},
   "outputs": [],
   "source": [
    "df1['age'] = df1['연령'].replace({'*':np.nan}).astype(float)"
   ]
  },
  {
   "cell_type": "code",
   "execution_count": 45,
   "id": "08346efa-9c47-47c6-94c0-8dab6eaf07b1",
   "metadata": {},
   "outputs": [],
   "source": [
    "x = df1[['age', '성별', '직업', '추정소득', '가구추정소득', '가족원수', '자녀평균연령', '배우자직업']]\n",
    "y = df1['Group']\n"
   ]
  },
  {
   "cell_type": "code",
   "execution_count": 46,
   "id": "94bcfac2-9950-467d-b159-afbe17ca99a5",
   "metadata": {},
   "outputs": [],
   "source": [
    "x_train, x_test, y_train, y_test = train_test_split(x, y, random_state=1234)"
   ]
  },
  {
   "cell_type": "code",
   "execution_count": 47,
   "id": "af3a96fa-9166-48c3-90f8-9f1afe90d8c7",
   "metadata": {},
   "outputs": [],
   "source": [
    "pipe4 = make_pipeline(SimpleImputer(strategy='median'), StandardScaler())\n",
    "pipe5 = make_pipeline(SimpleImputer(strategy='most_frequent'),\n",
    "                      OneHotEncoder(handle_unknown='ignore',sparse_output=False ))\n",
    "pipe6 = make_column_transformer( (pipe4, x.describe().columns),\n",
    "                                 (pipe5, x.describe(include='object').columns))"
   ]
  },
  {
   "cell_type": "code",
   "execution_count": 48,
   "id": "d238d0e1-b593-43e0-a5c7-0902facf4bfd",
   "metadata": {},
   "outputs": [],
   "source": [
    "# LDA 없는 모형\n",
    "pipe7 = make_pipeline(pipe6, RandomForestClassifier())\n"
   ]
  },
  {
   "cell_type": "code",
   "execution_count": 49,
   "id": "1cfe1405-b17e-4951-8c76-8a954a001793",
   "metadata": {},
   "outputs": [],
   "source": [
    "# LDA 있는 모형\n",
    "from sklearn.discriminant_analysis import LinearDiscriminantAnalysis\n",
    "pipe8 = make_pipeline(pipe6, LinearDiscriminantAnalysis(n_components=3), RandomForestClassifier())"
   ]
  },
  {
   "cell_type": "code",
   "execution_count": 62,
   "id": "9c54cb30-e2f4-4945-bdd1-2b504270c1a3",
   "metadata": {},
   "outputs": [],
   "source": [
    "hyper = {'randomforestclassifier__max_depth':[3, 4, 5], 'randomforestclassifier__class_weight':['balanced']}\n",
    "grid_model4 = GridSearchCV(pipe7, param_grid=hyper, cv=3, n_jobs=-1)\n",
    "grid_model4.fit(x_train, y_train)\n",
    "best_model4 = grid_model4.best_estimator_"
   ]
  },
  {
   "cell_type": "code",
   "execution_count": 63,
   "id": "9dd00fdd-28ea-4dcc-9880-93abcf659c81",
   "metadata": {},
   "outputs": [],
   "source": [
    "grid_model5 = GridSearchCV(pipe8, param_grid=hyper, cv=3, n_jobs=-1)\n",
    "grid_model5.fit(x_train, y_train)\n",
    "best_model5 = grid_model5.best_estimator_"
   ]
  },
  {
   "cell_type": "code",
   "execution_count": 64,
   "id": "927f1efe-13e6-4e62-802c-d6bd3a3db0ba",
   "metadata": {},
   "outputs": [
    {
     "name": "stdout",
     "output_type": "stream",
     "text": [
      "              precision    recall  f1-score   support\n",
      "\n",
      "           A       0.76      0.56      0.65     53204\n",
      "           B       0.09      0.19      0.12      4309\n",
      "           C       0.02      0.52      0.05       786\n",
      "           D       0.27      0.16      0.20     16875\n",
      "\n",
      "    accuracy                           0.45     75174\n",
      "   macro avg       0.29      0.36      0.25     75174\n",
      "weighted avg       0.61      0.45      0.51     75174\n",
      "\n",
      "              precision    recall  f1-score   support\n",
      "\n",
      "           A       0.76      0.55      0.64     17642\n",
      "           B       0.09      0.18      0.12      1492\n",
      "           C       0.02      0.40      0.03       255\n",
      "           D       0.27      0.17      0.21      5670\n",
      "\n",
      "    accuracy                           0.44     25059\n",
      "   macro avg       0.28      0.32      0.25     25059\n",
      "weighted avg       0.60      0.44      0.50     25059\n",
      "\n"
     ]
    }
   ],
   "source": [
    "y_train_pred = best_model4.predict(x_train)\n",
    "y_test_pred = best_model4.predict(x_test)\n",
    "print(classification_report(y_train, y_train_pred))\n",
    "print(classification_report(y_test, y_test_pred))"
   ]
  },
  {
   "cell_type": "code",
   "execution_count": 65,
   "id": "151a1745-48fe-4669-8d67-01e9e56d6b47",
   "metadata": {},
   "outputs": [
    {
     "name": "stdout",
     "output_type": "stream",
     "text": [
      "              precision    recall  f1-score   support\n",
      "\n",
      "           A       0.76      0.52      0.62     53204\n",
      "           B       0.09      0.20      0.12      4309\n",
      "           C       0.02      0.55      0.04       786\n",
      "           D       0.29      0.13      0.18     16875\n",
      "\n",
      "    accuracy                           0.42     75174\n",
      "   macro avg       0.29      0.35      0.24     75174\n",
      "weighted avg       0.61      0.42      0.49     75174\n",
      "\n",
      "              precision    recall  f1-score   support\n",
      "\n",
      "           A       0.75      0.52      0.61     17642\n",
      "           B       0.09      0.19      0.12      1492\n",
      "           C       0.01      0.42      0.03       255\n",
      "           D       0.29      0.13      0.18      5670\n",
      "\n",
      "    accuracy                           0.41     25059\n",
      "   macro avg       0.29      0.31      0.23     25059\n",
      "weighted avg       0.60      0.41      0.48     25059\n",
      "\n"
     ]
    }
   ],
   "source": [
    "y_train_pred = best_model5.predict(x_train)\n",
    "y_test_pred = best_model5.predict(x_test)\n",
    "print(classification_report(y_train, y_train_pred))\n",
    "print(classification_report(y_test, y_test_pred))"
   ]
  },
  {
   "cell_type": "markdown",
   "id": "e775f228-9c88-476d-b693-4f11d258fc51",
   "metadata": {},
   "source": [
    "- x 데이터가 적은 경우엔 차원 축소기법을 적용했을 때, 성능이 되려 낮아질 수 있음\n",
    "- 반영해야하는 데이터의 특성이나 요소들이 차원축소를 통해 제외되기 때문\n",
    "- x데이터가 많으면, 차원의 저주 문제가 해결되며 일반화 성능이 올라갈 수 있음"
   ]
  },
  {
   "attachments": {
    "acbf1dec-8eef-4a59-857c-a2a141618b2a.png": {
     "image/png": "[encoded data removed]"
    }
   },
   "cell_type": "markdown",
   "id": "c5c07202-f320-4f23-bbb4-3aec8d43f5f5",
   "metadata": {},
   "source": [
    "# 18. 딥 러닝(deep learning)\n",
    "\n",
    "- 딥러닝은 신경망 모델(artificial neural network, ann)을 활용해 표현층(layer)을 학습\n",
    "- 신경망 모델:\n",
    "  - 데이터가 여러 필터(층, layer, filter)를 거쳐가며, 의미있는 정보를 추출하는 형태 알고리즘\n",
    "  - 여러 층을 거쳐가며 데이터가 처리되므로, 이를 deep learning이라고 부름\n",
    "  - 사람의 신경세포를 본따 초기 신경망 알고리즘인 퍼셉트론이라고 부르는 모형을 발전시킴\n",
    "- 신경망 알고리즘 장점\n",
    "  1. 신경망 알고리즘은 거의 모든 함수를 추정할 수 있음(보편근사의 정리)\n",
    "  2. 높은 성능과 확장성을 제공, 어떤 유형의 데이터든 잘 작동이 됨\n",
    "  3. 확장성: 알고리즘들이 서로 다른 분야에 대한 확장이 가능\n",
    "  4. 비정형 데이터에 대한 처리가 일어남\n",
    "\n",
    "![image.png](attachment:acbf1dec-8eef-4a59-857c-a2a141618b2a.png)"
   ]
  },
  {
   "cell_type": "markdown",
   "id": "923e76d3-6779-4830-8f89-1f02ddfc6e31",
   "metadata": {},
   "source": [
    "- 층(layer)\n",
    "  - 각 데이터가 처리되는 함수들이 존재하는 층\n",
    "  - 이 층이 하나만 있는 경우: 단층 신경망 알고리즘\n",
    "  - 층이 여러겹 쌓여 있는 경우: 다층 신경망 알고리즘\n",
    "- 노드(Node)\n",
    "  - 각 층에 존재하는 데이터 처리 함수\n",
    "  - 하나의 층(layer)안에 여러개의 node가 존재\n",
    "  - 앞 layer에 날아온 정보를 node가 받아 계산하여 처리\n",
    "  - 이 node내 함수가 어떤 식으로 구성되어있는지에 따라 성능이 달라짐\n",
    "- 가중치(weight)\n",
    "  - node내 존재하는 데이터처리에 대한 파라미터로 학습이 수행되며 지속적으로 update되는 값\n",
    "  - deep learning은 각 layer 내 존재하는 node속 weight를 어떻게 잘 update하느냐의 문제\n",
    "- 활성화 함수(activation function)\n",
    "  - 각 node에서 계산된 결과를 반환하는 함수식\n",
    "  - 활성함수는 간단한 선형회귀 함수부터, 삼각함수, 시그모이드함수 등 다양한 함수들이 존재\n",
    "  - 각 활성함수에 의해 계산된 값들이 여러 later를 통과\n",
    "- 손실함수(cost function & loss function)\n",
    "  - 예측값과 실제값의 차이를 계싼하는 함수\n",
    "  - 신경망 출력 값의 제어 지표가 되며, 해당 함수를 통해 각 node에 있는 weight값이 update"
   ]
  },
  {
   "cell_type": "markdown",
   "id": "5c8afff8-ed0e-44c1-9d9b-d5397d840e34",
   "metadata": {},
   "source": [
    "- **신경망 알고리즘 작동 원리**\n",
    "- Feedforward(순전파)\n",
    "  - x 값이 신경망 알고리즘을 타고가며 예측값을 계산\n",
    "  - 초기엔 임의로 세팅된 node내 weight에 의해 계산이 수행되어 결과 y값 도출\n",
    "  - 각 layer를 통과해 나가며, 더 복잡한 특성을 표현 및 예측\n",
    "- backpropagation(역전파)\n",
    "  - 순전파를 타고와 계산된 예측값과 실제값을 비교한 뒤, 손실함수에 의해 출력 단에서 가장 가까운 weight가 순차적으로 update\n",
    "  - 두 값의 차이(실제값과 예측값의 차이)가 낮아질 수 있는 방향으로 손실함수에 의해 최적화, 최적화를 수행하며, 앞쪽 node의 weight update\n",
    "- training loop를 통해, 최초로 부여받은 random weight값을 cost function이 가장 낮아지는 방향으로 순전파오 ㅏ역전파가 반복되며 수행\n",
    "  1. 초기화 실시: 각 layer 내 node 존재하는 weight를 임의의 값으로 설정\n",
    "  2. 순전파 수행: 입력값이 layer를 통과하며 예측값을 생성\n",
    "  3. 손실 계산: 실제값과 예측값을 비교\n",
    "  4. 역전파 수행: 손실함수에서 발생된 오차를 줄이기 위해, 초기값으로 세팅된 weight를 변경\n",
    "  5. 다시 순전파부터 반복"
   ]
  },
  {
   "cell_type": "code",
   "execution_count": 68,
   "id": "f799b484-3a3c-499f-9134-a7d6e130cf06",
   "metadata": {},
   "outputs": [],
   "source": [
    "from keras import models\n",
    "from keras.layers import Dense\n",
    "from keras.models import Sequential"
   ]
  },
  {
   "cell_type": "code",
   "execution_count": 69,
   "id": "106745d4-f95c-4b54-b57a-f5b37088382a",
   "metadata": {},
   "outputs": [
    {
     "data": {
      "text/plain": [
       "Index(['고객ID', '대출건수_1금융', '대출건수_2금융', '대출건수_3금융권', '대출건수_기타', '대출액_1금융',\n",
       "       '대출액_2금융', '대출액_3금융', '대출액_기타', '유지기간_1금융', '유지기간_2금융', '신용카드발급수',\n",
       "       '신용카드유지기간', '보증건수', '보증금액', '대출연체여부', '대출건수총합', '대출액총합', '유지기간평균',\n",
       "       'Cluster', 'Group', '연령', '성별', '직업', '추정소득', '가구추정소득', '가족원수',\n",
       "       '자녀평균연령', '배우자직업', 'age'],\n",
       "      dtype='object')"
      ]
     },
     "execution_count": 69,
     "metadata": {},
     "output_type": "execute_result"
    }
   ],
   "source": [
    "df1.columns"
   ]
  },
  {
   "cell_type": "code",
   "execution_count": 72,
   "id": "c7dffdd1-6a39-4341-93cf-8b1769d0c37c",
   "metadata": {},
   "outputs": [],
   "source": [
    "x = df1[['추정소득', '가구추정소득', '가족원수',  '신용카드유지기간', '보증건수', '보증금액', '대출건수총합', '대출액총합', '유지기간평균','신용카드발급수']]\n",
    "y = df1['대출연체여부']"
   ]
  },
  {
   "cell_type": "code",
   "execution_count": 73,
   "id": "367bb09c-85b5-4db9-9f45-c319bd52c361",
   "metadata": {},
   "outputs": [],
   "source": [
    "x_train, x_test, y_train, y_test = train_test_split(x, y, random_state=1234)"
   ]
  },
  {
   "cell_type": "code",
   "execution_count": 75,
   "id": "164f5b26-4556-40d0-8229-778680adb2d2",
   "metadata": {
    "scrolled": true
   },
   "outputs": [
    {
     "name": "stdout",
     "output_type": "stream",
     "text": [
      "Epoch 1/20\n",
      "\u001b[1m1410/1410\u001b[0m \u001b[32m━━━━━━━━━━━━━━━━━━━━\u001b[0m\u001b[37m\u001b[0m \u001b[1m5s\u001b[0m 2ms/step - loss: 155.8961 - recall: 0.0512 - val_loss: 650.6191 - val_recall: 0.6641\n",
      "Epoch 2/20\n",
      "\u001b[1m1410/1410\u001b[0m \u001b[32m━━━━━━━━━━━━━━━━━━━━\u001b[0m\u001b[37m\u001b[0m \u001b[1m4s\u001b[0m 3ms/step - loss: 71.4493 - recall: 0.0671 - val_loss: 26.7089 - val_recall: 0.0791\n",
      "Epoch 3/20\n",
      "\u001b[1m1410/1410\u001b[0m \u001b[32m━━━━━━━━━━━━━━━━━━━━\u001b[0m\u001b[37m\u001b[0m \u001b[1m3s\u001b[0m 2ms/step - loss: 57.4081 - recall: 0.0750 - val_loss: 34.3447 - val_recall: 0.5733\n",
      "Epoch 4/20\n",
      "\u001b[1m1410/1410\u001b[0m \u001b[32m━━━━━━━━━━━━━━━━━━━━\u001b[0m\u001b[37m\u001b[0m \u001b[1m3s\u001b[0m 2ms/step - loss: 49.3403 - recall: 0.0860 - val_loss: 56.2753 - val_recall: 0.0039\n",
      "Epoch 5/20\n",
      "\u001b[1m1410/1410\u001b[0m \u001b[32m━━━━━━━━━━━━━━━━━━━━\u001b[0m\u001b[37m\u001b[0m \u001b[1m3s\u001b[0m 2ms/step - loss: 47.2265 - recall: 0.0674 - val_loss: 24.1887 - val_recall: 0.0178\n",
      "Epoch 6/20\n",
      "\u001b[1m1410/1410\u001b[0m \u001b[32m━━━━━━━━━━━━━━━━━━━━\u001b[0m\u001b[37m\u001b[0m \u001b[1m3s\u001b[0m 2ms/step - loss: 42.6531 - recall: 0.0781 - val_loss: 33.4686 - val_recall: 0.0109\n",
      "Epoch 7/20\n",
      "\u001b[1m1410/1410\u001b[0m \u001b[32m━━━━━━━━━━━━━━━━━━━━\u001b[0m\u001b[37m\u001b[0m \u001b[1m4s\u001b[0m 3ms/step - loss: 30.5673 - recall: 0.0702 - val_loss: 28.4606 - val_recall: 0.0054\n",
      "Epoch 8/20\n",
      "\u001b[1m1410/1410\u001b[0m \u001b[32m━━━━━━━━━━━━━━━━━━━━\u001b[0m\u001b[37m\u001b[0m \u001b[1m4s\u001b[0m 3ms/step - loss: 26.4029 - recall: 0.0818 - val_loss: 7.8841 - val_recall: 0.0093\n",
      "Epoch 9/20\n",
      "\u001b[1m1410/1410\u001b[0m \u001b[32m━━━━━━━━━━━━━━━━━━━━\u001b[0m\u001b[37m\u001b[0m \u001b[1m3s\u001b[0m 2ms/step - loss: 16.0009 - recall: 0.0915 - val_loss: 5.6413 - val_recall: 0.0380\n",
      "Epoch 10/20\n",
      "\u001b[1m1410/1410\u001b[0m \u001b[32m━━━━━━━━━━━━━━━━━━━━\u001b[0m\u001b[37m\u001b[0m \u001b[1m3s\u001b[0m 2ms/step - loss: 10.8114 - recall: 0.0898 - val_loss: 2.1701 - val_recall: 0.1086\n",
      "Epoch 11/20\n",
      "\u001b[1m1410/1410\u001b[0m \u001b[32m━━━━━━━━━━━━━━━━━━━━\u001b[0m\u001b[37m\u001b[0m \u001b[1m3s\u001b[0m 2ms/step - loss: 5.7090 - recall: 0.0729 - val_loss: 0.7396 - val_recall: 0.0256\n",
      "Epoch 12/20\n",
      "\u001b[1m1410/1410\u001b[0m \u001b[32m━━━━━━━━━━━━━━━━━━━━\u001b[0m\u001b[37m\u001b[0m \u001b[1m3s\u001b[0m 2ms/step - loss: 0.4857 - recall: 0.0303 - val_loss: 0.2200 - val_recall: 7.7580e-04\n",
      "Epoch 13/20\n",
      "\u001b[1m1410/1410\u001b[0m \u001b[32m━━━━━━━━━━━━━━━━━━━━\u001b[0m\u001b[37m\u001b[0m \u001b[1m4s\u001b[0m 3ms/step - loss: 0.2960 - recall: 0.0092 - val_loss: 0.2660 - val_recall: 0.0194\n",
      "Epoch 14/20\n",
      "\u001b[1m1410/1410\u001b[0m \u001b[32m━━━━━━━━━━━━━━━━━━━━\u001b[0m\u001b[37m\u001b[0m \u001b[1m4s\u001b[0m 3ms/step - loss: 0.2875 - recall: 0.0179 - val_loss: 0.1999 - val_recall: 0.0000e+00\n",
      "Epoch 15/20\n",
      "\u001b[1m1410/1410\u001b[0m \u001b[32m━━━━━━━━━━━━━━━━━━━━\u001b[0m\u001b[37m\u001b[0m \u001b[1m4s\u001b[0m 3ms/step - loss: 0.2280 - recall: 0.0100 - val_loss: 0.1960 - val_recall: 0.0039\n",
      "Epoch 16/20\n",
      "\u001b[1m1410/1410\u001b[0m \u001b[32m━━━━━━━━━━━━━━━━━━━━\u001b[0m\u001b[37m\u001b[0m \u001b[1m3s\u001b[0m 2ms/step - loss: 0.2195 - recall: 0.0058 - val_loss: 0.1805 - val_recall: 0.0000e+00\n",
      "Epoch 17/20\n",
      "\u001b[1m1410/1410\u001b[0m \u001b[32m━━━━━━━━━━━━━━━━━━━━\u001b[0m\u001b[37m\u001b[0m \u001b[1m4s\u001b[0m 2ms/step - loss: 0.1930 - recall: 0.0010 - val_loss: 0.1838 - val_recall: 7.7580e-04\n",
      "Epoch 18/20\n",
      "\u001b[1m1410/1410\u001b[0m \u001b[32m━━━━━━━━━━━━━━━━━━━━\u001b[0m\u001b[37m\u001b[0m \u001b[1m3s\u001b[0m 2ms/step - loss: 0.2115 - recall: 0.0011 - val_loss: 0.2122 - val_recall: 7.7580e-04\n",
      "Epoch 19/20\n",
      "\u001b[1m1410/1410\u001b[0m \u001b[32m━━━━━━━━━━━━━━━━━━━━\u001b[0m\u001b[37m\u001b[0m \u001b[1m4s\u001b[0m 3ms/step - loss: 0.1951 - recall: 5.9834e-04 - val_loss: 0.2009 - val_recall: 7.7580e-04\n",
      "Epoch 20/20\n",
      "\u001b[1m1410/1410\u001b[0m \u001b[32m━━━━━━━━━━━━━━━━━━━━\u001b[0m\u001b[37m\u001b[0m \u001b[1m4s\u001b[0m 2ms/step - loss: 0.1892 - recall: 0.0041 - val_loss: 0.2220 - val_recall: 0.0000e+00\n"
     ]
    }
   ],
   "source": [
    "model = Sequential()\n",
    "model.add(Dense(16, activation='relu', input_shape=(10,)))\n",
    "model.add(Dense(16, activation='relu'))\n",
    "model.add(Dense(1, activation='sigmoid'))\n",
    "model.compile(optimizer = 'rmsprop', loss='binary_crossentropy', metrics=['recall'])\n",
    "result = model.fit(x_train, y_train, epochs=20, validation_split=0.4)"
   ]
  },
  {
   "cell_type": "markdown",
   "id": "998b28cb-42da-44f4-901c-ec3b5c47dc58",
   "metadata": {},
   "source": [
    "- model = Sequential()\n",
    "  - 이 코드는 sequential모델을 생성\n",
    "  - sequential모델은 keras 라이브러리에서 간단한 신경망을 구성하는데 사용하는 가장 기본적인 모델\n",
    "  - sequential모델: 순차적으로 layer를 쌓아 모델을 구성\n",
    "  - 순차적으로 순전파와 역전파의 반복을 통해 학습이 수행\n",
    "- model.add()\n",
    "  - 순차적으로 layer를 쌓을 수 있는 층에 하나의 layer를 추가\n",
    " \n",
    "- Dense(16, activation='relu', input_shape=(10,))\n",
    "  - 첫 번째 layer로 16개의 node를 가지는 dense(전결합) layer를 추가\n",
    "  - activation='relu': 활성화 함수의 종류를 작성, relu이름의 활성함수를 이용하여 출력값을 계산\n",
    "  - input_shape = (10,): 10개 column으로 구성된 데이터를 입력 받음\n",
    "- model.add(Dense(16, activation='relu'))\n",
    "  - 두번째 layer(hidden layer, 은닉층)를 16개의 node가 있고, 활성함수가 relu함수로 구정쇤 층을 추가\n",
    " \n",
    "- model.add(Dense(1, activation='sigmoid'))\n",
    "  - 마지막 layer엔 node가 1개짜리인 필터, 활성함수는 sigmoid\n",
    "  - 출력층 1개의 노드로 하나의 출력이 나오게끔 설정(예측하려는 결과, Y값이 하나의 값으로 도출)\n",
    "  - 활성함수가 sigmoid형태기 때문에 출력 결과는 0~1 사이의 값이 1개가 출력\n",
    "- model.compile(optimizer = 'rmsprop', loss='binary_crossentropy', metrics=['recall'])\n",
    "  - optimizer= : 어떤 최적화 알고리즘을 이용해 weight를 update할 것인지 결정\n",
    "  - loss=: 순전파에 의해 계산된 실제값과 예측값의 차이를 계산하는 손실함수\n",
    "  - metrics=: 최적화 알고리즘이 어떤 지표를 이용해 weight update할지 결정\n",
    "- result = model.fit(x_train, y_train, epochs=20, validation_split=0.4)\n",
    "  - epochs= : 데이터 셋을 20번 반복하여 학습\n",
    "  - validation_split: 교차검증을 위한 validation set의 비율 40%"
   ]
  },
  {
   "cell_type": "code",
   "execution_count": 78,
   "id": "0cd3ed06-3fbe-4964-9ced-9e40b6c0674e",
   "metadata": {
    "scrolled": true
   },
   "outputs": [
    {
     "data": {
      "text/html": [
       "<div>\n",
       "<style scoped>\n",
       "    .dataframe tbody tr th:only-of-type {\n",
       "        vertical-align: middle;\n",
       "    }\n",
       "\n",
       "    .dataframe tbody tr th {\n",
       "        vertical-align: top;\n",
       "    }\n",
       "\n",
       "    .dataframe thead th {\n",
       "        text-align: right;\n",
       "    }\n",
       "</style>\n",
       "<table border=\"1\" class=\"dataframe\">\n",
       "  <thead>\n",
       "    <tr style=\"text-align: right;\">\n",
       "      <th></th>\n",
       "      <th>index</th>\n",
       "      <th>loss</th>\n",
       "      <th>recall</th>\n",
       "      <th>val_loss</th>\n",
       "      <th>val_recall</th>\n",
       "    </tr>\n",
       "  </thead>\n",
       "  <tbody>\n",
       "    <tr>\n",
       "      <th>0</th>\n",
       "      <td>0</td>\n",
       "      <td>98.619888</td>\n",
       "      <td>0.053534</td>\n",
       "      <td>650.619141</td>\n",
       "      <td>0.664081</td>\n",
       "    </tr>\n",
       "    <tr>\n",
       "      <th>1</th>\n",
       "      <td>1</td>\n",
       "      <td>67.243462</td>\n",
       "      <td>0.076923</td>\n",
       "      <td>26.708944</td>\n",
       "      <td>0.079131</td>\n",
       "    </tr>\n",
       "    <tr>\n",
       "      <th>2</th>\n",
       "      <td>2</td>\n",
       "      <td>59.851482</td>\n",
       "      <td>0.074324</td>\n",
       "      <td>34.344666</td>\n",
       "      <td>0.573313</td>\n",
       "    </tr>\n",
       "    <tr>\n",
       "      <th>3</th>\n",
       "      <td>3</td>\n",
       "      <td>48.907265</td>\n",
       "      <td>0.076403</td>\n",
       "      <td>56.275276</td>\n",
       "      <td>0.003879</td>\n",
       "    </tr>\n",
       "    <tr>\n",
       "      <th>4</th>\n",
       "      <td>4</td>\n",
       "      <td>44.542736</td>\n",
       "      <td>0.076923</td>\n",
       "      <td>24.188747</td>\n",
       "      <td>0.017843</td>\n",
       "    </tr>\n",
       "    <tr>\n",
       "      <th>5</th>\n",
       "      <td>5</td>\n",
       "      <td>37.816105</td>\n",
       "      <td>0.080042</td>\n",
       "      <td>33.468594</td>\n",
       "      <td>0.010861</td>\n",
       "    </tr>\n",
       "    <tr>\n",
       "      <th>6</th>\n",
       "      <td>6</td>\n",
       "      <td>29.104113</td>\n",
       "      <td>0.079002</td>\n",
       "      <td>28.460632</td>\n",
       "      <td>0.005431</td>\n",
       "    </tr>\n",
       "    <tr>\n",
       "      <th>7</th>\n",
       "      <td>7</td>\n",
       "      <td>22.779615</td>\n",
       "      <td>0.089397</td>\n",
       "      <td>7.884146</td>\n",
       "      <td>0.009310</td>\n",
       "    </tr>\n",
       "    <tr>\n",
       "      <th>8</th>\n",
       "      <td>8</td>\n",
       "      <td>13.276723</td>\n",
       "      <td>0.082121</td>\n",
       "      <td>5.641328</td>\n",
       "      <td>0.038014</td>\n",
       "    </tr>\n",
       "    <tr>\n",
       "      <th>9</th>\n",
       "      <td>9</td>\n",
       "      <td>10.032545</td>\n",
       "      <td>0.076923</td>\n",
       "      <td>2.170113</td>\n",
       "      <td>0.108611</td>\n",
       "    </tr>\n",
       "    <tr>\n",
       "      <th>10</th>\n",
       "      <td>10</td>\n",
       "      <td>3.300340</td>\n",
       "      <td>0.066008</td>\n",
       "      <td>0.739585</td>\n",
       "      <td>0.025601</td>\n",
       "    </tr>\n",
       "    <tr>\n",
       "      <th>11</th>\n",
       "      <td>11</td>\n",
       "      <td>0.357774</td>\n",
       "      <td>0.026507</td>\n",
       "      <td>0.220011</td>\n",
       "      <td>0.000776</td>\n",
       "    </tr>\n",
       "    <tr>\n",
       "      <th>12</th>\n",
       "      <td>12</td>\n",
       "      <td>0.311322</td>\n",
       "      <td>0.012994</td>\n",
       "      <td>0.266041</td>\n",
       "      <td>0.019395</td>\n",
       "    </tr>\n",
       "    <tr>\n",
       "      <th>13</th>\n",
       "      <td>13</td>\n",
       "      <td>0.269936</td>\n",
       "      <td>0.010915</td>\n",
       "      <td>0.199906</td>\n",
       "      <td>0.000000</td>\n",
       "    </tr>\n",
       "    <tr>\n",
       "      <th>14</th>\n",
       "      <td>14</td>\n",
       "      <td>0.227141</td>\n",
       "      <td>0.007277</td>\n",
       "      <td>0.196032</td>\n",
       "      <td>0.003879</td>\n",
       "    </tr>\n",
       "    <tr>\n",
       "      <th>15</th>\n",
       "      <td>15</td>\n",
       "      <td>0.212811</td>\n",
       "      <td>0.003638</td>\n",
       "      <td>0.180472</td>\n",
       "      <td>0.000000</td>\n",
       "    </tr>\n",
       "    <tr>\n",
       "      <th>16</th>\n",
       "      <td>16</td>\n",
       "      <td>0.193505</td>\n",
       "      <td>0.001040</td>\n",
       "      <td>0.183765</td>\n",
       "      <td>0.000776</td>\n",
       "    </tr>\n",
       "    <tr>\n",
       "      <th>17</th>\n",
       "      <td>17</td>\n",
       "      <td>0.208029</td>\n",
       "      <td>0.002079</td>\n",
       "      <td>0.212222</td>\n",
       "      <td>0.000776</td>\n",
       "    </tr>\n",
       "    <tr>\n",
       "      <th>18</th>\n",
       "      <td>18</td>\n",
       "      <td>0.205255</td>\n",
       "      <td>0.001040</td>\n",
       "      <td>0.200902</td>\n",
       "      <td>0.000776</td>\n",
       "    </tr>\n",
       "    <tr>\n",
       "      <th>19</th>\n",
       "      <td>19</td>\n",
       "      <td>0.188614</td>\n",
       "      <td>0.002599</td>\n",
       "      <td>0.222008</td>\n",
       "      <td>0.000000</td>\n",
       "    </tr>\n",
       "  </tbody>\n",
       "</table>\n",
       "</div>"
      ],
      "text/plain": [
       "    index       loss    recall    val_loss  val_recall\n",
       "0       0  98.619888  0.053534  650.619141    0.664081\n",
       "1       1  67.243462  0.076923   26.708944    0.079131\n",
       "2       2  59.851482  0.074324   34.344666    0.573313\n",
       "3       3  48.907265  0.076403   56.275276    0.003879\n",
       "4       4  44.542736  0.076923   24.188747    0.017843\n",
       "5       5  37.816105  0.080042   33.468594    0.010861\n",
       "6       6  29.104113  0.079002   28.460632    0.005431\n",
       "7       7  22.779615  0.089397    7.884146    0.009310\n",
       "8       8  13.276723  0.082121    5.641328    0.038014\n",
       "9       9  10.032545  0.076923    2.170113    0.108611\n",
       "10     10   3.300340  0.066008    0.739585    0.025601\n",
       "11     11   0.357774  0.026507    0.220011    0.000776\n",
       "12     12   0.311322  0.012994    0.266041    0.019395\n",
       "13     13   0.269936  0.010915    0.199906    0.000000\n",
       "14     14   0.227141  0.007277    0.196032    0.003879\n",
       "15     15   0.212811  0.003638    0.180472    0.000000\n",
       "16     16   0.193505  0.001040    0.183765    0.000776\n",
       "17     17   0.208029  0.002079    0.212222    0.000776\n",
       "18     18   0.205255  0.001040    0.200902    0.000776\n",
       "19     19   0.188614  0.002599    0.222008    0.000000"
      ]
     },
     "execution_count": 78,
     "metadata": {},
     "output_type": "execute_result"
    }
   ],
   "source": [
    "# trainging loop evaluation(각 반복 회차별 평가 지표)\n",
    "pd.DataFrame(result.history).reset_index()\n",
    "# index가 의미하는 바는 각 training loop 회차"
   ]
  },
  {
   "cell_type": "code",
   "execution_count": null,
   "id": "47de15e4-d91f-4033-b454-4beed374cac6",
   "metadata": {},
   "outputs": [],
   "source": [
    "\n"
   ]
  }
 ],
 "metadata": {
  "kernelspec": {
   "display_name": "Python 3 (ipykernel)",
   "language": "python",
   "name": "python3"
  },
  "language_info": {
   "codemirror_mode": {
    "name": "ipython",
    "version": 3
   },
   "file_extension": ".py",
   "mimetype": "text/x-python",
   "name": "python",
   "nbconvert_exporter": "python",
   "pygments_lexer": "ipython3",
   "version": "3.11.11"
  }
 },
 "nbformat": 4,
 "nbformat_minor": 5
}
