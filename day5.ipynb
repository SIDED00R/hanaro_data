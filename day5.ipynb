{
 "cells": [
  {
   "cell_type": "markdown",
   "id": "085708b2-d85a-4d35-b11c-a941733a213e",
   "metadata": {},
   "source": [
    "5 6 2 2 1 1 3 2"
   ]
  },
  {
   "cell_type": "code",
   "execution_count": 29,
   "id": "f52e76ad-3eb8-475f-a9b1-bf78310d8276",
   "metadata": {},
   "outputs": [
    {
     "name": "stdin",
     "output_type": "stream",
     "text": [
      " 4 8 3 0 1 1 3 2\n"
     ]
    },
    {
     "name": "stdout",
     "output_type": "stream",
     "text": [
      "30\n"
     ]
    }
   ],
   "source": [
    "w, h, f, c, x1, y1, x2, y2 = map(int, input().split())\n",
    "\n",
    "after_x = max(w - f, f)\n",
    "after_y = h // (c + 1)\n",
    "mul = c + 1\n",
    "\n",
    "total = 0\n",
    "total += mul * max(0, x2 - max(x1, min(f, w - f))) * (y2 - y1)\n",
    "total += 2 * mul * (y2 - y1) * max(0, min(x2, min(f, w - f)) - x1)\n",
    "print(w * h - total)"
   ]
  },
  {
   "cell_type": "code",
   "execution_count": 22,
   "id": "9340144c-10a9-4eb0-830d-1b510573c72b",
   "metadata": {},
   "outputs": [
    {
     "data": {
      "text/plain": [
       "6"
      ]
     },
     "execution_count": 22,
     "metadata": {},
     "output_type": "execute_result"
    }
   ],
   "source": [
    "2 * mul * (y2 - y1) * max(0, min(x2, min(f, w - f)) - x1)"
   ]
  },
  {
   "cell_type": "code",
   "execution_count": 4,
   "id": "94f49bc0-a620-4ff1-ac3e-cb32a099866a",
   "metadata": {},
   "outputs": [
    {
     "data": {
      "text/plain": [
       "0"
      ]
     },
     "execution_count": 4,
     "metadata": {},
     "output_type": "execute_result"
    }
   ],
   "source": [
    "mul * (y2 - y1) * max(0, max(after_x - f, 2 * f - w) - x1)"
   ]
  },
  {
   "cell_type": "code",
   "execution_count": 2,
   "id": "7044e1cd-63cf-4f86-acd2-45118b08958f",
   "metadata": {},
   "outputs": [
    {
     "name": "stdout",
     "output_type": "stream",
     "text": [
      "3 2\n"
     ]
    }
   ],
   "source": [
    "print(after_x, after_y)"
   ]
  },
  {
   "cell_type": "markdown",
   "id": "6cb8af6a-f1de-4036-b6df-03be27414773",
   "metadata": {},
   "source": [
    "## 8-2. 데이터 전처리\n",
    "\n",
    "- 데이터 추출\n",
    "    - df1.head() : 상위 n개 데이터 추출\n",
    "    - df1.tail() : 하위 n개 데이터 추출\n",
    "    - df1.iloc[n:m] : n번째 행 부터 m번째 행 까지 추출\n",
    "    - df1['col'] : 특정 col을 추출 (Series 형태로 추출)\n",
    "    - df1[['col1', 'col2']] : 한 개 이상의 col을 데이터 프레임형태로 추출\n",
    "\n",
    "- 데이터 정렬\n",
    "    - df1.sort_values(by = col, ascending = True) : 특정 col열을 오름차순/ 내림차순으로 정렬\n",
    "\n",
    "- 데이터 필터 (층별화 - 특정 범주항목 별, 데이터를 나누어 분석)\n",
    "    - df1.loc[cond1] : cond1 (특정 조건을 만족하는, 비교구문에 있어 True 출력되는 행) 에 대해 데이터를 출력\n",
    "    - df1.loc[cond1, new_col] = 'new_data' : cond1에 대해 new_data를 new_col으로 선언 (특정 조건에 대해 새로운 데이터를 파생변수로 선언)\n",
    "\n",
    "- 데이터 요약\n",
    "    - df1. pivot_table(index = 구분하고자 하는 항목, values = 계산하고자 하는 항목, aggfunc = 통계량)\n",
    "    - 특정 항목을 기준으로 특정 값을 원하는 통계량에 대해 계산\n",
    "    - columns = : 구분하고자 하는 항목을 column으로 생성\n",
    "    - margins = 특정 통계량을 행/열 단위로 계산\n",
    "    - fill_values : 요약을 수행할 때 발생한 결측값을 특정 값으로 대치\n",
    "\n",
    "- 파생면수 생성\n",
    "    - df1.apply(function) : 특정 column의 각 row를 사용자가 만든(정의한) function에 넣어 계산\n",
    " \n",
    "- 날짜 데이터 처리\n",
    "    - pd.to_datetime(df1[col]) : 특정 날짜 형식(col)의 자료를 날짜형태 타입으로 변환\n",
    "    - df1[col_dt].dt.year : 연도 추출\n",
    "    - df1[col_dt].dt.month : 월 추출\n",
    "    - df1[col_dt].dt.day : 일자 추출\n",
    "    - df1[col_dt].dt.day_name() : 요일 추출\n",
    "    - df1[col_dt].dt.isocalender().week : 주차 추출 (work week)\n",
    "\n",
    "- 결측값 처리\n",
    "- 데이터 재구조화 및 병합"
   ]
  },
  {
   "cell_type": "markdown",
   "id": "25266e1f-d31c-4712-9bd9-3c262a4945ce",
   "metadata": {},
   "source": [
    "**결측값 처리**\n",
    "\n",
    "- 결측값 (missing value -> Nan, Not A Number)\n",
    "- 결측값 제거 : 결측값이 존재하는 행을 제거\n",
    "- 결측값 대치 : 결측값을 다른 값으로 채워 넣는 방법\n",
    "    - 단순대치 : 평균이나 중강값과 같은 해당col을 대표할 수 있는 값으로 대치\n",
    "    - 알고리즘 대치 : 머신러닝 알고리즘들을 활용해 해당 결측값과 유사한 값으로 대치\n",
    "    - 보간법 : 특정 시간 간격이나 서열 간격에 맞춰 데이터를 생성해 대치"
   ]
  },
  {
   "cell_type": "code",
   "execution_count": 5,
   "id": "499fea69-74fa-4a30-803e-3edaeffb8951",
   "metadata": {},
   "outputs": [],
   "source": [
    "import pandas as pd"
   ]
  },
  {
   "cell_type": "code",
   "execution_count": 7,
   "id": "53edb047-1fb7-4a9b-ac71-b4d4b304be0b",
   "metadata": {},
   "outputs": [
    {
     "name": "stdout",
     "output_type": "stream",
     "text": [
      "(51301, 20)\n"
     ]
    },
    {
     "data": {
      "text/html": [
       "<div>\n",
       "<style scoped>\n",
       "    .dataframe tbody tr th:only-of-type {\n",
       "        vertical-align: middle;\n",
       "    }\n",
       "\n",
       "    .dataframe tbody tr th {\n",
       "        vertical-align: top;\n",
       "    }\n",
       "\n",
       "    .dataframe thead th {\n",
       "        text-align: right;\n",
       "    }\n",
       "</style>\n",
       "<table border=\"1\" class=\"dataframe\">\n",
       "  <thead>\n",
       "    <tr style=\"text-align: right;\">\n",
       "      <th></th>\n",
       "      <th>Unnamed: 0</th>\n",
       "      <th>Index</th>\n",
       "      <th>Member_ID</th>\n",
       "      <th>Sales_Type</th>\n",
       "      <th>Contract_Type</th>\n",
       "      <th>Channel</th>\n",
       "      <th>Datetime</th>\n",
       "      <th>Term</th>\n",
       "      <th>Payment_Type</th>\n",
       "      <th>Product_Type</th>\n",
       "      <th>Amount_Month</th>\n",
       "      <th>Customer_Type</th>\n",
       "      <th>Age</th>\n",
       "      <th>Address1</th>\n",
       "      <th>State</th>\n",
       "      <th>Overdue_count</th>\n",
       "      <th>Overdue_Type</th>\n",
       "      <th>Gender</th>\n",
       "      <th>Bank</th>\n",
       "      <th>Credit_Score</th>\n",
       "    </tr>\n",
       "  </thead>\n",
       "  <tbody>\n",
       "    <tr>\n",
       "      <th>0</th>\n",
       "      <td>0</td>\n",
       "      <td>1</td>\n",
       "      <td>66758234</td>\n",
       "      <td>렌탈</td>\n",
       "      <td>일반계약</td>\n",
       "      <td>영업방판</td>\n",
       "      <td>2022-05-09</td>\n",
       "      <td>60</td>\n",
       "      <td>CMS</td>\n",
       "      <td>SLX-1</td>\n",
       "      <td>96900</td>\n",
       "      <td>개인</td>\n",
       "      <td>42.0</td>\n",
       "      <td>경기도</td>\n",
       "      <td>계약확정</td>\n",
       "      <td>0</td>\n",
       "      <td>없음</td>\n",
       "      <td>여자</td>\n",
       "      <td>새마을금고</td>\n",
       "      <td>496.0</td>\n",
       "    </tr>\n",
       "    <tr>\n",
       "      <th>1</th>\n",
       "      <td>1</td>\n",
       "      <td>2</td>\n",
       "      <td>66755948</td>\n",
       "      <td>렌탈</td>\n",
       "      <td>교체계약</td>\n",
       "      <td>영업방판</td>\n",
       "      <td>2023-02-23</td>\n",
       "      <td>60</td>\n",
       "      <td>카드이체</td>\n",
       "      <td>SLX-1</td>\n",
       "      <td>102900</td>\n",
       "      <td>개인</td>\n",
       "      <td>39.0</td>\n",
       "      <td>경기도</td>\n",
       "      <td>계약확정</td>\n",
       "      <td>0</td>\n",
       "      <td>없음</td>\n",
       "      <td>남자</td>\n",
       "      <td>현대카드</td>\n",
       "      <td>876.0</td>\n",
       "    </tr>\n",
       "    <tr>\n",
       "      <th>2</th>\n",
       "      <td>2</td>\n",
       "      <td>3</td>\n",
       "      <td>66756657</td>\n",
       "      <td>렌탈</td>\n",
       "      <td>일반계약</td>\n",
       "      <td>홈쇼핑/방송</td>\n",
       "      <td>2022-03-03</td>\n",
       "      <td>60</td>\n",
       "      <td>CMS</td>\n",
       "      <td>SLX-1</td>\n",
       "      <td>96900</td>\n",
       "      <td>개인</td>\n",
       "      <td>48.0</td>\n",
       "      <td>경기도</td>\n",
       "      <td>계약확정</td>\n",
       "      <td>0</td>\n",
       "      <td>없음</td>\n",
       "      <td>여자</td>\n",
       "      <td>우리은행</td>\n",
       "      <td>512.0</td>\n",
       "    </tr>\n",
       "    <tr>\n",
       "      <th>3</th>\n",
       "      <td>3</td>\n",
       "      <td>4</td>\n",
       "      <td>66423450</td>\n",
       "      <td>멤버십</td>\n",
       "      <td>멤버십3유형</td>\n",
       "      <td>재계약</td>\n",
       "      <td>2022-05-16</td>\n",
       "      <td>12</td>\n",
       "      <td>CMS</td>\n",
       "      <td>SLX-1</td>\n",
       "      <td>66900</td>\n",
       "      <td>개인</td>\n",
       "      <td>39.0</td>\n",
       "      <td>경기도</td>\n",
       "      <td>계약확정</td>\n",
       "      <td>0</td>\n",
       "      <td>없음</td>\n",
       "      <td>남자</td>\n",
       "      <td>농협회원조합</td>\n",
       "      <td>777.0</td>\n",
       "    </tr>\n",
       "    <tr>\n",
       "      <th>4</th>\n",
       "      <td>4</td>\n",
       "      <td>5</td>\n",
       "      <td>66423204</td>\n",
       "      <td>멤버십</td>\n",
       "      <td>멤버십3유형</td>\n",
       "      <td>재계약</td>\n",
       "      <td>2022-05-13</td>\n",
       "      <td>12</td>\n",
       "      <td>CMS</td>\n",
       "      <td>SLX-1</td>\n",
       "      <td>66900</td>\n",
       "      <td>개인</td>\n",
       "      <td>60.0</td>\n",
       "      <td>경기도</td>\n",
       "      <td>기간만료</td>\n",
       "      <td>12</td>\n",
       "      <td>있음</td>\n",
       "      <td>남자</td>\n",
       "      <td>농협회원조합</td>\n",
       "      <td>561.0</td>\n",
       "    </tr>\n",
       "  </tbody>\n",
       "</table>\n",
       "</div>"
      ],
      "text/plain": [
       "   Unnamed: 0  Index  Member_ID Sales_Type Contract_Type Channel    Datetime  \\\n",
       "0           0      1   66758234         렌탈          일반계약    영업방판  2022-05-09   \n",
       "1           1      2   66755948         렌탈          교체계약    영업방판  2023-02-23   \n",
       "2           2      3   66756657         렌탈          일반계약  홈쇼핑/방송  2022-03-03   \n",
       "3           3      4   66423450        멤버십        멤버십3유형     재계약  2022-05-16   \n",
       "4           4      5   66423204        멤버십        멤버십3유형     재계약  2022-05-13   \n",
       "\n",
       "   Term Payment_Type Product_Type  Amount_Month Customer_Type   Age Address1  \\\n",
       "0    60          CMS        SLX-1         96900            개인  42.0      경기도   \n",
       "1    60         카드이체        SLX-1        102900            개인  39.0      경기도   \n",
       "2    60          CMS        SLX-1         96900            개인  48.0      경기도   \n",
       "3    12          CMS        SLX-1         66900            개인  39.0      경기도   \n",
       "4    12          CMS        SLX-1         66900            개인  60.0      경기도   \n",
       "\n",
       "  State  Overdue_count Overdue_Type Gender    Bank  Credit_Score  \n",
       "0  계약확정              0           없음     여자   새마을금고         496.0  \n",
       "1  계약확정              0           없음     남자    현대카드         876.0  \n",
       "2  계약확정              0           없음     여자    우리은행         512.0  \n",
       "3  계약확정              0           없음     남자  농협회원조합         777.0  \n",
       "4  기간만료             12           있음     남자  농협회원조합         561.0  "
      ]
     },
     "execution_count": 7,
     "metadata": {},
     "output_type": "execute_result"
    }
   ],
   "source": [
    "df1 = pd.read_csv('data/01_Data.csv') # 데이터 호출\n",
    "print(df1.shape) # 데이터의 행, 열 개수 확인\n",
    "df1.head() # 데이터 확인"
   ]
  },
  {
   "cell_type": "code",
   "execution_count": 11,
   "id": "a64f4011-96b3-4e53-94c4-33cfb495f0f1",
   "metadata": {},
   "outputs": [
    {
     "name": "stdout",
     "output_type": "stream",
     "text": [
      "<class 'pandas.core.frame.DataFrame'>\n",
      "RangeIndex: 51301 entries, 0 to 51300\n",
      "Data columns (total 20 columns):\n",
      " #   Column         Non-Null Count  Dtype  \n",
      "---  ------         --------------  -----  \n",
      " 0   Unnamed: 0     51301 non-null  int64  \n",
      " 1   Index          51301 non-null  int64  \n",
      " 2   Member_ID      51301 non-null  int64  \n",
      " 3   Sales_Type     51301 non-null  object \n",
      " 4   Contract_Type  51301 non-null  object \n",
      " 5   Channel        51301 non-null  object \n",
      " 6   Datetime       51301 non-null  object \n",
      " 7   Term           51301 non-null  int64  \n",
      " 8   Payment_Type   51301 non-null  object \n",
      " 9   Product_Type   51301 non-null  object \n",
      " 10  Amount_Month   51301 non-null  int64  \n",
      " 11  Customer_Type  51299 non-null  object \n",
      " 12  Age            44329 non-null  float64\n",
      " 13  Address1       51299 non-null  object \n",
      " 14  State          51301 non-null  object \n",
      " 15  Overdue_count  51301 non-null  int64  \n",
      " 16  Overdue_Type   51301 non-null  object \n",
      " 17  Gender         51301 non-null  object \n",
      " 18  Bank           48542 non-null  object \n",
      " 19  Credit_Score   42460 non-null  float64\n",
      "dtypes: float64(2), int64(6), object(12)\n",
      "memory usage: 7.8+ MB\n"
     ]
    }
   ],
   "source": [
    "# 결측값 확인\n",
    "df1.info() # Non-Null count : 결측값이 아닌 데이터 수"
   ]
  },
  {
   "cell_type": "code",
   "execution_count": 13,
   "id": "af8c7f2a-2f8c-4770-9f2b-3d54184151ba",
   "metadata": {},
   "outputs": [
    {
     "data": {
      "text/plain": [
       "Unnamed: 0          0\n",
       "Index               0\n",
       "Member_ID           0\n",
       "Sales_Type          0\n",
       "Contract_Type       0\n",
       "Channel             0\n",
       "Datetime            0\n",
       "Term                0\n",
       "Payment_Type        0\n",
       "Product_Type        0\n",
       "Amount_Month        0\n",
       "Customer_Type       2\n",
       "Age              6972\n",
       "Address1            2\n",
       "State               0\n",
       "Overdue_count       0\n",
       "Overdue_Type        0\n",
       "Gender              0\n",
       "Bank             2759\n",
       "Credit_Score     8841\n",
       "dtype: int64"
      ]
     },
     "execution_count": 13,
     "metadata": {},
     "output_type": "execute_result"
    }
   ],
   "source": [
    "df1.isnull().sum() # 특정 데이터가 결측값인지 아닌지 출력 -> sum함수를 사용하면 True값의 개수를 column별 합을 계산"
   ]
  },
  {
   "cell_type": "code",
   "execution_count": 16,
   "id": "73d77c64-ed94-4f67-89a0-045b79e3e10c",
   "metadata": {},
   "outputs": [
    {
     "data": {
      "text/plain": [
       "(40597, 20)"
      ]
     },
     "execution_count": 16,
     "metadata": {},
     "output_type": "execute_result"
    }
   ],
   "source": [
    "# 결측값을 제거 (특정 행에 결측값이 존재하면, 해당 행의 정보를 삭제)\n",
    "df1_clean = df1.dropna()\n",
    "df1_clean.shape"
   ]
  },
  {
   "cell_type": "code",
   "execution_count": 17,
   "id": "81b00959-0f9b-489d-a29f-410bdb9dff9a",
   "metadata": {},
   "outputs": [
    {
     "data": {
      "text/plain": [
       "(51299, 17)"
      ]
     },
     "execution_count": 17,
     "metadata": {},
     "output_type": "execute_result"
    }
   ],
   "source": [
    "# 결측값이 많은 열을 제거한 뒤 결측값을 제거하여 분석\n",
    "# drop(): 특정 행 또는 열을 삭제\n",
    "df1_clean2 = df1.drop(columns = ['Age', 'Bank', 'Credit_Score']).dropna()\n",
    "df1_clean2.shape"
   ]
  },
  {
   "cell_type": "code",
   "execution_count": 18,
   "id": "616fc9aa-5bef-4bc6-b255-1f60b19ab0bb",
   "metadata": {},
   "outputs": [
    {
     "data": {
      "text/plain": [
       "51291      NaN\n",
       "51292      NaN\n",
       "51293    978.0\n",
       "51294      NaN\n",
       "51295    911.0\n",
       "51296      NaN\n",
       "51297    574.0\n",
       "51298    972.0\n",
       "51299    888.0\n",
       "51300    538.0\n",
       "Name: Credit_Score, dtype: float64"
      ]
     },
     "execution_count": 18,
     "metadata": {},
     "output_type": "execute_result"
    }
   ],
   "source": [
    "# 결측값 대치 (단순대치)\n",
    "df1['Credit_Score'].tail(10)"
   ]
  },
  {
   "cell_type": "code",
   "execution_count": 20,
   "id": "8f1b8924-9851-4204-a7df-ab9eb99fa769",
   "metadata": {},
   "outputs": [
    {
     "data": {
      "text/plain": [
       "51291      0.0\n",
       "51292      0.0\n",
       "51293    978.0\n",
       "51294      0.0\n",
       "51295    911.0\n",
       "51296      0.0\n",
       "51297    574.0\n",
       "51298    972.0\n",
       "51299    888.0\n",
       "51300    538.0\n",
       "Name: Credit_Score_clean, dtype: float64"
      ]
     },
     "execution_count": 20,
     "metadata": {},
     "output_type": "execute_result"
    }
   ],
   "source": [
    "# 결측값을 0으로 대치하여 처리\n",
    "df1['Credit_Score_clean'] = df1['Credit_Score'].fillna(0)\n",
    "df1['Credit_Score_clean'].tail(10)"
   ]
  },
  {
   "cell_type": "markdown",
   "id": "45c176b8-f180-447b-96c8-ac61e0d968c2",
   "metadata": {},
   "source": [
    "원시자료 설명서(DB설계서) -> 결측값이 다른 숫자값으로 대치되었는지 확인할 수 있다."
   ]
  },
  {
   "cell_type": "code",
   "execution_count": 31,
   "id": "cddbbcf9-34d6-49e8-9bd6-991be94c21c9",
   "metadata": {},
   "outputs": [
    {
     "data": {
      "text/plain": [
       "51291    826.838342\n",
       "51292    826.838342\n",
       "51293    978.000000\n",
       "51294    826.838342\n",
       "51295    911.000000\n",
       "51296    826.838342\n",
       "51297    574.000000\n",
       "51298    972.000000\n",
       "51299    888.000000\n",
       "51300    538.000000\n",
       "Name: Credit_Score_clean2, dtype: float64"
      ]
     },
     "execution_count": 31,
     "metadata": {},
     "output_type": "execute_result"
    }
   ],
   "source": [
    "# 결측값을 평균으로 대치하여 처리\n",
    "df1['Credit_Score_clean2'] = df1['Credit_Score'].fillna(df1['Credit_Score'].mean())\n",
    "df1['Credit_Score_clean2'].tail(10)"
   ]
  },
  {
   "cell_type": "markdown",
   "id": "2642f3f3-5a5b-4518-a9c0-77a409dd5a5e",
   "metadata": {},
   "source": [
    "## 8-3. 기술통계량 확인\n",
    "\n",
    "- 데이터의 특성을 알기 위해 기본적으로 확인하는 통계량\n",
    "- 연속형 :\n",
    "    - 대표값 (평균, 중앙값): 해당 연속형 자료를 대표하는 수치\n",
    "        - 평균의 경우, 이상치(outlier)에 의해 매우 높거나 낮게 계산될 수 있으므로, 반드시 중위수(중앙값)와 같이 확인\n",
    "        - A : 1, 3, 2, 5, 4 -> 평균 : 3\n",
    "        - A : 1, 2, 3, 4, 5 -> 중앙값 : 3\n",
    "        - B : 1, 3, 2, 4, 10000 -> 평균 : 2002\n",
    "        - B : 1, 2, 3, 4, 10000 -> 중앙값 : 3\n",
    " \n",
    "    - 산포 (표준편차) : 해당 연속형자료의 데이터들이 대표값으로부터 얼마나 떨어져 있는지 나타내는 통계량\n",
    "        - 산포는 데이터가 얼마나 대표값에 대해 정확한가를 나타내는 척도\n",
    "        - 데이터가 많이 수집 될 수록, 대표값에 대해 모여있는 분포를 나타낸(중심극한의 정리)\n",
    "        - 데이터가 많아지면, 산포가 줄어들 가능성이 있음\n",
    "\n",
    "    - 분포의 모양 : 해당 연속형 자료의 분포의 모양, 시각화\n",
    "        - 정규분포, 정규분포가 아닌 데이터\n",
    "        - 분포의 모양에 따라 가설검정 및 통계적 분석 방법이 달라질 수 있음\n",
    "        - 데이터 수집 관점\n",
    "\n",
    "- 범주형 : 항목과 빈도수 확인 (Unique / Frequency), 비율"
   ]
  },
  {
   "cell_type": "code",
   "execution_count": 33,
   "id": "29156ba4-4ad6-414f-aff9-8fd73b980dad",
   "metadata": {},
   "outputs": [],
   "source": [
    "# 월 랜탈비용 (Amount_Month)과 계약 기간(월) (Term)을 곱하여, 총 계약금을 계산해, 통계량을 확인\n",
    "df1['총계약금'] = df1['Amount_Month'] * df1['Term']"
   ]
  },
  {
   "cell_type": "code",
   "execution_count": 35,
   "id": "18e21d46-5967-463e-8a15-261677040956",
   "metadata": {},
   "outputs": [
    {
     "name": "stdout",
     "output_type": "stream",
     "text": [
      "5315393.8288922245\n",
      "5814000.0\n"
     ]
    }
   ],
   "source": [
    "print(df1['총계약금'].mean()) # 해당 시리즈의 평균\n",
    "print(df1['총계약금'].median()) # 해당 시리즈의 중앙값"
   ]
  },
  {
   "cell_type": "code",
   "execution_count": 38,
   "id": "7508c802-6bef-43f0-8726-bf62da207e7b",
   "metadata": {},
   "outputs": [
    {
     "name": "stdout",
     "output_type": "stream",
     "text": [
      "1455793.805881198\n",
      "4914000.0\n",
      "5814000.0\n",
      "900000.0\n"
     ]
    }
   ],
   "source": [
    "# 산포\n",
    "# 표준편차: 평균으로부터 데이터가 얼마나 떨어져 있는가 (평균 : 이상치의 영향을 받는 값)\n",
    "# 범위 : 최댓값과 최솟값의 차이\n",
    "# 사분범위(IQR) : 전체 데이터의 50% 모여있는 구간 (25% 와  75%사이)\n",
    "print(df1['총계약금'].std()) # 표준편차\n",
    "print(df1['총계약금'].quantile(0.25)) # 25% 1사분범위 값\n",
    "print(df1['총계약금'].quantile(0.75)) # 75% 3사분범위 값\n",
    "print(df1['총계약금'].quantile(0.75) - df1['총계약금'].quantile(0.25)) # IQR"
   ]
  },
  {
   "cell_type": "code",
   "execution_count": 40,
   "id": "af84de58-3ebf-4eab-9763-d7584191c52f",
   "metadata": {},
   "outputs": [
    {
     "data": {
      "text/html": [
       "<div>\n",
       "<style scoped>\n",
       "    .dataframe tbody tr th:only-of-type {\n",
       "        vertical-align: middle;\n",
       "    }\n",
       "\n",
       "    .dataframe tbody tr th {\n",
       "        vertical-align: top;\n",
       "    }\n",
       "\n",
       "    .dataframe thead th {\n",
       "        text-align: right;\n",
       "    }\n",
       "</style>\n",
       "<table border=\"1\" class=\"dataframe\">\n",
       "  <thead>\n",
       "    <tr style=\"text-align: right;\">\n",
       "      <th></th>\n",
       "      <th>Unnamed: 0</th>\n",
       "      <th>Index</th>\n",
       "      <th>Member_ID</th>\n",
       "      <th>Term</th>\n",
       "      <th>Amount_Month</th>\n",
       "      <th>Age</th>\n",
       "      <th>Overdue_count</th>\n",
       "      <th>Credit_Score</th>\n",
       "      <th>Credit_Score_clean</th>\n",
       "      <th>Credit_Score_clean2</th>\n",
       "      <th>총계약금</th>\n",
       "    </tr>\n",
       "  </thead>\n",
       "  <tbody>\n",
       "    <tr>\n",
       "      <th>count</th>\n",
       "      <td>51301.000000</td>\n",
       "      <td>51301.000000</td>\n",
       "      <td>5.130100e+04</td>\n",
       "      <td>51301.000000</td>\n",
       "      <td>51301.000000</td>\n",
       "      <td>44329.000000</td>\n",
       "      <td>51301.000000</td>\n",
       "      <td>42460.000000</td>\n",
       "      <td>51301.000000</td>\n",
       "      <td>51301.000000</td>\n",
       "      <td>5.130100e+04</td>\n",
       "    </tr>\n",
       "    <tr>\n",
       "      <th>mean</th>\n",
       "      <td>25650.000000</td>\n",
       "      <td>25651.703612</td>\n",
       "      <td>6.266432e+07</td>\n",
       "      <td>55.639149</td>\n",
       "      <td>93994.974289</td>\n",
       "      <td>50.024093</td>\n",
       "      <td>0.161381</td>\n",
       "      <td>826.838342</td>\n",
       "      <td>684.344477</td>\n",
       "      <td>826.838342</td>\n",
       "      <td>5.315394e+06</td>\n",
       "    </tr>\n",
       "    <tr>\n",
       "      <th>std</th>\n",
       "      <td>14809.467417</td>\n",
       "      <td>14809.828628</td>\n",
       "      <td>1.216146e+07</td>\n",
       "      <td>12.009915</td>\n",
       "      <td>15304.263988</td>\n",
       "      <td>10.983877</td>\n",
       "      <td>1.122193</td>\n",
       "      <td>118.301113</td>\n",
       "      <td>330.302938</td>\n",
       "      <td>107.625462</td>\n",
       "      <td>1.455794e+06</td>\n",
       "    </tr>\n",
       "    <tr>\n",
       "      <th>min</th>\n",
       "      <td>0.000000</td>\n",
       "      <td>1.000000</td>\n",
       "      <td>2.568798e+07</td>\n",
       "      <td>12.000000</td>\n",
       "      <td>54603.000000</td>\n",
       "      <td>25.000000</td>\n",
       "      <td>0.000000</td>\n",
       "      <td>2.000000</td>\n",
       "      <td>0.000000</td>\n",
       "      <td>2.000000</td>\n",
       "      <td>6.624000e+05</td>\n",
       "    </tr>\n",
       "    <tr>\n",
       "      <th>25%</th>\n",
       "      <td>12825.000000</td>\n",
       "      <td>12826.000000</td>\n",
       "      <td>6.643148e+07</td>\n",
       "      <td>60.000000</td>\n",
       "      <td>81900.000000</td>\n",
       "      <td>42.000000</td>\n",
       "      <td>0.000000</td>\n",
       "      <td>772.000000</td>\n",
       "      <td>635.000000</td>\n",
       "      <td>800.000000</td>\n",
       "      <td>4.914000e+06</td>\n",
       "    </tr>\n",
       "    <tr>\n",
       "      <th>50%</th>\n",
       "      <td>25650.000000</td>\n",
       "      <td>25652.000000</td>\n",
       "      <td>6.676578e+07</td>\n",
       "      <td>60.000000</td>\n",
       "      <td>96900.000000</td>\n",
       "      <td>49.000000</td>\n",
       "      <td>0.000000</td>\n",
       "      <td>856.000000</td>\n",
       "      <td>828.000000</td>\n",
       "      <td>828.000000</td>\n",
       "      <td>5.814000e+06</td>\n",
       "    </tr>\n",
       "    <tr>\n",
       "      <th>75%</th>\n",
       "      <td>38475.000000</td>\n",
       "      <td>38477.000000</td>\n",
       "      <td>6.678160e+07</td>\n",
       "      <td>60.000000</td>\n",
       "      <td>98400.000000</td>\n",
       "      <td>57.000000</td>\n",
       "      <td>0.000000</td>\n",
       "      <td>902.000000</td>\n",
       "      <td>891.000000</td>\n",
       "      <td>891.000000</td>\n",
       "      <td>5.814000e+06</td>\n",
       "    </tr>\n",
       "    <tr>\n",
       "      <th>max</th>\n",
       "      <td>51300.000000</td>\n",
       "      <td>51302.000000</td>\n",
       "      <td>6.696986e+07</td>\n",
       "      <td>60.000000</td>\n",
       "      <td>215700.000000</td>\n",
       "      <td>102.000000</td>\n",
       "      <td>15.000000</td>\n",
       "      <td>1000.000000</td>\n",
       "      <td>1000.000000</td>\n",
       "      <td>1000.000000</td>\n",
       "      <td>1.006200e+07</td>\n",
       "    </tr>\n",
       "  </tbody>\n",
       "</table>\n",
       "</div>"
      ],
      "text/plain": [
       "         Unnamed: 0         Index     Member_ID          Term   Amount_Month  \\\n",
       "count  51301.000000  51301.000000  5.130100e+04  51301.000000   51301.000000   \n",
       "mean   25650.000000  25651.703612  6.266432e+07     55.639149   93994.974289   \n",
       "std    14809.467417  14809.828628  1.216146e+07     12.009915   15304.263988   \n",
       "min        0.000000      1.000000  2.568798e+07     12.000000   54603.000000   \n",
       "25%    12825.000000  12826.000000  6.643148e+07     60.000000   81900.000000   \n",
       "50%    25650.000000  25652.000000  6.676578e+07     60.000000   96900.000000   \n",
       "75%    38475.000000  38477.000000  6.678160e+07     60.000000   98400.000000   \n",
       "max    51300.000000  51302.000000  6.696986e+07     60.000000  215700.000000   \n",
       "\n",
       "                Age  Overdue_count  Credit_Score  Credit_Score_clean  \\\n",
       "count  44329.000000   51301.000000  42460.000000        51301.000000   \n",
       "mean      50.024093       0.161381    826.838342          684.344477   \n",
       "std       10.983877       1.122193    118.301113          330.302938   \n",
       "min       25.000000       0.000000      2.000000            0.000000   \n",
       "25%       42.000000       0.000000    772.000000          635.000000   \n",
       "50%       49.000000       0.000000    856.000000          828.000000   \n",
       "75%       57.000000       0.000000    902.000000          891.000000   \n",
       "max      102.000000      15.000000   1000.000000         1000.000000   \n",
       "\n",
       "       Credit_Score_clean2          총계약금  \n",
       "count         51301.000000  5.130100e+04  \n",
       "mean            826.838342  5.315394e+06  \n",
       "std             107.625462  1.455794e+06  \n",
       "min               2.000000  6.624000e+05  \n",
       "25%             800.000000  4.914000e+06  \n",
       "50%             828.000000  5.814000e+06  \n",
       "75%             891.000000  5.814000e+06  \n",
       "max            1000.000000  1.006200e+07  "
      ]
     },
     "execution_count": 40,
     "metadata": {},
     "output_type": "execute_result"
    }
   ],
   "source": [
    "df1.describe() # 모든 숫자 자료의 기술 통계량을 계싼"
   ]
  },
  {
   "cell_type": "code",
   "execution_count": 42,
   "id": "c15234aa-ede6-4b04-b34c-ce5632c3e138",
   "metadata": {},
   "outputs": [
    {
     "data": {
      "text/plain": [
       "array(['SLX-1', 'SLX-3', 'SLX-2', 'ADV-5', '3DIR-AVD', 'ADVERA'],\n",
       "      dtype=object)"
      ]
     },
     "execution_count": 42,
     "metadata": {},
     "output_type": "execute_result"
    }
   ],
   "source": [
    "# 범주형 (항목과 빈도수 확인)\n",
    "df1['Product_Type'].unique() # 특정 범주형 항목에 있는 값을 확인"
   ]
  },
  {
   "cell_type": "code",
   "execution_count": 45,
   "id": "8565c893-2f1a-410d-b62b-1cbed067ed61",
   "metadata": {},
   "outputs": [
    {
     "data": {
      "text/plain": [
       "Product_Type\n",
       "SLX-1       39133\n",
       "SLX-2        8996\n",
       "SLX-3        2081\n",
       "ADVERA        644\n",
       "ADV-5         327\n",
       "3DIR-AVD      120\n",
       "Name: count, dtype: int64"
      ]
     },
     "execution_count": 45,
     "metadata": {},
     "output_type": "execute_result"
    }
   ],
   "source": [
    "df1['Product_Type'].value_counts() # 특정 범주형 항목의 빈도수 확인 -> Series 형태로 출력"
   ]
  },
  {
   "cell_type": "code",
   "execution_count": 47,
   "id": "ec3834f0-dfc0-4870-bc07-d03dc391e218",
   "metadata": {},
   "outputs": [
    {
     "data": {
      "text/plain": [
       "Index(['SLX-1', 'SLX-2', 'SLX-3', 'ADVERA', 'ADV-5', '3DIR-AVD'], dtype='object', name='Product_Type')"
      ]
     },
     "execution_count": 47,
     "metadata": {},
     "output_type": "execute_result"
    }
   ],
   "source": [
    "df1['Product_Type'].value_counts().index # 제품군의 빈도수가 높은 순서대로 나열된 시리즈에서 각 항목의 순서를 arrary 형태로 출력"
   ]
  },
  {
   "cell_type": "code",
   "execution_count": 53,
   "id": "8aa2d03f-e993-48ac-9a61-73f246000d3d",
   "metadata": {},
   "outputs": [
    {
     "data": {
      "text/plain": [
       "Index(['SLX-1', 'SLX-2', 'SLX-3'], dtype='object', name='Product_Type')"
      ]
     },
     "execution_count": 53,
     "metadata": {},
     "output_type": "execute_result"
    }
   ],
   "source": [
    "df1['Product_Type'].value_counts().head(3).index"
   ]
  },
  {
   "cell_type": "code",
   "execution_count": 56,
   "id": "72343290-15cf-4dc0-bb39-0b56ca1a4b87",
   "metadata": {},
   "outputs": [
    {
     "data": {
      "text/html": [
       "<div>\n",
       "<style scoped>\n",
       "    .dataframe tbody tr th:only-of-type {\n",
       "        vertical-align: middle;\n",
       "    }\n",
       "\n",
       "    .dataframe tbody tr th {\n",
       "        vertical-align: top;\n",
       "    }\n",
       "\n",
       "    .dataframe thead th {\n",
       "        text-align: right;\n",
       "    }\n",
       "</style>\n",
       "<table border=\"1\" class=\"dataframe\">\n",
       "  <thead>\n",
       "    <tr style=\"text-align: right;\">\n",
       "      <th></th>\n",
       "      <th>총계약금</th>\n",
       "    </tr>\n",
       "  </thead>\n",
       "  <tbody>\n",
       "    <tr>\n",
       "      <th>count</th>\n",
       "      <td>5.021000e+04</td>\n",
       "    </tr>\n",
       "    <tr>\n",
       "      <th>mean</th>\n",
       "      <td>5.303260e+06</td>\n",
       "    </tr>\n",
       "    <tr>\n",
       "      <th>std</th>\n",
       "      <td>1.450604e+06</td>\n",
       "    </tr>\n",
       "    <tr>\n",
       "      <th>min</th>\n",
       "      <td>6.624000e+05</td>\n",
       "    </tr>\n",
       "    <tr>\n",
       "      <th>25%</th>\n",
       "      <td>4.914000e+06</td>\n",
       "    </tr>\n",
       "    <tr>\n",
       "      <th>50%</th>\n",
       "      <td>5.814000e+06</td>\n",
       "    </tr>\n",
       "    <tr>\n",
       "      <th>75%</th>\n",
       "      <td>5.814000e+06</td>\n",
       "    </tr>\n",
       "    <tr>\n",
       "      <th>max</th>\n",
       "      <td>1.006200e+07</td>\n",
       "    </tr>\n",
       "  </tbody>\n",
       "</table>\n",
       "</div>"
      ],
      "text/plain": [
       "               총계약금\n",
       "count  5.021000e+04\n",
       "mean   5.303260e+06\n",
       "std    1.450604e+06\n",
       "min    6.624000e+05\n",
       "25%    4.914000e+06\n",
       "50%    5.814000e+06\n",
       "75%    5.814000e+06\n",
       "max    1.006200e+07"
      ]
     },
     "execution_count": 56,
     "metadata": {},
     "output_type": "execute_result"
    }
   ],
   "source": [
    "# 제품군의 빈도수가 높은 3개 제품에 대해 총 계약금의 기술통계량을 확인하여 excel로 저장\n",
    "# 제품군의 빈도수가 높은 상위 3개 제품을 추출해 변수로 선언\n",
    "top_list = df1['Product_Type'].value_counts().head(3).index\n",
    "# 해당 리스트에 있는 제품군에 해당하는 데이터를 추출\n",
    "cond1 = df1['Product_Type'].isin(top_list)\n",
    "df1.loc[cond1].describe()[['총계약금']]"
   ]
  },
  {
   "cell_type": "code",
   "execution_count": 58,
   "id": "075c1cbf-2589-4af9-8893-7577b66389e7",
   "metadata": {},
   "outputs": [
    {
     "data": {
      "text/html": [
       "<div>\n",
       "<style scoped>\n",
       "    .dataframe tbody tr th:only-of-type {\n",
       "        vertical-align: middle;\n",
       "    }\n",
       "\n",
       "    .dataframe tbody tr th {\n",
       "        vertical-align: top;\n",
       "    }\n",
       "\n",
       "    .dataframe thead th {\n",
       "        text-align: right;\n",
       "    }\n",
       "</style>\n",
       "<table border=\"1\" class=\"dataframe\">\n",
       "  <thead>\n",
       "    <tr style=\"text-align: right;\">\n",
       "      <th></th>\n",
       "      <th>Sales_Type</th>\n",
       "      <th>Contract_Type</th>\n",
       "      <th>Channel</th>\n",
       "      <th>Datetime</th>\n",
       "      <th>Payment_Type</th>\n",
       "      <th>Product_Type</th>\n",
       "      <th>Customer_Type</th>\n",
       "      <th>Address1</th>\n",
       "      <th>State</th>\n",
       "      <th>Overdue_Type</th>\n",
       "      <th>Gender</th>\n",
       "      <th>Bank</th>\n",
       "    </tr>\n",
       "  </thead>\n",
       "  <tbody>\n",
       "    <tr>\n",
       "      <th>count</th>\n",
       "      <td>51301</td>\n",
       "      <td>51301</td>\n",
       "      <td>51301</td>\n",
       "      <td>51301</td>\n",
       "      <td>51301</td>\n",
       "      <td>51301</td>\n",
       "      <td>51299</td>\n",
       "      <td>51299</td>\n",
       "      <td>51301</td>\n",
       "      <td>51301</td>\n",
       "      <td>51301</td>\n",
       "      <td>48542</td>\n",
       "    </tr>\n",
       "    <tr>\n",
       "      <th>unique</th>\n",
       "      <td>2</td>\n",
       "      <td>9</td>\n",
       "      <td>16</td>\n",
       "      <td>577</td>\n",
       "      <td>5</td>\n",
       "      <td>6</td>\n",
       "      <td>2</td>\n",
       "      <td>8</td>\n",
       "      <td>4</td>\n",
       "      <td>2</td>\n",
       "      <td>2</td>\n",
       "      <td>47</td>\n",
       "    </tr>\n",
       "    <tr>\n",
       "      <th>top</th>\n",
       "      <td>렌탈</td>\n",
       "      <td>프로모션계약</td>\n",
       "      <td>영업방판</td>\n",
       "      <td>2022-02-03</td>\n",
       "      <td>CMS</td>\n",
       "      <td>SLX-1</td>\n",
       "      <td>개인</td>\n",
       "      <td>경기도</td>\n",
       "      <td>계약확정</td>\n",
       "      <td>없음</td>\n",
       "      <td>여자</td>\n",
       "      <td>롯데카드</td>\n",
       "    </tr>\n",
       "    <tr>\n",
       "      <th>freq</th>\n",
       "      <td>46483</td>\n",
       "      <td>15811</td>\n",
       "      <td>23767</td>\n",
       "      <td>1167</td>\n",
       "      <td>32825</td>\n",
       "      <td>39133</td>\n",
       "      <td>46263</td>\n",
       "      <td>18353</td>\n",
       "      <td>50620</td>\n",
       "      <td>49110</td>\n",
       "      <td>35602</td>\n",
       "      <td>9516</td>\n",
       "    </tr>\n",
       "  </tbody>\n",
       "</table>\n",
       "</div>"
      ],
      "text/plain": [
       "       Sales_Type Contract_Type Channel    Datetime Payment_Type Product_Type  \\\n",
       "count       51301         51301   51301       51301        51301        51301   \n",
       "unique          2             9      16         577            5            6   \n",
       "top            렌탈        프로모션계약    영업방판  2022-02-03          CMS        SLX-1   \n",
       "freq        46483         15811   23767        1167        32825        39133   \n",
       "\n",
       "       Customer_Type Address1  State Overdue_Type Gender   Bank  \n",
       "count          51299    51299  51301        51301  51301  48542  \n",
       "unique             2        8      4            2      2     47  \n",
       "top               개인      경기도   계약확정           없음     여자   롯데카드  \n",
       "freq           46263    18353  50620        49110  35602   9516  "
      ]
     },
     "execution_count": 58,
     "metadata": {},
     "output_type": "execute_result"
    }
   ],
   "source": [
    "# 범주형 데이터에 대한 통계량\n",
    "df1.describe(include = 'object')\n",
    "# unique : 해당 범주형 항목의 개수\n",
    "# top : 최빈값, 가장 빈도수가 많은 항목\n",
    "# freq : 최빈값의 개수, 가장 빈도수가 많은 항목의 수"
   ]
  },
  {
   "cell_type": "code",
   "execution_count": 59,
   "id": "1809a81e-b36e-4568-a2ce-37dfc6c7dff6",
   "metadata": {},
   "outputs": [
    {
     "data": {
      "text/html": [
       "<div>\n",
       "<style scoped>\n",
       "    .dataframe tbody tr th:only-of-type {\n",
       "        vertical-align: middle;\n",
       "    }\n",
       "\n",
       "    .dataframe tbody tr th {\n",
       "        vertical-align: top;\n",
       "    }\n",
       "\n",
       "    .dataframe thead th {\n",
       "        text-align: right;\n",
       "    }\n",
       "</style>\n",
       "<table border=\"1\" class=\"dataframe\">\n",
       "  <thead>\n",
       "    <tr style=\"text-align: right;\">\n",
       "      <th></th>\n",
       "      <th>Unnamed: 0</th>\n",
       "      <th>Index</th>\n",
       "      <th>Member_ID</th>\n",
       "      <th>Sales_Type</th>\n",
       "      <th>Contract_Type</th>\n",
       "      <th>Channel</th>\n",
       "      <th>Datetime</th>\n",
       "      <th>Term</th>\n",
       "      <th>Payment_Type</th>\n",
       "      <th>Product_Type</th>\n",
       "      <th>...</th>\n",
       "      <th>Address1</th>\n",
       "      <th>State</th>\n",
       "      <th>Overdue_count</th>\n",
       "      <th>Overdue_Type</th>\n",
       "      <th>Gender</th>\n",
       "      <th>Bank</th>\n",
       "      <th>Credit_Score</th>\n",
       "      <th>Credit_Score_clean</th>\n",
       "      <th>Credit_Score_clean2</th>\n",
       "      <th>총계약금</th>\n",
       "    </tr>\n",
       "  </thead>\n",
       "  <tbody>\n",
       "    <tr>\n",
       "      <th>count</th>\n",
       "      <td>51301.000000</td>\n",
       "      <td>51301.000000</td>\n",
       "      <td>5.130100e+04</td>\n",
       "      <td>51301</td>\n",
       "      <td>51301</td>\n",
       "      <td>51301</td>\n",
       "      <td>51301</td>\n",
       "      <td>51301.000000</td>\n",
       "      <td>51301</td>\n",
       "      <td>51301</td>\n",
       "      <td>...</td>\n",
       "      <td>51299</td>\n",
       "      <td>51301</td>\n",
       "      <td>51301.000000</td>\n",
       "      <td>51301</td>\n",
       "      <td>51301</td>\n",
       "      <td>48542</td>\n",
       "      <td>42460.000000</td>\n",
       "      <td>51301.000000</td>\n",
       "      <td>51301.000000</td>\n",
       "      <td>5.130100e+04</td>\n",
       "    </tr>\n",
       "    <tr>\n",
       "      <th>unique</th>\n",
       "      <td>NaN</td>\n",
       "      <td>NaN</td>\n",
       "      <td>NaN</td>\n",
       "      <td>2</td>\n",
       "      <td>9</td>\n",
       "      <td>16</td>\n",
       "      <td>577</td>\n",
       "      <td>NaN</td>\n",
       "      <td>5</td>\n",
       "      <td>6</td>\n",
       "      <td>...</td>\n",
       "      <td>8</td>\n",
       "      <td>4</td>\n",
       "      <td>NaN</td>\n",
       "      <td>2</td>\n",
       "      <td>2</td>\n",
       "      <td>47</td>\n",
       "      <td>NaN</td>\n",
       "      <td>NaN</td>\n",
       "      <td>NaN</td>\n",
       "      <td>NaN</td>\n",
       "    </tr>\n",
       "    <tr>\n",
       "      <th>top</th>\n",
       "      <td>NaN</td>\n",
       "      <td>NaN</td>\n",
       "      <td>NaN</td>\n",
       "      <td>렌탈</td>\n",
       "      <td>프로모션계약</td>\n",
       "      <td>영업방판</td>\n",
       "      <td>2022-02-03</td>\n",
       "      <td>NaN</td>\n",
       "      <td>CMS</td>\n",
       "      <td>SLX-1</td>\n",
       "      <td>...</td>\n",
       "      <td>경기도</td>\n",
       "      <td>계약확정</td>\n",
       "      <td>NaN</td>\n",
       "      <td>없음</td>\n",
       "      <td>여자</td>\n",
       "      <td>롯데카드</td>\n",
       "      <td>NaN</td>\n",
       "      <td>NaN</td>\n",
       "      <td>NaN</td>\n",
       "      <td>NaN</td>\n",
       "    </tr>\n",
       "    <tr>\n",
       "      <th>freq</th>\n",
       "      <td>NaN</td>\n",
       "      <td>NaN</td>\n",
       "      <td>NaN</td>\n",
       "      <td>46483</td>\n",
       "      <td>15811</td>\n",
       "      <td>23767</td>\n",
       "      <td>1167</td>\n",
       "      <td>NaN</td>\n",
       "      <td>32825</td>\n",
       "      <td>39133</td>\n",
       "      <td>...</td>\n",
       "      <td>18353</td>\n",
       "      <td>50620</td>\n",
       "      <td>NaN</td>\n",
       "      <td>49110</td>\n",
       "      <td>35602</td>\n",
       "      <td>9516</td>\n",
       "      <td>NaN</td>\n",
       "      <td>NaN</td>\n",
       "      <td>NaN</td>\n",
       "      <td>NaN</td>\n",
       "    </tr>\n",
       "    <tr>\n",
       "      <th>mean</th>\n",
       "      <td>25650.000000</td>\n",
       "      <td>25651.703612</td>\n",
       "      <td>6.266432e+07</td>\n",
       "      <td>NaN</td>\n",
       "      <td>NaN</td>\n",
       "      <td>NaN</td>\n",
       "      <td>NaN</td>\n",
       "      <td>55.639149</td>\n",
       "      <td>NaN</td>\n",
       "      <td>NaN</td>\n",
       "      <td>...</td>\n",
       "      <td>NaN</td>\n",
       "      <td>NaN</td>\n",
       "      <td>0.161381</td>\n",
       "      <td>NaN</td>\n",
       "      <td>NaN</td>\n",
       "      <td>NaN</td>\n",
       "      <td>826.838342</td>\n",
       "      <td>684.344477</td>\n",
       "      <td>826.838342</td>\n",
       "      <td>5.315394e+06</td>\n",
       "    </tr>\n",
       "    <tr>\n",
       "      <th>std</th>\n",
       "      <td>14809.467417</td>\n",
       "      <td>14809.828628</td>\n",
       "      <td>1.216146e+07</td>\n",
       "      <td>NaN</td>\n",
       "      <td>NaN</td>\n",
       "      <td>NaN</td>\n",
       "      <td>NaN</td>\n",
       "      <td>12.009915</td>\n",
       "      <td>NaN</td>\n",
       "      <td>NaN</td>\n",
       "      <td>...</td>\n",
       "      <td>NaN</td>\n",
       "      <td>NaN</td>\n",
       "      <td>1.122193</td>\n",
       "      <td>NaN</td>\n",
       "      <td>NaN</td>\n",
       "      <td>NaN</td>\n",
       "      <td>118.301113</td>\n",
       "      <td>330.302938</td>\n",
       "      <td>107.625462</td>\n",
       "      <td>1.455794e+06</td>\n",
       "    </tr>\n",
       "    <tr>\n",
       "      <th>min</th>\n",
       "      <td>0.000000</td>\n",
       "      <td>1.000000</td>\n",
       "      <td>2.568798e+07</td>\n",
       "      <td>NaN</td>\n",
       "      <td>NaN</td>\n",
       "      <td>NaN</td>\n",
       "      <td>NaN</td>\n",
       "      <td>12.000000</td>\n",
       "      <td>NaN</td>\n",
       "      <td>NaN</td>\n",
       "      <td>...</td>\n",
       "      <td>NaN</td>\n",
       "      <td>NaN</td>\n",
       "      <td>0.000000</td>\n",
       "      <td>NaN</td>\n",
       "      <td>NaN</td>\n",
       "      <td>NaN</td>\n",
       "      <td>2.000000</td>\n",
       "      <td>0.000000</td>\n",
       "      <td>2.000000</td>\n",
       "      <td>6.624000e+05</td>\n",
       "    </tr>\n",
       "    <tr>\n",
       "      <th>25%</th>\n",
       "      <td>12825.000000</td>\n",
       "      <td>12826.000000</td>\n",
       "      <td>6.643148e+07</td>\n",
       "      <td>NaN</td>\n",
       "      <td>NaN</td>\n",
       "      <td>NaN</td>\n",
       "      <td>NaN</td>\n",
       "      <td>60.000000</td>\n",
       "      <td>NaN</td>\n",
       "      <td>NaN</td>\n",
       "      <td>...</td>\n",
       "      <td>NaN</td>\n",
       "      <td>NaN</td>\n",
       "      <td>0.000000</td>\n",
       "      <td>NaN</td>\n",
       "      <td>NaN</td>\n",
       "      <td>NaN</td>\n",
       "      <td>772.000000</td>\n",
       "      <td>635.000000</td>\n",
       "      <td>800.000000</td>\n",
       "      <td>4.914000e+06</td>\n",
       "    </tr>\n",
       "    <tr>\n",
       "      <th>50%</th>\n",
       "      <td>25650.000000</td>\n",
       "      <td>25652.000000</td>\n",
       "      <td>6.676578e+07</td>\n",
       "      <td>NaN</td>\n",
       "      <td>NaN</td>\n",
       "      <td>NaN</td>\n",
       "      <td>NaN</td>\n",
       "      <td>60.000000</td>\n",
       "      <td>NaN</td>\n",
       "      <td>NaN</td>\n",
       "      <td>...</td>\n",
       "      <td>NaN</td>\n",
       "      <td>NaN</td>\n",
       "      <td>0.000000</td>\n",
       "      <td>NaN</td>\n",
       "      <td>NaN</td>\n",
       "      <td>NaN</td>\n",
       "      <td>856.000000</td>\n",
       "      <td>828.000000</td>\n",
       "      <td>828.000000</td>\n",
       "      <td>5.814000e+06</td>\n",
       "    </tr>\n",
       "    <tr>\n",
       "      <th>75%</th>\n",
       "      <td>38475.000000</td>\n",
       "      <td>38477.000000</td>\n",
       "      <td>6.678160e+07</td>\n",
       "      <td>NaN</td>\n",
       "      <td>NaN</td>\n",
       "      <td>NaN</td>\n",
       "      <td>NaN</td>\n",
       "      <td>60.000000</td>\n",
       "      <td>NaN</td>\n",
       "      <td>NaN</td>\n",
       "      <td>...</td>\n",
       "      <td>NaN</td>\n",
       "      <td>NaN</td>\n",
       "      <td>0.000000</td>\n",
       "      <td>NaN</td>\n",
       "      <td>NaN</td>\n",
       "      <td>NaN</td>\n",
       "      <td>902.000000</td>\n",
       "      <td>891.000000</td>\n",
       "      <td>891.000000</td>\n",
       "      <td>5.814000e+06</td>\n",
       "    </tr>\n",
       "    <tr>\n",
       "      <th>max</th>\n",
       "      <td>51300.000000</td>\n",
       "      <td>51302.000000</td>\n",
       "      <td>6.696986e+07</td>\n",
       "      <td>NaN</td>\n",
       "      <td>NaN</td>\n",
       "      <td>NaN</td>\n",
       "      <td>NaN</td>\n",
       "      <td>60.000000</td>\n",
       "      <td>NaN</td>\n",
       "      <td>NaN</td>\n",
       "      <td>...</td>\n",
       "      <td>NaN</td>\n",
       "      <td>NaN</td>\n",
       "      <td>15.000000</td>\n",
       "      <td>NaN</td>\n",
       "      <td>NaN</td>\n",
       "      <td>NaN</td>\n",
       "      <td>1000.000000</td>\n",
       "      <td>1000.000000</td>\n",
       "      <td>1000.000000</td>\n",
       "      <td>1.006200e+07</td>\n",
       "    </tr>\n",
       "  </tbody>\n",
       "</table>\n",
       "<p>11 rows × 23 columns</p>\n",
       "</div>"
      ],
      "text/plain": [
       "          Unnamed: 0         Index     Member_ID Sales_Type Contract_Type  \\\n",
       "count   51301.000000  51301.000000  5.130100e+04      51301         51301   \n",
       "unique           NaN           NaN           NaN          2             9   \n",
       "top              NaN           NaN           NaN         렌탈        프로모션계약   \n",
       "freq             NaN           NaN           NaN      46483         15811   \n",
       "mean    25650.000000  25651.703612  6.266432e+07        NaN           NaN   \n",
       "std     14809.467417  14809.828628  1.216146e+07        NaN           NaN   \n",
       "min         0.000000      1.000000  2.568798e+07        NaN           NaN   \n",
       "25%     12825.000000  12826.000000  6.643148e+07        NaN           NaN   \n",
       "50%     25650.000000  25652.000000  6.676578e+07        NaN           NaN   \n",
       "75%     38475.000000  38477.000000  6.678160e+07        NaN           NaN   \n",
       "max     51300.000000  51302.000000  6.696986e+07        NaN           NaN   \n",
       "\n",
       "       Channel    Datetime          Term Payment_Type Product_Type  ...  \\\n",
       "count    51301       51301  51301.000000        51301        51301  ...   \n",
       "unique      16         577           NaN            5            6  ...   \n",
       "top       영업방판  2022-02-03           NaN          CMS        SLX-1  ...   \n",
       "freq     23767        1167           NaN        32825        39133  ...   \n",
       "mean       NaN         NaN     55.639149          NaN          NaN  ...   \n",
       "std        NaN         NaN     12.009915          NaN          NaN  ...   \n",
       "min        NaN         NaN     12.000000          NaN          NaN  ...   \n",
       "25%        NaN         NaN     60.000000          NaN          NaN  ...   \n",
       "50%        NaN         NaN     60.000000          NaN          NaN  ...   \n",
       "75%        NaN         NaN     60.000000          NaN          NaN  ...   \n",
       "max        NaN         NaN     60.000000          NaN          NaN  ...   \n",
       "\n",
       "        Address1  State  Overdue_count Overdue_Type Gender   Bank  \\\n",
       "count      51299  51301   51301.000000        51301  51301  48542   \n",
       "unique         8      4            NaN            2      2     47   \n",
       "top          경기도   계약확정            NaN           없음     여자   롯데카드   \n",
       "freq       18353  50620            NaN        49110  35602   9516   \n",
       "mean         NaN    NaN       0.161381          NaN    NaN    NaN   \n",
       "std          NaN    NaN       1.122193          NaN    NaN    NaN   \n",
       "min          NaN    NaN       0.000000          NaN    NaN    NaN   \n",
       "25%          NaN    NaN       0.000000          NaN    NaN    NaN   \n",
       "50%          NaN    NaN       0.000000          NaN    NaN    NaN   \n",
       "75%          NaN    NaN       0.000000          NaN    NaN    NaN   \n",
       "max          NaN    NaN      15.000000          NaN    NaN    NaN   \n",
       "\n",
       "        Credit_Score Credit_Score_clean Credit_Score_clean2          총계약금  \n",
       "count   42460.000000       51301.000000        51301.000000  5.130100e+04  \n",
       "unique           NaN                NaN                 NaN           NaN  \n",
       "top              NaN                NaN                 NaN           NaN  \n",
       "freq             NaN                NaN                 NaN           NaN  \n",
       "mean      826.838342         684.344477          826.838342  5.315394e+06  \n",
       "std       118.301113         330.302938          107.625462  1.455794e+06  \n",
       "min         2.000000           0.000000            2.000000  6.624000e+05  \n",
       "25%       772.000000         635.000000          800.000000  4.914000e+06  \n",
       "50%       856.000000         828.000000          828.000000  5.814000e+06  \n",
       "75%       902.000000         891.000000          891.000000  5.814000e+06  \n",
       "max      1000.000000        1000.000000         1000.000000  1.006200e+07  \n",
       "\n",
       "[11 rows x 23 columns]"
      ]
     },
     "execution_count": 59,
     "metadata": {},
     "output_type": "execute_result"
    }
   ],
   "source": [
    "df1.describe(include = 'all') # 모든 데이터 타입에 대한 기술통계량 확인"
   ]
  },
  {
   "cell_type": "markdown",
   "id": "ad5eac00-7598-406c-99a9-c40db142d5fb",
   "metadata": {},
   "source": [
    "**데이터 재구조화**\n",
    "\n",
    "- E 커머스 데이터, 특정 생필품을 납품하는 업체가 온라인 쇼핌몰 플랫폼에 물픔을 얼만큼 납푼했는지에 대한 자료\n",
    "- ERP(전사적 자원 관리, Enterprise Resource Planning)에서 발생한 데이터들이 갖는 유형 처리\n",
    "- DB 매니저들이 사원들의 업무처리가 쉽도록, 엑셀에서 쉽게 사용할 수 있는 형태로 바꿔놓은 경우"
   ]
  },
  {
   "cell_type": "code",
   "execution_count": 61,
   "id": "0c2b54d3-4fd0-4faa-a37b-3865544c89e5",
   "metadata": {},
   "outputs": [
    {
     "data": {
      "text/plain": [
       "(40, 17)"
      ]
     },
     "execution_count": 61,
     "metadata": {},
     "output_type": "execute_result"
    }
   ],
   "source": [
    "# 데이터 재구조화\n",
    "df2 = pd.read_excel('data/02_Data.xlsx', skiprows = 1) # skiprows : 데이터를 불러오는 단계에서 특정 index를 생략\n",
    "df2.shape"
   ]
  },
  {
   "cell_type": "markdown",
   "id": "4e36f474-b557-47ac-a067-3c10cb6f4aaa",
   "metadata": {},
   "source": [
    "|제품명|홍길동|성춘향|이몽룡|허준|\n",
    "|------|---|---|---|---|\n",
    "|A|1000|500|200|400|\n",
    "|B|1500|90|100|700|\n",
    "|C|...||||\n",
    "|D||||\n",
    "|...||||\n",
    "\n",
    "\n",
    "이거를 \n",
    "\n",
    "|제품명|사원명|매출액|\n",
    "|------|---|---|\n",
    "|A|홍길동|1000|\n",
    "|A|성춘향|500|\n",
    "|A|이몽룡|200|\n",
    "|A|허준|400|\n",
    "|B|||\n",
    "|B|||\n",
    "|B|||\n",
    "|...|...|...|"
   ]
  },
  {
   "cell_type": "code",
   "execution_count": 64,
   "id": "b1f80506-1344-449d-8f6a-a6aa065b8c69",
   "metadata": {},
   "outputs": [
    {
     "data": {
      "text/plain": [
       "Index([            '카테고리명',             '자재그룹명',               '제품명',\n",
       "       2019-12-01 00:00:00, 2019-12-02 00:00:00, 2019-12-03 00:00:00,\n",
       "       2019-12-04 00:00:00, 2019-12-05 00:00:00, 2019-12-06 00:00:00,\n",
       "       2020-12-01 00:00:00, 2020-12-02 00:00:00, 2020-12-03 00:00:00,\n",
       "       2020-12-04 00:00:00, 2020-12-05 00:00:00, 2020-12-06 00:00:00,\n",
       "                    '안전재고',                '분류'],\n",
       "      dtype='object')"
      ]
     },
     "execution_count": 64,
     "metadata": {},
     "output_type": "execute_result"
    }
   ],
   "source": [
    "df2.columns # -> 날짜를 하나의 column으로 해야함"
   ]
  },
  {
   "cell_type": "code",
   "execution_count": 65,
   "id": "c704f3e8-e4f2-43d4-aaf0-792a6010b679",
   "metadata": {},
   "outputs": [
    {
     "data": {
      "text/plain": [
       "(480, 7)"
      ]
     },
     "execution_count": 65,
     "metadata": {},
     "output_type": "execute_result"
    }
   ],
   "source": [
    "df3 = df2.melt(id_vars = ['카테고리명', '자재그룹명', '제품명', '안전재고', '분류'])\n",
    "df3.shape"
   ]
  },
  {
   "cell_type": "code",
   "execution_count": 66,
   "id": "cbbbb3f7-b75b-4d03-84ac-d291efe2e16b",
   "metadata": {},
   "outputs": [
    {
     "data": {
      "text/html": [
       "<div>\n",
       "<style scoped>\n",
       "    .dataframe tbody tr th:only-of-type {\n",
       "        vertical-align: middle;\n",
       "    }\n",
       "\n",
       "    .dataframe tbody tr th {\n",
       "        vertical-align: top;\n",
       "    }\n",
       "\n",
       "    .dataframe thead th {\n",
       "        text-align: right;\n",
       "    }\n",
       "</style>\n",
       "<table border=\"1\" class=\"dataframe\">\n",
       "  <thead>\n",
       "    <tr style=\"text-align: right;\">\n",
       "      <th></th>\n",
       "      <th>카테고리명</th>\n",
       "      <th>자재그룹명</th>\n",
       "      <th>제품명</th>\n",
       "      <th>안전재고</th>\n",
       "      <th>분류</th>\n",
       "      <th>날짜</th>\n",
       "      <th>매출액</th>\n",
       "    </tr>\n",
       "  </thead>\n",
       "  <tbody>\n",
       "    <tr>\n",
       "      <th>0</th>\n",
       "      <td>CHB</td>\n",
       "      <td>E1</td>\n",
       "      <td>A</td>\n",
       "      <td>0.0</td>\n",
       "      <td>E</td>\n",
       "      <td>2019-12-01 00:00:00</td>\n",
       "      <td>0.0</td>\n",
       "    </tr>\n",
       "    <tr>\n",
       "      <th>1</th>\n",
       "      <td>CHB</td>\n",
       "      <td>E1</td>\n",
       "      <td>B</td>\n",
       "      <td>0.0</td>\n",
       "      <td>E</td>\n",
       "      <td>2019-12-01 00:00:00</td>\n",
       "      <td>0.0</td>\n",
       "    </tr>\n",
       "  </tbody>\n",
       "</table>\n",
       "</div>"
      ],
      "text/plain": [
       "  카테고리명 자재그룹명 제품명  안전재고 분류                   날짜  매출액\n",
       "0   CHB    E1   A   0.0  E  2019-12-01 00:00:00  0.0\n",
       "1   CHB    E1   B   0.0  E  2019-12-01 00:00:00  0.0"
      ]
     },
     "execution_count": 66,
     "metadata": {},
     "output_type": "execute_result"
    }
   ],
   "source": [
    "# 항목 이름 변경\n",
    "df4 = df3.rename(columns = {'variable':'날짜', 'value':'매출액'})\n",
    "df4.head(2)"
   ]
  },
  {
   "cell_type": "code",
   "execution_count": 68,
   "id": "99650cf3-4118-45c6-9565-f5fb49e1ecbd",
   "metadata": {},
   "outputs": [
    {
     "data": {
      "text/plain": [
       "array([2019, 2020], dtype=int32)"
      ]
     },
     "execution_count": 68,
     "metadata": {},
     "output_type": "execute_result"
    }
   ],
   "source": [
    "# 2019년 12월 1일~6일과 2020년도 12월 1일~6일\n",
    "# 2019년 대비 2020년 매출액 비교, 제품명 별 매출 비교\n",
    "df4['날짜_dt'] = pd.to_datetime(df4['날짜'])\n",
    "df4['연도'] = df4['날짜_dt'].dt.year\n",
    "df4['연도'].unique()"
   ]
  },
  {
   "cell_type": "code",
   "execution_count": 69,
   "id": "4420514c-e0f2-463d-9299-a5d32d31918a",
   "metadata": {},
   "outputs": [
    {
     "data": {
      "text/html": [
       "<div>\n",
       "<style scoped>\n",
       "    .dataframe tbody tr th:only-of-type {\n",
       "        vertical-align: middle;\n",
       "    }\n",
       "\n",
       "    .dataframe tbody tr th {\n",
       "        vertical-align: top;\n",
       "    }\n",
       "\n",
       "    .dataframe thead th {\n",
       "        text-align: right;\n",
       "    }\n",
       "</style>\n",
       "<table border=\"1\" class=\"dataframe\">\n",
       "  <thead>\n",
       "    <tr style=\"text-align: right;\">\n",
       "      <th></th>\n",
       "      <th>매출액</th>\n",
       "    </tr>\n",
       "    <tr>\n",
       "      <th>연도</th>\n",
       "      <th></th>\n",
       "    </tr>\n",
       "  </thead>\n",
       "  <tbody>\n",
       "    <tr>\n",
       "      <th>2019</th>\n",
       "      <td>2115606.2</td>\n",
       "    </tr>\n",
       "    <tr>\n",
       "      <th>2020</th>\n",
       "      <td>684328.7</td>\n",
       "    </tr>\n",
       "  </tbody>\n",
       "</table>\n",
       "</div>"
      ],
      "text/plain": [
       "            매출액\n",
       "연도             \n",
       "2019  2115606.2\n",
       "2020   684328.7"
      ]
     },
     "execution_count": 69,
     "metadata": {},
     "output_type": "execute_result"
    }
   ],
   "source": [
    "df4.pivot_table(index = '연도', values = '매출액', aggfunc = 'sum')"
   ]
  },
  {
   "cell_type": "code",
   "execution_count": 70,
   "id": "267b4d7d-50c1-4135-ae51-a97bea17653b",
   "metadata": {
    "scrolled": true
   },
   "outputs": [
    {
     "data": {
      "text/html": [
       "<div>\n",
       "<style scoped>\n",
       "    .dataframe tbody tr th:only-of-type {\n",
       "        vertical-align: middle;\n",
       "    }\n",
       "\n",
       "    .dataframe tbody tr th {\n",
       "        vertical-align: top;\n",
       "    }\n",
       "\n",
       "    .dataframe thead th {\n",
       "        text-align: right;\n",
       "    }\n",
       "</style>\n",
       "<table border=\"1\" class=\"dataframe\">\n",
       "  <thead>\n",
       "    <tr style=\"text-align: right;\">\n",
       "      <th>연도</th>\n",
       "      <th>2019</th>\n",
       "      <th>2020</th>\n",
       "    </tr>\n",
       "    <tr>\n",
       "      <th>제품명</th>\n",
       "      <th></th>\n",
       "      <th></th>\n",
       "    </tr>\n",
       "  </thead>\n",
       "  <tbody>\n",
       "    <tr>\n",
       "      <th>A</th>\n",
       "      <td>98.8</td>\n",
       "      <td>98.8</td>\n",
       "    </tr>\n",
       "    <tr>\n",
       "      <th>A1</th>\n",
       "      <td>4.4</td>\n",
       "      <td>4.4</td>\n",
       "    </tr>\n",
       "    <tr>\n",
       "      <th>A2</th>\n",
       "      <td>176235.6</td>\n",
       "      <td>62059.8</td>\n",
       "    </tr>\n",
       "    <tr>\n",
       "      <th>A3</th>\n",
       "      <td>10302.0</td>\n",
       "      <td>46.7</td>\n",
       "    </tr>\n",
       "    <tr>\n",
       "      <th>B</th>\n",
       "      <td>393.7</td>\n",
       "      <td>393.7</td>\n",
       "    </tr>\n",
       "    <tr>\n",
       "      <th>B2</th>\n",
       "      <td>15122.5</td>\n",
       "      <td>11726.7</td>\n",
       "    </tr>\n",
       "    <tr>\n",
       "      <th>B3</th>\n",
       "      <td>60456.1</td>\n",
       "      <td>16949.8</td>\n",
       "    </tr>\n",
       "    <tr>\n",
       "      <th>C</th>\n",
       "      <td>48772.3</td>\n",
       "      <td>10353.0</td>\n",
       "    </tr>\n",
       "    <tr>\n",
       "      <th>D</th>\n",
       "      <td>34337.0</td>\n",
       "      <td>6718.1</td>\n",
       "    </tr>\n",
       "    <tr>\n",
       "      <th>E</th>\n",
       "      <td>429080.5</td>\n",
       "      <td>160479.6</td>\n",
       "    </tr>\n",
       "    <tr>\n",
       "      <th>F</th>\n",
       "      <td>33722.7</td>\n",
       "      <td>12369.3</td>\n",
       "    </tr>\n",
       "    <tr>\n",
       "      <th>FF1</th>\n",
       "      <td>21372.6</td>\n",
       "      <td>172.9</td>\n",
       "    </tr>\n",
       "    <tr>\n",
       "      <th>FF2</th>\n",
       "      <td>89.4</td>\n",
       "      <td>0.0</td>\n",
       "    </tr>\n",
       "    <tr>\n",
       "      <th>FF3</th>\n",
       "      <td>230410.2</td>\n",
       "      <td>49466.6</td>\n",
       "    </tr>\n",
       "    <tr>\n",
       "      <th>G</th>\n",
       "      <td>123875.6</td>\n",
       "      <td>35873.3</td>\n",
       "    </tr>\n",
       "    <tr>\n",
       "      <th>H</th>\n",
       "      <td>210431.8</td>\n",
       "      <td>87325.8</td>\n",
       "    </tr>\n",
       "    <tr>\n",
       "      <th>I</th>\n",
       "      <td>85870.2</td>\n",
       "      <td>24643.6</td>\n",
       "    </tr>\n",
       "    <tr>\n",
       "      <th>J</th>\n",
       "      <td>147307.2</td>\n",
       "      <td>46935.3</td>\n",
       "    </tr>\n",
       "    <tr>\n",
       "      <th>K</th>\n",
       "      <td>160065.9</td>\n",
       "      <td>27384.5</td>\n",
       "    </tr>\n",
       "    <tr>\n",
       "      <th>KC</th>\n",
       "      <td>406.4</td>\n",
       "      <td>0.0</td>\n",
       "    </tr>\n",
       "    <tr>\n",
       "      <th>KC2</th>\n",
       "      <td>73203.1</td>\n",
       "      <td>34429.7</td>\n",
       "    </tr>\n",
       "    <tr>\n",
       "      <th>KC3</th>\n",
       "      <td>42487.0</td>\n",
       "      <td>13476.8</td>\n",
       "    </tr>\n",
       "    <tr>\n",
       "      <th>L</th>\n",
       "      <td>66721.1</td>\n",
       "      <td>20576.1</td>\n",
       "    </tr>\n",
       "    <tr>\n",
       "      <th>M</th>\n",
       "      <td>32237.0</td>\n",
       "      <td>31662.4</td>\n",
       "    </tr>\n",
       "    <tr>\n",
       "      <th>N</th>\n",
       "      <td>46.9</td>\n",
       "      <td>46.9</td>\n",
       "    </tr>\n",
       "    <tr>\n",
       "      <th>O</th>\n",
       "      <td>1694.1</td>\n",
       "      <td>1694.1</td>\n",
       "    </tr>\n",
       "    <tr>\n",
       "      <th>P</th>\n",
       "      <td>38.3</td>\n",
       "      <td>32.3</td>\n",
       "    </tr>\n",
       "    <tr>\n",
       "      <th>Q</th>\n",
       "      <td>222.7</td>\n",
       "      <td>222.7</td>\n",
       "    </tr>\n",
       "    <tr>\n",
       "      <th>R</th>\n",
       "      <td>258.2</td>\n",
       "      <td>258.2</td>\n",
       "    </tr>\n",
       "    <tr>\n",
       "      <th>S</th>\n",
       "      <td>172.7</td>\n",
       "      <td>172.7</td>\n",
       "    </tr>\n",
       "    <tr>\n",
       "      <th>T</th>\n",
       "      <td>31.8</td>\n",
       "      <td>31.8</td>\n",
       "    </tr>\n",
       "    <tr>\n",
       "      <th>U</th>\n",
       "      <td>19.0</td>\n",
       "      <td>19.0</td>\n",
       "    </tr>\n",
       "    <tr>\n",
       "      <th>V</th>\n",
       "      <td>743.9</td>\n",
       "      <td>27.7</td>\n",
       "    </tr>\n",
       "    <tr>\n",
       "      <th>W</th>\n",
       "      <td>398.3</td>\n",
       "      <td>44.3</td>\n",
       "    </tr>\n",
       "    <tr>\n",
       "      <th>X</th>\n",
       "      <td>99.9</td>\n",
       "      <td>99.9</td>\n",
       "    </tr>\n",
       "    <tr>\n",
       "      <th>Y</th>\n",
       "      <td>554.1</td>\n",
       "      <td>213.9</td>\n",
       "    </tr>\n",
       "    <tr>\n",
       "      <th>Z</th>\n",
       "      <td>82.7</td>\n",
       "      <td>82.7</td>\n",
       "    </tr>\n",
       "    <tr>\n",
       "      <th>Z1</th>\n",
       "      <td>38414.4</td>\n",
       "      <td>14486.0</td>\n",
       "    </tr>\n",
       "    <tr>\n",
       "      <th>Z2</th>\n",
       "      <td>39006.7</td>\n",
       "      <td>6971.2</td>\n",
       "    </tr>\n",
       "    <tr>\n",
       "      <th>Z3</th>\n",
       "      <td>30819.4</td>\n",
       "      <td>6778.4</td>\n",
       "    </tr>\n",
       "  </tbody>\n",
       "</table>\n",
       "</div>"
      ],
      "text/plain": [
       "연도       2019      2020\n",
       "제품명                    \n",
       "A        98.8      98.8\n",
       "A1        4.4       4.4\n",
       "A2   176235.6   62059.8\n",
       "A3    10302.0      46.7\n",
       "B       393.7     393.7\n",
       "B2    15122.5   11726.7\n",
       "B3    60456.1   16949.8\n",
       "C     48772.3   10353.0\n",
       "D     34337.0    6718.1\n",
       "E    429080.5  160479.6\n",
       "F     33722.7   12369.3\n",
       "FF1   21372.6     172.9\n",
       "FF2      89.4       0.0\n",
       "FF3  230410.2   49466.6\n",
       "G    123875.6   35873.3\n",
       "H    210431.8   87325.8\n",
       "I     85870.2   24643.6\n",
       "J    147307.2   46935.3\n",
       "K    160065.9   27384.5\n",
       "KC      406.4       0.0\n",
       "KC2   73203.1   34429.7\n",
       "KC3   42487.0   13476.8\n",
       "L     66721.1   20576.1\n",
       "M     32237.0   31662.4\n",
       "N        46.9      46.9\n",
       "O      1694.1    1694.1\n",
       "P        38.3      32.3\n",
       "Q       222.7     222.7\n",
       "R       258.2     258.2\n",
       "S       172.7     172.7\n",
       "T        31.8      31.8\n",
       "U        19.0      19.0\n",
       "V       743.9      27.7\n",
       "W       398.3      44.3\n",
       "X        99.9      99.9\n",
       "Y       554.1     213.9\n",
       "Z        82.7      82.7\n",
       "Z1    38414.4   14486.0\n",
       "Z2    39006.7    6971.2\n",
       "Z3    30819.4    6778.4"
      ]
     },
     "execution_count": 70,
     "metadata": {},
     "output_type": "execute_result"
    }
   ],
   "source": [
    "df4.pivot_table(index = '제품명', columns = '연도', values = '매출액', aggfunc = 'sum')"
   ]
  },
  {
   "cell_type": "markdown",
   "id": "0f7531c1-f27c-49cd-b5bb-de2e76e3e168",
   "metadata": {},
   "source": [
    "**데이터 병합**\n",
    "\n",
    "- 경기 소재지 친환경 식료품을 납품하는 소매점 데이터\n",
    "- 회원제로 운영되는 매장 데이터\n",
    "- 고객의 기본 개인정보와 고객이 구매할 때 바코드에 찍힌 물품 정보(판매 정보)가 있는 데이터"
   ]
  },
  {
   "cell_type": "code",
   "execution_count": 73,
   "id": "3278a2ac-f7c3-4538-98a5-7c2f1dc8d317",
   "metadata": {},
   "outputs": [
    {
     "name": "stdout",
     "output_type": "stream",
     "text": [
      "(4396, 6)\n",
      "   회원번호  회원상태 성별 결혼유무               주소  연령\n",
      "0  2101  정상회원  여   기혼  서울 강북구 미아동 134-  51\n",
      "1  2102  정상회원  여  NaN   경기 용인시 수지구 동천동  71\n"
     ]
    }
   ],
   "source": [
    "df_member = pd.read_csv('data/03_store_member.csv')\n",
    "print(df_member.shape)\n",
    "print(df_member.head(2))"
   ]
  },
  {
   "cell_type": "code",
   "execution_count": 74,
   "id": "6f26bbfa-4bb0-4944-9917-b709066451f0",
   "metadata": {},
   "outputs": [
    {
     "name": "stdout",
     "output_type": "stream",
     "text": [
      "(735783, 11)\n",
      "       공급일자      물품코드 물품대분류   물품중분류     물품소분류           물품명  구매수량  구매금액 구매매장  \\\n",
      "0  20220201  50142001    채소  잎/줄기채소       시금치     시금치(300g)   1.0  2000  매장3   \n",
      "1  20220201  60302012   축산물     육가공  돈가스/분쇄가공  튀김옷돈가스(400g)   1.0  6300  매장3   \n",
      "\n",
      "   반품_원거래일자    회원번호  \n",
      "0       NaN  2101.0  \n",
      "1       NaN  2101.0  \n"
     ]
    }
   ],
   "source": [
    "df_product = pd.read_csv('data/03_store_product.csv')\n",
    "print(df_product.shape)\n",
    "print(df_product.head(2))"
   ]
  },
  {
   "cell_type": "code",
   "execution_count": 75,
   "id": "b9cff209-ae5a-4d20-8239-23937eb4f275",
   "metadata": {},
   "outputs": [
    {
     "data": {
      "text/plain": [
       "공급일자             0\n",
       "물품코드             0\n",
       "물품대분류            0\n",
       "물품중분류            0\n",
       "물품소분류            0\n",
       "물품명              0\n",
       "구매수량             0\n",
       "구매금액             0\n",
       "구매매장             0\n",
       "반품_원거래일자    725446\n",
       "회원번호            22\n",
       "dtype: int64"
      ]
     },
     "execution_count": 75,
     "metadata": {},
     "output_type": "execute_result"
    }
   ],
   "source": [
    "df_product.isnull().sum()"
   ]
  },
  {
   "cell_type": "code",
   "execution_count": 79,
   "id": "61195375-aa6a-4e17-93df-3a39f2d2d1d6",
   "metadata": {},
   "outputs": [
    {
     "name": "stdin",
     "output_type": "stream",
     "text": [
      " APPLE\n",
      " BANANA\n",
      " BANE\n",
      " -\n",
      " A\n",
      " #\n"
     ]
    },
    {
     "name": "stdout",
     "output_type": "stream",
     "text": [
      "[defaultdict(<class 'int'>, {'A': 1, 'P': 2, 'L': 1, 'E': 1}), defaultdict(<class 'int'>, {'B': 1, 'A': 3, 'N': 2}), defaultdict(<class 'int'>, {'B': 1, 'A': 1, 'N': 1, 'E': 1})]\n"
     ]
    }
   ],
   "source": [
    "from collections import defaultdict\n",
    "\n",
    "dic_list = []\n",
    "while True:\n",
    "    word = input()\n",
    "    if word == \"-\":\n",
    "        break\n",
    "    else:\n",
    "        dic = defaultdict(int)\n",
    "        for w in word:\n",
    "            dic[w] += 1\n",
    "        dic_list.append(dic)\n",
    "\n",
    "puzzle = []\n",
    "while True:\n",
    "    word = input()\n",
    "    if word == \"#\":\n",
    "        break\n",
    "    else:\n",
    "        dic = defaultdict(int)\n",
    "        for w in word:\n",
    "            dic[w] += 1\n",
    "        puzzle.append(dic)\n",
    "\n",
    "\n",
    "\n"
   ]
  },
  {
   "cell_type": "code",
   "execution_count": 77,
   "id": "0cbcf421-c23d-4023-a661-7ccac5997f35",
   "metadata": {},
   "outputs": [
    {
     "data": {
      "text/plain": [
       "(4285, 3)"
      ]
     },
     "execution_count": 77,
     "metadata": {},
     "output_type": "execute_result"
    }
   ],
   "source": [
    "# 어떤 고객이 얼마나 매장에 많이 방문하고, 많은 금액을 사용하는지?\n",
    "# reset_index(): index값을 0번부터 다시 부여\n",
    "p1 = df_product.pivot_table(index = '회원번호', values = ['구매금액', '구매수량'], aggfunc = 'sum').reset_index()\n",
    "p1.shape"
   ]
  },
  {
   "cell_type": "code",
   "execution_count": 83,
   "id": "cbd1a667-246c-4d40-9873-5dfb652cb778",
   "metadata": {},
   "outputs": [
    {
     "name": "stdout",
     "output_type": "stream",
     "text": [
      "(4285, 8)\n",
      "   회원번호  회원상태 성별 결혼유무               주소  연령     구매금액   구매수량\n",
      "0  2101  정상회원  여   기혼  서울 강북구 미아동 134-  51  1991230  382.0\n",
      "1  2102  정상회원  여  NaN   경기 용인시 수지구 동천동  71  2095860  472.5\n"
     ]
    }
   ],
   "source": [
    "# key colun (회원번호)에 공통된 값만 가져와 병합\n",
    "m1 = pd.merge(df_member, p1, on = '회원번호', how = 'inner')\n",
    "# how에는 inner, outer, left, right\n",
    "# on : key column\n",
    "print(m1.shape)\n",
    "print(m1.head(2))"
   ]
  },
  {
   "cell_type": "code",
   "execution_count": 88,
   "id": "6331bb67-175d-4f61-8936-fc8c24d484ff",
   "metadata": {},
   "outputs": [
    {
     "name": "stdout",
     "output_type": "stream",
     "text": [
      "(4285, 2)\n",
      "     회원번호  Label\n",
      "0  2101.0     86\n",
      "1  2102.0     79\n"
     ]
    }
   ],
   "source": [
    "# 한명의 고객 별로 언제 방문했는가를 1값으로 식별하기 위해, 회원-날짜-1 계산\n",
    "df_product['Label'] = 1\n",
    "p2 = df_product.pivot_table(index = ['회원번호', '공급일자'], values = 'Label', aggfunc = 'min').reset_index()\n",
    "p3 = p2.pivot_table(index = '회원번호', values = 'Label', aggfunc = 'sum').reset_index()\n",
    "print(p3.shape)\n",
    "print(p3.head(2))"
   ]
  },
  {
   "cell_type": "code",
   "execution_count": 92,
   "id": "9479972a-586b-44eb-9350-24169c0481a0",
   "metadata": {},
   "outputs": [
    {
     "name": "stdout",
     "output_type": "stream",
     "text": [
      "(480, 9)\n",
      "  카테고리명 자재그룹명 제품명     안전재고 분류                   날짜      매출액      날짜_dt    연도\n",
      "0   CHB    E1   A      0.0  E  2019-12-01 00:00:00      0.0 2019-12-01  2019\n",
      "1   CHB    E1   B      0.0  E  2019-12-01 00:00:00      0.0 2019-12-01  2019\n",
      "2   CHB    E1   C      0.0  A  2019-12-01 00:00:00   9474.3 2019-12-01  2019\n",
      "3   CHB    E1   D      0.0  A  2019-12-01 00:00:00   7702.6 2019-12-01  2019\n",
      "4   CHB    E1   E  39593.3  A  2019-12-01 00:00:00  56309.6 2019-12-01  2019\n"
     ]
    }
   ],
   "source": [
    "pd.merge(m1, p3, on = '회원번호', how = 'inner')\n",
    "df5 = df4.rename(columns = {'구매금액':'총구매금액', '구매수량': '총구매수량', \"label\":'총방문횟수'})\n",
    "print(df5.shape)\n",
    "print(df5.head())"
   ]
  },
  {
   "cell_type": "code",
   "execution_count": null,
   "id": "452313e1-3666-4d70-a7c1-913fcfdfeb01",
   "metadata": {},
   "outputs": [],
   "source": []
  }
 ],
 "metadata": {
  "kernelspec": {
   "display_name": "Python 3 (ipykernel)",
   "language": "python",
   "name": "python3"
  },
  "language_info": {
   "codemirror_mode": {
    "name": "ipython",
    "version": 3
   },
   "file_extension": ".py",
   "mimetype": "text/x-python",
   "name": "python",
   "nbconvert_exporter": "python",
   "pygments_lexer": "ipython3",
   "version": "3.11.11"
  }
 },
 "nbformat": 4,
 "nbformat_minor": 5
}
