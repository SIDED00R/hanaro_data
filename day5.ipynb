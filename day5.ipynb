{
 "cells": [
  {
   "cell_type": "markdown",
   "id": "085708b2-d85a-4d35-b11c-a941733a213e",
   "metadata": {},
   "source": [
    "5 6 2 2 1 1 3 2"
   ]
  },
  {
   "cell_type": "code",
   "execution_count": 29,
   "id": "f52e76ad-3eb8-475f-a9b1-bf78310d8276",
   "metadata": {},
   "outputs": [
    {
     "name": "stdin",
     "output_type": "stream",
     "text": [
      " 4 8 3 0 1 1 3 2\n"
     ]
    },
    {
     "name": "stdout",
     "output_type": "stream",
     "text": [
      "30\n"
     ]
    }
   ],
   "source": [
    "w, h, f, c, x1, y1, x2, y2 = map(int, input().split())\n",
    "\n",
    "after_x = max(w - f, f)\n",
    "after_y = h // (c + 1)\n",
    "mul = c + 1\n",
    "\n",
    "total = 0\n",
    "total += mul * max(0, x2 - max(x1, min(f, w - f))) * (y2 - y1)\n",
    "total += 2 * mul * (y2 - y1) * max(0, min(x2, min(f, w - f)) - x1)\n",
    "print(w * h - total)"
   ]
  },
  {
   "cell_type": "code",
   "execution_count": 22,
   "id": "9340144c-10a9-4eb0-830d-1b510573c72b",
   "metadata": {},
   "outputs": [
    {
     "data": {
      "text/plain": [
       "6"
      ]
     },
     "execution_count": 22,
     "metadata": {},
     "output_type": "execute_result"
    }
   ],
   "source": [
    "2 * mul * (y2 - y1) * max(0, min(x2, min(f, w - f)) - x1)"
   ]
  },
  {
   "cell_type": "code",
   "execution_count": 4,
   "id": "94f49bc0-a620-4ff1-ac3e-cb32a099866a",
   "metadata": {},
   "outputs": [
    {
     "data": {
      "text/plain": [
       "0"
      ]
     },
     "execution_count": 4,
     "metadata": {},
     "output_type": "execute_result"
    }
   ],
   "source": [
    "mul * (y2 - y1) * max(0, max(after_x - f, 2 * f - w) - x1)"
   ]
  },
  {
   "cell_type": "code",
   "execution_count": 2,
   "id": "7044e1cd-63cf-4f86-acd2-45118b08958f",
   "metadata": {},
   "outputs": [
    {
     "name": "stdout",
     "output_type": "stream",
     "text": [
      "3 2\n"
     ]
    }
   ],
   "source": [
    "print(after_x, after_y)"
   ]
  },
  {
   "cell_type": "markdown",
   "id": "6cb8af6a-f1de-4036-b6df-03be27414773",
   "metadata": {},
   "source": [
    "## 8-2. 데이터 전처리\n",
    "\n",
    "- 데이터 추출\n",
    "    - df1.head() : 상위 n개 데이터 추출\n",
    "    - df1.tail() : 하위 n개 데이터 추출\n",
    "    - df1.iloc[n:m] : n번째 행 부터 m번째 행 까지 추출\n",
    "    - df1['col'] : 특정 col을 추출 (Series 형태로 추출)\n",
    "    - df1[['col1', 'col2']] : 한 개 이상의 col을 데이터 프레임형태로 추출\n",
    "\n",
    "- 데이터 정렬\n",
    "    - df1.sort_values(by = col, ascending = True) : 특정 col열을 오름차순/ 내림차순으로 정렬\n",
    "\n",
    "- 데이터 필터 (층별화 - 특정 범주항목 별, 데이터를 나누어 분석)\n",
    "    - df1.loc[cond1] : cond1 (특정 조건을 만족하는, 비교구문에 있어 True 출력되는 행) 에 대해 데이터를 출력\n",
    "    - df1.loc[cond1, new_col] = 'new_data' : cond1에 대해 new_data를 new_col으로 선언 (특정 조건에 대해 새로운 데이터를 파생변수로 선언)\n",
    "\n",
    "- 데이터 요약\n",
    "    - df1. pivot_table(index = 구분하고자 하는 항목, values = 계산하고자 하는 항목, aggfunc = 통계량)\n",
    "    - 특정 항목을 기준으로 특정 값을 원하는 통계량에 대해 계산\n",
    "    - columns = : 구분하고자 하는 항목을 column으로 생성\n",
    "    - margins = 특정 통계량을 행/열 단위로 계산\n",
    "    - fill_values : 요약을 수행할 때 발생한 결측값을 특정 값으로 대치\n",
    "\n",
    "- 파생면수 생성\n",
    "    - df1.apply(function) : 특정 column의 각 row를 사용자가 만든(정의한) function에 넣어 계산\n",
    " \n",
    "- 날짜 데이터 처리\n",
    "    - pd.to_datetime(df1[col]) : 특정 날짜 형식(col)의 자료를 날짜형태 타입으로 변환\n",
    "    - df1[col_dt].dt.year : 연도 추출\n",
    "    - df1[col_dt].dt.month : 월 추출\n",
    "    - df1[col_dt].dt.day : 일자 추출\n",
    "    - df1[col_dt].dt.day_name() : 요일 추출\n",
    "    - df1[col_dt].dt.isocalender().week : 주차 추출 (work week)\n",
    "\n",
    "- 결측값 처리\n",
    "- 데이터 재구조화 및 병합"
   ]
  },
  {
   "cell_type": "markdown",
   "id": "25266e1f-d31c-4712-9bd9-3c262a4945ce",
   "metadata": {},
   "source": [
    "**결측값 처리**\n",
    "\n",
    "- 결측값 (missing value -> Nan, Not A Number)\n",
    "- 결측값 제거 : 결측값이 존재하는 행을 제거\n",
    "- 결측값 대치 : 결측값을 다른 값으로 채워 넣는 방법\n",
    "    - 단순대치 : 평균이나 중강값과 같은 해당col을 대표할 수 있는 값으로 대치\n",
    "    - 알고리즘 대치 : 머신러닝 알고리즘들을 활용해 해당 결측값과 유사한 값으로 대치\n",
    "    - 보간법 : 특정 시간 간격이나 서열 간격에 맞춰 데이터를 생성해 대치"
   ]
  },
  {
   "cell_type": "code",
   "execution_count": 5,
   "id": "499fea69-74fa-4a30-803e-3edaeffb8951",
   "metadata": {},
   "outputs": [],
   "source": [
    "import pandas as pd"
   ]
  },
  {
   "cell_type": "code",
   "execution_count": 7,
   "id": "53edb047-1fb7-4a9b-ac71-b4d4b304be0b",
   "metadata": {},
   "outputs": [
    {
     "name": "stdout",
     "output_type": "stream",
     "text": [
      "(51301, 20)\n"
     ]
    },
    {
     "data": {
      "text/html": [
       "<div>\n",
       "<style scoped>\n",
       "    .dataframe tbody tr th:only-of-type {\n",
       "        vertical-align: middle;\n",
       "    }\n",
       "\n",
       "    .dataframe tbody tr th {\n",
       "        vertical-align: top;\n",
       "    }\n",
       "\n",
       "    .dataframe thead th {\n",
       "        text-align: right;\n",
       "    }\n",
       "</style>\n",
       "<table border=\"1\" class=\"dataframe\">\n",
       "  <thead>\n",
       "    <tr style=\"text-align: right;\">\n",
       "      <th></th>\n",
       "      <th>Unnamed: 0</th>\n",
       "      <th>Index</th>\n",
       "      <th>Member_ID</th>\n",
       "      <th>Sales_Type</th>\n",
       "      <th>Contract_Type</th>\n",
       "      <th>Channel</th>\n",
       "      <th>Datetime</th>\n",
       "      <th>Term</th>\n",
       "      <th>Payment_Type</th>\n",
       "      <th>Product_Type</th>\n",
       "      <th>Amount_Month</th>\n",
       "      <th>Customer_Type</th>\n",
       "      <th>Age</th>\n",
       "      <th>Address1</th>\n",
       "      <th>State</th>\n",
       "      <th>Overdue_count</th>\n",
       "      <th>Overdue_Type</th>\n",
       "      <th>Gender</th>\n",
       "      <th>Bank</th>\n",
       "      <th>Credit_Score</th>\n",
       "    </tr>\n",
       "  </thead>\n",
       "  <tbody>\n",
       "    <tr>\n",
       "      <th>0</th>\n",
       "      <td>0</td>\n",
       "      <td>1</td>\n",
       "      <td>66758234</td>\n",
       "      <td>렌탈</td>\n",
       "      <td>일반계약</td>\n",
       "      <td>영업방판</td>\n",
       "      <td>2022-05-09</td>\n",
       "      <td>60</td>\n",
       "      <td>CMS</td>\n",
       "      <td>SLX-1</td>\n",
       "      <td>96900</td>\n",
       "      <td>개인</td>\n",
       "      <td>42.0</td>\n",
       "      <td>경기도</td>\n",
       "      <td>계약확정</td>\n",
       "      <td>0</td>\n",
       "      <td>없음</td>\n",
       "      <td>여자</td>\n",
       "      <td>새마을금고</td>\n",
       "      <td>496.0</td>\n",
       "    </tr>\n",
       "    <tr>\n",
       "      <th>1</th>\n",
       "      <td>1</td>\n",
       "      <td>2</td>\n",
       "      <td>66755948</td>\n",
       "      <td>렌탈</td>\n",
       "      <td>교체계약</td>\n",
       "      <td>영업방판</td>\n",
       "      <td>2023-02-23</td>\n",
       "      <td>60</td>\n",
       "      <td>카드이체</td>\n",
       "      <td>SLX-1</td>\n",
       "      <td>102900</td>\n",
       "      <td>개인</td>\n",
       "      <td>39.0</td>\n",
       "      <td>경기도</td>\n",
       "      <td>계약확정</td>\n",
       "      <td>0</td>\n",
       "      <td>없음</td>\n",
       "      <td>남자</td>\n",
       "      <td>현대카드</td>\n",
       "      <td>876.0</td>\n",
       "    </tr>\n",
       "    <tr>\n",
       "      <th>2</th>\n",
       "      <td>2</td>\n",
       "      <td>3</td>\n",
       "      <td>66756657</td>\n",
       "      <td>렌탈</td>\n",
       "      <td>일반계약</td>\n",
       "      <td>홈쇼핑/방송</td>\n",
       "      <td>2022-03-03</td>\n",
       "      <td>60</td>\n",
       "      <td>CMS</td>\n",
       "      <td>SLX-1</td>\n",
       "      <td>96900</td>\n",
       "      <td>개인</td>\n",
       "      <td>48.0</td>\n",
       "      <td>경기도</td>\n",
       "      <td>계약확정</td>\n",
       "      <td>0</td>\n",
       "      <td>없음</td>\n",
       "      <td>여자</td>\n",
       "      <td>우리은행</td>\n",
       "      <td>512.0</td>\n",
       "    </tr>\n",
       "    <tr>\n",
       "      <th>3</th>\n",
       "      <td>3</td>\n",
       "      <td>4</td>\n",
       "      <td>66423450</td>\n",
       "      <td>멤버십</td>\n",
       "      <td>멤버십3유형</td>\n",
       "      <td>재계약</td>\n",
       "      <td>2022-05-16</td>\n",
       "      <td>12</td>\n",
       "      <td>CMS</td>\n",
       "      <td>SLX-1</td>\n",
       "      <td>66900</td>\n",
       "      <td>개인</td>\n",
       "      <td>39.0</td>\n",
       "      <td>경기도</td>\n",
       "      <td>계약확정</td>\n",
       "      <td>0</td>\n",
       "      <td>없음</td>\n",
       "      <td>남자</td>\n",
       "      <td>농협회원조합</td>\n",
       "      <td>777.0</td>\n",
       "    </tr>\n",
       "    <tr>\n",
       "      <th>4</th>\n",
       "      <td>4</td>\n",
       "      <td>5</td>\n",
       "      <td>66423204</td>\n",
       "      <td>멤버십</td>\n",
       "      <td>멤버십3유형</td>\n",
       "      <td>재계약</td>\n",
       "      <td>2022-05-13</td>\n",
       "      <td>12</td>\n",
       "      <td>CMS</td>\n",
       "      <td>SLX-1</td>\n",
       "      <td>66900</td>\n",
       "      <td>개인</td>\n",
       "      <td>60.0</td>\n",
       "      <td>경기도</td>\n",
       "      <td>기간만료</td>\n",
       "      <td>12</td>\n",
       "      <td>있음</td>\n",
       "      <td>남자</td>\n",
       "      <td>농협회원조합</td>\n",
       "      <td>561.0</td>\n",
       "    </tr>\n",
       "  </tbody>\n",
       "</table>\n",
       "</div>"
      ],
      "text/plain": [
       "   Unnamed: 0  Index  Member_ID Sales_Type Contract_Type Channel    Datetime  \\\n",
       "0           0      1   66758234         렌탈          일반계약    영업방판  2022-05-09   \n",
       "1           1      2   66755948         렌탈          교체계약    영업방판  2023-02-23   \n",
       "2           2      3   66756657         렌탈          일반계약  홈쇼핑/방송  2022-03-03   \n",
       "3           3      4   66423450        멤버십        멤버십3유형     재계약  2022-05-16   \n",
       "4           4      5   66423204        멤버십        멤버십3유형     재계약  2022-05-13   \n",
       "\n",
       "   Term Payment_Type Product_Type  Amount_Month Customer_Type   Age Address1  \\\n",
       "0    60          CMS        SLX-1         96900            개인  42.0      경기도   \n",
       "1    60         카드이체        SLX-1        102900            개인  39.0      경기도   \n",
       "2    60          CMS        SLX-1         96900            개인  48.0      경기도   \n",
       "3    12          CMS        SLX-1         66900            개인  39.0      경기도   \n",
       "4    12          CMS        SLX-1         66900            개인  60.0      경기도   \n",
       "\n",
       "  State  Overdue_count Overdue_Type Gender    Bank  Credit_Score  \n",
       "0  계약확정              0           없음     여자   새마을금고         496.0  \n",
       "1  계약확정              0           없음     남자    현대카드         876.0  \n",
       "2  계약확정              0           없음     여자    우리은행         512.0  \n",
       "3  계약확정              0           없음     남자  농협회원조합         777.0  \n",
       "4  기간만료             12           있음     남자  농협회원조합         561.0  "
      ]
     },
     "execution_count": 7,
     "metadata": {},
     "output_type": "execute_result"
    }
   ],
   "source": [
    "df1 = pd.read_csv('data/01_Data.csv') # 데이터 호출\n",
    "print(df1.shape) # 데이터의 행, 열 개수 확인\n",
    "df1.head() # 데이터 확인"
   ]
  },
  {
   "cell_type": "code",
   "execution_count": 11,
   "id": "a64f4011-96b3-4e53-94c4-33cfb495f0f1",
   "metadata": {},
   "outputs": [
    {
     "name": "stdout",
     "output_type": "stream",
     "text": [
      "<class 'pandas.core.frame.DataFrame'>\n",
      "RangeIndex: 51301 entries, 0 to 51300\n",
      "Data columns (total 20 columns):\n",
      " #   Column         Non-Null Count  Dtype  \n",
      "---  ------         --------------  -----  \n",
      " 0   Unnamed: 0     51301 non-null  int64  \n",
      " 1   Index          51301 non-null  int64  \n",
      " 2   Member_ID      51301 non-null  int64  \n",
      " 3   Sales_Type     51301 non-null  object \n",
      " 4   Contract_Type  51301 non-null  object \n",
      " 5   Channel        51301 non-null  object \n",
      " 6   Datetime       51301 non-null  object \n",
      " 7   Term           51301 non-null  int64  \n",
      " 8   Payment_Type   51301 non-null  object \n",
      " 9   Product_Type   51301 non-null  object \n",
      " 10  Amount_Month   51301 non-null  int64  \n",
      " 11  Customer_Type  51299 non-null  object \n",
      " 12  Age            44329 non-null  float64\n",
      " 13  Address1       51299 non-null  object \n",
      " 14  State          51301 non-null  object \n",
      " 15  Overdue_count  51301 non-null  int64  \n",
      " 16  Overdue_Type   51301 non-null  object \n",
      " 17  Gender         51301 non-null  object \n",
      " 18  Bank           48542 non-null  object \n",
      " 19  Credit_Score   42460 non-null  float64\n",
      "dtypes: float64(2), int64(6), object(12)\n",
      "memory usage: 7.8+ MB\n"
     ]
    }
   ],
   "source": [
    "# 결측값 확인\n",
    "df1.info() # Non-Null count : 결측값이 아닌 데이터 수"
   ]
  },
  {
   "cell_type": "code",
   "execution_count": 13,
   "id": "af8c7f2a-2f8c-4770-9f2b-3d54184151ba",
   "metadata": {},
   "outputs": [
    {
     "data": {
      "text/plain": [
       "Unnamed: 0          0\n",
       "Index               0\n",
       "Member_ID           0\n",
       "Sales_Type          0\n",
       "Contract_Type       0\n",
       "Channel             0\n",
       "Datetime            0\n",
       "Term                0\n",
       "Payment_Type        0\n",
       "Product_Type        0\n",
       "Amount_Month        0\n",
       "Customer_Type       2\n",
       "Age              6972\n",
       "Address1            2\n",
       "State               0\n",
       "Overdue_count       0\n",
       "Overdue_Type        0\n",
       "Gender              0\n",
       "Bank             2759\n",
       "Credit_Score     8841\n",
       "dtype: int64"
      ]
     },
     "execution_count": 13,
     "metadata": {},
     "output_type": "execute_result"
    }
   ],
   "source": [
    "df1.isnull().sum() # 특정 데이터가 결측값인지 아닌지 출력 -> sum함수를 사용하면 True값의 개수를 column별 합을 계산"
   ]
  },
  {
   "cell_type": "code",
   "execution_count": 16,
   "id": "73d77c64-ed94-4f67-89a0-045b79e3e10c",
   "metadata": {},
   "outputs": [
    {
     "data": {
      "text/plain": [
       "(40597, 20)"
      ]
     },
     "execution_count": 16,
     "metadata": {},
     "output_type": "execute_result"
    }
   ],
   "source": [
    "# 결측값을 제거 (특정 행에 결측값이 존재하면, 해당 행의 정보를 삭제)\n",
    "df1_clean = df1.dropna()\n",
    "df1_clean.shape"
   ]
  },
  {
   "cell_type": "code",
   "execution_count": 17,
   "id": "81b00959-0f9b-489d-a29f-410bdb9dff9a",
   "metadata": {},
   "outputs": [
    {
     "data": {
      "text/plain": [
       "(51299, 17)"
      ]
     },
     "execution_count": 17,
     "metadata": {},
     "output_type": "execute_result"
    }
   ],
   "source": [
    "# 결측값이 많은 열을 제거한 뒤 결측값을 제거하여 분석\n",
    "# drop(): 특정 행 또는 열을 삭제\n",
    "df1_clean2 = df1.drop(columns = ['Age', 'Bank', 'Credit_Score']).dropna()\n",
    "df1_clean2.shape"
   ]
  },
  {
   "cell_type": "code",
   "execution_count": 18,
   "id": "616fc9aa-5bef-4bc6-b255-1f60b19ab0bb",
   "metadata": {},
   "outputs": [
    {
     "data": {
      "text/plain": [
       "51291      NaN\n",
       "51292      NaN\n",
       "51293    978.0\n",
       "51294      NaN\n",
       "51295    911.0\n",
       "51296      NaN\n",
       "51297    574.0\n",
       "51298    972.0\n",
       "51299    888.0\n",
       "51300    538.0\n",
       "Name: Credit_Score, dtype: float64"
      ]
     },
     "execution_count": 18,
     "metadata": {},
     "output_type": "execute_result"
    }
   ],
   "source": [
    "# 결측값 대치 (단순대치)\n",
    "df1['Credit_Score'].tail(10)"
   ]
  },
  {
   "cell_type": "code",
   "execution_count": 20,
   "id": "8f1b8924-9851-4204-a7df-ab9eb99fa769",
   "metadata": {},
   "outputs": [
    {
     "data": {
      "text/plain": [
       "51291      0.0\n",
       "51292      0.0\n",
       "51293    978.0\n",
       "51294      0.0\n",
       "51295    911.0\n",
       "51296      0.0\n",
       "51297    574.0\n",
       "51298    972.0\n",
       "51299    888.0\n",
       "51300    538.0\n",
       "Name: Credit_Score_clean, dtype: float64"
      ]
     },
     "execution_count": 20,
     "metadata": {},
     "output_type": "execute_result"
    }
   ],
   "source": [
    "# 결측값을 0으로 대치하여 처리\n",
    "df1['Credit_Score_clean'] = df1['Credit_Score'].fillna(0)\n",
    "df1['Credit_Score_clean'].tail(10)"
   ]
  },
  {
   "cell_type": "markdown",
   "id": "45c176b8-f180-447b-96c8-ac61e0d968c2",
   "metadata": {},
   "source": [
    "원시자료 설명서(DB설계서) -> 결측값이 다른 숫자값으로 대치되었는지 확인할 수 있다."
   ]
  },
  {
   "cell_type": "code",
   "execution_count": 31,
   "id": "cddbbcf9-34d6-49e8-9bd6-991be94c21c9",
   "metadata": {},
   "outputs": [
    {
     "data": {
      "text/plain": [
       "51291    826.838342\n",
       "51292    826.838342\n",
       "51293    978.000000\n",
       "51294    826.838342\n",
       "51295    911.000000\n",
       "51296    826.838342\n",
       "51297    574.000000\n",
       "51298    972.000000\n",
       "51299    888.000000\n",
       "51300    538.000000\n",
       "Name: Credit_Score_clean2, dtype: float64"
      ]
     },
     "execution_count": 31,
     "metadata": {},
     "output_type": "execute_result"
    }
   ],
   "source": [
    "# 결측값을 평균으로 대치하여 처리\n",
    "df1['Credit_Score_clean2'] = df1['Credit_Score'].fillna(df1['Credit_Score'].mean())\n",
    "df1['Credit_Score_clean2'].tail(10)"
   ]
  },
  {
   "cell_type": "markdown",
   "id": "2642f3f3-5a5b-4518-a9c0-77a409dd5a5e",
   "metadata": {},
   "source": [
    "## 8-3. 기술통계량 확인\n",
    "\n",
    "- 데이터의 특성을 알기 위해 기본적으로 확인하는 통계량\n",
    "- 연속형 :\n",
    "    - 대표값 (평균, 중앙값): 해당 연속형 자료를 대표하는 수치\n",
    "        - 평균의 경우, 이상치(outlier)에 의해 매우 높거나 낮게 계산될 수 있으므로, 반드시 중위수(중앙값)와 같이 확인\n",
    "        - A : 1, 3, 2, 5, 4 -> 평균 : 3\n",
    "        - A : 1, 2, 3, 4, 5 -> 중앙값 : 3\n",
    "        - B : 1, 3, 2, 4, 10000 -> 평균 : 2002\n",
    "        - B : 1, 2, 3, 4, 10000 -> 중앙값 : 3\n",
    " \n",
    "    - 산포 (표준편차) : 해당 연속형자료의 데이터들이 대표값으로부터 얼마나 떨어져 있는지 나타내는 통계량\n",
    "        - 산포는 데이터가 얼마나 대표값에 대해 정확한가를 나타내는 척도\n",
    "        - 데이터가 많이 수집 될 수록, 대표값에 대해 모여있는 분포를 나타낸(중심극한의 정리)\n",
    "        - 데이터가 많아지면, 산포가 줄어들 가능성이 있음\n",
    "\n",
    "    - 분포의 모양 : 해당 연속형 자료의 분포의 모양, 시각화\n",
    "        - 정규분포, 정규분포가 아닌 데이터\n",
    "        - 분포의 모양에 따라 가설검정 및 통계적 분석 방법이 달라질 수 있음\n",
    "        - 데이터 수집 관점\n",
    "\n",
    "- 범주형 : 항목과 빈도수 확인 (Unique / Frequency), 비율"
   ]
  },
  {
   "cell_type": "code",
   "execution_count": null,
   "id": "29156ba4-4ad6-414f-aff9-8fd73b980dad",
   "metadata": {},
   "outputs": [],
   "source": []
  }
 ],
 "metadata": {
  "kernelspec": {
   "display_name": "Python 3 (ipykernel)",
   "language": "python",
   "name": "python3"
  },
  "language_info": {
   "codemirror_mode": {
    "name": "ipython",
    "version": 3
   },
   "file_extension": ".py",
   "mimetype": "text/x-python",
   "name": "python",
   "nbconvert_exporter": "python",
   "pygments_lexer": "ipython3",
   "version": "3.11.11"
  }
 },
 "nbformat": 4,
 "nbformat_minor": 5
}
