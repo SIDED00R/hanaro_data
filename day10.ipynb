{
 "cells": [
  {
   "cell_type": "code",
   "execution_count": 5,
   "id": "9eef6822-c0a5-4fdd-92bc-a6fec392f96a",
   "metadata": {},
   "outputs": [
    {
     "name": "stdout",
     "output_type": "stream",
     "text": [
      "(93043, 17)\n"
     ]
    },
    {
     "data": {
      "text/html": [
       "<div>\n",
       "<style scoped>\n",
       "    .dataframe tbody tr th:only-of-type {\n",
       "        vertical-align: middle;\n",
       "    }\n",
       "\n",
       "    .dataframe tbody tr th {\n",
       "        vertical-align: top;\n",
       "    }\n",
       "\n",
       "    .dataframe thead th {\n",
       "        text-align: right;\n",
       "    }\n",
       "</style>\n",
       "<table border=\"1\" class=\"dataframe\">\n",
       "  <thead>\n",
       "    <tr style=\"text-align: right;\">\n",
       "      <th></th>\n",
       "      <th>Unnamed: 0</th>\n",
       "      <th>Code_Num</th>\n",
       "      <th>Datetime</th>\n",
       "      <th>Process_Type</th>\n",
       "      <th>ST</th>\n",
       "      <th>Tube Furnace CP</th>\n",
       "      <th>Tube Furnace1 OP</th>\n",
       "      <th>Tube Furnace1 Temp</th>\n",
       "      <th>Tube Furnace2 OP</th>\n",
       "      <th>Tube Furnace2 Temp</th>\n",
       "      <th>Tube Furnace3 OP</th>\n",
       "      <th>Tube Furnace3 Temp</th>\n",
       "      <th>Tube Furnace4 OP</th>\n",
       "      <th>Tube Furnace4 Temp</th>\n",
       "      <th>Z1-OP1</th>\n",
       "      <th>Z1-OP2</th>\n",
       "      <th>Z1-Temp</th>\n",
       "    </tr>\n",
       "  </thead>\n",
       "  <tbody>\n",
       "    <tr>\n",
       "      <th>0</th>\n",
       "      <td>0</td>\n",
       "      <td>GroupA</td>\n",
       "      <td>2022-01-03 11:22</td>\n",
       "      <td>OP-A</td>\n",
       "      <td>NaN</td>\n",
       "      <td>0.450497</td>\n",
       "      <td>73.527404</td>\n",
       "      <td>NaN</td>\n",
       "      <td>59.989422</td>\n",
       "      <td>868.759544</td>\n",
       "      <td>52.249481</td>\n",
       "      <td>NaN</td>\n",
       "      <td>72.134908</td>\n",
       "      <td>NaN</td>\n",
       "      <td>74.255730</td>\n",
       "      <td>76.879748</td>\n",
       "      <td>NaN</td>\n",
       "    </tr>\n",
       "    <tr>\n",
       "      <th>1</th>\n",
       "      <td>1</td>\n",
       "      <td>GroupA</td>\n",
       "      <td>2022-01-03 11:22</td>\n",
       "      <td>OP-A</td>\n",
       "      <td>NaN</td>\n",
       "      <td>0.457370</td>\n",
       "      <td>79.149174</td>\n",
       "      <td>878.116929</td>\n",
       "      <td>62.027232</td>\n",
       "      <td>883.821264</td>\n",
       "      <td>50.617109</td>\n",
       "      <td>890.74076</td>\n",
       "      <td>71.245235</td>\n",
       "      <td>894.430606</td>\n",
       "      <td>66.323571</td>\n",
       "      <td>71.297720</td>\n",
       "      <td>NaN</td>\n",
       "    </tr>\n",
       "  </tbody>\n",
       "</table>\n",
       "</div>"
      ],
      "text/plain": [
       "   Unnamed: 0 Code_Num          Datetime Process_Type  ST  Tube Furnace CP  \\\n",
       "0           0   GroupA  2022-01-03 11:22         OP-A NaN         0.450497   \n",
       "1           1   GroupA  2022-01-03 11:22         OP-A NaN         0.457370   \n",
       "\n",
       "   Tube Furnace1 OP  Tube Furnace1 Temp  Tube Furnace2 OP  Tube Furnace2 Temp  \\\n",
       "0         73.527404                 NaN         59.989422          868.759544   \n",
       "1         79.149174          878.116929         62.027232          883.821264   \n",
       "\n",
       "   Tube Furnace3 OP  Tube Furnace3 Temp  Tube Furnace4 OP  Tube Furnace4 Temp  \\\n",
       "0         52.249481                 NaN         72.134908                 NaN   \n",
       "1         50.617109           890.74076         71.245235          894.430606   \n",
       "\n",
       "      Z1-OP1     Z1-OP2  Z1-Temp  \n",
       "0  74.255730  76.879748      NaN  \n",
       "1  66.323571  71.297720      NaN  "
      ]
     },
     "execution_count": 5,
     "metadata": {},
     "output_type": "execute_result"
    }
   ],
   "source": [
    "import pandas as pd\n",
    "import numpy as np\n",
    "import scipy.stats as stats\n",
    "import plotly.express as px\n",
    "\n",
    "df = pd.read_csv('data/08_Data.csv')\n",
    "print(df.shape)\n",
    "df.head(2)"
   ]
  },
  {
   "cell_type": "markdown",
   "id": "fdb3e9b8-98d3-4f86-8509-2b1eb3f64f0b",
   "metadata": {},
   "source": [
    "- **단일 변수 검정**\n",
    "- 정규성 검정 : 데이터가 정규분포를 따르는지 검정\n",
    "- 단일 표본 평균 검정: 특정 집단의 표본과 특정 값이 같은지 다른지 검정"
   ]
  },
  {
   "cell_type": "code",
   "execution_count": null,
   "id": "1b1abf2d-9927-4f98-b53d-55e119e46cbf",
   "metadata": {},
   "outputs": [],
   "source": [
    "# Z1-OP1 해당 데이터가 정규분포를 따르는지 검정\n",
    "# 귀무가설 : 해당 데이터는 정규분포를 따른다.\n",
    "# 대립가설: 해당 데이터는 정규 붙포를 따르지 않는다.\n",
    "\n",
    "px.histogram(df['Z1-OP1'])"
   ]
  },
  {
   "cell_type": "code",
   "execution_count": 7,
   "id": "a0505d31-ad77-4c1b-8993-bfab85d058f2",
   "metadata": {},
   "outputs": [
    {
     "data": {
      "text/plain": [
       "NormaltestResult(statistic=np.float64(2.18765496291767), pvalue=np.float64(0.3349320908928943))"
      ]
     },
     "execution_count": 7,
     "metadata": {},
     "output_type": "execute_result"
    }
   ],
   "source": [
    "stats.normaltest(df['Z1-OP1']) # P.value (귀무가설이 참일 확률) > 0.05 (유의수준 5%) -> 귀무가설 참 해당 데이터는 정규분포를따른다."
   ]
  },
  {
   "cell_type": "code",
   "execution_count": 10,
   "id": "e0ada36d-5292-4be8-9fa8-1a846630a428",
   "metadata": {},
   "outputs": [
    {
     "data": {
      "text/plain": [
       "np.float64(0.4547957554506931)"
      ]
     },
     "execution_count": 10,
     "metadata": {},
     "output_type": "execute_result"
    }
   ],
   "source": [
    "# 2. 공장 내 소입로의 열용량 측정한 자료의 평균이 특정값과 같은지 비교\n",
    "# 작업자가 소입로 내 열 용량 0.44로 세팅\n",
    "# 실제 데이터 상에 계산된 평균은 0.455 -> 두 값이 같은 수 있는가?\n",
    "df['Tube Furnace CP'].mean()"
   ]
  },
  {
   "cell_type": "code",
   "execution_count": 12,
   "id": "c5abdf02-d08a-4831-a515-aa9e3b2d6b43",
   "metadata": {},
   "outputs": [
    {
     "data": {
      "text/plain": [
       "NormaltestResult(statistic=np.float64(46072.55461165357), pvalue=np.float64(0.0))"
      ]
     },
     "execution_count": 12,
     "metadata": {},
     "output_type": "execute_result"
    }
   ],
   "source": [
    "# 1 Sample T Test(단일 표본 평균 검정): 정규분포를 따르는 집단의 평균과 단일 값 비교\n",
    "# 1 Sample Sign Test(단일 표본 부호 검정): 정규분포를 따르지 않는 집단의 평균과 단일 값을 비교\n",
    "# 평균 비교에 앞서, 해당 연속형 자료가 정규분포를 따르는지 검정\n",
    "# 귀무 가설 : 해당 연속형 자료는 정규분포를 따른다.\n",
    "# 대립 가설: 해당 연속형 자료는 정규분포를 따르지 않는다\n",
    "\n",
    "stats.normaltest(df['Tube Furnace CP'])# 디립가설 참 (귀무가설 기각)\n"
   ]
  },
  {
   "cell_type": "code",
   "execution_count": 13,
   "id": "2ec538c4-0edf-41da-8a06-7a13cba3061e",
   "metadata": {},
   "outputs": [],
   "source": [
    "import statsmodels.stats.descriptivestats as statd\n"
   ]
  },
  {
   "cell_type": "code",
   "execution_count": 14,
   "id": "a56354a1-4de9-49aa-a13e-cce89b5158fe",
   "metadata": {},
   "outputs": [
    {
     "data": {
      "text/plain": [
       "(np.float64(45339.5), np.float64(0.0))"
      ]
     },
     "execution_count": 14,
     "metadata": {},
     "output_type": "execute_result"
    }
   ],
   "source": [
    "# 정규성을 따르지않는 연속형 자료의 평균 값과 단일값이 서로 같은 값인지 검정\n",
    "# 귀무 가설: 해당 연속형 자료의 평균과 단일값은 같다\n",
    "# 대립 간성: 해당 연속형 자료의 평균은 단일값과 다르다.\n",
    "\n",
    "statd.sign_test(df['Tube Furnace CP'], 0.44) # P.value < 0.05 귀무가설 기각 -> 단일값과 다르다"
   ]
  },
  {
   "attachments": {
    "5dab30d4-8ee4-4f2d-a5a4-53d831840f59.png": {
     "image/png": "[encoded data removed]"
    }
   },
   "cell_type": "markdown",
   "id": "633b61c5-e4d4-4b6b-b553-7675165859af",
   "metadata": {},
   "source": [
    "**다변수 검정**\n",
    "- X: 범주형, Y: 연속형 -> 집단간 통계량 비교(대표값, 산포)\n",
    "  - 연속형 자료가 정규분포를 따르는 경우\n",
    "  - 연속형 자료가 정규분포를 따르지 않는 경우\n",
    "- X: 연속형, Y: 연속형 -> 두 연속형 자료가 서로 상관성이 있는지 (없는지)\n",
    "  - 두 연속형 자료가 모두 정규분포를 따르는 경우\n",
    "  - 연속형 자료가 정규분포를 따르지 않는 경우\n",
    "- X: 범주형, Y: 범주형 -> 두 범주형 자료의 연관성(독립성) 확인\n",
    "![image.png](attachment:5dab30d4-8ee4-4f2d-a5a4-53d831840f59.png)"
   ]
  },
  {
   "cell_type": "code",
   "execution_count": 15,
   "id": "8cc057e8-e704-405f-882e-2e1a243c87e9",
   "metadata": {},
   "outputs": [
    {
     "data": {
      "text/plain": [
       "Code_Num\n",
       "GroupD    31729\n",
       "GroupC    26982\n",
       "GroupB    13299\n",
       "GroupF     7473\n",
       "GroupA     7342\n",
       "GroupE     6218\n",
       "Name: count, dtype: int64"
      ]
     },
     "execution_count": 15,
     "metadata": {},
     "output_type": "execute_result"
    }
   ],
   "source": [
    "# 3. 각 Code_num(공정 배치그룹 - 같은 설비 공정이 진행되는 여러 그룹) 별 Z1-OP1 (공정 건조 온도 출력량)의 평균의 차이가 있는가?\n",
    "df['Code_Num'].value_counts()"
   ]
  },
  {
   "cell_type": "code",
   "execution_count": 18,
   "id": "b0cb0fea-e7b8-42f9-8b7d-00e9e8d7d705",
   "metadata": {},
   "outputs": [],
   "source": [
    "# D그룹과 C그룹의 Z1-OP1의 대표값의 차이가 있는지 확인?\n",
    "# 해당 데이터를 D그룹 데이터와 C그룹 데이터로 추출\n",
    "cond1 = df['Code_Num'] == 'GroupD'\n",
    "cond2 = df['Code_Num'] == 'GroupC'\n",
    "df_c = df.loc[cond1]\n",
    "df_d = df.loc[cond2]"
   ]
  },
  {
   "cell_type": "code",
   "execution_count": 20,
   "id": "06ffb525-d23f-48dd-924c-a9a26e7e8126",
   "metadata": {},
   "outputs": [
    {
     "name": "stdout",
     "output_type": "stream",
     "text": [
      "NormaltestResult(statistic=np.float64(0.45941327604808013), pvalue=np.float64(0.7947667226435516))\n",
      "NormaltestResult(statistic=np.float64(2.8668515001589796), pvalue=np.float64(0.23849051231867696))\n"
     ]
    }
   ],
   "source": [
    "# 3-1. 각 그룹에서 Z1-OP1 연속형 자료가 정규분포를 따르는지?\n",
    "# 귀무 가설: 해당 데이터의 분포는 정규분포를 따른다\n",
    "# 대립 가설: 해당 데이터의 분포는 정규분포를 따르지 않는다.\n",
    "\n",
    "print(stats.normaltest(df_c['Z1-OP1']))\n",
    "print(stats.normaltest(df_d['Z1-OP1']))\n",
    "# 귀무가설 참 -> 정규분포를 따른다"
   ]
  },
  {
   "cell_type": "code",
   "execution_count": 22,
   "id": "138ad5fb-e4f2-4492-907a-9722ef1b2270",
   "metadata": {},
   "outputs": [
    {
     "data": {
      "text/plain": [
       "BartlettResult(statistic=np.float64(0.15980353542672476), pvalue=np.float64(0.6893374613172697))"
      ]
     },
     "execution_count": 22,
     "metadata": {},
     "output_type": "execute_result"
    }
   ],
   "source": [
    "# 3-2 정규성을 만족하는 두 집단의 Z1-OP1 연속형 자료의 분산이 서로 같은지?\n",
    "# 귀무 가설: 두 집단의 분산은 서로 같다고 볼 수 있다.\n",
    "# 대립 가설: 두 집단의 분산은 서로 다르다고 볼 수 있다.\n",
    "\n",
    "stats.bartlett(df_c['Z1-OP1'], df_d['Z1-OP1'])\n",
    "# 귀무가설 참 -> 두 집단의 분산은 서로 같다"
   ]
  },
  {
   "cell_type": "code",
   "execution_count": null,
   "id": "02ce761c-30cc-4e54-ac64-8022a32b34a2",
   "metadata": {},
   "outputs": [],
   "source": [
    "px.histogram(df, x= 'Z1-OP1', color = 'Code_Num')"
   ]
  },
  {
   "cell_type": "code",
   "execution_count": 25,
   "id": "d949a2cc-1973-49cc-9a02-7c28ef917b79",
   "metadata": {},
   "outputs": [
    {
     "data": {
      "text/plain": [
       "TtestResult(statistic=np.float64(-0.08592110963765062), pvalue=np.float64(0.9315294234984884), df=np.float64(58709.0))"
      ]
     },
     "execution_count": 25,
     "metadata": {},
     "output_type": "execute_result"
    }
   ],
   "source": [
    "# 3-3. (정규성을 만족하고, 분산이 같은) 두 집단의 Z1-OP1값의 평균의 차이가 있는지 검정\n",
    "# 귀무 가설: C그룹과 D그룹의 Z1-OP1의 평균의 차이는 없다고 볼 수 있다.\n",
    "# 대립 가설: C그룹과 D그룹의 Z1-OP1의 평균의 차이가 있다.\n",
    "\n",
    "stats.ttest_ind(df_c['Z1-OP1'], df_d['Z1-OP1']) # 2 sample T Test\n",
    "# 귀무가설 참 -> 평균의 차이는 없다고 볼 수 있다."
   ]
  },
  {
   "cell_type": "code",
   "execution_count": 26,
   "id": "a449ed82-2963-4c2a-bace-3be4e611ed53",
   "metadata": {},
   "outputs": [
    {
     "data": {
      "text/plain": [
       "TtestResult(statistic=np.float64(-0.08593737481631428), pvalue=np.float64(0.9315165011373185), df=np.float64(57245.21660562384))"
      ]
     },
     "execution_count": 26,
     "metadata": {},
     "output_type": "execute_result"
    }
   ],
   "source": [
    "# 만약 정규분포를 따르고 분산이 다른 두 연속형 집단의 평균을 비교(이분산)\n",
    "stats.ttest_ind(df_c['Z1-OP1'], df_d['Z1-OP1'], equal_var = False)"
   ]
  },
  {
   "cell_type": "code",
   "execution_count": 27,
   "id": "2694ee98-d257-43da-ae5d-7a9dc46fd7a1",
   "metadata": {},
   "outputs": [
    {
     "data": {
      "text/plain": [
       "RanksumsResult(statistic=np.float64(-0.24968337353911604), pvalue=np.float64(0.8028322170361302))"
      ]
     },
     "execution_count": 27,
     "metadata": {},
     "output_type": "execute_result"
    }
   ],
   "source": [
    "# 만약 정규분포를 따르지 않는 두 연속형 집단의 중앙값을 비교\n",
    "# 귀무가설 : 두 집단의 연속형 자료의 중앙값이 같다고 볼 수 있다.\n",
    "# 대립가설 : 두 집단의 연속형 자료의 중앙값이 다르다고 볼 수 있다.\n",
    "\n",
    "stats.ranksums(df_c['Z1-OP1'], df_d['Z1-OP1'])"
   ]
  },
  {
   "cell_type": "code",
   "execution_count": 28,
   "id": "a1fb3ecb-795c-4c13-93be-ada4ece7125d",
   "metadata": {},
   "outputs": [
    {
     "name": "stdout",
     "output_type": "stream",
     "text": [
      "NormaltestResult(statistic=np.float64(3.671411795679153), pvalue=np.float64(0.1595008706997435))\n",
      "NormaltestResult(statistic=np.float64(3.1395858023119314), pvalue=np.float64(0.20808827273562336))\n",
      "NormaltestResult(statistic=np.float64(0.37943212967748347), pvalue=np.float64(0.8271939700559496))\n"
     ]
    }
   ],
   "source": [
    "# 4. A, E, F 그룹의 Z1-OP1값의 대표값의 차이가 있는지 확인\n",
    "\n",
    "cond1 = df['Code_Num'] == 'GroupA'\n",
    "cond2 = df['Code_Num'] == 'GroupE'\n",
    "cond3 = df['Code_Num'] == 'GroupF'\n",
    "df_a = df.loc[cond1]\n",
    "df_e = df.loc[cond2]\n",
    "df_f = df.loc[cond3]\n",
    "\n",
    "# 귀무 가설: 해당 데이터의 분포는 정규분포를 따른다\n",
    "# 대립 가설: 해당 데이터의 분포는 정규분포를 따르지 않는다.\n",
    "print(stats.normaltest(df_a['Z1-OP1']))\n",
    "print(stats.normaltest(df_e['Z1-OP1']))\n",
    "print(stats.normaltest(df_f['Z1-OP1']))\n",
    "# 귀무가설 참 -> 정규분포를 따른다"
   ]
  },
  {
   "cell_type": "code",
   "execution_count": 29,
   "id": "a0f156d3-19c3-42b6-9f72-8529e1d85dd4",
   "metadata": {},
   "outputs": [
    {
     "data": {
      "text/plain": [
       "BartlettResult(statistic=np.float64(0.18947012177505165), pvalue=np.float64(0.9096138948449022))"
      ]
     },
     "execution_count": 29,
     "metadata": {},
     "output_type": "execute_result"
    }
   ],
   "source": [
    "# 4-2. 정규분포를 따르는 세 집다느이 연속형 자료들의 분산이 같은지 검정(등분산 검정)\n",
    "# 귀무 가설: 해당 연속형 자료의 세 집단 모두 분산이 같다\n",
    "# 대립 가설: 어떤 연속형 자료의 분산이 다르다.\n",
    "\n",
    "stats.bartlett(df_a['Z1-OP1'], df_e['Z1-OP1'], df_f['Z1-OP1'])\n",
    "# 귀무가설 참 -> 분산이 모두 같다"
   ]
  },
  {
   "cell_type": "code",
   "execution_count": 30,
   "id": "2e8c54ef-6553-4e85-85c4-65fe05c76426",
   "metadata": {},
   "outputs": [
    {
     "data": {
      "text/plain": [
       "F_onewayResult(statistic=np.float64(2.034783349896693), pvalue=np.float64(0.13073453040417232))"
      ]
     },
     "execution_count": 30,
     "metadata": {},
     "output_type": "execute_result"
    }
   ],
   "source": [
    "# 4-3. 정규분포를 따르고 분산이 모두 같은 세 집단의 연속형 자료의 평균이 같은지 검정 (ANOVA)\n",
    "# 귀무 가설 : 해당 연속형 자료의 세 집단 모두 평균이 같다\n",
    "# 대립 가설: 해당 연속형 자료의 세 집단 중 하나라도 평균이 다르다.\n",
    "\n",
    "stats.f_oneway(df_a['Z1-OP1'], df_e['Z1-OP1'], df_f['Z1-OP1'])\n",
    "# 귀무가설 참 -> 세 집단 모두 평균이 같다"
   ]
  },
  {
   "cell_type": "code",
   "execution_count": 31,
   "id": "59077f68-1642-4ac5-b129-079fd347ec84",
   "metadata": {},
   "outputs": [
    {
     "data": {
      "text/plain": [
       "KruskalResult(statistic=np.float64(2.733894752112974), pvalue=np.float64(0.25488383769687734))"
      ]
     },
     "execution_count": 31,
     "metadata": {},
     "output_type": "execute_result"
    }
   ],
   "source": [
    "# 정규분포를 따르지 않거나 정규분포이지만 분산이 서로 다른 3집단 이상을 비교\n",
    "stats.kruskal(df_a['Z1-OP1'], df_e['Z1-OP1'], df_f['Z1-OP1'])"
   ]
  },
  {
   "cell_type": "markdown",
   "id": "aa16de9e-4fa0-44d7-8c53-aa138844932a",
   "metadata": {},
   "source": [
    "- **두 연속형 자료의 상관성을 확인 (X-연속형, Y-연속형)**\n",
    "- 두 데이터가 서로 상관성이 있는가? (비례, 반비례 관계가 있는가?)\n",
    "- 연속형 자료가 모두 정규분포를 따를 때 -> Pearson Test\n",
    "- 연속형 자료중 하나라도 정규분포를 따르지 않을 때 -> Spearman Test"
   ]
  },
  {
   "cell_type": "code",
   "execution_count": null,
   "id": "fa73702e-fa67-4726-b88b-c0d27514898f",
   "metadata": {},
   "outputs": [],
   "source": [
    "# 5. 두 개의 공정건조온도 출력량이 서로 상관관계가 있는가? (Z1-OP1, Z1-OP2)\n",
    "px.scatter(df, x = 'Z1-OP1', y = 'Z1-OP2')"
   ]
  },
  {
   "cell_type": "code",
   "execution_count": 34,
   "id": "95f6cf5c-fc20-4764-bd56-88049f2b972b",
   "metadata": {},
   "outputs": [
    {
     "name": "stdout",
     "output_type": "stream",
     "text": [
      "NormaltestResult(statistic=np.float64(2.18765496291767), pvalue=np.float64(0.3349320908928943))\n",
      "NormaltestResult(statistic=np.float64(1.1121501227551858), pvalue=np.float64(0.573455429905634))\n"
     ]
    }
   ],
   "source": [
    "# 5-1. 두 연속형 자료는 정규분포를 따르는가?\n",
    "# 귀무가설: 해당 연속형 자료의 분포는 정규분포를 따른다.\n",
    "# 대립가설: 해당 연속형 자료의 분포는 정규분포를 따르지 않는다.\n",
    "\n",
    "print(stats.normaltest(df['Z1-OP1']))\n",
    "print(stats.normaltest(df['Z1-OP2']))\n",
    "# 귀무가설 참 -> 정규분포를 따른다"
   ]
  },
  {
   "cell_type": "code",
   "execution_count": 36,
   "id": "f19d4f25-492e-4fb2-9aac-401af6887e8e",
   "metadata": {},
   "outputs": [
    {
     "data": {
      "text/plain": [
       "PearsonRResult(statistic=np.float64(-0.0024234031909799317), pvalue=np.float64(0.4597851757502812))"
      ]
     },
     "execution_count": 36,
     "metadata": {},
     "output_type": "execute_result"
    }
   ],
   "source": [
    "# 5-2. 정규분포를 따르는 두 연속형 자료는 서로 상관성이 있는가?\n",
    "# 귀무 가설: 두 연속형 자료는 서로 상관성이 없다. -> 비례 반비례 관계가 아니다, 추이가 없다.\n",
    "# 대립 가설: 두 연속형 자료는 서로 상관성이 있다. -> 비례 또는 반비례 관계이다, 추이가 있다.\n",
    "\n",
    "stats.pearsonr(df['Z1-OP1'], df['Z1-OP2'])\n",
    "# 귀무가설 참 -> 상관성이 없다."
   ]
  },
  {
   "cell_type": "code",
   "execution_count": null,
   "id": "2d08e3dd-5c0a-444c-ba6e-1301501c4c08",
   "metadata": {},
   "outputs": [],
   "source": [
    "# 6. Tube Furnace CP(소입로의 가스 침탄량)과 ST(세정기 온도 값)서로 상관성이 있는가?\n",
    "px.scatter(df, x = 'Tube Furnace CP', y = 'ST', trendline = 'ols')"
   ]
  },
  {
   "cell_type": "code",
   "execution_count": 39,
   "id": "28eb8c5f-9df7-4cd4-a305-6eaca914d199",
   "metadata": {},
   "outputs": [
    {
     "name": "stdout",
     "output_type": "stream",
     "text": [
      "NormaltestResult(statistic=np.float64(46072.55461165357), pvalue=np.float64(0.0))\n",
      "NormaltestResult(statistic=np.float64(3441.4905138133176), pvalue=np.float64(0.0))\n"
     ]
    }
   ],
   "source": [
    "# 6-1. 두 연속형 자료에 대한 정규성 검정\n",
    "# 귀무가설: 해당 연속형 자료는 정규분포를 따른다.\n",
    "# 대립가설: 해당 연속형 자료는 정규분포를 따르지 않는다.\n",
    "\n",
    "print(stats.normaltest(df['Tube Furnace CP']))\n",
    "print(stats.normaltest(df['ST'].dropna()))\n",
    "\n",
    "# 귀무가설 기각 -> 정규분포를 따르지 않는다."
   ]
  },
  {
   "cell_type": "code",
   "execution_count": 42,
   "id": "10c3d3f1-2b8f-4cf0-8fff-64d59e5c0ba7",
   "metadata": {},
   "outputs": [
    {
     "name": "stdout",
     "output_type": "stream",
     "text": [
      "93043\n"
     ]
    }
   ],
   "source": [
    "# 두 연속형 자료에 대한 결측값을 처리한 뒤 검정을 수행\n",
    "# df 데이터 프레임에서 분석에 필요한 두 항목만 뽑아 결측값을 제거\n",
    "print(len(df))\n",
    "df_clean = df[['Tube Furnace CP', 'ST']].dropna()"
   ]
  },
  {
   "cell_type": "code",
   "execution_count": 45,
   "id": "8cb0e5f9-dd5e-4ecf-999a-8021979c44e9",
   "metadata": {},
   "outputs": [
    {
     "data": {
      "text/plain": [
       "SignificanceResult(statistic=np.float64(-0.008256910985147173), pvalue=np.float64(0.01178868290438504))"
      ]
     },
     "execution_count": 45,
     "metadata": {},
     "output_type": "execute_result"
    }
   ],
   "source": [
    "# 6-2. 정규분포를 따르지 않는 두 연속형 자료의 상관성이 있는가?\n",
    "# 귀무가설: 두 연속형 자료는 서로 상관성이 없다.\n",
    "# 대립가설: 두 연속형 자료는 서로 상관성이 있다.\n",
    "\n",
    "stats.spearmanr(df_clean['Tube Furnace CP'], df_clean['ST'])\n",
    "# 귀무가설 기각 -> 서로 상관성이 있다."
   ]
  },
  {
   "cell_type": "code",
   "execution_count": null,
   "id": "7699636c-4487-417c-9288-0a11ea9f5854",
   "metadata": {},
   "outputs": [],
   "source": []
  }
 ],
 "metadata": {
  "kernelspec": {
   "display_name": "Python 3 (ipykernel)",
   "language": "python",
   "name": "python3"
  },
  "language_info": {
   "codemirror_mode": {
    "name": "ipython",
    "version": 3
   },
   "file_extension": ".py",
   "mimetype": "text/x-python",
   "name": "python",
   "nbconvert_exporter": "python",
   "pygments_lexer": "ipython3",
   "version": "3.11.11"
  }
 },
 "nbformat": 4,
 "nbformat_minor": 5
}
