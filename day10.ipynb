{
 "cells": [
  {
   "cell_type": "code",
   "execution_count": 3,
   "id": "9eef6822-c0a5-4fdd-92bc-a6fec392f96a",
   "metadata": {},
   "outputs": [
    {
     "name": "stdin",
     "output_type": "stream",
     "text": [
      " 6 5 4 0 1 3 8 9 2 7\n",
      " 50 16\n"
     ]
    },
    {
     "name": "stdout",
     "output_type": "stream",
     "text": [
      "13 40\n",
      "30\n"
     ]
    }
   ],
   "source": [
    "def func(num):\n",
    "    s_num = str(num)\n",
    "    answer = \"\"\n",
    "    for now_num in s_num:\n",
    "        answer += str(line[int(now_num)])\n",
    "    return int(answer)\n",
    "\n",
    "def rev_func(num):\n",
    "    s_num = str(num)\n",
    "    answer = \"\"\n",
    "    for now_num in s_num:\n",
    "        answer += str(rev_line[int(now_num)])\n",
    "    return int(answer)\n",
    "\n",
    "line = list(map(int, input().split()))\n",
    "rev_line = [0 for _ in range(10)]\n",
    "for idx, val in enumerate(line):\n",
    "    rev_line[val] = idx\n",
    "\n",
    "a, b = map(int, input().split())\n",
    "\n",
    "A = rev_func(a)\n",
    "B = rev_func(b)\n",
    "print(func(A + B))"
   ]
  },
  {
   "cell_type": "code",
   "execution_count": null,
   "id": "0ebc1a3e-60c6-41bd-ae86-31196f6cd249",
   "metadata": {},
   "outputs": [],
   "source": []
  }
 ],
 "metadata": {
  "kernelspec": {
   "display_name": "Python 3 (ipykernel)",
   "language": "python",
   "name": "python3"
  },
  "language_info": {
   "codemirror_mode": {
    "name": "ipython",
    "version": 3
   },
   "file_extension": ".py",
   "mimetype": "text/x-python",
   "name": "python",
   "nbconvert_exporter": "python",
   "pygments_lexer": "ipython3",
   "version": "3.11.11"
  }
 },
 "nbformat": 4,
 "nbformat_minor": 5
}
