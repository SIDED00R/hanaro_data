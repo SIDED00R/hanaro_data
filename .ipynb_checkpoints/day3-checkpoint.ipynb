{
 "cells": [
  {
   "cell_type": "markdown",
   "id": "624f1f79",
   "metadata": {},
   "source": [
    "# 6. 패키지 (package)\n",
    "\n",
    "- 특정 목적을 수행하는 모듈을 모아높은 집합체\n",
    "- 모듈을 계층적인 구조로 관리하기 위해 사용\n",
    "- 매우 복잡하고 다양한 기능이 수행되는 경우, 많은 모듈이 필요하며, 이를 패키지로 쉽게 다룰 수 있음"
   ]
  },
  {
   "cell_type": "code",
   "execution_count": 15,
   "id": "d21d98f2",
   "metadata": {},
   "outputs": [
    {
     "data": {
      "text/plain": [
       "102334155"
      ]
     },
     "execution_count": 15,
     "metadata": {},
     "output_type": "execute_result"
    }
   ],
   "source": [
    "# package1 폴더에 있는 modul1.py 파일, 모듈을 호출하여 사용\n",
    "from package1 import modul1\n",
    "\n",
    "modul1.fibo(40)"
   ]
  },
  {
   "cell_type": "code",
   "execution_count": 18,
   "id": "c342e2e9",
   "metadata": {},
   "outputs": [
    {
     "data": {
      "text/plain": [
       "102334155"
      ]
     },
     "execution_count": 18,
     "metadata": {},
     "output_type": "execute_result"
    }
   ],
   "source": [
    "modul1.fast_fibo(40)"
   ]
  },
  {
   "cell_type": "code",
   "execution_count": 2,
   "id": "ee48d51f",
   "metadata": {},
   "outputs": [
    {
     "name": "stdout",
     "output_type": "stream",
     "text": [
      "package version : 1.0\n"
     ]
    }
   ],
   "source": [
    "# 초기화 폴더 __init__.py\n",
    "import package1\n",
    "package1.pack_version()"
   ]
  },
  {
   "cell_type": "markdown",
   "id": "f738e1b0",
   "metadata": {},
   "source": [
    "## 6-1. 기타 파이썬 내장 함수 및 표준 라이브러리\n",
    "\n",
    "- 라이브러리 : 특정 프로그래밍 목적을 수행하기 위한 모듈 또는 패키지의 집합체\n",
    "- 표준 라이브러리 : 파이썬 내에 직접 사용이 가능한 함수 또는 모듈 / 패키지\n",
    "    - 간단한 과학, 통계연산, 데이터처리, 파일불러오기 등\n",
    "    - 약 50여가지의 내장 함수가 존재\n",
    "    \n",
    "- 외장 라이브러리의 경우 추가적으로 다운로드 받아서 사용"
   ]
  },
  {
   "cell_type": "code",
   "execution_count": 3,
   "id": "01a35769",
   "metadata": {},
   "outputs": [
    {
     "data": {
      "text/plain": [
       "100"
      ]
     },
     "execution_count": 3,
     "metadata": {},
     "output_type": "execute_result"
    }
   ],
   "source": [
    "# 절대값 반환\n",
    "abs(-100)"
   ]
  },
  {
   "cell_type": "code",
   "execution_count": 4,
   "id": "bc7dc5f5",
   "metadata": {},
   "outputs": [
    {
     "data": {
      "text/plain": [
       "[1, 3, 5, 10, 20, 30, 2000]"
      ]
     },
     "execution_count": 4,
     "metadata": {},
     "output_type": "execute_result"
    }
   ],
   "source": [
    "# 특정 데이터 값을 정렬하는 함수 (리스트, 튜플, 셋 사용 가능)\n",
    "t1 = (10, 2000, 30, 20, 3, 1, 5)\n",
    "sorted(t1)"
   ]
  },
  {
   "cell_type": "code",
   "execution_count": 5,
   "id": "ddd72d52",
   "metadata": {},
   "outputs": [
    {
     "data": {
      "text/plain": [
       "[2000, 30, 20, 10, 5, 3, 1]"
      ]
     },
     "execution_count": 5,
     "metadata": {},
     "output_type": "execute_result"
    }
   ],
   "source": [
    "sorted(t1, reverse = True)"
   ]
  },
  {
   "cell_type": "code",
   "execution_count": 6,
   "id": "c4ec10fa",
   "metadata": {},
   "outputs": [
    {
     "data": {
      "text/plain": [
       "['__add__',\n",
       " '__class__',\n",
       " '__class_getitem__',\n",
       " '__contains__',\n",
       " '__delattr__',\n",
       " '__delitem__',\n",
       " '__dir__',\n",
       " '__doc__',\n",
       " '__eq__',\n",
       " '__format__',\n",
       " '__ge__',\n",
       " '__getattribute__',\n",
       " '__getitem__',\n",
       " '__getstate__',\n",
       " '__gt__',\n",
       " '__hash__',\n",
       " '__iadd__',\n",
       " '__imul__',\n",
       " '__init__',\n",
       " '__init_subclass__',\n",
       " '__iter__',\n",
       " '__le__',\n",
       " '__len__',\n",
       " '__lt__',\n",
       " '__mul__',\n",
       " '__ne__',\n",
       " '__new__',\n",
       " '__reduce__',\n",
       " '__reduce_ex__',\n",
       " '__repr__',\n",
       " '__reversed__',\n",
       " '__rmul__',\n",
       " '__setattr__',\n",
       " '__setitem__',\n",
       " '__sizeof__',\n",
       " '__str__',\n",
       " '__subclasshook__',\n",
       " 'append',\n",
       " 'clear',\n",
       " 'copy',\n",
       " 'count',\n",
       " 'extend',\n",
       " 'index',\n",
       " 'insert',\n",
       " 'pop',\n",
       " 'remove',\n",
       " 'reverse',\n",
       " 'sort']"
      ]
     },
     "execution_count": 6,
     "metadata": {},
     "output_type": "execute_result"
    }
   ],
   "source": [
    "# 특정 개체가 가진 변수나 함수, 기능들을 확인하는 함수\n",
    "dir([10, 20]) # 리스트 자료구조 내에서 사용할 수 있는 함수들을 모두 확인 가능"
   ]
  },
  {
   "cell_type": "code",
   "execution_count": 11,
   "id": "f578597b",
   "metadata": {},
   "outputs": [
    {
     "data": {
      "text/plain": [
       "[0, 1, 2, 3]"
      ]
     },
     "execution_count": 11,
     "metadata": {},
     "output_type": "execute_result"
    }
   ],
   "source": [
    "# 자료구조 내 값을 순서와 값으로 나누어 연산\n",
    "index_list = []\n",
    "value_list = []\n",
    "for i, data in enumerate(['A', 'B', 'C', 'D']):\n",
    "    index_list.append(i)\n",
    "    value_list.append(data)\n",
    "    \n",
    "index_list"
   ]
  },
  {
   "cell_type": "code",
   "execution_count": 13,
   "id": "ce991037",
   "metadata": {},
   "outputs": [
    {
     "data": {
      "text/plain": [
       "['A', 'B', 'C', 'D']"
      ]
     },
     "execution_count": 13,
     "metadata": {},
     "output_type": "execute_result"
    }
   ],
   "source": [
    "value_list"
   ]
  },
  {
   "cell_type": "code",
   "execution_count": null,
   "id": "f01214bf",
   "metadata": {},
   "outputs": [],
   "source": []
  }
 ],
 "metadata": {
  "kernelspec": {
   "display_name": "Python 3 (ipykernel)",
   "language": "python",
   "name": "python3"
  },
  "language_info": {
   "codemirror_mode": {
    "name": "ipython",
    "version": 3
   },
   "file_extension": ".py",
   "mimetype": "text/x-python",
   "name": "python",
   "nbconvert_exporter": "python",
   "pygments_lexer": "ipython3",
   "version": "3.11.5"
  }
 },
 "nbformat": 4,
 "nbformat_minor": 5
}
