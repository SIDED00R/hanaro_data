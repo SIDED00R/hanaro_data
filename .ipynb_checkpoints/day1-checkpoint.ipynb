{
 "cells": [
  {
   "cell_type": "code",
   "execution_count": 20,
   "id": "a91eed99",
   "metadata": {},
   "outputs": [
    {
     "name": "stdout",
     "output_type": "stream",
     "text": [
      "ABCD\n",
      "..#...#...*...#..\n",
      ".#.#.#.#.*.*.#.#.\n",
      "#.A.#.B.*.C.*.D.#\n",
      ".#.#.#.#.*.*.#.#.\n",
      "..#...#...*...#..\n"
     ]
    }
   ],
   "source": [
    "def wendy(letter):\n",
    "    fir = \"..*..\"\n",
    "    sec = \".*.*.\"\n",
    "    thi = f\"*.{letter}.*\"\n",
    "    fou = \".*.*.\"\n",
    "    fiv = \"..*..\"\n",
    "    return fir, sec, thi, fou, fiv\n",
    "\n",
    "def peter(letter):\n",
    "    fir = \".#..\"\n",
    "    sec = \"#.#.\"\n",
    "    thi = f\".{letter}.#\"\n",
    "    fou = \"#.#.\"\n",
    "    fiv = \".#..\"\n",
    "    return fir, sec, thi, fou, fiv\n",
    "\n",
    "word = input()\n",
    "\n",
    "answer = [\".\", \".\", \"#\", \".\", \".\"]\n",
    "\n",
    "for idx in range(1, len(word) + 1):\n",
    "    if idx % 3 == 0:\n",
    "        fir, sec, thi, fou, fiv = wendy(word[idx - 1])\n",
    "        answer[0] = answer[0][:-1] + fir\n",
    "        answer[1] = answer[1][:-1] + sec\n",
    "        answer[2] = answer[2][:-1] + thi\n",
    "        answer[3] = answer[3][:-1] + fou\n",
    "        answer[4] = answer[4][:-1] + fiv\n",
    "    else:\n",
    "        fir, sec, thi, fou, fiv = peter(word[idx - 1])\n",
    "        answer[0] += fir\n",
    "        answer[1] += sec\n",
    "        answer[2] += thi\n",
    "        answer[3] += fou\n",
    "        answer[4] += fiv\n",
    "        \n",
    "for l in answer:\n",
    "    print(l)\n",
    "        "
   ]
  },
  {
   "cell_type": "markdown",
   "id": "80a6384c",
   "metadata": {},
   "source": [
    "# 1. python 프로그래밍 언어 기초\n",
    "\n",
    "\n",
    "## 1-1. jupyter notebook 사용법\n",
    "\n",
    "- 주피터 노트북 명령어\n",
    "    - cell: python 코드나 주석을 입력할 수 있는 공간\n",
    "    - cell mode : 하나의 cell에 코드나 주석을 사용할 수 있는 상태\n",
    "    - command mode : cell 추가, 삭제 등 cell 자체를 편집할 수 있는 상태\n",
    "        - cell mode 상태에서 esc키를 누르면 활성화\n",
    "        - cell 생성 : b (현재 cell 아래로 새로운 cell 생성), a (현재 cell 위로 새로운 cell 생성)\n",
    "        - cell 삭제 : x (현재 선택 cell 삭제)\n",
    "        - 실행 취소 : z\n",
    "        - 주석 : m\n",
    "        - 코드 : y\n",
    "        - 실행 : shift + enter"
   ]
  },
  {
   "cell_type": "markdown",
   "id": "8010b047",
   "metadata": {},
   "source": [
    "# 2. 파이썬 기초 문법\n",
    "\n",
    "## 2-1. 변수\n",
    "\n",
    "- 변수 : 데이터를 들고다니는 공간\n",
    "- 변수를 선언한다 : 특정 값이나 결과를 사용자가 지정한 이름으로 사용한다 (오른쪽의 값을 등호기호를 기준으로 왼쪽에 사용자가 지정한 이름으로 선언)"
   ]
  },
  {
   "cell_type": "code",
   "execution_count": 3,
   "id": "82c3572e",
   "metadata": {},
   "outputs": [
    {
     "data": {
      "text/plain": [
       "150.1"
      ]
     },
     "execution_count": 3,
     "metadata": {},
     "output_type": "execute_result"
    }
   ],
   "source": [
    "data1 = 100\n",
    "data2 = 50.1\n",
    "\n",
    "data1 + data2"
   ]
  },
  {
   "cell_type": "markdown",
   "id": "910d820d",
   "metadata": {},
   "source": [
    "## 2-2. 데이터 타입\n",
    "\n",
    "- 파이썬에서는 데이터 타입 : 숫자형, 문자형, 논리형\n",
    "- 숫자형 : 정수형(int), 실수형(float)\n",
    "- 문자형 : 문자열(str), 범주형(object)\n",
    "- 논리형 : 참, 거짓(true, false / bool) -> 첫 글자를 대문자로 사용\n",
    "- 파이썬은 대/소문자를 명확히 구분\n",
    "- type() : 특정 변수안에 있는 데이터 타입을 확인"
   ]
  },
  {
   "cell_type": "code",
   "execution_count": 5,
   "id": "18ff17cc",
   "metadata": {},
   "outputs": [
    {
     "data": {
      "text/plain": [
       "float"
      ]
     },
     "execution_count": 5,
     "metadata": {},
     "output_type": "execute_result"
    }
   ],
   "source": [
    "# 주석 : 파이썬 코드에 영향을 주지 않는 설명따위를 입력하는 공간 \n",
    "type(data2) # data2 변수 안에 있는 데이터 타입을 확인"
   ]
  },
  {
   "cell_type": "code",
   "execution_count": 7,
   "id": "95721e57",
   "metadata": {},
   "outputs": [
    {
     "data": {
      "text/plain": [
       "'파이썬 데이터 분석'"
      ]
     },
     "execution_count": 7,
     "metadata": {},
     "output_type": "execute_result"
    }
   ],
   "source": [
    "data3 = \"파이썬 데이터 분석\" # 문자 데이터를 data3 변수에 선언\n",
    "data3 # 문자는 따옴표 또는 쌍따옴표를 이용해 표현"
   ]
  },
  {
   "cell_type": "code",
   "execution_count": 8,
   "id": "3bb91420",
   "metadata": {},
   "outputs": [
    {
     "data": {
      "text/plain": [
       "True"
      ]
     },
     "execution_count": 8,
     "metadata": {},
     "output_type": "execute_result"
    }
   ],
   "source": [
    "# 논리형 타입\n",
    "True"
   ]
  },
  {
   "cell_type": "code",
   "execution_count": 9,
   "id": "8549c92b",
   "metadata": {},
   "outputs": [
    {
     "data": {
      "text/plain": [
       "bool"
      ]
     },
     "execution_count": 9,
     "metadata": {},
     "output_type": "execute_result"
    }
   ],
   "source": [
    "type(True)"
   ]
  },
  {
   "cell_type": "markdown",
   "id": "e527d81a",
   "metadata": {},
   "source": [
    "## 2-3. 파이썬 연산자 (operator)\n",
    "\n",
    "- 데이터 타입에 따라 연산의 방법이 달라진다!"
   ]
  },
  {
   "cell_type": "code",
   "execution_count": 10,
   "id": "03618073",
   "metadata": {},
   "outputs": [
    {
     "data": {
      "text/plain": [
       "150.1"
      ]
     },
     "execution_count": 10,
     "metadata": {},
     "output_type": "execute_result"
    }
   ],
   "source": [
    "data1 + data2 # 덧셈"
   ]
  },
  {
   "cell_type": "code",
   "execution_count": 11,
   "id": "868fa2cc",
   "metadata": {},
   "outputs": [
    {
     "data": {
      "text/plain": [
       "49.9"
      ]
     },
     "execution_count": 11,
     "metadata": {},
     "output_type": "execute_result"
    }
   ],
   "source": [
    "data1 - data2 # 뺄셈"
   ]
  },
  {
   "cell_type": "code",
   "execution_count": 12,
   "id": "7b751cee",
   "metadata": {},
   "outputs": [
    {
     "data": {
      "text/plain": [
       "200"
      ]
     },
     "execution_count": 12,
     "metadata": {},
     "output_type": "execute_result"
    }
   ],
   "source": [
    "data1 * 2 # 곱셈"
   ]
  },
  {
   "cell_type": "code",
   "execution_count": 13,
   "id": "bcc19a81",
   "metadata": {},
   "outputs": [
    {
     "data": {
      "text/plain": [
       "33.333333333333336"
      ]
     },
     "execution_count": 13,
     "metadata": {},
     "output_type": "execute_result"
    }
   ],
   "source": [
    "data1 / 3 # 나눗셈"
   ]
  },
  {
   "cell_type": "code",
   "execution_count": 14,
   "id": "86efd868",
   "metadata": {},
   "outputs": [
    {
     "data": {
      "text/plain": [
       "8"
      ]
     },
     "execution_count": 14,
     "metadata": {},
     "output_type": "execute_result"
    }
   ],
   "source": [
    "2 ** 3 # 거듭제곱"
   ]
  },
  {
   "cell_type": "code",
   "execution_count": 22,
   "id": "895cb15b",
   "metadata": {},
   "outputs": [],
   "source": [
    "# 문자데이터 연산\n",
    "data4 = \"python\"\n",
    "data5 = \"데이터 분석\"\n"
   ]
  },
  {
   "cell_type": "code",
   "execution_count": 23,
   "id": "547ded89",
   "metadata": {},
   "outputs": [
    {
     "data": {
      "text/plain": [
       "'python데이터 분석'"
      ]
     },
     "execution_count": 23,
     "metadata": {},
     "output_type": "execute_result"
    }
   ],
   "source": [
    "data4 + data5 # 문자 데이터 덧셈 연산 : 두 문자열을 이어 붙여준다"
   ]
  },
  {
   "cell_type": "code",
   "execution_count": 24,
   "id": "cf900f85",
   "metadata": {},
   "outputs": [
    {
     "data": {
      "text/plain": [
       "'pythonpythonpython'"
      ]
     },
     "execution_count": 24,
     "metadata": {},
     "output_type": "execute_result"
    }
   ],
   "source": [
    "data4 * 3 # 문자 데이터 곱셈연산 : 특정 문자를 특정획수만큼 반복하여 사용"
   ]
  },
  {
   "cell_type": "code",
   "execution_count": 25,
   "id": "cfbe89cc",
   "metadata": {},
   "outputs": [],
   "source": [
    "# 논리형 연산 (비교구문)\n",
    "data5 = 100\n",
    "data6 = 70"
   ]
  },
  {
   "cell_type": "code",
   "execution_count": 26,
   "id": "a2b8fd34",
   "metadata": {},
   "outputs": [
    {
     "data": {
      "text/plain": [
       "True"
      ]
     },
     "execution_count": 26,
     "metadata": {},
     "output_type": "execute_result"
    }
   ],
   "source": [
    "data5 > data6"
   ]
  },
  {
   "cell_type": "code",
   "execution_count": 27,
   "id": "697fc4a4",
   "metadata": {},
   "outputs": [
    {
     "data": {
      "text/plain": [
       "False"
      ]
     },
     "execution_count": 27,
     "metadata": {},
     "output_type": "execute_result"
    }
   ],
   "source": [
    "data5 < data6"
   ]
  },
  {
   "cell_type": "code",
   "execution_count": 28,
   "id": "971b728f",
   "metadata": {},
   "outputs": [
    {
     "data": {
      "text/plain": [
       "True"
      ]
     },
     "execution_count": 28,
     "metadata": {},
     "output_type": "execute_result"
    }
   ],
   "source": [
    "data5 >= data6 # 이상 이하를 판별하는 대소 비교"
   ]
  },
  {
   "cell_type": "code",
   "execution_count": 29,
   "id": "84e0fcea",
   "metadata": {},
   "outputs": [
    {
     "data": {
      "text/plain": [
       "False"
      ]
     },
     "execution_count": 29,
     "metadata": {},
     "output_type": "execute_result"
    }
   ],
   "source": [
    "data5 == data6 # 두 데이터가 서로 같은지 확인 비교 구문"
   ]
  },
  {
   "cell_type": "code",
   "execution_count": 30,
   "id": "b0cfe8ae",
   "metadata": {},
   "outputs": [
    {
     "data": {
      "text/plain": [
       "True"
      ]
     },
     "execution_count": 30,
     "metadata": {},
     "output_type": "execute_result"
    }
   ],
   "source": [
    "data5 != data6 # 두 데이터가 서로 다른지 확인 비교 구문"
   ]
  },
  {
   "cell_type": "markdown",
   "id": "7bd04267",
   "metadata": {},
   "source": [
    "## 2-4. 파이썬 자료 구조\n",
    "\n",
    "- 하나의 변수에 여러개의 데이터를 들고 다니고 싶을 때\n",
    "- 데이터를 들고 다닐 수 있는 상자의 종류\n",
    "    - list (리스트)\n",
    "    - tuple (튜플)\n",
    "    - set (셋, 집합)\n",
    "    - dictionary (딕셔너리, 집합)"
   ]
  },
  {
   "cell_type": "code",
   "execution_count": 32,
   "id": "4ebff32b",
   "metadata": {},
   "outputs": [
    {
     "data": {
      "text/plain": [
       "[20, 30, 50, 10, 90, 20]"
      ]
     },
     "execution_count": 32,
     "metadata": {},
     "output_type": "execute_result"
    }
   ],
   "source": [
    "# 리스트 (대괄호 사용하여 데이터 적재)\n",
    "data8 = [20, 30, 50, 10, 90, 20]\n",
    "data8\n",
    "# 데이터상 순서가 존재 (입력 순서를 기억) , 중복값 허용, 새로운 데이터를 추가, 삭제, 변경 가능"
   ]
  },
  {
   "cell_type": "code",
   "execution_count": 33,
   "id": "2d38564e",
   "metadata": {},
   "outputs": [
    {
     "data": {
      "text/plain": [
       "list"
      ]
     },
     "execution_count": 33,
     "metadata": {},
     "output_type": "execute_result"
    }
   ],
   "source": [
    "type(data8)"
   ]
  },
  {
   "cell_type": "code",
   "execution_count": 34,
   "id": "0524f7ef",
   "metadata": {},
   "outputs": [],
   "source": [
    "data8.append(150) # 현재 선언된 data8 리스트 맨 끝에 150값을 새로 추가"
   ]
  },
  {
   "cell_type": "code",
   "execution_count": 35,
   "id": "e228a98a",
   "metadata": {},
   "outputs": [
    {
     "data": {
      "text/plain": [
       "[20, 30, 50, 10, 90, 20, 150]"
      ]
     },
     "execution_count": 35,
     "metadata": {},
     "output_type": "execute_result"
    }
   ],
   "source": [
    "data8"
   ]
  },
  {
   "cell_type": "code",
   "execution_count": 39,
   "id": "4a897872",
   "metadata": {},
   "outputs": [
    {
     "data": {
      "text/plain": [
       "[20, 30, 10, 90, 20, 150]"
      ]
     },
     "execution_count": 39,
     "metadata": {},
     "output_type": "execute_result"
    }
   ],
   "source": [
    "# 함수 : 파이썬에서 특정 긴으을 수행하기 위해 프로그래머들이 만들어놓은 단어 및 구문\n",
    "data8.remove(50)\n",
    "data8"
   ]
  },
  {
   "cell_type": "code",
   "execution_count": 40,
   "id": "bbbfde9c",
   "metadata": {},
   "outputs": [
    {
     "data": {
      "text/plain": [
       "[300, 20, 30, 10, 90, 20, 150]"
      ]
     },
     "execution_count": 40,
     "metadata": {},
     "output_type": "execute_result"
    }
   ],
   "source": [
    "data8.insert(0, 300)\n",
    "data8"
   ]
  },
  {
   "cell_type": "code",
   "execution_count": 41,
   "id": "860b8278",
   "metadata": {},
   "outputs": [
    {
     "data": {
      "text/plain": [
       "300"
      ]
     },
     "execution_count": 41,
     "metadata": {},
     "output_type": "execute_result"
    }
   ],
   "source": [
    "# indexing 색인: 특정 위치에 존재하는 데이터를 찾는 것 대괄호를 사용\n",
    "data8[0]"
   ]
  },
  {
   "cell_type": "code",
   "execution_count": 42,
   "id": "410f8263",
   "metadata": {},
   "outputs": [
    {
     "data": {
      "text/plain": [
       "150"
      ]
     },
     "execution_count": 42,
     "metadata": {},
     "output_type": "execute_result"
    }
   ],
   "source": [
    "# 맨 끝에서 위치를 계산해 데이터를 찾을 때\n",
    "data8[-1]"
   ]
  },
  {
   "cell_type": "code",
   "execution_count": 43,
   "id": "047cca5e",
   "metadata": {},
   "outputs": [
    {
     "data": {
      "text/plain": [
       "[300, 20, 30, 10]"
      ]
     },
     "execution_count": 43,
     "metadata": {},
     "output_type": "execute_result"
    }
   ],
   "source": [
    "data8[0:4]"
   ]
  },
  {
   "cell_type": "code",
   "execution_count": 44,
   "id": "46b06491",
   "metadata": {},
   "outputs": [
    {
     "data": {
      "text/plain": [
       "[90, 20, 150]"
      ]
     },
     "execution_count": 44,
     "metadata": {},
     "output_type": "execute_result"
    }
   ],
   "source": [
    "data9 = data8[-3:] # 맨 뒤 3번째 부터 맨 끝까지 데이터 호출한 다음 새로운 이름의 변수로 선언\n",
    "data9"
   ]
  },
  {
   "cell_type": "code",
   "execution_count": 45,
   "id": "0a8b8485",
   "metadata": {},
   "outputs": [],
   "source": [
    "# python 에서 대괄호:\n",
    "# 1. 특정 데이터를 담는 리스트\n",
    "# 2. 특정 자료구조 내 특정 위치에 존해하는 데이터 확인"
   ]
  },
  {
   "cell_type": "code",
   "execution_count": 46,
   "id": "40701b69",
   "metadata": {},
   "outputs": [
    {
     "data": {
      "text/plain": [
       "tuple"
      ]
     },
     "execution_count": 46,
     "metadata": {},
     "output_type": "execute_result"
    }
   ],
   "source": [
    "# 튜플은 소괄호를 이용해 선언\n",
    "# 데이터의 순서가 존재, 중복값 허용, 새로운 데이터 추가, 삭제, 변경하는것이 불가능\n",
    "data10 = (90, 100, 20, 100, 15)\n",
    "type(data10)"
   ]
  },
  {
   "cell_type": "code",
   "execution_count": 47,
   "id": "d6fca75f",
   "metadata": {},
   "outputs": [
    {
     "data": {
      "text/plain": [
       "([90, 100, 20, 100, 15], (90, 100, 20, 100, 15))"
      ]
     },
     "execution_count": 47,
     "metadata": {},
     "output_type": "execute_result"
    }
   ],
   "source": [
    "data11 = list(data10)\n",
    "data11, data10"
   ]
  },
  {
   "cell_type": "code",
   "execution_count": 48,
   "id": "b92aae6b",
   "metadata": {},
   "outputs": [
    {
     "data": {
      "text/plain": [
       "{5, 10, 20, 30, 90, 150}"
      ]
     },
     "execution_count": 48,
     "metadata": {},
     "output_type": "execute_result"
    }
   ],
   "source": [
    "# 셋, 중괄호 할용해서 선언\n",
    "# 데이터 상 순서가 존재하지 않음, 중복 허용 안된다, 데이틀 추가, 삭제, 변경 가능\n",
    "data11 = {30, 20, 20, 90, 150, 20, 20, 10, 5}\n",
    "data11"
   ]
  },
  {
   "cell_type": "code",
   "execution_count": 49,
   "id": "2788fd64",
   "metadata": {},
   "outputs": [
    {
     "data": {
      "text/plain": [
       "({50, 60}, {20, 30, 40, 50, 60, 70, 80, 90})"
      ]
     },
     "execution_count": 49,
     "metadata": {},
     "output_type": "execute_result"
    }
   ],
   "source": [
    "data12 = {20, 30, 40, 50, 60}\n",
    "data13 = {50, 60, 70, 80, 90}\n",
    "\n",
    "data12 & data13, data12 | data13"
   ]
  },
  {
   "cell_type": "code",
   "execution_count": 50,
   "id": "c377d0a9",
   "metadata": {},
   "outputs": [
    {
     "data": {
      "text/plain": [
       "{20, 30, 40}"
      ]
     },
     "execution_count": 50,
     "metadata": {},
     "output_type": "execute_result"
    }
   ],
   "source": [
    "# 차집합\n",
    "data12 - data13"
   ]
  },
  {
   "cell_type": "code",
   "execution_count": 51,
   "id": "52c9a98c",
   "metadata": {},
   "outputs": [
    {
     "data": {
      "text/plain": [
       "{20, 30, 40, 70, 80, 90}"
      ]
     },
     "execution_count": 51,
     "metadata": {},
     "output_type": "execute_result"
    }
   ],
   "source": [
    "# 대상 차집합 (교집합을 제외한 나머지)\n",
    "data12 ^ data13"
   ]
  },
  {
   "cell_type": "code",
   "execution_count": 53,
   "id": "ee65ab37",
   "metadata": {},
   "outputs": [
    {
     "data": {
      "text/plain": [
       "[50, 60]"
      ]
     },
     "execution_count": 53,
     "metadata": {},
     "output_type": "execute_result"
    }
   ],
   "source": [
    "# 만약 두 리스트에서 공통된 데이터를 찾고 싶다면?\n",
    "data14 = [30, 40, 50, 60]\n",
    "data15 = [50, 60, 100, 200]\n",
    "list(set(data14) & set(data15))"
   ]
  },
  {
   "cell_type": "code",
   "execution_count": 54,
   "id": "61be70fe",
   "metadata": {},
   "outputs": [
    {
     "data": {
      "text/plain": [
       "dict"
      ]
     },
     "execution_count": 54,
     "metadata": {},
     "output_type": "execute_result"
    }
   ],
   "source": [
    "# 딕셔너리, 중괄호를 이용하여 표현 {key, value}\n",
    "# key-value 쌍으로 매칭되어 표현되는 데이터 자료구조\n",
    "data16 = {'이름': '홍길동', \"나이\": 26, \"지역\": \"서울\"}\n",
    "type(data16)"
   ]
  },
  {
   "cell_type": "code",
   "execution_count": 55,
   "id": "7b7ed7ec",
   "metadata": {},
   "outputs": [
    {
     "data": {
      "text/plain": [
       "'홍길동'"
      ]
     },
     "execution_count": 55,
     "metadata": {},
     "output_type": "execute_result"
    }
   ],
   "source": [
    "# 딕셔너리의 경우 key를 찾아올 때 해당 key에 매칭되는 value값이 출력\n",
    "data16['이름']"
   ]
  },
  {
   "cell_type": "code",
   "execution_count": 57,
   "id": "a4c0e0fa",
   "metadata": {},
   "outputs": [
    {
     "data": {
      "text/plain": [
       "(dict_keys(['이름', '나이', '지역']),\n",
       " dict_values(['홍길동', 26, '서울']),\n",
       " dict_items([('이름', '홍길동'), ('나이', 26), ('지역', '서울')]))"
      ]
     },
     "execution_count": 57,
     "metadata": {},
     "output_type": "execute_result"
    }
   ],
   "source": [
    "data16.keys(), data16.values(), data16.items()"
   ]
  },
  {
   "cell_type": "code",
   "execution_count": 58,
   "id": "1183f341",
   "metadata": {},
   "outputs": [
    {
     "data": {
      "text/plain": [
       "{'이름': '홍길동', '나이': 26, '지역': '서울', '성별': '남성'}"
      ]
     },
     "execution_count": 58,
     "metadata": {},
     "output_type": "execute_result"
    }
   ],
   "source": [
    "data16[\"성별\"] = \"남성\"\n",
    "data16"
   ]
  },
  {
   "cell_type": "code",
   "execution_count": 59,
   "id": "1af64b40",
   "metadata": {},
   "outputs": [
    {
     "data": {
      "text/plain": [
       "{'이름': '홍길동', '전공': '물리', '나이': 30, '지역': '경기'}"
      ]
     },
     "execution_count": 59,
     "metadata": {},
     "output_type": "execute_result"
    }
   ],
   "source": [
    "# 두 개의 리스트를 이용해서 하나의 딕셔너리를 구성\n",
    "data17 = ['이름', '전공', '나이', '지역']\n",
    "data18 = [\"홍길동\", \"물리\", 30, \"경기\"]\n",
    "\n",
    "dict(zip(data17, data18))"
   ]
  },
  {
   "cell_type": "code",
   "execution_count": null,
   "id": "18aef16b",
   "metadata": {},
   "outputs": [],
   "source": []
  }
 ],
 "metadata": {
  "kernelspec": {
   "display_name": "Python 3 (ipykernel)",
   "language": "python",
   "name": "python3"
  },
  "language_info": {
   "codemirror_mode": {
    "name": "ipython",
    "version": 3
   },
   "file_extension": ".py",
   "mimetype": "text/x-python",
   "name": "python",
   "nbconvert_exporter": "python",
   "pygments_lexer": "ipython3",
   "version": "3.11.5"
  }
 },
 "nbformat": 4,
 "nbformat_minor": 5
}
